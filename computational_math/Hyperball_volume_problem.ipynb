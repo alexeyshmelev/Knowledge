{
 "cells": [
  {
   "cell_type": "code",
   "execution_count": 1,
   "id": "f362f1a9",
   "metadata": {
    "execution": {
     "iopub.execute_input": "2021-10-04T13:34:38.963992Z",
     "iopub.status.busy": "2021-10-04T13:34:38.963644Z",
     "iopub.status.idle": "2021-10-04T13:34:42.487902Z",
     "shell.execute_reply": "2021-10-04T13:34:42.488223Z"
    }
   },
   "outputs": [],
   "source": [
    "from timeit import timeit\n",
    "import numpy as np\n",
    "import matplotlib.pyplot as plt\n",
    "from numba import jit, njit, prange\n",
    "import math\n",
    "import time"
   ]
  },
  {
   "cell_type": "code",
   "execution_count": 2,
   "id": "45d77296",
   "metadata": {
    "execution": {
     "iopub.execute_input": "2021-10-04T13:34:42.493043Z",
     "iopub.status.busy": "2021-10-04T13:34:42.492659Z",
     "iopub.status.idle": "2021-10-04T13:34:42.493899Z",
     "shell.execute_reply": "2021-10-04T13:34:42.494246Z"
    }
   },
   "outputs": [],
   "source": [
    "@njit(parallel = True)\n",
    "def select(num, dim):\n",
    "    \"\"\"\n",
    "    Вычисляет количество точек, попавших в 1/8 единичного круга\n",
    "    \n",
    "    Параметры\n",
    "    ----------\n",
    "    selected (int) - счётчик количества попавших точек\n",
    "    len (float) длина радиус-вектора каждой точки\n",
    "    \n",
    "    Возвращаемое значение\n",
    "    ----------\n",
    "    selected (int) - количество попавших точек в 1/8 единичного круга\n",
    "    \"\"\"\n",
    "    selected = 0\n",
    "    for i in prange(num):\n",
    "        v = np.random.random(dim)\n",
    "        len = 0\n",
    "        for j in v:\n",
    "            len += j ** 2\n",
    "        len = len ** 0.5\n",
    "        if len <= 1:\n",
    "            selected += 1\n",
    "        else:\n",
    "            pass\n",
    "    return selected"
   ]
  },
  {
   "cell_type": "code",
   "execution_count": 3,
   "id": "df726012",
   "metadata": {
    "execution": {
     "iopub.execute_input": "2021-10-04T13:34:42.500764Z",
     "iopub.status.busy": "2021-10-04T13:34:42.500366Z",
     "iopub.status.idle": "2021-10-04T13:34:42.501563Z",
     "shell.execute_reply": "2021-10-04T13:34:42.501922Z"
    }
   },
   "outputs": [],
   "source": [
    "def get_all_data():\n",
    "    \"\"\"\n",
    "    Считает объём шара и нужное количество точек для каждого измерения\n",
    "    \n",
    "    Параметры\n",
    "    ----------\n",
    "    num (int) - шаг, с которым будем подбирать нужное количество точек\n",
    "    dimension (список python) - список всех размерностей\n",
    "    vs (список python) - массив всех объёмов для каждой размерности\n",
    "    dots (список python) - массив количества нужных точек для каждой размерности\n",
    "    stop (boolean) - индикатор, когда подобрали необходимое количество точек\n",
    "    volume_n (float) - начальный объём\n",
    "    volume_m (float) - добавочный объём\n",
    "    vs1 (int) - количество точек, попавших в заданную область для начального объёма\n",
    "    vs2 (int) - количество точек, попавших в заданную область для добавочного объёма\n",
    "    volume_nm (float) - суммарный объём\n",
    "    d (float) - модуль разности объёмов\n",
    "    s (float) - точность (параметр, который в дальнейшем будет учитываться для оценки погрешности)\n",
    "    \n",
    "    Возвращаемое значение\n",
    "    ----------\n",
    "    vs (список python) - массив всех объёмов для каждой размерности\n",
    "    dots (список python) - массив количества нужных точек для каждой размерности\n",
    "    \"\"\"\n",
    "    num = 1000000\n",
    "    dimension = [i for i in range(1, 17)]\n",
    "    vs = []\n",
    "    dots = []\n",
    "    \n",
    "    for dim in dimension:\n",
    "        stop = False\n",
    "        start_t = time.time()\n",
    "        while not stop:\n",
    "            for i in range(1, 1000):\n",
    "                if i == 1:\n",
    "                    vs1 = select(i*num, dim)\n",
    "                    volume_n = (2 ** dim) * vs1 / (i*num)\n",
    "                    vs2 = select(num, dim)\n",
    "                    volume_m = (2 ** dim) * vs2 / num\n",
    "                    volume_nm = (i*num*volume_n + num*volume_m) / ((i+1)*num)\n",
    "                else:\n",
    "                    volume_n = volume_nm\n",
    "                    vs2 = select(num, dim)\n",
    "                    volume_m = (2 ** dim) * vs2 / num\n",
    "                    volume_nm = (i*num*volume_n + num*volume_m) / ((i+1)*num)\n",
    "                d = abs(volume_nm - volume_n)\n",
    "                s = 1e-6 + volume_nm * 1e-6\n",
    "                if d / s < 1:\n",
    "                    stop = True\n",
    "                    vs.append(volume_nm)\n",
    "                    dots.append(i*num)\n",
    "                    print(\"dim: {}, time: {} seconds, num of dots: {}\".format(dim, round(time.time() - start_t, 4), i*num))\n",
    "                    break\n",
    "                else:\n",
    "                    pass\n",
    "    return vs, dots"
   ]
  },
  {
   "cell_type": "code",
   "execution_count": 4,
   "id": "de6f90b8",
   "metadata": {
    "execution": {
     "iopub.execute_input": "2021-10-04T13:34:42.504729Z",
     "iopub.status.busy": "2021-10-04T13:34:42.504379Z",
     "iopub.status.idle": "2021-10-04T13:34:42.505972Z",
     "shell.execute_reply": "2021-10-04T13:34:42.505604Z"
    }
   },
   "outputs": [
    {
     "name": "stdout",
     "output_type": "stream",
     "text": [
      "dim: 1, time: 3.5604 seconds, num of dots: 1000000\n",
      "dim: 2, time: 0.1107 seconds, num of dots: 35000000\n",
      "dim: 3, time: 0.1316 seconds, num of dots: 30000000\n",
      "dim: 4, time: 0.2703 seconds, num of dots: 55000000\n",
      "dim: 5, time: 0.4328 seconds, num of dots: 71000000\n",
      "dim: 6, time: 0.5376 seconds, num of dots: 77000000\n",
      "dim: 7, time: 0.7281 seconds, num of dots: 85000000\n",
      "dim: 8, time: 0.5206 seconds, num of dots: 50000000\n",
      "dim: 9, time: 1.2267 seconds, num of dots: 104000000\n",
      "dim: 10, time: 2.1283 seconds, num of dots: 175000000\n",
      "dim: 11, time: 0.1396 seconds, num of dots: 10000000\n",
      "dim: 12, time: 1.495 seconds, num of dots: 100000000\n",
      "dim: 13, time: 11.0036 seconds, num of dots: 678000000\n",
      "dim: 14, time: 3.38 seconds, num of dots: 198000000\n",
      "dim: 15, time: 0.1626 seconds, num of dots: 7000000\n",
      "dim: 16, time: 44.7154 seconds, num of dots: 14000000\n"
     ]
    }
   ],
   "source": [
    "vs, dots = get_all_data()"
   ]
  },
  {
   "cell_type": "code",
   "execution_count": 5,
   "id": "e4b52434",
   "metadata": {},
   "outputs": [
    {
     "data": {
      "image/png": "[encoded data removed]",
      "text/plain": [
       "<Figure size 432x288 with 1 Axes>"
      ]
     },
     "metadata": {
      "needs_background": "light"
     },
     "output_type": "display_data"
    }
   ],
   "source": [
    "plt.clf()\n",
    "plt.plot([i for i in range(1, 17)], vs, '.-g')\n",
    "plt.ylabel('Volume',rotation=90)\n",
    "plt.xlabel('Dimension',rotation=0)\n",
    "plt.show()"
   ]
  },
  {
   "cell_type": "code",
   "execution_count": 6,
   "id": "52940c82",
   "metadata": {},
   "outputs": [
    {
     "data": {
      "image/png": "[encoded data removed]",
      "text/plain": [
       "<Figure size 432x288 with 1 Axes>"
      ]
     },
     "metadata": {
      "needs_background": "light"
     },
     "output_type": "display_data"
    }
   ],
   "source": [
    "plt.clf()\n",
    "plt.plot([i for i in range(1, 17)], dots, '.-g')\n",
    "plt.ylabel('Dots',rotation=90)\n",
    "plt.xlabel('Dimension',rotation=0)\n",
    "plt.show()"
   ]
  },
  {
   "cell_type": "code",
   "execution_count": 7,
   "id": "84abca7d",
   "metadata": {},
   "outputs": [
    {
     "name": "stdout",
     "output_type": "stream",
     "text": [
      "Dimension: 1, difference: 0.0\n",
      "Dimension: 2, difference: 0.0002\n",
      "Dimension: 3, difference: 0.0006\n",
      "Dimension: 4, difference: 0.0009\n",
      "Dimension: 5, difference: 0.0018\n",
      "Dimension: 6, difference: 0.0024\n",
      "Dimension: 7, difference: 0.0001\n",
      "Dimension: 8, difference: 0.0016\n",
      "Dimension: 9, difference: 0.0016\n",
      "Dimension: 10, difference: 0.0044\n",
      "Dimension: 11, difference: 0.0122\n",
      "Dimension: 12, difference: 0.0\n",
      "Dimension: 13, difference: 0.0025\n",
      "Dimension: 14, difference: 0.0067\n",
      "Dimension: 15, difference: 0.0773\n"
     ]
    }
   ],
   "source": [
    "truev = [2, math.pi, 4 * math.pi / 3, math.pi ** 2 / 2, 8 * math.pi ** 2 / 15, math.pi ** 3 / 6, 16 * math.pi ** 3 / 105, math.pi ** 4 / 24, 32 * math.pi ** 4 / 945, math.pi ** 5 / 120, 64 * math.pi ** 5 / 10395, math.pi ** 6 / 720, 128 * math.pi ** 6 / 135135, math.pi ** 7 / 5040, 15 * math.pi ** 7 / 118771]\n",
    "for dim in range(15):\n",
    "    print(\"Dimension: {}, difference: {}\".format(dim + 1, round(abs(truev[dim] - vs[dim]), 4)))"
   ]
  }
 ],
 "metadata": {
  "kernelspec": {
   "display_name": "Python 3",
   "language": "python",
   "name": "python3"
  },
  "language_info": {
   "codemirror_mode": {
    "name": "ipython",
    "version": 3
   },
   "file_extension": ".py",
   "mimetype": "text/x-python",
   "name": "python",
   "nbconvert_exporter": "python",
   "pygments_lexer": "ipython3",
   "version": "3.8.8"
  }
 },
 "nbformat": 4,
 "nbformat_minor": 5
}
