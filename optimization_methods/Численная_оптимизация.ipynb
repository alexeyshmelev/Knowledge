{
  "nbformat": 4,
  "nbformat_minor": 0,
  "metadata": {
    "colab": {
      "name": "Численная оптимизация (Шмелев).ipynb",
      "provenance": [],
      "collapsed_sections": []
    },
    "kernelspec": {
      "name": "python3",
      "display_name": "Python 3"
    },
    "language_info": {
      "name": "python"
    }
  },
  "cells": [
    {
      "cell_type": "code",
      "metadata": {
        "id": "iDYUfX_f9x3n"
      },
      "source": [
        "from sympy import *\n",
        "from sympy.solvers import solve\n",
        "import numpy as np\n",
        "from numpy import linalg as LA\n",
        "from IPython.display import display, Math, Latex"
      ],
      "execution_count": null,
      "outputs": []
    },
    {
      "cell_type": "code",
      "metadata": {
        "colab": {
          "base_uri": "https://localhost:8080/",
          "height": 1000
        },
        "id": "VY6_R2iWdl13",
        "outputId": "e48e2e01-ea6c-4ba0-a08b-31a47ff886b3"
      },
      "source": [
        "x = Symbol('x')\n",
        "y = Symbol('y')\n",
        "l = Symbol('l')\n",
        "cord_x = Rational(-15, 100)\n",
        "cord_y = Rational(-4, 10)\n",
        "eps = 0.01\n",
        "error = 1\n",
        "i = 0\n",
        "expr_initial = 4*x**2 + y**2 + 2*x + 2*y -1\n",
        "print(\"Исходное выражение:\")\n",
        "display(Math(latex(expr_initial)))\n",
        "\n",
        "print(\"~ ~ ~ ~ ~ ~ ~ ~ ~ ~ ~ ~ ~ ~ ~ ~ ~ ~ ~ ~ ~ ~ ~ ~ ~ ~ ~ ~ ~ ~ ~ ~ ~ ~ ~ ~ ~ ~ ~ ~ ~ ~ ~ Алгоритм ~ ~ ~ ~ ~ ~ ~ ~ ~ ~ ~ ~ ~ ~ ~ ~ ~ ~ ~ ~ ~ ~ ~ ~ ~ ~ ~ ~ ~ ~ ~ ~ ~ ~ ~ ~ ~ ~ ~ ~ ~ ~\\n\")\n",
        "print(\"Находим градиент исходной функции:\")\n",
        "grad = Matrix([[expr_initial.diff(x)], [expr_initial.diff(y)]])\n",
        "display(Math(latex(grad)))\n",
        "while True:\n",
        "  print(\"Шаг {} --------------------------------------------------------------------------------------------------\".format(i))\n",
        "  i += 1\n",
        "  print(\"Текущая точка:\")\n",
        "  display(Math(latex((cord_x, cord_y))))\n",
        "  print(\"Считаем градиент в текущей точке:\")\n",
        "  vector = Matrix([[grad[0].subs([(x, cord_x), (y, cord_y)])], [grad[1].subs([(x, cord_x), (y, cord_y)])]])\n",
        "  display(Math(latex(vector)))\n",
        "  error = LA.norm(np.array([float(vector[0]), float(vector[1])]))\n",
        "  print(\"Проверяем критерий остановки: {} < 0.01?\".format(error))\n",
        "  if error < eps:\n",
        "    print(\"Да, значит нашли точку минимума с точностью {}:\".format(eps))\n",
        "    display(Math(latex((float(cord_x), float(cord_y)))))\n",
        "    break\n",
        "  else:\n",
        "    print(\"Нет, продолжаем алгоритм ---> ---> --->\")\n",
        "    print(\"Сделаем шаг вдоль направления градиента:\")\n",
        "    matrix = Matrix([[cord_x], [cord_y]]) - l * vector\n",
        "    display(Math(latex(matrix)))\n",
        "    expr = expr_initial.subs([(x, matrix[0]), (y, matrix[1])])\n",
        "    print(\"Подставляем получившуюся точку в исходное выражение:\")\n",
        "    display(Math(latex(expr)))\n",
        "    expr = expr.diff(l)\n",
        "    print(\"Дифференцируем по l:\")\n",
        "    display(Math(latex(expr)))\n",
        "    expr = nsimplify(solve(expr, l)[0])\n",
        "    print(\"Приравниваем к 0 и находим l (тем самым выбрав минимальное направление):\")\n",
        "    display(Math(latex(expr)))\n",
        "    print(\"Вычислим новую точку:\")\n",
        "    cord_x = matrix.subs(l, Rational(round(float(expr), 1) * 10, 10))[0]\n",
        "    cord_y = matrix.subs(l, Rational(round(float(expr), 1) * 10, 10))[1]\n",
        "    display(Math(latex((cord_x, cord_y))))"
      ],
      "execution_count": null,
      "outputs": [
        {
          "output_type": "stream",
          "name": "stdout",
          "text": [
            "Исходное выражение:\n"
          ]
        },
        {
          "output_type": "display_data",
          "data": {
            "text/latex": "$$4 x^{2} + 2 x + y^{2} + 2 y - 1$$",
            "text/plain": [
              "<IPython.core.display.Math object>"
            ]
          },
          "metadata": {}
        },
        {
          "output_type": "stream",
          "name": "stdout",
          "text": [
            "~ ~ ~ ~ ~ ~ ~ ~ ~ ~ ~ ~ ~ ~ ~ ~ ~ ~ ~ ~ ~ ~ ~ ~ ~ ~ ~ ~ ~ ~ ~ ~ ~ ~ ~ ~ ~ ~ ~ ~ ~ ~ ~ Алгоритм ~ ~ ~ ~ ~ ~ ~ ~ ~ ~ ~ ~ ~ ~ ~ ~ ~ ~ ~ ~ ~ ~ ~ ~ ~ ~ ~ ~ ~ ~ ~ ~ ~ ~ ~ ~ ~ ~ ~ ~ ~ ~\n",
            "\n",
            "Находим градиент исходной функции:\n"
          ]
        },
        {
          "output_type": "display_data",
          "data": {
            "text/latex": "$$\\left[\\begin{matrix}8 x + 2\\\\2 y + 2\\end{matrix}\\right]$$",
            "text/plain": [
              "<IPython.core.display.Math object>"
            ]
          },
          "metadata": {}
        },
        {
          "output_type": "stream",
          "name": "stdout",
          "text": [
            "Шаг 0 --------------------------------------------------------------------------------------------------\n",
            "Текущая точка:\n"
          ]
        },
        {
          "output_type": "display_data",
          "data": {
            "text/latex": "$$\\left( - \\frac{3}{20}, \\  - \\frac{2}{5}\\right)$$",
            "text/plain": [
              "<IPython.core.display.Math object>"
            ]
          },
          "metadata": {}
        },
        {
          "output_type": "stream",
          "name": "stdout",
          "text": [
            "Считаем градиент в текущей точке:\n"
          ]
        },
        {
          "output_type": "display_data",
          "data": {
            "text/latex": "$$\\left[\\begin{matrix}\\frac{4}{5}\\\\\\frac{6}{5}\\end{matrix}\\right]$$",
            "text/plain": [
              "<IPython.core.display.Math object>"
            ]
          },
          "metadata": {}
        },
        {
          "output_type": "stream",
          "name": "stdout",
          "text": [
            "Проверяем критерий остановки: 1.4422205101855958 < 0.01?\n",
            "Нет, продолжаем алгоритм ---> ---> --->\n",
            "Сделаем шаг вдоль направления градиента:\n"
          ]
        },
        {
          "output_type": "display_data",
          "data": {
            "text/latex": "$$\\left[\\begin{matrix}- \\frac{4 l}{5} - \\frac{3}{20}\\\\- \\frac{6 l}{5} - \\frac{2}{5}\\end{matrix}\\right]$$",
            "text/plain": [
              "<IPython.core.display.Math object>"
            ]
          },
          "metadata": {}
        },
        {
          "output_type": "stream",
          "name": "stdout",
          "text": [
            "Подставляем получившуюся точку в исходное выражение:\n"
          ]
        },
        {
          "output_type": "display_data",
          "data": {
            "text/latex": "$$- 4 l + \\left(- \\frac{6 l}{5} - \\frac{2}{5}\\right)^{2} + 4 \\left(- \\frac{4 l}{5} - \\frac{3}{20}\\right)^{2} - \\frac{21}{10}$$",
            "text/plain": [
              "<IPython.core.display.Math object>"
            ]
          },
          "metadata": {}
        },
        {
          "output_type": "stream",
          "name": "stdout",
          "text": [
            "Дифференцируем по l:\n"
          ]
        },
        {
          "output_type": "display_data",
          "data": {
            "text/latex": "$$8 l - \\frac{52}{25}$$",
            "text/plain": [
              "<IPython.core.display.Math object>"
            ]
          },
          "metadata": {}
        },
        {
          "output_type": "stream",
          "name": "stdout",
          "text": [
            "Приравниваем к 0 и находим l (тем самым выбрав минимальное направление):\n"
          ]
        },
        {
          "output_type": "display_data",
          "data": {
            "text/latex": "$$\\frac{13}{50}$$",
            "text/plain": [
              "<IPython.core.display.Math object>"
            ]
          },
          "metadata": {}
        },
        {
          "output_type": "stream",
          "name": "stdout",
          "text": [
            "Вычислим новую точку:\n"
          ]
        },
        {
          "output_type": "display_data",
          "data": {
            "text/latex": "$$\\left( - \\frac{39}{100}, \\  - \\frac{19}{25}\\right)$$",
            "text/plain": [
              "<IPython.core.display.Math object>"
            ]
          },
          "metadata": {}
        },
        {
          "output_type": "stream",
          "name": "stdout",
          "text": [
            "Шаг 1 --------------------------------------------------------------------------------------------------\n",
            "Текущая точка:\n"
          ]
        },
        {
          "output_type": "display_data",
          "data": {
            "text/latex": "$$\\left( - \\frac{39}{100}, \\  - \\frac{19}{25}\\right)$$",
            "text/plain": [
              "<IPython.core.display.Math object>"
            ]
          },
          "metadata": {}
        },
        {
          "output_type": "stream",
          "name": "stdout",
          "text": [
            "Считаем градиент в текущей точке:\n"
          ]
        },
        {
          "output_type": "display_data",
          "data": {
            "text/latex": "$$\\left[\\begin{matrix}- \\frac{28}{25}\\\\\\frac{12}{25}\\end{matrix}\\right]$$",
            "text/plain": [
              "<IPython.core.display.Math object>"
            ]
          },
          "metadata": {}
        },
        {
          "output_type": "stream",
          "name": "stdout",
          "text": [
            "Проверяем критерий остановки: 1.2185236969382254 < 0.01?\n",
            "Нет, продолжаем алгоритм ---> ---> --->\n",
            "Сделаем шаг вдоль направления градиента:\n"
          ]
        },
        {
          "output_type": "display_data",
          "data": {
            "text/latex": "$$\\left[\\begin{matrix}\\frac{28 l}{25} - \\frac{39}{100}\\\\- \\frac{12 l}{25} - \\frac{19}{25}\\end{matrix}\\right]$$",
            "text/plain": [
              "<IPython.core.display.Math object>"
            ]
          },
          "metadata": {}
        },
        {
          "output_type": "stream",
          "name": "stdout",
          "text": [
            "Подставляем получившуюся точку в исходное выражение:\n"
          ]
        },
        {
          "output_type": "display_data",
          "data": {
            "text/latex": "$$\\frac{32 l}{25} + \\left(- \\frac{12 l}{25} - \\frac{19}{25}\\right)^{2} + 4 \\left(\\frac{28 l}{25} - \\frac{39}{100}\\right)^{2} - \\frac{33}{10}$$",
            "text/plain": [
              "<IPython.core.display.Math object>"
            ]
          },
          "metadata": {}
        },
        {
          "output_type": "stream",
          "name": "stdout",
          "text": [
            "Дифференцируем по l:\n"
          ]
        },
        {
          "output_type": "display_data",
          "data": {
            "text/latex": "$$\\frac{1312 l}{125} - \\frac{928}{625}$$",
            "text/plain": [
              "<IPython.core.display.Math object>"
            ]
          },
          "metadata": {}
        },
        {
          "output_type": "stream",
          "name": "stdout",
          "text": [
            "Приравниваем к 0 и находим l (тем самым выбрав минимальное направление):\n"
          ]
        },
        {
          "output_type": "display_data",
          "data": {
            "text/latex": "$$\\frac{29}{205}$$",
            "text/plain": [
              "<IPython.core.display.Math object>"
            ]
          },
          "metadata": {}
        },
        {
          "output_type": "stream",
          "name": "stdout",
          "text": [
            "Вычислим новую точку:\n"
          ]
        },
        {
          "output_type": "display_data",
          "data": {
            "text/latex": "$$\\left( - \\frac{139}{500}, \\  - \\frac{101}{125}\\right)$$",
            "text/plain": [
              "<IPython.core.display.Math object>"
            ]
          },
          "metadata": {}
        },
        {
          "output_type": "stream",
          "name": "stdout",
          "text": [
            "Шаг 2 --------------------------------------------------------------------------------------------------\n",
            "Текущая точка:\n"
          ]
        },
        {
          "output_type": "display_data",
          "data": {
            "text/latex": "$$\\left( - \\frac{139}{500}, \\  - \\frac{101}{125}\\right)$$",
            "text/plain": [
              "<IPython.core.display.Math object>"
            ]
          },
          "metadata": {}
        },
        {
          "output_type": "stream",
          "name": "stdout",
          "text": [
            "Считаем градиент в текущей точке:\n"
          ]
        },
        {
          "output_type": "display_data",
          "data": {
            "text/latex": "$$\\left[\\begin{matrix}- \\frac{28}{125}\\\\\\frac{48}{125}\\end{matrix}\\right]$$",
            "text/plain": [
              "<IPython.core.display.Math object>"
            ]
          },
          "metadata": {}
        },
        {
          "output_type": "stream",
          "name": "stdout",
          "text": [
            "Проверяем критерий остановки: 0.44455820766239373 < 0.01?\n",
            "Нет, продолжаем алгоритм ---> ---> --->\n",
            "Сделаем шаг вдоль направления градиента:\n"
          ]
        },
        {
          "output_type": "display_data",
          "data": {
            "text/latex": "$$\\left[\\begin{matrix}\\frac{28 l}{125} - \\frac{139}{500}\\\\- \\frac{48 l}{125} - \\frac{101}{125}\\end{matrix}\\right]$$",
            "text/plain": [
              "<IPython.core.display.Math object>"
            ]
          },
          "metadata": {}
        },
        {
          "output_type": "stream",
          "name": "stdout",
          "text": [
            "Подставляем получившуюся точку в исходное выражение:\n"
          ]
        },
        {
          "output_type": "display_data",
          "data": {
            "text/latex": "$$- \\frac{8 l}{25} + \\left(- \\frac{48 l}{125} - \\frac{101}{125}\\right)^{2} + 4 \\left(\\frac{28 l}{125} - \\frac{139}{500}\\right)^{2} - \\frac{793}{250}$$",
            "text/plain": [
              "<IPython.core.display.Math object>"
            ]
          },
          "metadata": {}
        },
        {
          "output_type": "stream",
          "name": "stdout",
          "text": [
            "Дифференцируем по l:\n"
          ]
        },
        {
          "output_type": "display_data",
          "data": {
            "text/latex": "$$\\frac{2176 l}{3125} - \\frac{3088}{15625}$$",
            "text/plain": [
              "<IPython.core.display.Math object>"
            ]
          },
          "metadata": {}
        },
        {
          "output_type": "stream",
          "name": "stdout",
          "text": [
            "Приравниваем к 0 и находим l (тем самым выбрав минимальное направление):\n"
          ]
        },
        {
          "output_type": "display_data",
          "data": {
            "text/latex": "$$\\frac{193}{680}$$",
            "text/plain": [
              "<IPython.core.display.Math object>"
            ]
          },
          "metadata": {}
        },
        {
          "output_type": "stream",
          "name": "stdout",
          "text": [
            "Вычислим новую точку:\n"
          ]
        },
        {
          "output_type": "display_data",
          "data": {
            "text/latex": "$$\\left( - \\frac{527}{2500}, \\  - \\frac{577}{625}\\right)$$",
            "text/plain": [
              "<IPython.core.display.Math object>"
            ]
          },
          "metadata": {}
        },
        {
          "output_type": "stream",
          "name": "stdout",
          "text": [
            "Шаг 3 --------------------------------------------------------------------------------------------------\n",
            "Текущая точка:\n"
          ]
        },
        {
          "output_type": "display_data",
          "data": {
            "text/latex": "$$\\left( - \\frac{527}{2500}, \\  - \\frac{577}{625}\\right)$$",
            "text/plain": [
              "<IPython.core.display.Math object>"
            ]
          },
          "metadata": {}
        },
        {
          "output_type": "stream",
          "name": "stdout",
          "text": [
            "Считаем градиент в текущей точке:\n"
          ]
        },
        {
          "output_type": "display_data",
          "data": {
            "text/latex": "$$\\left[\\begin{matrix}\\frac{196}{625}\\\\\\frac{96}{625}\\end{matrix}\\right]$$",
            "text/plain": [
              "<IPython.core.display.Math object>"
            ]
          },
          "metadata": {}
        },
        {
          "output_type": "stream",
          "name": "stdout",
          "text": [
            "Проверяем критерий остановки: 0.34919610536201573 < 0.01?\n",
            "Нет, продолжаем алгоритм ---> ---> --->\n",
            "Сделаем шаг вдоль направления градиента:\n"
          ]
        },
        {
          "output_type": "display_data",
          "data": {
            "text/latex": "$$\\left[\\begin{matrix}- \\frac{196 l}{625} - \\frac{527}{2500}\\\\- \\frac{96 l}{625} - \\frac{577}{625}\\end{matrix}\\right]$$",
            "text/plain": [
              "<IPython.core.display.Math object>"
            ]
          },
          "metadata": {}
        },
        {
          "output_type": "stream",
          "name": "stdout",
          "text": [
            "Подставляем получившуюся точку в исходное выражение:\n"
          ]
        },
        {
          "output_type": "display_data",
          "data": {
            "text/latex": "$$- \\frac{584 l}{625} + 4 \\left(- \\frac{196 l}{625} - \\frac{527}{2500}\\right)^{2} + \\left(- \\frac{96 l}{625} - \\frac{577}{625}\\right)^{2} - \\frac{817}{250}$$",
            "text/plain": [
              "<IPython.core.display.Math object>"
            ]
          },
          "metadata": {}
        },
        {
          "output_type": "stream",
          "name": "stdout",
          "text": [
            "Дифференцируем по l:\n"
          ]
        },
        {
          "output_type": "display_data",
          "data": {
            "text/latex": "$$\\frac{65152 l}{78125} - \\frac{47632}{390625}$$",
            "text/plain": [
              "<IPython.core.display.Math object>"
            ]
          },
          "metadata": {}
        },
        {
          "output_type": "stream",
          "name": "stdout",
          "text": [
            "Приравниваем к 0 и находим l (тем самым выбрав минимальное направление):\n"
          ]
        },
        {
          "output_type": "display_data",
          "data": {
            "text/latex": "$$\\frac{2977}{20360}$$",
            "text/plain": [
              "<IPython.core.display.Math object>"
            ]
          },
          "metadata": {}
        },
        {
          "output_type": "stream",
          "name": "stdout",
          "text": [
            "Вычислим новую точку:\n"
          ]
        },
        {
          "output_type": "display_data",
          "data": {
            "text/latex": "$$\\left( - \\frac{3027}{12500}, \\  - \\frac{2933}{3125}\\right)$$",
            "text/plain": [
              "<IPython.core.display.Math object>"
            ]
          },
          "metadata": {}
        },
        {
          "output_type": "stream",
          "name": "stdout",
          "text": [
            "Шаг 4 --------------------------------------------------------------------------------------------------\n",
            "Текущая точка:\n"
          ]
        },
        {
          "output_type": "display_data",
          "data": {
            "text/latex": "$$\\left( - \\frac{3027}{12500}, \\  - \\frac{2933}{3125}\\right)$$",
            "text/plain": [
              "<IPython.core.display.Math object>"
            ]
          },
          "metadata": {}
        },
        {
          "output_type": "stream",
          "name": "stdout",
          "text": [
            "Считаем градиент в текущей точке:\n"
          ]
        },
        {
          "output_type": "display_data",
          "data": {
            "text/latex": "$$\\left[\\begin{matrix}\\frac{196}{3125}\\\\\\frac{384}{3125}\\end{matrix}\\right]$$",
            "text/plain": [
              "<IPython.core.display.Math object>"
            ]
          },
          "metadata": {}
        },
        {
          "output_type": "stream",
          "name": "stdout",
          "text": [
            "Проверяем критерий остановки: 0.13796120034270506 < 0.01?\n",
            "Нет, продолжаем алгоритм ---> ---> --->\n",
            "Сделаем шаг вдоль направления градиента:\n"
          ]
        },
        {
          "output_type": "display_data",
          "data": {
            "text/latex": "$$\\left[\\begin{matrix}- \\frac{196 l}{3125} - \\frac{3027}{12500}\\\\- \\frac{384 l}{3125} - \\frac{2933}{3125}\\end{matrix}\\right]$$",
            "text/plain": [
              "<IPython.core.display.Math object>"
            ]
          },
          "metadata": {}
        },
        {
          "output_type": "stream",
          "name": "stdout",
          "text": [
            "Подставляем получившуюся точку в исходное выражение:\n"
          ]
        },
        {
          "output_type": "display_data",
          "data": {
            "text/latex": "$$- \\frac{232 l}{625} + \\left(- \\frac{384 l}{3125} - \\frac{2933}{3125}\\right)^{2} + 4 \\left(- \\frac{196 l}{3125} - \\frac{3027}{12500}\\right)^{2} - \\frac{21009}{6250}$$",
            "text/plain": [
              "<IPython.core.display.Math object>"
            ]
          },
          "metadata": {}
        },
        {
          "output_type": "stream",
          "name": "stdout",
          "text": [
            "Дифференцируем по l:\n"
          ]
        },
        {
          "output_type": "display_data",
          "data": {
            "text/latex": "$$\\frac{120448 l}{1953125} - \\frac{185872}{9765625}$$",
            "text/plain": [
              "<IPython.core.display.Math object>"
            ]
          },
          "metadata": {}
        },
        {
          "output_type": "stream",
          "name": "stdout",
          "text": [
            "Приравниваем к 0 и находим l (тем самым выбрав минимальное направление):\n"
          ]
        },
        {
          "output_type": "display_data",
          "data": {
            "text/latex": "$$\\frac{11617}{37640}$$",
            "text/plain": [
              "<IPython.core.display.Math object>"
            ]
          },
          "metadata": {}
        },
        {
          "output_type": "stream",
          "name": "stdout",
          "text": [
            "Вычислим новую точку:\n"
          ]
        },
        {
          "output_type": "display_data",
          "data": {
            "text/latex": "$$\\left( - \\frac{16311}{62500}, \\  - \\frac{15241}{15625}\\right)$$",
            "text/plain": [
              "<IPython.core.display.Math object>"
            ]
          },
          "metadata": {}
        },
        {
          "output_type": "stream",
          "name": "stdout",
          "text": [
            "Шаг 5 --------------------------------------------------------------------------------------------------\n",
            "Текущая точка:\n"
          ]
        },
        {
          "output_type": "display_data",
          "data": {
            "text/latex": "$$\\left( - \\frac{16311}{62500}, \\  - \\frac{15241}{15625}\\right)$$",
            "text/plain": [
              "<IPython.core.display.Math object>"
            ]
          },
          "metadata": {}
        },
        {
          "output_type": "stream",
          "name": "stdout",
          "text": [
            "Считаем градиент в текущей точке:\n"
          ]
        },
        {
          "output_type": "display_data",
          "data": {
            "text/latex": "$$\\left[\\begin{matrix}- \\frac{1372}{15625}\\\\\\frac{768}{15625}\\end{matrix}\\right]$$",
            "text/plain": [
              "<IPython.core.display.Math object>"
            ]
          },
          "metadata": {}
        },
        {
          "output_type": "stream",
          "name": "stdout",
          "text": [
            "Проверяем критерий остановки: 0.10062884262476639 < 0.01?\n",
            "Нет, продолжаем алгоритм ---> ---> --->\n",
            "Сделаем шаг вдоль направления градиента:\n"
          ]
        },
        {
          "output_type": "display_data",
          "data": {
            "text/latex": "$$\\left[\\begin{matrix}\\frac{1372 l}{15625} - \\frac{16311}{62500}\\\\- \\frac{768 l}{15625} - \\frac{15241}{15625}\\end{matrix}\\right]$$",
            "text/plain": [
              "<IPython.core.display.Math object>"
            ]
          },
          "metadata": {}
        },
        {
          "output_type": "stream",
          "name": "stdout",
          "text": [
            "Подставляем получившуюся точку в исходное выражение:\n"
          ]
        },
        {
          "output_type": "display_data",
          "data": {
            "text/latex": "$$\\frac{1208 l}{15625} + \\left(- \\frac{768 l}{15625} - \\frac{15241}{15625}\\right)^{2} + 4 \\left(\\frac{1372 l}{15625} - \\frac{16311}{62500}\\right)^{2} - \\frac{4341}{1250}$$",
            "text/plain": [
              "<IPython.core.display.Math object>"
            ]
          },
          "metadata": {}
        },
        {
          "output_type": "stream",
          "name": "stdout",
          "text": [
            "Дифференцируем по l:\n"
          ]
        },
        {
          "output_type": "display_data",
          "data": {
            "text/latex": "$$\\frac{3247744 l}{48828125} - \\frac{2472208}{244140625}$$",
            "text/plain": [
              "<IPython.core.display.Math object>"
            ]
          },
          "metadata": {}
        },
        {
          "output_type": "stream",
          "name": "stdout",
          "text": [
            "Приравниваем к 0 и находим l (тем самым выбрав минимальное направление):\n"
          ]
        },
        {
          "output_type": "display_data",
          "data": {
            "text/latex": "$$\\frac{154513}{1014920}$$",
            "text/plain": [
              "<IPython.core.display.Math object>"
            ]
          },
          "metadata": {}
        },
        {
          "output_type": "stream",
          "name": "stdout",
          "text": [
            "Вычислим новую точку:\n"
          ]
        },
        {
          "output_type": "display_data",
          "data": {
            "text/latex": "$$\\left( - \\frac{76067}{312500}, \\  - \\frac{76973}{78125}\\right)$$",
            "text/plain": [
              "<IPython.core.display.Math object>"
            ]
          },
          "metadata": {}
        },
        {
          "output_type": "stream",
          "name": "stdout",
          "text": [
            "Шаг 6 --------------------------------------------------------------------------------------------------\n",
            "Текущая точка:\n"
          ]
        },
        {
          "output_type": "display_data",
          "data": {
            "text/latex": "$$\\left( - \\frac{76067}{312500}, \\  - \\frac{76973}{78125}\\right)$$",
            "text/plain": [
              "<IPython.core.display.Math object>"
            ]
          },
          "metadata": {}
        },
        {
          "output_type": "stream",
          "name": "stdout",
          "text": [
            "Считаем градиент в текущей точке:\n"
          ]
        },
        {
          "output_type": "display_data",
          "data": {
            "text/latex": "$$\\left[\\begin{matrix}\\frac{4116}{78125}\\\\\\frac{2304}{78125}\\end{matrix}\\right]$$",
            "text/plain": [
              "<IPython.core.display.Math object>"
            ]
          },
          "metadata": {}
        },
        {
          "output_type": "stream",
          "name": "stdout",
          "text": [
            "Проверяем критерий остановки: 0.060377305574859826 < 0.01?\n",
            "Нет, продолжаем алгоритм ---> ---> --->\n",
            "Сделаем шаг вдоль направления градиента:\n"
          ]
        },
        {
          "output_type": "display_data",
          "data": {
            "text/latex": "$$\\left[\\begin{matrix}- \\frac{4116 l}{78125} - \\frac{76067}{312500}\\\\- \\frac{2304 l}{78125} - \\frac{76973}{78125}\\end{matrix}\\right]$$",
            "text/plain": [
              "<IPython.core.display.Math object>"
            ]
          },
          "metadata": {}
        },
        {
          "output_type": "stream",
          "name": "stdout",
          "text": [
            "Подставляем получившуюся точку в исходное выражение:\n"
          ]
        },
        {
          "output_type": "display_data",
          "data": {
            "text/latex": "$$- \\frac{2568 l}{15625} + 4 \\left(- \\frac{4116 l}{78125} - \\frac{76067}{312500}\\right)^{2} + \\left(- \\frac{2304 l}{78125} - \\frac{76973}{78125}\\right)^{2} - \\frac{540209}{156250}$$",
            "text/plain": [
              "<IPython.core.display.Math object>"
            ]
          },
          "metadata": {}
        },
        {
          "output_type": "stream",
          "name": "stdout",
          "text": [
            "Дифференцируем по l:\n"
          ]
        },
        {
          "output_type": "display_data",
          "data": {
            "text/latex": "$$\\frac{29229696 l}{1220703125} - \\frac{22249872}{6103515625}$$",
            "text/plain": [
              "<IPython.core.display.Math object>"
            ]
          },
          "metadata": {}
        },
        {
          "output_type": "stream",
          "name": "stdout",
          "text": [
            "Приравниваем к 0 и находим l (тем самым выбрав минимальное направление):\n"
          ]
        },
        {
          "output_type": "display_data",
          "data": {
            "text/latex": "$$\\frac{154513}{1014920}$$",
            "text/plain": [
              "<IPython.core.display.Math object>"
            ]
          },
          "metadata": {}
        },
        {
          "output_type": "stream",
          "name": "stdout",
          "text": [
            "Вычислим новую точку:\n"
          ]
        },
        {
          "output_type": "display_data",
          "data": {
            "text/latex": "$$\\left( - \\frac{396799}{1562500}, \\  - \\frac{387169}{390625}\\right)$$",
            "text/plain": [
              "<IPython.core.display.Math object>"
            ]
          },
          "metadata": {}
        },
        {
          "output_type": "stream",
          "name": "stdout",
          "text": [
            "Шаг 7 --------------------------------------------------------------------------------------------------\n",
            "Текущая точка:\n"
          ]
        },
        {
          "output_type": "display_data",
          "data": {
            "text/latex": "$$\\left( - \\frac{396799}{1562500}, \\  - \\frac{387169}{390625}\\right)$$",
            "text/plain": [
              "<IPython.core.display.Math object>"
            ]
          },
          "metadata": {}
        },
        {
          "output_type": "stream",
          "name": "stdout",
          "text": [
            "Считаем градиент в текущей точке:\n"
          ]
        },
        {
          "output_type": "display_data",
          "data": {
            "text/latex": "$$\\left[\\begin{matrix}- \\frac{12348}{390625}\\\\\\frac{6912}{390625}\\end{matrix}\\right]$$",
            "text/plain": [
              "<IPython.core.display.Math object>"
            ]
          },
          "metadata": {}
        },
        {
          "output_type": "stream",
          "name": "stdout",
          "text": [
            "Проверяем критерий остановки: 0.0362263833449159 < 0.01?\n",
            "Нет, продолжаем алгоритм ---> ---> --->\n",
            "Сделаем шаг вдоль направления градиента:\n"
          ]
        },
        {
          "output_type": "display_data",
          "data": {
            "text/latex": "$$\\left[\\begin{matrix}\\frac{12348 l}{390625} - \\frac{396799}{1562500}\\\\- \\frac{6912 l}{390625} - \\frac{387169}{390625}\\end{matrix}\\right]$$",
            "text/plain": [
              "<IPython.core.display.Math object>"
            ]
          },
          "metadata": {}
        },
        {
          "output_type": "stream",
          "name": "stdout",
          "text": [
            "Подставляем получившуюся точку в исходное выражение:\n"
          ]
        },
        {
          "output_type": "display_data",
          "data": {
            "text/latex": "$$\\frac{10872 l}{390625} + \\left(- \\frac{6912 l}{390625} - \\frac{387169}{390625}\\right)^{2} + 4 \\left(\\frac{12348 l}{390625} - \\frac{396799}{1562500}\\right)^{2} - \\frac{109069}{31250}$$",
            "text/plain": [
              "<IPython.core.display.Math object>"
            ]
          },
          "metadata": {}
        },
        {
          "output_type": "stream",
          "name": "stdout",
          "text": [
            "Дифференцируем по l:\n"
          ]
        },
        {
          "output_type": "display_data",
          "data": {
            "text/latex": "$$\\frac{263067264 l}{30517578125} - \\frac{200248848}{152587890625}$$",
            "text/plain": [
              "<IPython.core.display.Math object>"
            ]
          },
          "metadata": {}
        },
        {
          "output_type": "stream",
          "name": "stdout",
          "text": [
            "Приравниваем к 0 и находим l (тем самым выбрав минимальное направление):\n"
          ]
        },
        {
          "output_type": "display_data",
          "data": {
            "text/latex": "$$\\frac{154513}{1014920}$$",
            "text/plain": [
              "<IPython.core.display.Math object>"
            ]
          },
          "metadata": {}
        },
        {
          "output_type": "stream",
          "name": "stdout",
          "text": [
            "Вычислим новую точку:\n"
          ]
        },
        {
          "output_type": "display_data",
          "data": {
            "text/latex": "$$\\left( - \\frac{1934603}{7812500}, \\  - \\frac{1942757}{1953125}\\right)$$",
            "text/plain": [
              "<IPython.core.display.Math object>"
            ]
          },
          "metadata": {}
        },
        {
          "output_type": "stream",
          "name": "stdout",
          "text": [
            "Шаг 8 --------------------------------------------------------------------------------------------------\n",
            "Текущая точка:\n"
          ]
        },
        {
          "output_type": "display_data",
          "data": {
            "text/latex": "$$\\left( - \\frac{1934603}{7812500}, \\  - \\frac{1942757}{1953125}\\right)$$",
            "text/plain": [
              "<IPython.core.display.Math object>"
            ]
          },
          "metadata": {}
        },
        {
          "output_type": "stream",
          "name": "stdout",
          "text": [
            "Считаем градиент в текущей точке:\n"
          ]
        },
        {
          "output_type": "display_data",
          "data": {
            "text/latex": "$$\\left[\\begin{matrix}\\frac{37044}{1953125}\\\\\\frac{20736}{1953125}\\end{matrix}\\right]$$",
            "text/plain": [
              "<IPython.core.display.Math object>"
            ]
          },
          "metadata": {}
        },
        {
          "output_type": "stream",
          "name": "stdout",
          "text": [
            "Проверяем критерий остановки: 0.02173583000694954 < 0.01?\n",
            "Нет, продолжаем алгоритм ---> ---> --->\n",
            "Сделаем шаг вдоль направления градиента:\n"
          ]
        },
        {
          "output_type": "display_data",
          "data": {
            "text/latex": "$$\\left[\\begin{matrix}- \\frac{37044 l}{1953125} - \\frac{1934603}{7812500}\\\\- \\frac{20736 l}{1953125} - \\frac{1942757}{1953125}\\end{matrix}\\right]$$",
            "text/plain": [
              "<IPython.core.display.Math object>"
            ]
          },
          "metadata": {}
        },
        {
          "output_type": "stream",
          "name": "stdout",
          "text": [
            "Подставляем получившуюся точку в исходное выражение:\n"
          ]
        },
        {
          "output_type": "display_data",
          "data": {
            "text/latex": "$$- \\frac{23112 l}{390625} + 4 \\left(- \\frac{37044 l}{1953125} - \\frac{1934603}{7812500}\\right)^{2} + \\left(- \\frac{20736 l}{1953125} - \\frac{1942757}{1953125}\\right)^{2} - \\frac{13611881}{3906250}$$",
            "text/plain": [
              "<IPython.core.display.Math object>"
            ]
          },
          "metadata": {}
        },
        {
          "output_type": "stream",
          "name": "stdout",
          "text": [
            "Дифференцируем по l:\n"
          ]
        },
        {
          "output_type": "display_data",
          "data": {
            "text/latex": "$$\\frac{2367605376 l}{762939453125} - \\frac{1802239632}{3814697265625}$$",
            "text/plain": [
              "<IPython.core.display.Math object>"
            ]
          },
          "metadata": {}
        },
        {
          "output_type": "stream",
          "name": "stdout",
          "text": [
            "Приравниваем к 0 и находим l (тем самым выбрав минимальное направление):\n"
          ]
        },
        {
          "output_type": "display_data",
          "data": {
            "text/latex": "$$\\frac{154513}{1014920}$$",
            "text/plain": [
              "<IPython.core.display.Math object>"
            ]
          },
          "metadata": {}
        },
        {
          "output_type": "stream",
          "name": "stdout",
          "text": [
            "Вычислим новую точку:\n"
          ]
        },
        {
          "output_type": "display_data",
          "data": {
            "text/latex": "$$\\left( - \\frac{9821191}{39062500}, \\  - \\frac{9734521}{9765625}\\right)$$",
            "text/plain": [
              "<IPython.core.display.Math object>"
            ]
          },
          "metadata": {}
        },
        {
          "output_type": "stream",
          "name": "stdout",
          "text": [
            "Шаг 9 --------------------------------------------------------------------------------------------------\n",
            "Текущая точка:\n"
          ]
        },
        {
          "output_type": "display_data",
          "data": {
            "text/latex": "$$\\left( - \\frac{9821191}{39062500}, \\  - \\frac{9734521}{9765625}\\right)$$",
            "text/plain": [
              "<IPython.core.display.Math object>"
            ]
          },
          "metadata": {}
        },
        {
          "output_type": "stream",
          "name": "stdout",
          "text": [
            "Считаем градиент в текущей точке:\n"
          ]
        },
        {
          "output_type": "display_data",
          "data": {
            "text/latex": "$$\\left[\\begin{matrix}- \\frac{111132}{9765625}\\\\\\frac{62208}{9765625}\\end{matrix}\\right]$$",
            "text/plain": [
              "<IPython.core.display.Math object>"
            ]
          },
          "metadata": {}
        },
        {
          "output_type": "stream",
          "name": "stdout",
          "text": [
            "Проверяем критерий остановки: 0.013041498004169724 < 0.01?\n",
            "Нет, продолжаем алгоритм ---> ---> --->\n",
            "Сделаем шаг вдоль направления градиента:\n"
          ]
        },
        {
          "output_type": "display_data",
          "data": {
            "text/latex": "$$\\left[\\begin{matrix}\\frac{111132 l}{9765625} - \\frac{9821191}{39062500}\\\\- \\frac{62208 l}{9765625} - \\frac{9734521}{9765625}\\end{matrix}\\right]$$",
            "text/plain": [
              "<IPython.core.display.Math object>"
            ]
          },
          "metadata": {}
        },
        {
          "output_type": "stream",
          "name": "stdout",
          "text": [
            "Подставляем получившуюся точку в исходное выражение:\n"
          ]
        },
        {
          "output_type": "display_data",
          "data": {
            "text/latex": "$$\\frac{97848 l}{9765625} + \\left(- \\frac{62208 l}{9765625} - \\frac{9734521}{9765625}\\right)^{2} + 4 \\left(\\frac{111132 l}{9765625} - \\frac{9821191}{39062500}\\right)^{2} - \\frac{2731621}{781250}$$",
            "text/plain": [
              "<IPython.core.display.Math object>"
            ]
          },
          "metadata": {}
        },
        {
          "output_type": "stream",
          "name": "stdout",
          "text": [
            "Дифференцируем по l:\n"
          ]
        },
        {
          "output_type": "display_data",
          "data": {
            "text/latex": "$$\\frac{21308448384 l}{19073486328125} - \\frac{16220156688}{95367431640625}$$",
            "text/plain": [
              "<IPython.core.display.Math object>"
            ]
          },
          "metadata": {}
        },
        {
          "output_type": "stream",
          "name": "stdout",
          "text": [
            "Приравниваем к 0 и находим l (тем самым выбрав минимальное направление):\n"
          ]
        },
        {
          "output_type": "display_data",
          "data": {
            "text/latex": "$$\\frac{154513}{1014920}$$",
            "text/plain": [
              "<IPython.core.display.Math object>"
            ]
          },
          "metadata": {}
        },
        {
          "output_type": "stream",
          "name": "stdout",
          "text": [
            "Вычислим новую точку:\n"
          ]
        },
        {
          "output_type": "display_data",
          "data": {
            "text/latex": "$$\\left( - \\frac{48661427}{195312500}, \\  - \\frac{48734813}{48828125}\\right)$$",
            "text/plain": [
              "<IPython.core.display.Math object>"
            ]
          },
          "metadata": {}
        },
        {
          "output_type": "stream",
          "name": "stdout",
          "text": [
            "Шаг 10 --------------------------------------------------------------------------------------------------\n",
            "Текущая точка:\n"
          ]
        },
        {
          "output_type": "display_data",
          "data": {
            "text/latex": "$$\\left( - \\frac{48661427}{195312500}, \\  - \\frac{48734813}{48828125}\\right)$$",
            "text/plain": [
              "<IPython.core.display.Math object>"
            ]
          },
          "metadata": {}
        },
        {
          "output_type": "stream",
          "name": "stdout",
          "text": [
            "Считаем градиент в текущей точке:\n"
          ]
        },
        {
          "output_type": "display_data",
          "data": {
            "text/latex": "$$\\left[\\begin{matrix}\\frac{333396}{48828125}\\\\\\frac{186624}{48828125}\\end{matrix}\\right]$$",
            "text/plain": [
              "<IPython.core.display.Math object>"
            ]
          },
          "metadata": {}
        },
        {
          "output_type": "stream",
          "name": "stdout",
          "text": [
            "Проверяем критерий остановки: 0.007824898802501834 < 0.01?\n",
            "Да, значит нашли точку минимума с точностью 0.01:\n"
          ]
        },
        {
          "output_type": "display_data",
          "data": {
            "text/latex": "$$\\left( -0.24914650624, \\  -0.99808897024\\right)$$",
            "text/plain": [
              "<IPython.core.display.Math object>"
            ]
          },
          "metadata": {}
        }
      ]
    },
    {
      "cell_type": "code",
      "metadata": {
        "colab": {
          "base_uri": "https://localhost:8080/",
          "height": 1000
        },
        "id": "_gWPiyKMqIIJ",
        "outputId": "5f7c3b4a-002d-4e9d-cdd5-79a9f0f71eb6"
      },
      "source": [
        "x = Symbol('x')\n",
        "y = Symbol('y')\n",
        "l = Symbol('l')\n",
        "x_k = Rational(-15, 100)\n",
        "y_k = Rational(-4, 10)\n",
        "eps = 0.01\n",
        "i = 0\n",
        "expr_initial = 4*x**2 + y**2 + 2*x + 2*y -1\n",
        "print(\"Исходное выражение:\")\n",
        "display(Math(latex(expr_initial)))\n",
        "\n",
        "print(\"~ ~ ~ ~ ~ ~ ~ ~ ~ ~ ~ ~ ~ ~ ~ ~ ~ ~ ~ ~ ~ ~ ~ ~ ~ ~ ~ ~ ~ ~ ~ ~ ~ ~ ~ ~ ~ ~ ~ ~ ~ ~ ~ Алгоритм ~ ~ ~ ~ ~ ~ ~ ~ ~ ~ ~ ~ ~ ~ ~ ~ ~ ~ ~ ~ ~ ~ ~ ~ ~ ~ ~ ~ ~ ~ ~ ~ ~ ~ ~ ~ ~ ~ ~ ~ ~ ~\\n\")\n",
        "print(\"Находим градиент исходной функции:\")\n",
        "grad = Matrix([[expr_initial.diff(x)], [expr_initial.diff(y)]])\n",
        "display(Math(latex(grad)))\n",
        "while True:\n",
        "  print(\"Шаг {} --------------------------------------------------------------------------------------------------\".format(i))\n",
        "  print(\"Текущая точка:\")\n",
        "  display(Math(latex((x_k, y_k))))\n",
        "  print(\"Считаем градиент в текущей точке:\")\n",
        "  vector_k = Matrix([[grad[0].subs([(x, x_k), (y, y_k)])], [grad[1].subs([(x, x_k), (y, y_k)])]])\n",
        "  display(Math(latex(vector_k)))\n",
        "  norm_k = LA.norm(np.array([float(vector_k[0]), float(vector_k[1])]))\n",
        "  print(\"Проверяем критерий остановки: {} < 0.01?\".format(norm_k))\n",
        "  if norm_k < eps:\n",
        "    print(\"Да, значит нашли точку минимума с точностью {}:\".format(eps))\n",
        "    display(Math(latex((float(x_k), float(y_k)))))\n",
        "    break\n",
        "  else:\n",
        "    print(\"Нет, продолжаем алгоритм ---> ---> --->\")\n",
        "    if i == 0:\n",
        "      d = vector_k\n",
        "      print(\"Находим d:\")\n",
        "      display(Math(latex(d)))\n",
        "      matrix = Matrix([[x_k], [y_k]]) - l * d\n",
        "      print(\"Сделаем шаг:\")\n",
        "      display(Math(latex(matrix)))\n",
        "      expr = expr_initial.subs([(x, matrix[0]), (y, matrix[1])])\n",
        "      print(\"Подставляем получившуюся точку в исходное выражение:\")\n",
        "      display(Math(latex(expr)))\n",
        "      expr = expr.diff(l)\n",
        "      print(\"Дифференцируем по l:\")\n",
        "      display(Math(latex(expr)))\n",
        "      expr = nsimplify(solve(expr, l)[0])\n",
        "      print(\"Приравниваем к 0 и находим l (тем самым выбрав минимальное направление):\")\n",
        "      display(Math(latex(expr)))\n",
        "      x_k_minus_1 = x_k\n",
        "      y_k_minus_1 = y_k\n",
        "      x_k = matrix.subs(l, Rational(round(float(expr), 1) * 10, 10))[0]\n",
        "      y_k = matrix.subs(l, Rational(round(float(expr), 1) * 10, 10))[1]\n",
        "      print(\"Подставляем l в точку выше, тем самым получая новую точку для продолжения алгоритма:\")\n",
        "      display(Math(latex((x_k, y_k))))\n",
        "      norm_k_minus_1 = norm_k\n",
        "      i += 1\n",
        "    else:\n",
        "      b = Rational(round(norm_k, 2) * 100, 100) / Rational(round(norm_k_minus_1, 2) * 100, 100)\n",
        "      print(\"Находим b:\")\n",
        "      display(Math(latex(b)))\n",
        "      d = Matrix([[grad[0].subs([(x, x_k), (y, y_k)])], [grad[1].subs([(x, x_k), (y, y_k)])]]) + b * Matrix([[grad[0].subs([(x, x_k_minus_1), (y, y_k_minus_1)])], [grad[1].subs([(x, x_k_minus_1), (y, y_k_minus_1)])]])\n",
        "      print(\"Находим d:\")\n",
        "      display(Math(latex(d)))\n",
        "      matrix = Matrix([[x_k], [y_k]]) - l * d\n",
        "      print(\"Сделаем шаг:\")\n",
        "      display(Math(latex(matrix)))\n",
        "      expr = expr_initial.subs([(x, matrix[0]), (y, matrix[1])])\n",
        "      print(\"Подставляем получившуюся точку в исходное выражение:\")\n",
        "      display(Math(latex(expr)))\n",
        "      expr = expr.diff(l)\n",
        "      print(\"Дифференцируем по l:\")\n",
        "      display(Math(latex(expr)))\n",
        "      expr = nsimplify(solve(expr, l)[0])\n",
        "      print(\"Приравниваем к 0 и находим l (тем самым выбрав минимальное направление):\")\n",
        "      display(Math(latex(expr)))\n",
        "      x_k_minus_1 = x_k\n",
        "      y_k_minus_1 = y_k\n",
        "      x_k = matrix.subs(l, Rational(round(float(expr), 1) * 10, 10))[0]\n",
        "      y_k = matrix.subs(l, Rational(round(float(expr), 1) * 10, 10))[1]\n",
        "      print(\"Подставляем l в точку выше, тем самым получая новую точку для продолжения алгоритма:\")\n",
        "      display(Math(latex((x_k, y_k))))\n",
        "      norm_k_minus_1 = norm_k\n",
        "      i += 1"
      ],
      "execution_count": null,
      "outputs": [
        {
          "output_type": "stream",
          "name": "stdout",
          "text": [
            "Исходное выражение:\n"
          ]
        },
        {
          "output_type": "display_data",
          "data": {
            "text/latex": "$$4 x^{2} + 2 x + y^{2} + 2 y - 1$$",
            "text/plain": [
              "<IPython.core.display.Math object>"
            ]
          },
          "metadata": {}
        },
        {
          "output_type": "stream",
          "name": "stdout",
          "text": [
            "~ ~ ~ ~ ~ ~ ~ ~ ~ ~ ~ ~ ~ ~ ~ ~ ~ ~ ~ ~ ~ ~ ~ ~ ~ ~ ~ ~ ~ ~ ~ ~ ~ ~ ~ ~ ~ ~ ~ ~ ~ ~ ~ Алгоритм ~ ~ ~ ~ ~ ~ ~ ~ ~ ~ ~ ~ ~ ~ ~ ~ ~ ~ ~ ~ ~ ~ ~ ~ ~ ~ ~ ~ ~ ~ ~ ~ ~ ~ ~ ~ ~ ~ ~ ~ ~ ~\n",
            "\n",
            "Находим градиент исходной функции:\n"
          ]
        },
        {
          "output_type": "display_data",
          "data": {
            "text/latex": "$$\\left[\\begin{matrix}8 x + 2\\\\2 y + 2\\end{matrix}\\right]$$",
            "text/plain": [
              "<IPython.core.display.Math object>"
            ]
          },
          "metadata": {}
        },
        {
          "output_type": "stream",
          "name": "stdout",
          "text": [
            "Шаг 0 --------------------------------------------------------------------------------------------------\n",
            "Текущая точка:\n"
          ]
        },
        {
          "output_type": "display_data",
          "data": {
            "text/latex": "$$\\left( - \\frac{3}{20}, \\  - \\frac{2}{5}\\right)$$",
            "text/plain": [
              "<IPython.core.display.Math object>"
            ]
          },
          "metadata": {}
        },
        {
          "output_type": "stream",
          "name": "stdout",
          "text": [
            "Считаем градиент в текущей точке:\n"
          ]
        },
        {
          "output_type": "display_data",
          "data": {
            "text/latex": "$$\\left[\\begin{matrix}\\frac{4}{5}\\\\\\frac{6}{5}\\end{matrix}\\right]$$",
            "text/plain": [
              "<IPython.core.display.Math object>"
            ]
          },
          "metadata": {}
        },
        {
          "output_type": "stream",
          "name": "stdout",
          "text": [
            "Проверяем критерий остановки: 1.4422205101855958 < 0.01?\n",
            "Нет, продолжаем алгоритм ---> ---> --->\n",
            "Находим d:\n"
          ]
        },
        {
          "output_type": "display_data",
          "data": {
            "text/latex": "$$\\left[\\begin{matrix}\\frac{4}{5}\\\\\\frac{6}{5}\\end{matrix}\\right]$$",
            "text/plain": [
              "<IPython.core.display.Math object>"
            ]
          },
          "metadata": {}
        },
        {
          "output_type": "stream",
          "name": "stdout",
          "text": [
            "Сделаем шаг:\n"
          ]
        },
        {
          "output_type": "display_data",
          "data": {
            "text/latex": "$$\\left[\\begin{matrix}- \\frac{4 l}{5} - \\frac{3}{20}\\\\- \\frac{6 l}{5} - \\frac{2}{5}\\end{matrix}\\right]$$",
            "text/plain": [
              "<IPython.core.display.Math object>"
            ]
          },
          "metadata": {}
        },
        {
          "output_type": "stream",
          "name": "stdout",
          "text": [
            "Подставляем получившуюся точку в исходное выражение:\n"
          ]
        },
        {
          "output_type": "display_data",
          "data": {
            "text/latex": "$$- 4 l + \\left(- \\frac{6 l}{5} - \\frac{2}{5}\\right)^{2} + 4 \\left(- \\frac{4 l}{5} - \\frac{3}{20}\\right)^{2} - \\frac{21}{10}$$",
            "text/plain": [
              "<IPython.core.display.Math object>"
            ]
          },
          "metadata": {}
        },
        {
          "output_type": "stream",
          "name": "stdout",
          "text": [
            "Дифференцируем по l:\n"
          ]
        },
        {
          "output_type": "display_data",
          "data": {
            "text/latex": "$$8 l - \\frac{52}{25}$$",
            "text/plain": [
              "<IPython.core.display.Math object>"
            ]
          },
          "metadata": {}
        },
        {
          "output_type": "stream",
          "name": "stdout",
          "text": [
            "Приравниваем к 0 и находим l (тем самым выбрав минимальное направление):\n"
          ]
        },
        {
          "output_type": "display_data",
          "data": {
            "text/latex": "$$\\frac{13}{50}$$",
            "text/plain": [
              "<IPython.core.display.Math object>"
            ]
          },
          "metadata": {}
        },
        {
          "output_type": "stream",
          "name": "stdout",
          "text": [
            "Подставляем l в точку выше, тем самым получая новую точку для продолжения алгоритма:\n"
          ]
        },
        {
          "output_type": "display_data",
          "data": {
            "text/latex": "$$\\left( - \\frac{39}{100}, \\  - \\frac{19}{25}\\right)$$",
            "text/plain": [
              "<IPython.core.display.Math object>"
            ]
          },
          "metadata": {}
        },
        {
          "output_type": "stream",
          "name": "stdout",
          "text": [
            "Шаг 1 --------------------------------------------------------------------------------------------------\n",
            "Текущая точка:\n"
          ]
        },
        {
          "output_type": "display_data",
          "data": {
            "text/latex": "$$\\left( - \\frac{39}{100}, \\  - \\frac{19}{25}\\right)$$",
            "text/plain": [
              "<IPython.core.display.Math object>"
            ]
          },
          "metadata": {}
        },
        {
          "output_type": "stream",
          "name": "stdout",
          "text": [
            "Считаем градиент в текущей точке:\n"
          ]
        },
        {
          "output_type": "display_data",
          "data": {
            "text/latex": "$$\\left[\\begin{matrix}- \\frac{28}{25}\\\\\\frac{12}{25}\\end{matrix}\\right]$$",
            "text/plain": [
              "<IPython.core.display.Math object>"
            ]
          },
          "metadata": {}
        },
        {
          "output_type": "stream",
          "name": "stdout",
          "text": [
            "Проверяем критерий остановки: 1.2185236969382254 < 0.01?\n",
            "Нет, продолжаем алгоритм ---> ---> --->\n",
            "Находим b:\n"
          ]
        },
        {
          "output_type": "display_data",
          "data": {
            "text/latex": "$$\\frac{61}{72}$$",
            "text/plain": [
              "<IPython.core.display.Math object>"
            ]
          },
          "metadata": {}
        },
        {
          "output_type": "stream",
          "name": "stdout",
          "text": [
            "Находим d:\n"
          ]
        },
        {
          "output_type": "display_data",
          "data": {
            "text/latex": "$$\\left[\\begin{matrix}- \\frac{199}{450}\\\\\\frac{449}{300}\\end{matrix}\\right]$$",
            "text/plain": [
              "<IPython.core.display.Math object>"
            ]
          },
          "metadata": {}
        },
        {
          "output_type": "stream",
          "name": "stdout",
          "text": [
            "Сделаем шаг:\n"
          ]
        },
        {
          "output_type": "display_data",
          "data": {
            "text/latex": "$$\\left[\\begin{matrix}\\frac{199 l}{450} - \\frac{39}{100}\\\\- \\frac{449 l}{300} - \\frac{19}{25}\\end{matrix}\\right]$$",
            "text/plain": [
              "<IPython.core.display.Math object>"
            ]
          },
          "metadata": {}
        },
        {
          "output_type": "stream",
          "name": "stdout",
          "text": [
            "Подставляем получившуюся точку в исходное выражение:\n"
          ]
        },
        {
          "output_type": "display_data",
          "data": {
            "text/latex": "$$- \\frac{949 l}{450} + \\left(- \\frac{449 l}{300} - \\frac{19}{25}\\right)^{2} + 4 \\left(\\frac{199 l}{450} - \\frac{39}{100}\\right)^{2} - \\frac{33}{10}$$",
            "text/plain": [
              "<IPython.core.display.Math object>"
            ]
          },
          "metadata": {}
        },
        {
          "output_type": "stream",
          "name": "stdout",
          "text": [
            "Дифференцируем по l:\n"
          ]
        },
        {
          "output_type": "display_data",
          "data": {
            "text/latex": "$$\\frac{97921 l}{16200} - \\frac{6827}{5625}$$",
            "text/plain": [
              "<IPython.core.display.Math object>"
            ]
          },
          "metadata": {}
        },
        {
          "output_type": "stream",
          "name": "stdout",
          "text": [
            "Приравниваем к 0 и находим l (тем самым выбрав минимальное направление):\n"
          ]
        },
        {
          "output_type": "display_data",
          "data": {
            "text/latex": "$$\\frac{491544}{2448025}$$",
            "text/plain": [
              "<IPython.core.display.Math object>"
            ]
          },
          "metadata": {}
        },
        {
          "output_type": "stream",
          "name": "stdout",
          "text": [
            "Подставляем l в точку выше, тем самым получая новую точку для продолжения алгоритма:\n"
          ]
        },
        {
          "output_type": "display_data",
          "data": {
            "text/latex": "$$\\left( - \\frac{1357}{4500}, \\  - \\frac{1589}{1500}\\right)$$",
            "text/plain": [
              "<IPython.core.display.Math object>"
            ]
          },
          "metadata": {}
        },
        {
          "output_type": "stream",
          "name": "stdout",
          "text": [
            "Шаг 2 --------------------------------------------------------------------------------------------------\n",
            "Текущая точка:\n"
          ]
        },
        {
          "output_type": "display_data",
          "data": {
            "text/latex": "$$\\left( - \\frac{1357}{4500}, \\  - \\frac{1589}{1500}\\right)$$",
            "text/plain": [
              "<IPython.core.display.Math object>"
            ]
          },
          "metadata": {}
        },
        {
          "output_type": "stream",
          "name": "stdout",
          "text": [
            "Считаем градиент в текущей точке:\n"
          ]
        },
        {
          "output_type": "display_data",
          "data": {
            "text/latex": "$$\\left[\\begin{matrix}- \\frac{464}{1125}\\\\- \\frac{89}{750}\\end{matrix}\\right]$$",
            "text/plain": [
              "<IPython.core.display.Math object>"
            ]
          },
          "metadata": {}
        },
        {
          "output_type": "stream",
          "name": "stdout",
          "text": [
            "Проверяем критерий остановки: 0.42917618472005664 < 0.01?\n",
            "Нет, продолжаем алгоритм ---> ---> --->\n",
            "Находим b:\n"
          ]
        },
        {
          "output_type": "display_data",
          "data": {
            "text/latex": "$$\\frac{43}{122}$$",
            "text/plain": [
              "<IPython.core.display.Math object>"
            ]
          },
          "metadata": {}
        },
        {
          "output_type": "stream",
          "name": "stdout",
          "text": [
            "Находим d:\n"
          ]
        },
        {
          "output_type": "display_data",
          "data": {
            "text/latex": "$$\\left[\\begin{matrix}- \\frac{55394}{68625}\\\\\\frac{2311}{45750}\\end{matrix}\\right]$$",
            "text/plain": [
              "<IPython.core.display.Math object>"
            ]
          },
          "metadata": {}
        },
        {
          "output_type": "stream",
          "name": "stdout",
          "text": [
            "Сделаем шаг:\n"
          ]
        },
        {
          "output_type": "display_data",
          "data": {
            "text/latex": "$$\\left[\\begin{matrix}\\frac{55394 l}{68625} - \\frac{1357}{4500}\\\\- \\frac{2311 l}{45750} - \\frac{1589}{1500}\\end{matrix}\\right]$$",
            "text/plain": [
              "<IPython.core.display.Math object>"
            ]
          },
          "metadata": {}
        },
        {
          "output_type": "stream",
          "name": "stdout",
          "text": [
            "Подставляем получившуюся точку в исходное выражение:\n"
          ]
        },
        {
          "output_type": "display_data",
          "data": {
            "text/latex": "$$\\frac{20771 l}{13725} + \\left(- \\frac{2311 l}{45750} - \\frac{1589}{1500}\\right)^{2} + 4 \\left(\\frac{55394 l}{68625} - \\frac{1357}{4500}\\right)^{2} - \\frac{4187}{1125}$$",
            "text/plain": [
              "<IPython.core.display.Math object>"
            ]
          },
          "metadata": {}
        },
        {
          "output_type": "stream",
          "name": "stdout",
          "text": [
            "Дифференцируем по l:\n"
          ]
        },
        {
          "output_type": "display_data",
          "data": {
            "text/latex": "$$\\frac{9828798053 l}{1883756250} - \\frac{100960153}{308812500}$$",
            "text/plain": [
              "<IPython.core.display.Math object>"
            ]
          },
          "metadata": {}
        },
        {
          "output_type": "stream",
          "name": "stdout",
          "text": [
            "Приравниваем к 0 и находим l (тем самым выбрав минимальное направление):\n"
          ]
        },
        {
          "output_type": "display_data",
          "data": {
            "text/latex": "$$\\frac{6158569333}{98287980530}$$",
            "text/plain": [
              "<IPython.core.display.Math object>"
            ]
          },
          "metadata": {}
        },
        {
          "output_type": "stream",
          "name": "stdout",
          "text": [
            "Подставляем l в точку выше, тем самым получая новую точку для продолжения алгоритма:\n"
          ]
        },
        {
          "output_type": "display_data",
          "data": {
            "text/latex": "$$\\left( - \\frac{303097}{1372500}, \\  - \\frac{121739}{114375}\\right)$$",
            "text/plain": [
              "<IPython.core.display.Math object>"
            ]
          },
          "metadata": {}
        },
        {
          "output_type": "stream",
          "name": "stdout",
          "text": [
            "Шаг 3 --------------------------------------------------------------------------------------------------\n",
            "Текущая точка:\n"
          ]
        },
        {
          "output_type": "display_data",
          "data": {
            "text/latex": "$$\\left( - \\frac{303097}{1372500}, \\  - \\frac{121739}{114375}\\right)$$",
            "text/plain": [
              "<IPython.core.display.Math object>"
            ]
          },
          "metadata": {}
        },
        {
          "output_type": "stream",
          "name": "stdout",
          "text": [
            "Считаем градиент в текущей точке:\n"
          ]
        },
        {
          "output_type": "display_data",
          "data": {
            "text/latex": "$$\\left[\\begin{matrix}\\frac{80056}{343125}\\\\- \\frac{14728}{114375}\\end{matrix}\\right]$$",
            "text/plain": [
              "<IPython.core.display.Math object>"
            ]
          },
          "metadata": {}
        },
        {
          "output_type": "stream",
          "name": "stdout",
          "text": [
            "Проверяем критерий остановки: 0.2664904549556572 < 0.01?\n",
            "Нет, продолжаем алгоритм ---> ---> --->\n",
            "Находим b:\n"
          ]
        },
        {
          "output_type": "display_data",
          "data": {
            "text/latex": "$$\\frac{27}{43}$$",
            "text/plain": [
              "<IPython.core.display.Math object>"
            ]
          },
          "metadata": {}
        },
        {
          "output_type": "stream",
          "name": "stdout",
          "text": [
            "Находим d:\n"
          ]
        },
        {
          "output_type": "display_data",
          "data": {
            "text/latex": "$$\\left[\\begin{matrix}- \\frac{378632}{14754375}\\\\- \\frac{1999523}{9836250}\\end{matrix}\\right]$$",
            "text/plain": [
              "<IPython.core.display.Math object>"
            ]
          },
          "metadata": {}
        },
        {
          "output_type": "stream",
          "name": "stdout",
          "text": [
            "Сделаем шаг:\n"
          ]
        },
        {
          "output_type": "display_data",
          "data": {
            "text/latex": "$$\\left[\\begin{matrix}\\frac{378632 l}{14754375} - \\frac{303097}{1372500}\\\\\\frac{1999523 l}{9836250} - \\frac{121739}{114375}\\end{matrix}\\right]$$",
            "text/plain": [
              "<IPython.core.display.Math object>"
            ]
          },
          "metadata": {}
        },
        {
          "output_type": "stream",
          "name": "stdout",
          "text": [
            "Подставляем получившуюся точку в исходное выражение:\n"
          ]
        },
        {
          "output_type": "display_data",
          "data": {
            "text/latex": "$$\\frac{6755833 l}{14754375} + 4 \\left(\\frac{378632 l}{14754375} - \\frac{303097}{1372500}\\right)^{2} + \\left(\\frac{1999523 l}{9836250} - \\frac{121739}{114375}\\right)^{2} - \\frac{490043}{137250}$$",
            "text/plain": [
              "<IPython.core.display.Math object>"
            ]
          },
          "metadata": {}
        },
        {
          "output_type": "stream",
          "name": "stdout",
          "text": [
            "Дифференцируем по l:\n"
          ]
        },
        {
          "output_type": "display_data",
          "data": {
            "text/latex": "$$\\frac{7655325022109 l}{87076632656250} - \\frac{1675551196}{82993359375}$$",
            "text/plain": [
              "<IPython.core.display.Math object>"
            ]
          },
          "metadata": {}
        },
        {
          "output_type": "stream",
          "name": "stdout",
          "text": [
            "Приравниваем к 0 и находим l (тем самым выбрав минимальное направление):\n"
          ]
        },
        {
          "output_type": "display_data",
          "data": {
            "text/latex": "$$\\frac{8789941574216}{38276625110545}$$",
            "text/plain": [
              "<IPython.core.display.Math object>"
            ]
          },
          "metadata": {}
        },
        {
          "output_type": "stream",
          "name": "stdout",
          "text": [
            "Подставляем l в точку выше, тем самым получая новую точку для продолжения алгоритма:\n"
          ]
        },
        {
          "output_type": "display_data",
          "data": {
            "text/latex": "$$\\left( - \\frac{21217109}{98362500}, \\  - \\frac{16782749}{16393750}\\right)$$",
            "text/plain": [
              "<IPython.core.display.Math object>"
            ]
          },
          "metadata": {}
        },
        {
          "output_type": "stream",
          "name": "stdout",
          "text": [
            "Шаг 4 --------------------------------------------------------------------------------------------------\n",
            "Текущая точка:\n"
          ]
        },
        {
          "output_type": "display_data",
          "data": {
            "text/latex": "$$\\left( - \\frac{21217109}{98362500}, \\  - \\frac{16782749}{16393750}\\right)$$",
            "text/plain": [
              "<IPython.core.display.Math object>"
            ]
          },
          "metadata": {}
        },
        {
          "output_type": "stream",
          "name": "stdout",
          "text": [
            "Считаем градиент в текущей точке:\n"
          ]
        },
        {
          "output_type": "display_data",
          "data": {
            "text/latex": "$$\\left[\\begin{matrix}\\frac{6747032}{24590625}\\\\- \\frac{388999}{8196875}\\end{matrix}\\right]$$",
            "text/plain": [
              "<IPython.core.display.Math object>"
            ]
          },
          "metadata": {}
        },
        {
          "output_type": "stream",
          "name": "stdout",
          "text": [
            "Проверяем критерий остановки: 0.2784480986769098 < 0.01?\n",
            "Нет, продолжаем алгоритм ---> ---> --->\n",
            "Находим b:\n"
          ]
        },
        {
          "output_type": "display_data",
          "data": {
            "text/latex": "$$\\frac{7881299347898369}{7599824371187712}$$",
            "text/plain": [
              "<IPython.core.display.Math object>"
            ]
          },
          "metadata": {}
        },
        {
          "output_type": "stream",
          "name": "stdout",
          "text": [
            "Находим d:\n"
          ]
        },
        {
          "output_type": "display_data",
          "data": {
            "text/latex": "$$\\left[\\begin{matrix}\\frac{36185251788543844471889}{70081661691651686400000}\\\\- \\frac{4228158031601261218343}{23360553897217228800000}\\end{matrix}\\right]$$",
            "text/plain": [
              "<IPython.core.display.Math object>"
            ]
          },
          "metadata": {}
        },
        {
          "output_type": "stream",
          "name": "stdout",
          "text": [
            "Сделаем шаг:\n"
          ]
        },
        {
          "output_type": "display_data",
          "data": {
            "text/latex": "$$\\left[\\begin{matrix}- \\frac{36185251788543844471889 l}{70081661691651686400000} - \\frac{21217109}{98362500}\\\\\\frac{4228158031601261218343 l}{23360553897217228800000} - \\frac{16782749}{16393750}\\end{matrix}\\right]$$",
            "text/plain": [
              "<IPython.core.display.Math object>"
            ]
          },
          "metadata": {}
        },
        {
          "output_type": "stream",
          "name": "stdout",
          "text": [
            "Подставляем получившуюся точку в исходное выражение:\n"
          ]
        },
        {
          "output_type": "display_data",
          "data": {
            "text/latex": "$$- \\frac{1175038884687003040843 l}{1752041542291292160000} + 4 \\left(- \\frac{36185251788543844471889 l}{70081661691651686400000} - \\frac{21217109}{98362500}\\right)^{2} + \\left(\\frac{4228158031601261218343 l}{23360553897217228800000} - \\frac{16782749}{16393750}\\right)^{2} - \\frac{171094853}{49181250}$$",
            "text/plain": [
              "<IPython.core.display.Math object>"
            ]
          },
          "metadata": {}
        },
        {
          "output_type": "stream",
          "name": "stdout",
          "text": [
            "Дифференцируем по l:\n"
          ]
        },
        {
          "output_type": "display_data",
          "data": {
            "text/latex": "$$\\frac{43187085368504081981625151407521733437775233 l}{19645757221852478044433104399855779840000000} - \\frac{258945794960576283168926061361}{1723351862036272250880000000000}$$",
            "text/plain": [
              "<IPython.core.display.Math object>"
            ]
          },
          "metadata": {}
        },
        {
          "output_type": "stream",
          "name": "stdout",
          "text": [
            "Приравниваем к 0 и находим l (тем самым выбрав минимальное направление):\n"
          ]
        },
        {
          "output_type": "display_data",
          "data": {
            "text/latex": "$$\\frac{368989230629618222642895203680232752080224256}{5398385671063010247703143925940216679721904125}$$",
            "text/plain": [
              "<IPython.core.display.Math object>"
            ]
          },
          "metadata": {}
        },
        {
          "output_type": "stream",
          "name": "stdout",
          "text": [
            "Подставляем l в точку выше, тем самым получая новую точку для продолжения алгоритма:\n"
          ]
        },
        {
          "output_type": "display_data",
          "data": {
            "text/latex": "$$\\left( - \\frac{187353659973868355376209}{700816616916516864000000}, \\  - \\frac{234920488591635368244697}{233605538972172288000000}\\right)$$",
            "text/plain": [
              "<IPython.core.display.Math object>"
            ]
          },
          "metadata": {}
        },
        {
          "output_type": "stream",
          "name": "stdout",
          "text": [
            "Шаг 5 --------------------------------------------------------------------------------------------------\n",
            "Текущая точка:\n"
          ]
        },
        {
          "output_type": "display_data",
          "data": {
            "text/latex": "$$\\left( - \\frac{187353659973868355376209}{700816616916516864000000}, \\  - \\frac{234920488591635368244697}{233605538972172288000000}\\right)$$",
            "text/plain": [
              "<IPython.core.display.Math object>"
            ]
          },
          "metadata": {}
        },
        {
          "output_type": "stream",
          "name": "stdout",
          "text": [
            "Считаем градиент в текущей точке:\n"
          ]
        },
        {
          "output_type": "display_data",
          "data": {
            "text/latex": "$$\\left[\\begin{matrix}- \\frac{12149505744739139376209}{87602077114564608000000}\\\\- \\frac{1314949619463080244697}{116802769486086144000000}\\end{matrix}\\right]$$",
            "text/plain": [
              "<IPython.core.display.Math object>"
            ]
          },
          "metadata": {}
        },
        {
          "output_type": "stream",
          "name": "stdout",
          "text": [
            "Проверяем критерий остановки: 0.13914586668813314 < 0.01?\n",
            "Нет, продолжаем алгоритм ---> ---> --->\n",
            "Находим b:\n"
          ]
        },
        {
          "output_type": "display_data",
          "data": {
            "text/latex": "$$\\frac{1}{2}$$",
            "text/plain": [
              "<IPython.core.display.Math object>"
            ]
          },
          "metadata": {}
        },
        {
          "output_type": "stream",
          "name": "stdout",
          "text": [
            "Находим d:\n"
          ]
        },
        {
          "output_type": "display_data",
          "data": {
            "text/latex": "$$\\left[\\begin{matrix}- \\frac{131632722836786828369}{87602077114564608000000}\\\\- \\frac{4086503444995250976217}{116802769486086144000000}\\end{matrix}\\right]$$",
            "text/plain": [
              "<IPython.core.display.Math object>"
            ]
          },
          "metadata": {}
        },
        {
          "output_type": "stream",
          "name": "stdout",
          "text": [
            "Сделаем шаг:\n"
          ]
        },
        {
          "output_type": "display_data",
          "data": {
            "text/latex": "$$\\left[\\begin{matrix}\\frac{131632722836786828369 l}{87602077114564608000000} - \\frac{187353659973868355376209}{700816616916516864000000}\\\\\\frac{4086503444995250976217 l}{116802769486086144000000} - \\frac{234920488591635368244697}{233605538972172288000000}\\end{matrix}\\right]$$",
            "text/plain": [
              "<IPython.core.display.Math object>"
            ]
          },
          "metadata": {}
        },
        {
          "output_type": "stream",
          "name": "stdout",
          "text": [
            "Подставляем получившуюся точку в исходное выражение:\n"
          ]
        },
        {
          "output_type": "display_data",
          "data": {
            "text/latex": "$$\\frac{297349795961230238189 l}{4074515214630912000000} + 4 \\left(\\frac{131632722836786828369 l}{87602077114564608000000} - \\frac{187353659973868355376209}{700816616916516864000000}\\right)^{2} + \\left(\\frac{4086503444995250976217 l}{116802769486086144000000} - \\frac{234920488591635368244697}{233605538972172288000000}\\right)^{2} - \\frac{12425234342070328921103}{3504083084582584320000}$$",
            "text/plain": [
              "<IPython.core.display.Math object>"
            ]
          },
          "metadata": {}
        },
        {
          "output_type": "stream",
          "name": "stdout",
          "text": [
            "Дифференцируем по l:\n"
          ]
        },
        {
          "output_type": "display_data",
          "data": {
            "text/latex": "$$\\frac{30280906554358754757354269784230888068298021 l}{12278598263657798777770690249909862400000000000} - \\frac{73950275706198789279948827928925591664311177}{122785982636577987777706902499098624000000000000}$$",
            "text/plain": [
              "<IPython.core.display.Math object>"
            ]
          },
          "metadata": {}
        },
        {
          "output_type": "stream",
          "name": "stdout",
          "text": [
            "Приравниваем к 0 и находим l (тем самым выбрав минимальное направление):\n"
          ]
        },
        {
          "output_type": "display_data",
          "data": {
            "text/latex": "$$\\frac{73950275706198789279948827928925591664311177}{302809065543587547573542697842308880682980210}$$",
            "text/plain": [
              "<IPython.core.display.Math object>"
            ]
          },
          "metadata": {}
        },
        {
          "output_type": "stream",
          "name": "stdout",
          "text": [
            "Подставляем l в точку выше, тем самым получая новую точку для продолжения алгоритма:\n"
          ]
        },
        {
          "output_type": "display_data",
          "data": {
            "text/latex": "$$\\left( - \\frac{311905079362215827418031}{1168027694860861440000000}, \\  - \\frac{388809812022728779757017}{389342564953620480000000}\\right)$$",
            "text/plain": [
              "<IPython.core.display.Math object>"
            ]
          },
          "metadata": {}
        },
        {
          "output_type": "stream",
          "name": "stdout",
          "text": [
            "Шаг 6 --------------------------------------------------------------------------------------------------\n",
            "Текущая точка:\n"
          ]
        },
        {
          "output_type": "display_data",
          "data": {
            "text/latex": "$$\\left( - \\frac{311905079362215827418031}{1168027694860861440000000}, \\  - \\frac{388809812022728779757017}{389342564953620480000000}\\right)$$",
            "text/plain": [
              "<IPython.core.display.Math object>"
            ]
          },
          "metadata": {}
        },
        {
          "output_type": "stream",
          "name": "stdout",
          "text": [
            "Считаем градиент в текущей точке:\n"
          ]
        },
        {
          "output_type": "display_data",
          "data": {
            "text/latex": "$$\\left[\\begin{matrix}- \\frac{19898155647000467418031}{146003461857607680000000}\\\\\\frac{532752930891700242983}{194671282476810240000000}\\end{matrix}\\right]$$",
            "text/plain": [
              "<IPython.core.display.Math object>"
            ]
          },
          "metadata": {}
        },
        {
          "output_type": "stream",
          "name": "stdout",
          "text": [
            "Проверяем критерий остановки: 0.13631297995778174 < 0.01?\n",
            "Нет, продолжаем алгоритм ---> ---> --->\n",
            "Находим b:\n"
          ]
        },
        {
          "output_type": "display_data",
          "data": {
            "text/latex": "$$1$$",
            "text/plain": [
              "<IPython.core.display.Math object>"
            ]
          },
          "metadata": {}
        },
        {
          "output_type": "stream",
          "name": "stdout",
          "text": [
            "Находим d:\n"
          ]
        },
        {
          "output_type": "display_data",
          "data": {
            "text/latex": "$$\\left[\\begin{matrix}- \\frac{60220997832348549567569}{219005192786411520000000}\\\\- \\frac{622061163080037561817}{73001730928803840000000}\\end{matrix}\\right]$$",
            "text/plain": [
              "<IPython.core.display.Math object>"
            ]
          },
          "metadata": {}
        },
        {
          "output_type": "stream",
          "name": "stdout",
          "text": [
            "Сделаем шаг:\n"
          ]
        },
        {
          "output_type": "display_data",
          "data": {
            "text/latex": "$$\\left[\\begin{matrix}\\frac{60220997832348549567569 l}{219005192786411520000000} - \\frac{311905079362215827418031}{1168027694860861440000000}\\\\\\frac{622061163080037561817 l}{73001730928803840000000} - \\frac{388809812022728779757017}{389342564953620480000000}\\end{matrix}\\right]$$",
            "text/plain": [
              "<IPython.core.display.Math object>"
            ]
          },
          "metadata": {}
        },
        {
          "output_type": "stream",
          "name": "stdout",
          "text": [
            "Подставляем получившуюся точку в исходное выражение:\n"
          ]
        },
        {
          "output_type": "display_data",
          "data": {
            "text/latex": "$$\\frac{3104359066079433112651 l}{5475129819660288000000} + \\left(\\frac{622061163080037561817 l}{73001730928803840000000} - \\frac{388809812022728779757017}{389342564953620480000000}\\right)^{2} + 4 \\left(\\frac{60220997832348549567569 l}{219005192786411520000000} - \\frac{311905079362215827418031}{1168027694860861440000000}\\right)^{2} - \\frac{1031174181430416443344541}{292006923715215360000000}$$",
            "text/plain": [
              "<IPython.core.display.Math object>"
            ]
          },
          "metadata": {}
        },
        {
          "output_type": "stream",
          "name": "stdout",
          "text": [
            "Дифференцируем по l:\n"
          ]
        },
        {
          "output_type": "display_data",
          "data": {
            "text/latex": "$$\\frac{2901951392102085444939811621365253327690670489 l}{4796327446741327647566675878871040000000000000} - \\frac{4790164508172573687589125248549919443966925557}{127902065246435403935111356769894400000000000000}$$",
            "text/plain": [
              "<IPython.core.display.Math object>"
            ]
          },
          "metadata": {}
        },
        {
          "output_type": "stream",
          "name": "stdout",
          "text": [
            "Приравниваем к 0 и находим l (тем самым выбрав минимальное направление):\n"
          ]
        },
        {
          "output_type": "display_data",
          "data": {
            "text/latex": "$$\\frac{14370493524517721062767375745649758331900776671}{232156111368166835595184929709220266215253639120}$$",
            "text/plain": [
              "<IPython.core.display.Math object>"
            ]
          },
          "metadata": {}
        },
        {
          "output_type": "stream",
          "name": "stdout",
          "text": [
            "Подставляем l в точку выше, тем самым получая новую точку для продолжения алгоритма:\n"
          ]
        },
        {
          "output_type": "display_data",
          "data": {
            "text/latex": "$$\\left( - \\frac{97600190878475558482091}{407451521463091200000000}, \\  - \\frac{5827170691036291395860719}{5840138474304307200000000}\\right)$$",
            "text/plain": [
              "<IPython.core.display.Math object>"
            ]
          },
          "metadata": {}
        },
        {
          "output_type": "stream",
          "name": "stdout",
          "text": [
            "Шаг 7 --------------------------------------------------------------------------------------------------\n",
            "Текущая точка:\n"
          ]
        },
        {
          "output_type": "display_data",
          "data": {
            "text/latex": "$$\\left( - \\frac{97600190878475558482091}{407451521463091200000000}, \\  - \\frac{5827170691036291395860719}{5840138474304307200000000}\\right)$$",
            "text/plain": [
              "<IPython.core.display.Math object>"
            ]
          },
          "metadata": {}
        },
        {
          "output_type": "stream",
          "name": "stdout",
          "text": [
            "Считаем градиент в текущей точке:\n"
          ]
        },
        {
          "output_type": "display_data",
          "data": {
            "text/latex": "$$\\left[\\begin{matrix}\\frac{4262689487297241517909}{50931440182886400000000}\\\\\\frac{12967783268015804139281}{2920069237152153600000000}\\end{matrix}\\right]$$",
            "text/plain": [
              "<IPython.core.display.Math object>"
            ]
          },
          "metadata": {}
        },
        {
          "output_type": "stream",
          "name": "stdout",
          "text": [
            "Проверяем критерий остановки: 0.08381239515013582 < 0.01?\n",
            "Нет, продолжаем алгоритм ---> ---> --->\n",
            "Находим b:\n"
          ]
        },
        {
          "output_type": "display_data",
          "data": {
            "text/latex": "$$\\frac{4503599627370496}{7881299347898369}$$",
            "text/plain": [
              "<IPython.core.display.Math object>"
            ]
          },
          "metadata": {}
        },
        {
          "output_type": "stream",
          "name": "stdout",
          "text": [
            "Находим d:\n"
          ]
        },
        {
          "output_type": "display_data",
          "data": {
            "text/latex": "$$\\left[\\begin{matrix}\\frac{1646032382506142766517466774961878483}{282958275917033065424198880460800000000}\\\\\\frac{138192570329566349958964825406787176209}{23013939774585355987834842277478400000000}\\end{matrix}\\right]$$",
            "text/plain": [
              "<IPython.core.display.Math object>"
            ]
          },
          "metadata": {}
        },
        {
          "output_type": "stream",
          "name": "stdout",
          "text": [
            "Сделаем шаг:\n"
          ]
        },
        {
          "output_type": "display_data",
          "data": {
            "text/latex": "$$\\left[\\begin{matrix}- \\frac{1646032382506142766517466774961878483 l}{282958275917033065424198880460800000000} - \\frac{97600190878475558482091}{407451521463091200000000}\\\\- \\frac{138192570329566349958964825406787176209 l}{23013939774585355987834842277478400000000} - \\frac{5827170691036291395860719}{5840138474304307200000000}\\end{matrix}\\right]$$",
            "text/plain": [
              "<IPython.core.display.Math object>"
            ]
          },
          "metadata": {}
        },
        {
          "output_type": "stream",
          "name": "stdout",
          "text": [
            "Подставляем получившуюся точку в исходное выражение:\n"
          ]
        },
        {
          "output_type": "display_data",
          "data": {
            "text/latex": "$$- \\frac{816209612320197884907156369311059878479 l}{34520909661878033981752263416217600000000} + \\left(- \\frac{138192570329566349958964825406787176209 l}{23013939774585355987834842277478400000000} - \\frac{5827170691036291395860719}{5840138474304307200000000}\\right)^{2} + 4 \\left(- \\frac{1646032382506142766517466774961878483 l}{282958275917033065424198880460800000000} - \\frac{97600190878475558482091}{407451521463091200000000}\\right)^{2} - \\frac{3043852799233978400231207}{876020771145646080000000}$$",
            "text/plain": [
              "<IPython.core.display.Math object>"
            ]
          },
          "metadata": {}
        },
        {
          "output_type": "stream",
          "name": "stdout",
          "text": [
            "Дифференцируем по l:\n"
          ]
        },
        {
          "output_type": "display_data",
          "data": {
            "text/latex": "$$\\frac{163421483023449707942256984531667690960536284550759869461462122710866258838549 l}{476677281553417679379394783768063103152894999531164229637876219904000000000000000} - \\frac{310597980085419716628840966075498284272303082856217986476000057}{604820678052951596138909576328380891069382037340160000000000000000}$$",
            "text/plain": [
              "<IPython.core.display.Math object>"
            ]
          },
          "metadata": {}
        },
        {
          "output_type": "stream",
          "name": "stdout",
          "text": [
            "Приравниваем к 0 и находим l (тем самым выбрав минимальное направление):\n"
          ]
        },
        {
          "output_type": "display_data",
          "data": {
            "text/latex": "$$\\frac{2447915657905769013659167772705809010387201975244222359945411776698520474207033}{1634214830234497079422569845316676909605362845507598694614621227108662588385490}$$",
            "text/plain": [
              "<IPython.core.display.Math object>"
            ]
          },
          "metadata": {}
        },
        {
          "output_type": "stream",
          "name": "stdout",
          "text": [
            "Подставляем l в точку выше, тем самым получая новую точку для продолжения алгоритма:\n"
          ]
        },
        {
          "output_type": "display_data",
          "data": {
            "text/latex": "$$\\left( - \\frac{34281197495181784240976566374452803261453}{138083638647512135927009053664870400000000}, \\  - \\frac{23170127139172755343955639849439426397969}{23013939774585355987834842277478400000000}\\right)$$",
            "text/plain": [
              "<IPython.core.display.Math object>"
            ]
          },
          "metadata": {}
        },
        {
          "output_type": "stream",
          "name": "stdout",
          "text": [
            "Шаг 8 --------------------------------------------------------------------------------------------------\n",
            "Текущая точка:\n"
          ]
        },
        {
          "output_type": "display_data",
          "data": {
            "text/latex": "$$\\left( - \\frac{34281197495181784240976566374452803261453}{138083638647512135927009053664870400000000}, \\  - \\frac{23170127139172755343955639849439426397969}{23013939774585355987834842277478400000000}\\right)$$",
            "text/plain": [
              "<IPython.core.display.Math object>"
            ]
          },
          "metadata": {}
        },
        {
          "output_type": "stream",
          "name": "stdout",
          "text": [
            "Считаем градиент в текущей точке:\n"
          ]
        },
        {
          "output_type": "display_data",
          "data": {
            "text/latex": "$$\\left[\\begin{matrix}\\frac{239712166696249740775697041764796738547}{17260454830939016990876131708108800000000}\\\\- \\frac{156187364587399356120797571961026397969}{11506969887292677993917421138739200000000}\\end{matrix}\\right]$$",
            "text/plain": [
              "<IPython.core.display.Math object>"
            ]
          },
          "metadata": {}
        },
        {
          "output_type": "stream",
          "name": "stdout",
          "text": [
            "Проверяем критерий остановки: 0.019419292254580858 < 0.01?\n",
            "Нет, продолжаем алгоритм ---> ---> --->\n",
            "Находим b:\n"
          ]
        },
        {
          "output_type": "display_data",
          "data": {
            "text/latex": "$$\\frac{1}{4}$$",
            "text/plain": [
              "<IPython.core.display.Math object>"
            ]
          },
          "metadata": {}
        },
        {
          "output_type": "stream",
          "name": "stdout",
          "text": [
            "Находим d:\n"
          ]
        },
        {
          "output_type": "display_data",
          "data": {
            "text/latex": "$$\\left[\\begin{matrix}\\frac{2403456537475745208969270888096078742291}{69041819323756067963504526832435200000000}\\\\- \\frac{1147295934885294511331081243389902451063}{92055759098341423951339369109913600000000}\\end{matrix}\\right]$$",
            "text/plain": [
              "<IPython.core.display.Math object>"
            ]
          },
          "metadata": {}
        },
        {
          "output_type": "stream",
          "name": "stdout",
          "text": [
            "Сделаем шаг:\n"
          ]
        },
        {
          "output_type": "display_data",
          "data": {
            "text/latex": "$$\\left[\\begin{matrix}- \\frac{2403456537475745208969270888096078742291 l}{69041819323756067963504526832435200000000} - \\frac{34281197495181784240976566374452803261453}{138083638647512135927009053664870400000000}\\\\\\frac{1147295934885294511331081243389902451063 l}{92055759098341423951339369109913600000000} - \\frac{23170127139172755343955639849439426397969}{23013939774585355987834842277478400000000}\\end{matrix}\\right]$$",
            "text/plain": [
              "<IPython.core.display.Math object>"
            ]
          },
          "metadata": {}
        },
        {
          "output_type": "stream",
          "name": "stdout",
          "text": [
            "Подставляем получившуюся точку в исходное выражение:\n"
          ]
        },
        {
          "output_type": "display_data",
          "data": {
            "text/latex": "$$- \\frac{246877533809883892075353592888584304639 l}{5523345545900485437080362146594816000000} + 4 \\left(- \\frac{2403456537475745208969270888096078742291 l}{69041819323756067963504526832435200000000} - \\frac{34281197495181784240976566374452803261453}{138083638647512135927009053664870400000000}\\right)^{2} + \\left(\\frac{1147295934885294511331081243389902451063 l}{92055759098341423951339369109913600000000} - \\frac{23170127139172755343955639849439426397969}{23013939774585355987834842277478400000000}\\right)^{2} - \\frac{242343779653974384268214932303524561649267}{69041819323756067963504526832435200000000}$$",
            "text/plain": [
              "<IPython.core.display.Math object>"
            ]
          },
          "metadata": {}
        },
        {
          "output_type": "stream",
          "name": "stdout",
          "text": [
            "Дифференцируем по l:\n"
          ]
        },
        {
          "output_type": "display_data",
          "data": {
            "text/latex": "$$\\frac{76309840924414476894538215288542169215434780395842963200104476960396904214381061 l}{7626836504854682870070316540289009650446319992498627674206019518464000000000000000} - \\frac{6221840349512752551195210123464619315184856904317729244940596519218068816148839}{9533545631068353587587895675361262063057899990623284592757524398080000000000000000}$$",
            "text/plain": [
              "<IPython.core.display.Math object>"
            ]
          },
          "metadata": {}
        },
        {
          "output_type": "stream",
          "name": "stdout",
          "text": [
            "Приравниваем к 0 и находим l (тем самым выбрав минимальное направление):\n"
          ]
        },
        {
          "output_type": "display_data",
          "data": {
            "text/latex": "$$\\frac{24887361398051010204780840493858477260739427617270916979762386076872275264595356}{381549204622072384472691076442710846077173901979214816000522384801984521071905305}$$",
            "text/plain": [
              "<IPython.core.display.Math object>"
            ]
          },
          "metadata": {}
        },
        {
          "output_type": "stream",
          "name": "stdout",
          "text": [
            "Подставляем l в точку выше, тем самым получая новую точку для продолжения алгоритма:\n"
          ]
        },
        {
          "output_type": "display_data",
          "data": {
            "text/latex": "$$\\left( - \\frac{237444595646700363953349867158961878483}{943194253056776884747329601536000000000}, \\  - \\frac{308552596544008306415631504244729051155899}{306852530327804746504464563699712000000000}\\right)$$",
            "text/plain": [
              "<IPython.core.display.Math object>"
            ]
          },
          "metadata": {}
        },
        {
          "output_type": "stream",
          "name": "stdout",
          "text": [
            "Шаг 9 --------------------------------------------------------------------------------------------------\n",
            "Текущая точка:\n"
          ]
        },
        {
          "output_type": "display_data",
          "data": {
            "text/latex": "$$\\left( - \\frac{237444595646700363953349867158961878483}{943194253056776884747329601536000000000}, \\  - \\frac{308552596544008306415631504244729051155899}{306852530327804746504464563699712000000000}\\right)$$",
            "text/plain": [
              "<IPython.core.display.Math object>"
            ]
          },
          "metadata": {}
        },
        {
          "output_type": "stream",
          "name": "stdout",
          "text": [
            "Считаем градиент в текущей точке:\n"
          ]
        },
        {
          "output_type": "display_data",
          "data": {
            "text/latex": "$$\\left[\\begin{matrix}- \\frac{1646032382506142766517466774961878483}{117899281632097110593416200192000000000}\\\\- \\frac{1700066216203559911166940545017051155899}{153426265163902373252232281849856000000000}\\end{matrix}\\right]$$",
            "text/plain": [
              "<IPython.core.display.Math object>"
            ]
          },
          "metadata": {}
        },
        {
          "output_type": "stream",
          "name": "stdout",
          "text": [
            "Проверяем критерий остановки: 0.017824152750136327 < 0.01?\n",
            "Нет, продолжаем алгоритм ---> ---> --->\n",
            "Находим b:\n"
          ]
        },
        {
          "output_type": "display_data",
          "data": {
            "text/latex": "$$1$$",
            "text/plain": [
              "<IPython.core.display.Math object>"
            ]
          },
          "metadata": {}
        },
        {
          "output_type": "stream",
          "name": "stdout",
          "text": [
            "Находим d:\n"
          ]
        },
        {
          "output_type": "display_data",
          "data": {
            "text/latex": "$$\\left[\\begin{matrix}- \\frac{6334870513247801212300470448111356821}{86302274154695084954380658540544000000000}\\\\- \\frac{11347693232106653978332724513492209386457}{460278795491707119756696845549568000000000}\\end{matrix}\\right]$$",
            "text/plain": [
              "<IPython.core.display.Math object>"
            ]
          },
          "metadata": {}
        },
        {
          "output_type": "stream",
          "name": "stdout",
          "text": [
            "Сделаем шаг:\n"
          ]
        },
        {
          "output_type": "display_data",
          "data": {
            "text/latex": "$$\\left[\\begin{matrix}\\frac{6334870513247801212300470448111356821 l}{86302274154695084954380658540544000000000} - \\frac{237444595646700363953349867158961878483}{943194253056776884747329601536000000000}\\\\\\frac{11347693232106653978332724513492209386457 l}{460278795491707119756696845549568000000000} - \\frac{308552596544008306415631504244729051155899}{306852530327804746504464563699712000000000}\\end{matrix}\\right]$$",
            "text/plain": [
              "<IPython.core.display.Math object>"
            ]
          },
          "metadata": {}
        },
        {
          "output_type": "stream",
          "name": "stdout",
          "text": [
            "Подставляем получившуюся точку в исходное выражение:\n"
          ]
        },
        {
          "output_type": "display_data",
          "data": {
            "text/latex": "$$\\frac{34144437624531926754394981067646409868507 l}{690418193237560679635045268324352000000000} + 4 \\left(\\frac{6334870513247801212300470448111356821 l}{86302274154695084954380658540544000000000} - \\frac{237444595646700363953349867158961878483}{943194253056776884747329601536000000000}\\right)^{2} + \\left(\\frac{11347693232106653978332724513492209386457 l}{460278795491707119756696845549568000000000} - \\frac{308552596544008306415631504244729051155899}{306852530327804746504464563699712000000000}\\right)^{2} - \\frac{323536502094982318844412165726180389373421}{92055759098341423951339369109913600000000}$$",
            "text/plain": [
              "<IPython.core.display.Math object>"
            ]
          },
          "metadata": {}
        },
        {
          "output_type": "stream",
          "name": "stdout",
          "text": [
            "Дифференцируем по l:\n"
          ]
        },
        {
          "output_type": "display_data",
          "data": {
            "text/latex": "$$\\frac{9271778951427504951817312926803311928765042801030341031117642111499119620788653 l}{7626836504854682870070316540289009650446319992498627674206019518464000000000000000} - \\frac{174277806300481427216509994589479301913607122344681078456945117893009863938704539}{635569708737890239172526378357417470870526666041552306183834959872000000000000000000}$$",
            "text/plain": [
              "<IPython.core.display.Math object>"
            ]
          },
          "metadata": {}
        },
        {
          "output_type": "stream",
          "name": "stdout",
          "text": [
            "Приравниваем к 0 и находим l (тем самым выбрав минимальное направление):\n"
          ]
        },
        {
          "output_type": "display_data",
          "data": {
            "text/latex": "$$\\frac{522833418901444281649529983768437905740821367034043235370835353679029591816113617}{2317944737856876237954328231700827982191260700257585257779410527874779905197163250}$$",
            "text/plain": [
              "<IPython.core.display.Math object>"
            ]
          },
          "metadata": {}
        },
        {
          "output_type": "stream",
          "name": "stdout",
          "text": [
            "Подставляем l в точку выше, тем самым получая новую точку для продолжения алгоритма:\n"
          ]
        },
        {
          "output_type": "display_data",
          "data": {
            "text/latex": "$$\\left( - \\frac{5052305471528007846857919244408230141821}{20070296315045368594042013614080000000000}, \\  - \\frac{4605593561695911288277807114643951348565571}{4602787954917071197566968455495680000000000}\\right)$$",
            "text/plain": [
              "<IPython.core.display.Math object>"
            ]
          },
          "metadata": {}
        },
        {
          "output_type": "stream",
          "name": "stdout",
          "text": [
            "Шаг 10 --------------------------------------------------------------------------------------------------\n",
            "Текущая точка:\n"
          ]
        },
        {
          "output_type": "display_data",
          "data": {
            "text/latex": "$$\\left( - \\frac{5052305471528007846857919244408230141821}{20070296315045368594042013614080000000000}, \\  - \\frac{4605593561695911288277807114643951348565571}{4602787954917071197566968455495680000000000}\\right)$$",
            "text/plain": [
              "<IPython.core.display.Math object>"
            ]
          },
          "metadata": {}
        },
        {
          "output_type": "stream",
          "name": "stdout",
          "text": [
            "Считаем градиент в текущей точке:\n"
          ]
        },
        {
          "output_type": "display_data",
          "data": {
            "text/latex": "$$\\left[\\begin{matrix}- \\frac{34731392766665698347415840888230141821}{2508787039380671074255251701760000000000}\\\\- \\frac{2805606778840090710838659148271348565571}{2301393977458535598783484227747840000000000}\\end{matrix}\\right]$$",
            "text/plain": [
              "<IPython.core.display.Math object>"
            ]
          },
          "metadata": {}
        },
        {
          "output_type": "stream",
          "name": "stdout",
          "text": [
            "Проверяем критерий остановки: 0.013897471082916163 < 0.01?\n",
            "Нет, продолжаем алгоритм ---> ---> --->\n",
            "Находим b:\n"
          ]
        },
        {
          "output_type": "display_data",
          "data": {
            "text/latex": "$$\\frac{1}{2}$$",
            "text/plain": [
              "<IPython.core.display.Math object>"
            ]
          },
          "metadata": {}
        },
        {
          "output_type": "stream",
          "name": "stdout",
          "text": [
            "Находим d:\n"
          ]
        },
        {
          "output_type": "display_data",
          "data": {
            "text/latex": "$$\\left[\\begin{matrix}- \\frac{4493019407926370689241244415477911008551}{215755685386737712385951646351360000000000}\\\\- \\frac{31112206800733580089181426471798464469627}{4602787954917071197566968455495680000000000}\\end{matrix}\\right]$$",
            "text/plain": [
              "<IPython.core.display.Math object>"
            ]
          },
          "metadata": {}
        },
        {
          "output_type": "stream",
          "name": "stdout",
          "text": [
            "Сделаем шаг:\n"
          ]
        },
        {
          "output_type": "display_data",
          "data": {
            "text/latex": "$$\\left[\\begin{matrix}\\frac{4493019407926370689241244415477911008551 l}{215755685386737712385951646351360000000000} - \\frac{5052305471528007846857919244408230141821}{20070296315045368594042013614080000000000}\\\\\\frac{31112206800733580089181426471798464469627 l}{4602787954917071197566968455495680000000000} - \\frac{4605593561695911288277807114643951348565571}{4602787954917071197566968455495680000000000}\\end{matrix}\\right]$$",
            "text/plain": [
              "<IPython.core.display.Math object>"
            ]
          },
          "metadata": {}
        },
        {
          "output_type": "stream",
          "name": "stdout",
          "text": [
            "Подставляем получившуюся точку в исходное выражение:\n"
          ]
        },
        {
          "output_type": "display_data",
          "data": {
            "text/latex": "$$\\frac{76177972501897692875796784401196339591229 l}{1380836386475121359270090536648704000000000} + \\left(\\frac{31112206800733580089181426471798464469627 l}{4602787954917071197566968455495680000000000} - \\frac{4605593561695911288277807114643951348565571}{4602787954917071197566968455495680000000000}\\right)^{2} + 4 \\left(\\frac{4493019407926370689241244415477911008551 l}{215755685386737712385951646351360000000000} - \\frac{5052305471528007846857919244408230141821}{20070296315045368594042013614080000000000}\\right)^{2} - \\frac{24196948781874610059822122467328236383269561}{6904181932375606796350452683243520000000000}$$",
            "text/plain": [
              "<IPython.core.display.Math object>"
            ]
          },
          "metadata": {}
        },
        {
          "output_type": "stream",
          "name": "stdout",
          "text": [
            "Дифференцируем по l:\n"
          ]
        },
        {
          "output_type": "display_data",
          "data": {
            "text/latex": "$$\\frac{67891838578750846936863464809540458355900751692235638571698296387999133262737842989 l}{19067091262136707175175791350722524126115799981246569185515048796160000000000000000000} - \\frac{28270164444559117510388161963204709803297609222361882638447921408045350234763059641}{95335456310683535875878956753612620630578999906232845927575243980800000000000000000000}$$",
            "text/plain": [
              "<IPython.core.display.Math object>"
            ]
          },
          "metadata": {}
        },
        {
          "output_type": "stream",
          "name": "stdout",
          "text": [
            "Приравниваем к 0 и находим l (тем самым выбрав минимальное направление):\n"
          ]
        },
        {
          "output_type": "display_data",
          "data": {
            "text/latex": "$$\\frac{28270164444559117510388161963204709803297609222361882638447921408045350234763059641}{339459192893754234684317324047702291779503758461178192858491481939995666313689214945}$$",
            "text/plain": [
              "<IPython.core.display.Math object>"
            ]
          },
          "metadata": {}
        },
        {
          "output_type": "stream",
          "name": "stdout",
          "text": [
            "Подставляем l в точку выше, тем самым получая новую точку для продолжения алгоритма:\n"
          ]
        },
        {
          "output_type": "display_data",
          "data": {
            "text/latex": "$$\\left( - \\frac{1077259637562668945695970148716813658474413}{4315113707734754247719032927027200000000000}, \\  - \\frac{1070344730468799518667183481859714302818281}{1070415803469086325015574059417600000000000}\\right)$$",
            "text/plain": [
              "<IPython.core.display.Math object>"
            ]
          },
          "metadata": {}
        },
        {
          "output_type": "stream",
          "name": "stdout",
          "text": [
            "Шаг 11 --------------------------------------------------------------------------------------------------\n",
            "Текущая точка:\n"
          ]
        },
        {
          "output_type": "display_data",
          "data": {
            "text/latex": "$$\\left( - \\frac{1077259637562668945695970148716813658474413}{4315113707734754247719032927027200000000000}, \\  - \\frac{1070344730468799518667183481859714302818281}{1070415803469086325015574059417600000000000}\\right)$$",
            "text/plain": [
              "<IPython.core.display.Math object>"
            ]
          },
          "metadata": {}
        },
        {
          "output_type": "stream",
          "name": "stdout",
          "text": [
            "Считаем градиент в текущей точке:\n"
          ]
        },
        {
          "output_type": "display_data",
          "data": {
            "text/latex": "$$\\left[\\begin{matrix}\\frac{1518789371019616233788083039986341525587}{539389213466844280964879115878400000000000}\\\\\\frac{71073000286806348390577557885697181719}{535207901734543162507787029708800000000000}\\end{matrix}\\right]$$",
            "text/plain": [
              "<IPython.core.display.Math object>"
            ]
          },
          "metadata": {}
        },
        {
          "output_type": "stream",
          "name": "stdout",
          "text": [
            "Проверяем критерий остановки: 0.0028188874377994286 < 0.01?\n",
            "Да, значит нашли точку минимума с точностью 0.01:\n"
          ]
        },
        {
          "output_type": "display_data",
          "data": {
            "text/latex": "$$\\left( -0.249648030278253, \\  -0.99993360243743\\right)$$",
            "text/plain": [
              "<IPython.core.display.Math object>"
            ]
          },
          "metadata": {}
        }
      ]
    }
  ]
}