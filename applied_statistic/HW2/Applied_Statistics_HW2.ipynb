{
  "nbformat": 4,
  "nbformat_minor": 0,
  "metadata": {
    "colab": {
      "provenance": []
    },
    "kernelspec": {
      "name": "ir",
      "display_name": "R"
    },
    "language_info": {
      "name": "R"
    }
  },
  "cells": [
    {
      "cell_type": "code",
      "source": [
        "install.packages(\"EnvStats\")\n",
        "library(EnvStats)"
      ],
      "metadata": {
        "colab": {
          "base_uri": "https://localhost:8080/"
        },
        "id": "2yNuOKSveqgi",
        "outputId": "b876f265-db8c-43f9-af13-979cd0a79a39"
      },
      "execution_count": 12,
      "outputs": [
        {
          "output_type": "stream",
          "name": "stderr",
          "text": [
            "Installing package into ‘/usr/local/lib/R/site-library’\n",
            "(as ‘lib’ is unspecified)\n",
            "\n",
            "also installing the dependency ‘nortest’\n",
            "\n",
            "\n",
            "\n",
            "Attaching package: ‘EnvStats’\n",
            "\n",
            "\n",
            "The following objects are masked from ‘package:stats’:\n",
            "\n",
            "    predict, predict.lm\n",
            "\n",
            "\n"
          ]
        }
      ]
    },
    {
      "cell_type": "code",
      "source": [
        "install.packages(\"nortest\")\n",
        "library(nortest)"
      ],
      "metadata": {
        "colab": {
          "base_uri": "https://localhost:8080/"
        },
        "id": "9b85SqR2Ul9s",
        "outputId": "b0ef5c3d-c4e7-4c13-943f-160d3fe4f78c"
      },
      "execution_count": 21,
      "outputs": [
        {
          "output_type": "stream",
          "name": "stderr",
          "text": [
            "Installing package into ‘/usr/local/lib/R/site-library’\n",
            "(as ‘lib’ is unspecified)\n",
            "\n"
          ]
        }
      ]
    },
    {
      "cell_type": "code",
      "source": [
        "install.packages(\"correlation\")\n",
        "library(correlation)"
      ],
      "metadata": {
        "colab": {
          "base_uri": "https://localhost:8080/"
        },
        "id": "Ln-6f_U6lUD5",
        "outputId": "8622a151-116e-45ce-f71d-980bd61439eb"
      },
      "execution_count": 87,
      "outputs": [
        {
          "output_type": "stream",
          "name": "stderr",
          "text": [
            "Installing package into ‘/usr/local/lib/R/site-library’\n",
            "(as ‘lib’ is unspecified)\n",
            "\n",
            "also installing the dependencies ‘bayestestR’, ‘datawizard’, ‘insight’, ‘parameters’\n",
            "\n",
            "\n"
          ]
        }
      ]
    },
    {
      "cell_type": "markdown",
      "source": [
        "# Task 1"
      ],
      "metadata": {
        "id": "R8UJjMr_WS8M"
      }
    },
    {
      "cell_type": "markdown",
      "source": [
        "## Test, that function in R works correctly"
      ],
      "metadata": {
        "id": "b2oOCYp0aYc8"
      }
    },
    {
      "cell_type": "code",
      "source": [
        "# generate normal distribution\n",
        "tmp = round(rnorm(1000, 5, 1)*100)\n",
        "hist(tmp)"
      ],
      "metadata": {
        "colab": {
          "base_uri": "https://localhost:8080/",
          "height": 437
        },
        "id": "-iB2eFt_Z-An",
        "outputId": "bcc89834-67ea-4cdf-ac49-22c49dfb8f2d"
      },
      "execution_count": 47,
      "outputs": [
        {
          "output_type": "display_data",
          "data": {
            "text/plain": [
              "Plot with title “Histogram of tmp”"
            ],
            "image/png": "[encoded data removed]"
          },
          "metadata": {
            "image/png": {
              "width": 420,
              "height": 420
            }
          }
        }
      ]
    },
    {
      "cell_type": "code",
      "source": [
        "# p-value tells us that it is not uniform distribution (i.e. we should reject null hypothesis)\n",
        "chisq.test(x=tmp)"
      ],
      "metadata": {
        "colab": {
          "base_uri": "https://localhost:8080/",
          "height": 104
        },
        "id": "4jAKKeGLahoz",
        "outputId": "12a9104e-19bb-4dd2-d6e6-6861d6548fc7"
      },
      "execution_count": 49,
      "outputs": [
        {
          "output_type": "display_data",
          "data": {
            "text/plain": [
              "\n",
              "\tChi-squared test for given probabilities\n",
              "\n",
              "data:  tmp\n",
              "X-squared = 19705, df = 999, p-value < 2.2e-16\n"
            ]
          },
          "metadata": {}
        }
      ]
    },
    {
      "cell_type": "code",
      "source": [
        "# it is obviously uniform distribution, thus p-value equals 1 (we can't reject null hypothesis)\n",
        "chisq.test(x=c(10, 10, 10, 10, 10, 10, 10, 10, 10, 10, 10, 10, 10, 10, 10, 10, 10, 10))"
      ],
      "metadata": {
        "colab": {
          "base_uri": "https://localhost:8080/",
          "height": 104
        },
        "id": "t6tUugHnbM5X",
        "outputId": "79f4664f-30e1-4347-986f-12c1257d7c2a"
      },
      "execution_count": 51,
      "outputs": [
        {
          "output_type": "display_data",
          "data": {
            "text/plain": [
              "\n",
              "\tChi-squared test for given probabilities\n",
              "\n",
              "data:  c(10, 10, 10, 10, 10, 10, 10, 10, 10, 10, 10, 10, 10, 10, 10,     10, 10, 10)\n",
              "X-squared = 0, df = 17, p-value = 1\n"
            ]
          },
          "metadata": {}
        }
      ]
    },
    {
      "cell_type": "markdown",
      "source": [
        "## Actual task"
      ],
      "metadata": {
        "id": "t70DLa7Pbhst"
      }
    },
    {
      "cell_type": "code",
      "execution_count": 52,
      "metadata": {
        "id": "r01YhEYwVvvi"
      },
      "outputs": [],
      "source": [
        "# data\n",
        "data = c(7, 12, 10, 17, 10, 13, 15)"
      ]
    },
    {
      "cell_type": "code",
      "source": [
        "# check mean > 5\n",
        "mean(data)"
      ],
      "metadata": {
        "colab": {
          "base_uri": "https://localhost:8080/",
          "height": 34
        },
        "id": "meD0vgNLZD1R",
        "outputId": "9973ba27-5c9e-4b45-d870-48be84958e65"
      },
      "execution_count": 38,
      "outputs": [
        {
          "output_type": "display_data",
          "data": {
            "text/html": [
              "12"
            ],
            "text/markdown": "12",
            "text/latex": "12",
            "text/plain": [
              "[1] 12"
            ]
          },
          "metadata": {}
        }
      ]
    },
    {
      "cell_type": "code",
      "source": [
        "# calculation statistics by hand\n",
        "sum((data - mean(data))^2 / mean(data))"
      ],
      "metadata": {
        "colab": {
          "base_uri": "https://localhost:8080/",
          "height": 34
        },
        "id": "G-TVgsnsSDFs",
        "outputId": "bbb951ad-4e00-4648-e444-6f2f0c2b9e6e"
      },
      "execution_count": 53,
      "outputs": [
        {
          "output_type": "display_data",
          "data": {
            "text/html": [
              "5.66666666666667"
            ],
            "text/markdown": "5.66666666666667",
            "text/latex": "5.66666666666667",
            "text/plain": [
              "[1] 5.666667"
            ]
          },
          "metadata": {}
        }
      ]
    },
    {
      "cell_type": "code",
      "source": [
        "# final answer\n",
        "chisq.test(x=data)"
      ],
      "metadata": {
        "colab": {
          "base_uri": "https://localhost:8080/",
          "height": 104
        },
        "id": "JoJ29nKHXB0L",
        "outputId": "90041b36-95c0-459a-98f3-fb74c55de946"
      },
      "execution_count": 55,
      "outputs": [
        {
          "output_type": "display_data",
          "data": {
            "text/plain": [
              "\n",
              "\tChi-squared test for given probabilities\n",
              "\n",
              "data:  data\n",
              "X-squared = 5.6667, df = 6, p-value = 0.4615\n"
            ]
          },
          "metadata": {}
        }
      ]
    },
    {
      "cell_type": "markdown",
      "source": [
        "# Task 2"
      ],
      "metadata": {
        "id": "Ls7dw00_qCO-"
      }
    },
    {
      "cell_type": "code",
      "source": [
        "# define starting parameters\n",
        "n = 1000 # num items\n",
        "p.value = 0 # initial p-value\n",
        "p = 0.25 # correlation according to the task\n",
        "\n",
        "\n",
        "while (p.value < 0.05){\n",
        "    t_score = p * sqrt((n-2)/(1-p^2)) # calculate statistic\n",
        "    p.value = pt(q=t_score, df=n-2, lower.tail=F) # compute p-value\n",
        "    print(paste(t_score, n, p.value))\n",
        "    n = n - 1\n",
        "}"
      ],
      "metadata": {
        "colab": {
          "base_uri": "https://localhost:8080/"
        },
        "id": "LREEVnHoCiYE",
        "outputId": "12d2ecb7-32e7-44bc-d45e-abd1a7aa6b46"
      },
      "execution_count": 14,
      "outputs": [
        {
          "output_type": "stream",
          "name": "stdout",
          "text": [
            "[1] \"8.15679675689749 1000 5.13660228511415e-16\"\n",
            "[1] \"8.15270916117254 999 5.30764422520783e-16\"\n",
            "[1] \"8.14861951498535 998 5.48438423871528e-16\"\n",
            "[1] \"8.14452781524708 997 5.66701224270943e-16\"\n",
            "[1] \"8.14043405886115 996 5.85572448746485e-16\"\n",
            "[1] \"8.1363382427232 995 6.05072376776824e-16\"\n",
            "[1] \"8.13224036372102 994 6.25221964128249e-16\"\n",
            "[1] \"8.12814041873457 993 6.46042865420192e-16\"\n",
            "[1] \"8.12403840463596 992 6.6755745744404e-16\"\n",
            "[1] \"8.11993431828936 991 6.89788863260546e-16\"\n",
            "[1] \"8.11582815655104 990 7.1276097710176e-16\"\n",
            "[1] \"8.1117199162693 989 7.36498490104392e-16\"\n",
            "[1] \"8.10760959428445 988 7.61026916902445e-16\"\n",
            "[1] \"8.10349718742881 987 7.8637262310764e-16\"\n",
            "[1] \"8.09938269252663 986 8.12562853707575e-16\"\n",
            "[1] \"8.09526610639412 985 8.39625762411922e-16\"\n",
            "[1] \"8.09114742583935 984 8.67590441978832e-16\"\n",
            "[1] \"8.08702664766229 983 8.96486955553663e-16\"\n",
            "[1] \"8.08290376865476 982 9.26346369054469e-16\"\n",
            "[1] \"8.07877878560037 981 9.57200784638884e-16\"\n",
            "[1] \"8.07465169527454 980 9.89083375288472e-16\"\n",
            "[1] \"8.07052249444442 979 1.02202842054827e-15\"\n",
            "[1] \"8.06639117986889 978 1.0560713434597e-15\"\n",
            "[1] \"8.06225774829855 977 1.09124874872694e-15\"\n",
            "[1] \"8.05812219647564 976 1.12759846215795e-15\"\n",
            "[1] \"8.05398452113404 975 1.16515957142284e-15\"\n",
            "[1] \"8.04984471899924 974 1.20397246817327e-15\"\n",
            "[1] \"8.04570278678832 973 1.24407889156891e-15\"\n",
            "[1] \"8.04155872120988 972 1.2855219732574e-15\"\n",
            "[1] \"8.03741251896405 971 1.32834628385686e-15\"\n",
            "[1] \"8.03326417674244 970 1.37259788099085e-15\"\n",
            "[1] \"8.02911369122811 969 1.41832435892794e-15\"\n",
            "[1] \"8.02496105909555 968 1.46557489987919e-15\"\n",
            "[1] \"8.02080627701064 967 1.51440032700937e-15\"\n",
            "[1] \"8.01664934163062 966 1.56485315921865e-15\"\n",
            "[1] \"8.01249024960405 965 1.61698766775466e-15\"\n",
            "[1] \"8.0083289975708 964 1.67085993471547e-15\"\n",
            "[1] \"8.004165582162 963 1.72652791350683e-15\"\n",
            "[1] \"8 962 1.78405149131949e-15\"\n",
            "[1] \"7.99583224769838 961 1.84349255369332e-15\"\n",
            "[1] \"7.99166232186187 960 1.90491505123869e-15\"\n",
            "[1] \"7.98749021908634 959 1.96838506858694e-15\"\n",
            "[1] \"7.98331593595878 958 2.03397089564424e-15\"\n",
            "[1] \"7.97913946905722 957 2.10174310122649e-15\"\n",
            "[1] \"7.97496081495075 956 2.17177460915401e-15\"\n",
            "[1] \"7.97077997019949 955 2.24414077688912e-15\"\n",
            "[1] \"7.96659693135448 954 2.31891947680094e-15\"\n",
            "[1] \"7.96241169495775 953 2.39619118014569e-15\"\n",
            "[1] \"7.95822425754221 952 2.47603904385304e-15\"\n",
            "[1] \"7.95403461563166 951 2.55854900021249e-15\"\n",
            "[1] \"7.94984276574072 950 2.64380984955672e-15\"\n",
            "[1] \"7.94564870437482 949 2.73191335604193e-15\"\n",
            "[1] \"7.94145242803019 948 2.82295434662912e-15\"\n",
            "[1] \"7.93725393319377 947 2.91703081337295e-15\"\n",
            "[1] \"7.93305321634321 946 3.01424401912912e-15\"\n",
            "[1] \"7.92885027394683 945 3.11469860679423e-15\"\n",
            "[1] \"7.92464510246358 944 3.21850271219665e-15\"\n",
            "[1] \"7.92043769834302 943 3.32576808076027e-15\"\n",
            "[1] \"7.91622805802528 942 3.43661018806729e-15\"\n",
            "[1] \"7.91201617794099 941 3.55114836445057e-15\"\n",
            "[1] \"7.90780205451131 940 3.66950592375024e-15\"\n",
            "[1] \"7.90358568414784 939 3.79181029637399e-15\"\n",
            "[1] \"7.8993670632526 938 3.91819316680465e-15\"\n",
            "[1] \"7.89514618821801 937 4.04879061570419e-15\"\n",
            "[1] \"7.89092305542683 936 4.18374326676774e-15\"\n",
            "[1] \"7.88669766125214 935 4.32319643848647e-15\"\n",
            "[1] \"7.88247000205731 934 4.46730030098346e-15\"\n",
            "[1] \"7.87824007419593 933 4.61621003809262e-15\"\n",
            "[1] \"7.87400787401181 932 4.77008601485561e-15\"\n",
            "[1] \"7.86977339783893 931 4.92909395061829e-15\"\n",
            "[1] \"7.8655366420014 930 5.09340509791393e-15\"\n",
            "[1] \"7.86129760281342 929 5.26319642732674e-15\"\n",
            "[1] \"7.85705627657925 928 5.438650818536e-15\"\n",
            "[1] \"7.85281265959316 927 5.61995725774717e-15\"\n",
            "[1] \"7.84856674813943 926 5.80731104172417e-15\"\n",
            "[1] \"7.84431853849226 925 6.00091398864345e-15\"\n",
            "[1] \"7.84006802691575 924 6.20097465599757e-15\"\n",
            "[1] \"7.83581520966389 923 6.4077085657856e-15\"\n",
            "[1] \"7.83156008298049 922 6.6213384372325e-15\"\n",
            "[1] \"7.82730264309913 921 6.84209442729046e-15\"\n",
            "[1] \"7.82304288624318 920 7.07021437918233e-15\"\n",
            "[1] \"7.81878080862569 919 7.30594407925612e-15\"\n",
            "[1] \"7.81451640644939 918 7.54953752242906e-15\"\n",
            "[1] \"7.81024967590665 917 7.80125718650796e-15\"\n",
            "[1] \"7.80598061317944 916 8.061374315684e-15\"\n",
            "[1] \"7.80170921443927 915 8.33016921350778e-15\"\n",
            "[1] \"7.79743547584717 914 8.60793154566287e-15\"\n",
            "[1] \"7.79315939355364 913 8.89496065286541e-15\"\n",
            "[1] \"7.78888096369861 912 9.19156587422864e-15\"\n",
            "[1] \"7.78460018241143 911 9.4980668814425e-15\"\n",
            "[1] \"7.78031704581075 910 9.81479402413093e-15\"\n",
            "[1] \"7.77603155000458 909 1.01420886867601e-14\"\n",
            "[1] \"7.77174369109018 908 1.04803036574849e-14\"\n",
            "[1] \"7.76745346515403 907 1.08298035093331e-14\"\n",
            "[1] \"7.76316086827181 906 1.11909649941404e-14\"\n",
            "[1] \"7.75886589650833 905 1.1564177449662e-14\"\n",
            "[1] \"7.75456854591752 904 1.1949843220304e-14\"\n",
            "[1] \"7.75026881254235 903 1.23483780919288e-14\"\n",
            "[1] \"7.74596669241483 902 1.2760211741206e-14\"\n",
            "[1] \"7.74166218155593 901 1.31857881999969e-14\"\n",
            "[1] \"7.73735527597555 900 1.3625566335273e-14\"\n",
            "[1] \"7.73304597167248 899 1.40800203450935e-14\"\n",
            "[1] \"7.72873426463437 898 1.45496402711743e-14\"\n",
            "[1] \"7.72442015083764 897 1.50349325286074e-14\"\n",
            "[1] \"7.72010362624751 896 1.55364204533032e-14\"\n",
            "[1] \"7.71578468681788 895 1.60546448677511e-14\"\n",
            "[1] \"7.71146332849134 894 1.65901646657088e-14\"\n",
            "[1] \"7.70713954719908 893 1.71435574164572e-14\"\n",
            "[1] \"7.7028133388609 892 1.77154199892742e-14\"\n",
            "[1] \"7.69848469938511 891 1.83063691988058e-14\"\n",
            "[1] \"7.69415362466854 890 1.89170424720319e-14\"\n",
            "[1] \"7.68982011059643 889 1.95480985375539e-14\"\n",
            "[1] \"7.68548415304245 888 2.02002181379484e-14\"\n",
            "[1] \"7.68114574786861 887 2.08741047659598e-14\"\n",
            "[1] \"7.67680489092522 886 2.15704854253331e-14\"\n",
            "[1] \"7.67246157805086 885 2.22901114171082e-14\"\n",
            "[1] \"7.66811580507233 884 2.30337591522316e-14\"\n",
            "[1] \"7.66376756780458 883 2.38022309913655e-14\"\n",
            "[1] \"7.6594168620507 882 2.45963561128059e-14\"\n",
            "[1] \"7.65506368360186 881 2.5416991409451e-14\"\n",
            "[1] \"7.65070802823721 880 2.62650224157933e-14\"\n",
            "[1] \"7.64634989172394 879 2.714136426594e-14\"\n",
            "[1] \"7.64198926981712 878 2.8046962683704e-14\"\n",
            "[1] \"7.63762615825973 877 2.89827950058372e-14\"\n",
            "[1] \"7.63326055278258 876 2.99498712395164e-14\"\n",
            "[1] \"7.62889244910426 875 3.09492351552316e-14\"\n",
            "[1] \"7.62452184293109 874 3.19819654162617e-14\"\n",
            "[1] \"7.62014872995709 873 3.30491767459612e-14\"\n",
            "[1] \"7.61577310586391 872 3.415202113413e-14\"\n",
            "[1] \"7.61139496632078 871 3.52916890837704e-14\"\n",
            "[1] \"7.60701430698449 870 3.64694108995869e-14\"\n",
            "[1] \"7.60263112349929 869 3.76864580196301e-14\"\n",
            "[1] \"7.59824541149688 868 3.89441443915255e-14\"\n",
            "[1] \"7.59385716659634 867 4.0243827894784e-14\"\n",
            "[1] \"7.58946638440411 866 4.15869118107396e-14\"\n",
            "[1] \"7.58507306051388 865 4.29748463417075e-14\"\n",
            "[1] \"7.58067719050658 864 4.4409130181015e-14\"\n",
            "[1] \"7.57627876995032 863 4.5891312135607e-14\"\n",
            "[1] \"7.57187779440036 862 4.74229928029925e-14\"\n",
            "[1] \"7.56747425939901 861 4.90058263043479e-14\"\n",
            "[1] \"7.56306816047562 860 5.06415220756666e-14\"\n",
            "[1] \"7.55865949314648 859 5.23318467188917e-14\"\n",
            "[1] \"7.55424825291482 858 5.40786259150503e-14\"\n",
            "[1] \"7.54983443527075 857 5.58837464014635e-14\"\n",
            "[1] \"7.54541803569115 856 5.77491580151825e-14\"\n",
            "[1] \"7.54099904963969 855 5.96768758048661e-14\"\n",
            "[1] \"7.53657747256671 854 6.16689822134013e-14\"\n",
            "[1] \"7.53215329990922 853 6.37276293336325e-14\"\n",
            "[1] \"7.52772652709081 852 6.58550412396541e-14\"\n",
            "[1] \"7.52329714952161 851 6.80535163961959e-14\"\n",
            "[1] \"7.51886516259823 850 7.03254301487261e-14\"\n",
            "[1] \"7.51443056170371 849 7.26732372969711e-14\"\n",
            "[1] \"7.50999334220743 848 7.50994747546524e-14\"\n",
            "[1] \"7.50555349946513 847 7.76067642983348e-14\"\n",
            "[1] \"7.50111102881878 846 8.01978154083652e-14\"\n",
            "[1] \"7.49666592559652 845 8.28754282050043e-14\"\n",
            "[1] \"7.49221818511269 844 8.56424964829211e-14\"\n",
            "[1] \"7.48776780266767 843 8.85020108473765e-14\"\n",
            "[1] \"7.48331477354788 842 9.14570619554854e-14\"\n",
            "[1] \"7.47885909302571 841 9.45108438660876e-14\"\n",
            "[1] \"7.47440075635945 840 9.76666575018714e-14\"\n",
            "[1] \"7.46993975879324 839 1.00927914227518e-13\"\n",
            "[1] \"7.46547609555702 838 1.04298139547745e-13\"\n",
            "[1] \"7.46100976186646 837 1.07780976929293e-13\"\n",
            "[1] \"7.4565407529229 836 1.11380191750987e-13\"\n",
            "[1] \"7.45206906391328 835 1.15099675386187e-13\"\n",
            "[1] \"7.4475946900101 834 1.18943449422061e-13\"\n",
            "[1] \"7.44311762637136 833 1.22915670020278e-13\"\n",
            "[1] \"7.43863786814047 832 1.27020632423852e-13\"\n",
            "[1] \"7.43415541044621 831 1.31262775615048e-13\"\n",
            "[1] \"7.42967024840268 830 1.35646687129425e-13\"\n",
            "[1] \"7.42518237710922 829 1.40177108031234e-13\"\n",
            "[1] \"7.42069179165034 828 1.44858938055616e-13\"\n",
            "[1] \"7.41619848709566 827 1.49697240923161e-13\"\n",
            "[1] \"7.41170245849989 826 1.54697249832632e-13\"\n",
            "[1] \"7.4072037009027 825 1.59864373137839e-13\"\n",
            "[1] \"7.4027022093287 824 1.65204200214825e-13\"\n",
            "[1] \"7.39819797878736 823 1.70722507525747e-13\"\n",
            "[1] \"7.39369100427294 822 1.76425264886088e-13\"\n",
            "[1] \"7.38918128076447 821 1.82318641941971e-13\"\n",
            "[1] \"7.38466880322559 820 1.88409014864676e-13\"\n",
            "[1] \"7.3801535666046 819 1.94702973269615e-13\"\n",
            "[1] \"7.37563556583431 818 2.01207327367308e-13\"\n",
            "[1] \"7.37111479583199 817 2.07929115354171e-13\"\n",
            "[1] \"7.36659125149934 816 2.14875611051103e-13\"\n",
            "[1] \"7.36206492772238 815 2.22054331798282e-13\"\n",
            "[1] \"7.35753581937141 814 2.29473046614673e-13\"\n",
            "[1] \"7.35300392130092 813 2.37139784631206e-13\"\n",
            "[1] \"7.34846922834953 812 2.45062843806772e-13\"\n",
            "[1] \"7.34393173533996 811 2.53250799936557e-13\"\n",
            "[1] \"7.33939143707887 810 2.61712515962489e-13\"\n",
            "[1] \"7.3348483283569 809 2.70457151596001e-13\"\n",
            "[1] \"7.33030240394851 808 2.7949417326353e-13\"\n",
            "[1] \"7.32575365861197 807 2.88833364385641e-13\"\n",
            "[1] \"7.32120208708925 806 2.98484836000939e-13\"\n",
            "[1] \"7.31664768410598 805 3.08459037746382e-13\"\n",
            "[1] \"7.31209044437134 804 3.18766769205924e-13\"\n",
            "[1] \"7.30753036257804 803 3.29419191639883e-13\"\n",
            "[1] \"7.30296743340222 802 3.40427840107827e-13\"\n",
            "[1] \"7.29840165150334 801 3.51804635998145e-13\"\n",
            "[1] \"7.29383301152419 800 3.63561899978026e-13\"\n",
            "[1] \"7.28926150809074 799 3.75712365377926e-13\"\n",
            "[1] \"7.28468713581213 798 3.88269192025095e-13\"\n",
            "[1] \"7.28010988928052 797 4.01245980541325e-13\"\n",
            "[1] \"7.27552976307109 796 4.14656787120399e-13\"\n",
            "[1] \"7.27094675174194 795 4.28516138801476e-13\"\n",
            "[1] \"7.26636084983398 794 4.42839049254971e-13\"\n",
            "[1] \"7.2617720518709 793 4.5764103509818e-13\"\n",
            "[1] \"7.25718035235908 792 4.7293813275849e-13\"\n",
            "[1] \"7.2525857457875 791 4.88746915902491e-13\"\n",
            "[1] \"7.24798822662767 790 5.05084513450043e-13\"\n",
            "[1] \"7.24338778933357 789 5.21968628192981e-13\"\n",
            "[1] \"7.23878442834154 788 5.394175560387e-13\"\n",
            "[1] \"7.23417813807024 787 5.57450205899671e-13\"\n",
            "[1] \"7.22956891292051 786 5.76086120250583e-13\"\n",
            "[1] \"7.22495674727538 785 5.95345496375522e-13\"\n",
            "[1] \"7.2203416354999 784 6.15249208328393e-13\"\n",
            "[1] \"7.21572357194112 783 6.35818829630548e-13\"\n",
            "[1] \"7.21110255092798 782 6.57076656730403e-13\"\n",
            "[1] \"7.20647856677124 781 6.79045733250619e-13\"\n",
            "[1] \"7.20185161376341 780 7.01749875049368e-13\"\n",
            "[1] \"7.19722168617863 779 7.25213696122989e-13\"\n",
            "[1] \"7.19258877827263 778 7.49462635378363e-13\"\n",
            "[1] \"7.18795288428261 777 7.745229843042e-13\"\n",
            "[1] \"7.18331399842719 776 8.00421915571469e-13\"\n",
            "[1] \"7.1786721149063 775 8.27187512594213e-13\"\n",
            "[1] \"7.17402722790112 774 8.54848800083016e-13\"\n",
            "[1] \"7.16937933157397 773 8.83435775624506e-13\"\n",
            "[1] \"7.16472842006823 772 9.1297944232138e-13\"\n",
            "[1] \"7.16007448750826 771 9.43511842528557e-13\"\n",
            "[1] \"7.15541752799933 770 9.75066092722473e-13\"\n",
            "[1] \"7.15075753562749 769 1.00767641954135e-12\"\n",
            "[1] \"7.14609450445953 768 1.04137819703613e-12\"\n",
            "[1] \"7.14142842854285 767 1.07620798517242e-12\"\n",
            "[1] \"7.13675930190541 766 1.11220356962595e-12\"\n",
            "[1] \"7.1320871185556 765 1.14940400291452e-12\"\n",
            "[1] \"7.12741187248218 764 1.18784964691191e-12\"\n",
            "[1] \"7.12273355765421 763 1.22758221678988e-12\"\n",
            "[1] \"7.11805216802087 762 1.26864482643628e-12\"\n",
            "[1] \"7.1133676975115 761 1.31108203539922e-12\"\n",
            "[1] \"7.10868014003537 760 1.35493989740828e-12\"\n",
            "[1] \"7.10398948948171 759 1.40026601052603e-12\"\n",
            "[1] \"7.09929573971954 758 1.44710956898453e-12\"\n",
            "[1] \"7.09459888459759 757 1.49552141676376e-12\"\n",
            "[1] \"7.08989891794422 756 1.54555410297009e-12\"\n",
            "[1] \"7.08519583356734 755 1.59726193907602e-12\"\n",
            "[1] \"7.08048962525427 754 1.65070105808313e-12\"\n",
            "[1] \"7.07578028677168 753 1.70592947567339e-12\"\n",
            "[1] \"7.07106781186548 752 1.76300715341557e-12\"\n",
            "[1] \"7.06635219426072 751 1.82199606409596e-12\"\n",
            "[1] \"7.06163342766153 750 1.88296025924464e-12\"\n",
            "[1] \"7.05691150575094 749 1.94596593893161e-12\"\n",
            "[1] \"7.05218642219087 748 2.01108152390882e-12\"\n",
            "[1] \"7.04745817062199 747 2.078377730177e-12\"\n",
            "[1] \"7.0427267446636 746 2.1479276460593e-12\"\n",
            "[1] \"7.03799213791358 745 2.21980681186561e-12\"\n",
            "[1] \"7.03325434394823 744 2.29409330223511e-12\"\n",
            "[1] \"7.02851335632223 743 2.37086781124695e-12\"\n",
            "[1] \"7.02376916856849 742 2.45021374039245e-12\"\n",
            "[1] \"7.01902177419807 741 2.53221728950506e-12\"\n",
            "[1] \"7.01427116670007 740 2.61696755074727e-12\"\n",
            "[1] \"7.00951733954153 739 2.70455660575835e-12\"\n",
            "[1] \"7.00476028616731 738 2.79507962606794e-12\"\n",
            "[1] \"7 737 2.88863497688687e-12\"\n",
            "[1] \"6.99523647443983 736 2.98532432438776e-12\"\n",
            "[1] \"6.99046970286451 735 3.08525274659363e-12\"\n",
            "[1] \"6.98569967862919 734 3.18852884799556e-12\"\n",
            "[1] \"6.9809263950663 733 3.29526487802537e-12\"\n",
            "[1] \"6.97614984548545 732 3.40557685351263e-12\"\n",
            "[1] \"6.97137002317335 731 3.51958468526064e-12\"\n",
            "[1] \"6.96658692139367 730 3.63741230887975e-12\"\n",
            "[1] \"6.96180053338694 729 3.75918782002177e-12\"\n",
            "[1] \"6.95701085237043 728 3.88504361416322e-12\"\n",
            "[1] \"6.95221787153807 727 4.01511653109084e-12\"\n",
            "[1] \"6.94742158406028 726 4.14954800424806e-12\"\n",
            "[1] \"6.94262198308391 725 4.28848421510564e-12\"\n",
            "[1] \"6.9378190617321 724 4.43207625272597e-12\"\n",
            "[1] \"6.93301281310417 723 4.580480278696e-12\"\n",
            "[1] \"6.92820323027551 722 4.73385769760962e-12\"\n",
            "[1] \"6.92339030629744 721 4.89237533328654e-12\"\n",
            "[1] \"6.91857403419712 720 5.05620561092068e-12\"\n",
            "[1] \"6.91375440697744 719 5.22552674535804e-12\"\n",
            "[1] \"6.90893141761686 718 5.40052293571076e-12\"\n",
            "[1] \"6.90410505906933 717 5.58138456652042e-12\"\n",
            "[1] \"6.89927532426414 716 5.76830841569167e-12\"\n",
            "[1] \"6.89444220610582 715 5.96149786942403e-12\"\n",
            "[1] \"6.88960569747403 714 6.16116314437815e-12\"\n",
            "[1] \"6.8847657912234 713 6.3675215173196e-12\"\n",
            "[1] \"6.87992248018343 712 6.58079756249315e-12\"\n",
            "[1] \"6.87507575715837 711 6.80122339698717e-12\"\n",
            "[1] \"6.87022561492707 710 7.02903893435832e-12\"\n",
            "[1] \"6.86537204624289 709 7.26449214679403e-12\"\n",
            "[1] \"6.86051504383357 708 7.5078393361017e-12\"\n",
            "[1] \"6.85565460040104 707 7.75934541382103e-12\"\n",
            "[1] \"6.8507907086214 706 8.01928419076777e-12\"\n",
            "[1] \"6.84592336114469 705 8.28793867632704e-12\"\n",
            "[1] \"6.84105255059483 704 8.56560138782407e-12\"\n",
            "[1] \"6.83617826956943 703 8.85257467031268e-12\"\n",
            "[1] \"6.83130051063973 702 9.14917102713326e-12\"\n",
            "[1] \"6.82641926635041 701 9.4557134616024e-12\"\n",
            "[1] \"6.82153452921946 700 9.77253583021024e-12\"\n",
            "[1] \"6.81664629173809 699 1.00999832077136e-11\"\n",
            "[1] \"6.81175454637056 698 1.04384122645254e-11\"\n",
            "[1] \"6.80685928555405 697 1.07881916568164e-11\"\n",
            "[1] \"6.80196050169851 696 1.11497024297564e-11\"\n",
            "[1] \"6.79705818718657 695 1.15233384343401e-11\"\n",
            "[1] \"6.79215233437335 694 1.19095067582532e-11\"\n",
            "[1] \"6.78724293558634 693 1.23086281712556e-11\"\n",
            "[1] \"6.78232998312527 692 1.2721137585568e-11\"\n",
            "[1] \"6.77741346926195 691 1.31474845317714e-11\"\n",
            "[1] \"6.77249338624016 690 1.35881336507402e-11\"\n",
            "[1] \"6.76756972627545 689 1.40435652021519e-11\"\n",
            "[1] \"6.76264248155507 688 1.45142755901304e-11\"\n",
            "[1] \"6.75771164423776 687 1.50007779066048e-11\"\n",
            "[1] \"6.75277720645365 686 1.55036024929767e-11\"\n",
            "[1] \"6.74783916030408 685 1.60232975207184e-11\"\n",
            "[1] \"6.74289749786148 684 1.65604295915372e-11\"\n",
            "[1] \"6.73795221116921 683 1.71155843577695e-11\"\n",
            "[1] \"6.73300329224139 682 1.7689367163685e-11\"\n",
            "[1] \"6.72805073306278 681 1.82824037084075e-11\"\n",
            "[1] \"6.72309452558864 680 1.88953407311833e-11\"\n",
            "[1] \"6.71813466174453 679 1.95288467197481e-11\"\n",
            "[1] \"6.71317113342619 678 2.01836126425787e-11\"\n",
            "[1] \"6.70820393249937 677 2.08603527058269e-11\"\n",
            "[1] \"6.70323305079969 676 2.15598051357789e-11\"\n",
            "[1] \"6.69825848013248 675 2.22827329876917e-11\"\n",
            "[1] \"6.6932802122726 674 2.30299249819076e-11\"\n",
            "[1] \"6.68829823896433 673 2.380219636816e-11\"\n",
            "[1] \"6.68331255192114 672 2.46003898190242e-11\"\n",
            "[1] \"6.6783231428256 671 2.54253763535039e-11\"\n",
            "[1] \"6.67333000332917 670 2.62780562917588e-11\"\n",
            "[1] \"6.66833312505207 669 2.71593602420388e-11\"\n",
            "[1] \"6.66333249958307 668 2.80702501209026e-11\"\n",
            "[1] \"6.65832811847939 667 2.90117202078491e-11\"\n",
            "[1] \"6.65331997326648 666 2.9984798235525e-11\"\n",
            "[1] \"6.64830805543787 665 3.09905465167068e-11\"\n",
            "[1] \"6.64329235645499 664 3.20300631093053e-11\"\n",
            "[1] \"6.63827286774705 663 3.3104483020671e-11\"\n",
            "[1] \"6.6332495807108 662 3.42149794525314e-11\"\n",
            "[1] \"6.62822248671039 661 3.53627650879359e-11\"\n",
            "[1] \"6.62319157707722 660 3.65490934216223e-11\"\n",
            "[1] \"6.61815684310972 659 3.77752601352756e-11\"\n",
            "[1] \"6.6131182760732 658 3.90426045191962e-11\"\n",
            "[1] \"6.60807586719967 657 4.03525109419457e-11\"\n",
            "[1] \"6.60302960768767 656 4.17064103695914e-11\"\n",
            "[1] \"6.59797948870208 655 4.31057819362273e-11\"\n",
            "[1] \"6.59292550137393 654 4.45521545675023e-11\"\n",
            "[1] \"6.58786763680024 653 4.60471086589528e-11\"\n",
            "[1] \"6.58280588604383 652 4.75922778109849e-11\"\n",
            "[1] \"6.57774024013313 651 4.91893506224304e-11\"\n",
            "[1] \"6.57267069006199 650 5.08400725446489e-11\"\n",
            "[1] \"6.56759722678952 649 5.2546247798228e-11\"\n",
            "[1] \"6.56251984123985 648 5.43097413543989e-11\"\n",
            "[1] \"6.557438524302 647 5.61324809833524e-11\"\n",
            "[1] \"6.55235326682966 646 5.80164593717199e-11\"\n",
            "[1] \"6.54726405964099 645 5.996373631156e-11\"\n",
            "[1] \"6.54217089351845 644 6.19764409632673e-11\"\n",
            "[1] \"6.53707375920858 643 6.40567741949037e-11\"\n",
            "[1] \"6.53197264742181 642 6.62070110005399e-11\"\n",
            "[1] \"6.52686754883229 641 6.84295030002758e-11\"\n",
            "[1] \"6.52175845407765 640 7.07266810247101e-11\"\n",
            "[1] \"6.51664535375884 639 7.31010577867049e-11\"\n",
            "[1] \"6.51152823843988 638 7.55552306434151e-11\"\n",
            "[1] \"6.50640709864771 637 7.80918844516194e-11\"\n",
            "[1] \"6.50128192487194 636 8.0713794519525e-11\"\n",
            "[1] \"6.49615270756469 635 8.34238296582999e-11\"\n",
            "[1] \"6.49101943714031 634 8.62249553367186e-11\"\n",
            "[1] \"6.48588210397527 633 8.91202369423987e-11\"\n",
            "[1] \"6.48074069840786 632 9.21128431532492e-11\"\n",
            "[1] \"6.47559521073803 631 9.52060494228499e-11\"\n",
            "[1] \"6.47044563122716 630 9.84032415836287e-11\"\n",
            "[1] \"6.46529195009785 629 1.01707919571816e-10\"\n",
            "[1] \"6.46013415753368 628 1.05123701278307e-10\"\n",
            "[1] \"6.45497224367903 627 1.08654326529689e-10\"\n",
            "[1] \"6.44980619863884 626 1.12303661203843e-10\"\n",
            "[1] \"6.44463601247839 625 1.16075701484682e-10\"\n",
            "[1] \"6.43946167522307 624 1.19974578260724e-10\"\n",
            "[1] \"6.43428317685817 623 1.24004561672395e-10\"\n",
            "[1] \"6.42910050732864 622 1.28170065813068e-10\"\n",
            "[1] \"6.42391365653888 621 1.32475653589075e-10\"\n",
            "[1] \"6.41872261435249 620 1.36926041744059e-10\"\n",
            "[1] \"6.41352737059205 619 1.41526106053238e-10\"\n",
            "[1] \"6.40832791503889 618 1.46280886693343e-10\"\n",
            "[1] \"6.40312423743285 617 1.51195593794172e-10\"\n",
            "[1] \"6.39791632747204 616 1.56275613177914e-10\"\n",
            "[1] \"6.39270417481262 615 1.61526512292629e-10\"\n",
            "[1] \"6.38748776906852 614 1.66954046346419e-10\"\n",
            "[1] \"6.38226709981127 613 1.72564164649148e-10\"\n",
            "[1] \"6.37704215656966 612 1.78363017168679e-10\"\n",
            "[1] \"6.3718129288296 611 1.84356961308968e-10\"\n",
            "[1] \"6.36657940603377 610 1.90552568917476e-10\"\n",
            "[1] \"6.36134157758147 609 1.9695663352972e-10\"\n",
            "[1] \"6.35609943282828 608 2.03576177858969e-10\"\n",
            "[1] \"6.35085296108588 607 2.10418461539399e-10\"\n",
            "[1] \"6.34560215162176 606 2.17490989131334e-10\"\n",
            "[1] \"6.34034699365894 605 2.24801518397419e-10\"\n",
            "[1] \"6.33508747637579 604 2.32358068858933e-10\"\n",
            "[1] \"6.32982358890567 603 2.40168930641737e-10\"\n",
            "[1] \"6.32455532033676 602 2.48242673621688e-10\"\n",
            "[1] \"6.31928265971173 601 2.56588156879667e-10\"\n",
            "[1] \"6.31400559602751 600 2.65214538476719e-10\"\n",
            "[1] \"6.308724118235 599 2.74131285560194e-10\"\n",
            "[1] \"6.30343821523883 598 2.83348184812057e-10\"\n",
            "[1] \"6.29814787589706 597 2.92875353251063e-10\"\n",
            "[1] \"6.29285308902091 596 3.02723249400711e-10\"\n",
            "[1] \"6.28755384337449 595 3.12902684835471e-10\"\n",
            "[1] \"6.28225012767453 594 3.23424836118037e-10\"\n",
            "[1] \"6.27694193059009 593 3.34301257140976e-10\"\n",
            "[1] \"6.27162924074226 592 3.45543891886395e-10\"\n",
            "[1] \"6.26631204670392 591 3.57165087617902e-10\"\n",
            "[1] \"6.26099033699941 590 3.69177608519479e-10\"\n",
            "[1] \"6.25566410010427 589 3.81594649796432e-10\"\n",
            "[1] \"6.25033332444492 588 3.94429852254181e-10\"\n",
            "[1] \"6.2449979983984 587 4.07697317371028e-10\"\n",
            "[1] \"6.23965811029205 586 4.21411622881712e-10\"\n",
            "[1] \"6.23431364840322 585 4.35587838889092e-10\"\n",
            "[1] \"6.22896460095897 584 4.50241544521921e-10\"\n",
            "[1] \"6.22361095613578 583 4.6538884515719e-10\"\n",
            "[1] \"6.21825270205921 582 4.81046390226298e-10\"\n",
            "[1] \"6.21288982680363 581 4.97231391624804e-10\"\n",
            "[1] \"6.20752231839188 580 5.13961642746343e-10\"\n",
            "[1] \"6.202150164795 579 5.31255538161823e-10\"\n",
            "[1] \"6.19677335393187 578 5.49132093965912e-10\"\n",
            "[1] \"6.1913918736689 577 5.67610968813419e-10\"\n",
            "[1] \"6.18600571181976 576 5.86712485669052e-10\"\n",
            "[1] \"6.18061485614498 575 6.06457654294797e-10\"\n",
            "[1] \"6.17521929435169 574 6.26868194499958e-10\"\n",
            "[1] \"6.16981901409325 573 6.47966560179797e-10\"\n",
            "[1] \"6.16441400296898 572 6.69775964169597e-10\"\n",
            "[1] \"6.15900424852373 571 6.92320403941823e-10\"\n",
            "[1] \"6.15358973824764 570 7.1562468817511e-10\"\n",
            "[1] \"6.14817045957576 569 7.39714464224628e-10\"\n",
            "[1] \"6.1427463998877 568 7.64616246524565e-10\"\n",
            "[1] \"6.13731754650732 567 7.90357445954384e-10\"\n",
            "[1] \"6.13188388670236 566 8.16966400201581e-10\"\n",
            "[1] \"6.12644540768408 565 8.44472405154972e-10\"\n",
            "[1] \"6.12100209660695 564 8.72905747363381e-10\"\n",
            "[1] \"6.11555394056826 563 9.02297737596125e-10\"\n",
            "[1] \"6.11010092660779 562 9.32680745542685e-10\"\n",
            "[1] \"6.10464304170741 561 9.64088235690377e-10\"\n",
            "[1] \"6.09918027279076 560 9.96554804420037e-10\"\n",
            "[1] \"6.09371260672288 559 1.03011621836123e-09\"\n",
            "[1] \"6.0882400303098 558 1.06480945404984e-09\"\n",
            "[1] \"6.08276253029822 557 1.1006727389323e-09\"\n",
            "[1] \"6.0772800933751 556 1.13774559376236e-09\"\n",
            "[1] \"6.07179270616732 555 1.17606887643784e-09\"\n",
            "[1] \"6.06630035524124 554 1.21568482732616e-09\"\n",
            "[1] \"6.06080302710238 553 1.25663711612973e-09\"\n",
            "[1] \"6.05530070819498 552 1.29897089034316e-09\"\n",
            "[1] \"6.04979338490167 551 1.34273282535687e-09\"\n",
            "[1] \"6.04428104354301 550 1.38797117626297e-09\"\n",
            "[1] \"6.03876367037713 549 1.43473583142149e-09\"\n",
            "[1] \"6.03324125159934 548 1.48307836784675e-09\"\n",
            "[1] \"6.02771377334171 547 1.53305210847613e-09\"\n",
            "[1] \"6.02218122167265 546 1.58471218138509e-09\"\n",
            "[1] \"6.01664358259653 545 1.63811558101491e-09\"\n",
            "[1] \"6.01110084205325 544 1.69332123148179e-09\"\n",
            "[1] \"6.00555298591784 543 1.75039005203791e-09\"\n",
            "[1] \"6 542 1.80938502475827e-09\"\n",
            "[1] \"5.99444187004373 541 1.87037126452866e-09\"\n",
            "[1] \"5.98887858172685 540 1.93341609141365e-09\"\n",
            "[1] \"5.98331012066064 539 1.99858910548532e-09\"\n",
            "[1] \"5.97773647238931 538 2.06596226419695e-09\"\n",
            "[1] \"5.97215762238964 537 2.13560996238826e-09\"\n",
            "[1] \"5.96657355607052 536 2.20760911501187e-09\"\n",
            "[1] \"5.96098425877248 535 2.28203924267404e-09\"\n",
            "[1] \"5.95538971576728 534 2.35898256008536e-09\"\n",
            "[1] \"5.94978991225741 533 2.43852406752079e-09\"\n",
            "[1] \"5.94418483337567 532 2.52075164539176e-09\"\n",
            "[1] \"5.93857446418471 531 2.60575615203627e-09\"\n",
            "[1] \"5.93295878967653 530 2.69363152483704e-09\"\n",
            "[1] \"5.92733779477206 529 2.78447488478111e-09\"\n",
            "[1] \"5.92171146432065 528 2.8783866445782e-09\"\n",
            "[1] \"5.91607978309962 527 2.97547062045973e-09\"\n",
            "[1] \"5.91044273581373 526 3.07583414778347e-09\"\n",
            "[1] \"5.90480030709478 525 3.1795882005743e-09\"\n",
            "[1] \"5.89915248150105 524 3.28684751513505e-09\"\n",
            "[1] \"5.89349924351682 523 3.39773071786659e-09\"\n",
            "[1] \"5.8878405775519 522 3.51236045744089e-09\"\n",
            "[1] \"5.8821764679411 521 3.6308635414754e-09\"\n",
            "[1] \"5.87650689894374 520 3.75337107786282e-09\"\n",
            "[1] \"5.87083185474313 519 3.88001862091523e-09\"\n",
            "[1] \"5.86515131944607 518 4.01094632248652e-09\"\n",
            "[1] \"5.85946527708232 517 4.14629908824417e-09\"\n",
            "[1] \"5.85377371160405 516 4.28622673926497e-09\"\n",
            "[1] \"5.84807660688538 515 4.43088417913792e-09\"\n",
            "[1] \"5.84237394672177 514 4.58043156676154e-09\"\n",
            "[1] \"5.83666571482954 513 4.73503449503061e-09\"\n",
            "[1] \"5.8309518948453 512 4.89486417561366e-09\"\n",
            "[1] \"5.8252324703254 511 5.0600976300291e-09\"\n",
            "[1] \"5.81950742474539 510 5.2309178872356e-09\"\n",
            "[1] \"5.81377674149945 509 5.40751418795926e-09\"\n",
            "[1] \"5.80804040389987 508 5.59008219598813e-09\"\n",
            "[1] \"5.8022983951764 507 5.77882421667198e-09\"\n",
            "[1] \"5.79655069847578 506 5.97394942287401e-09\"\n",
            "[1] \"5.79079729686106 505 6.17567408862944e-09\"\n",
            "[1] \"5.7850381733111 504 6.3842218307743e-09\"\n",
            "[1] \"5.77927331071996 503 6.59982385881725e-09\"\n",
            "[1] \"5.77350269189626 502 6.82271923333653e-09\"\n",
            "[1] \"5.76772629956265 501 7.05315513319393e-09\"\n",
            "[1] \"5.76194411635517 500 7.29138713186668e-09\"\n",
            "[1] \"5.75615612482265 499 7.53767948321046e-09\"\n",
            "[1] \"5.75036230742609 498 7.79230541697566e-09\"\n",
            "[1] \"5.74456264653803 497 8.05554744441091e-09\"\n",
            "[1] \"5.73875712444196 496 8.32769767429897e-09\"\n",
            "[1] \"5.73294572333165 495 8.60905813978306e-09\"\n",
            "[1] \"5.72712842531054 494 8.89994113635215e-09\"\n",
            "[1] \"5.72130521239108 493 9.20066957136787e-09\"\n",
            "[1] \"5.71547606649408 492 9.51157732552835e-09\"\n",
            "[1] \"5.70964096944808 491 9.83300962667806e-09\"\n",
            "[1] \"5.70379990298865 490 1.01653234363861e-08\"\n",
            "[1] \"5.69795284875776 489 1.05088878497309e-08\"\n",
            "[1] \"5.69209978830308 488 1.08640845087443e-08\"\n",
            "[1] \"5.68624070307733 487 1.12313080299817e-08\"\n",
            "[1] \"5.68037557443754 486 1.16109664467041e-08\"\n",
            "[1] \"5.67450438364444 485 1.20034816661725e-08\"\n",
            "[1] \"5.66862711186168 484 1.24092899425717e-08\"\n",
            "[1] \"5.66274374015518 483 1.2828842366101e-08\"\n",
            "[1] \"5.65685424949238 482 1.32626053687853e-08\"\n",
            "[1] \"5.65095862074156 481 1.37110612475802e-08\"\n",
            "[1] \"5.64505683467108 480 1.41747087053644e-08\"\n",
            "[1] \"5.63914887194867 479 1.46540634104332e-08\"\n",
            "[1] \"5.6332347131407 478 1.51496585751277e-08\"\n",
            "[1] \"5.62731433871138 477 1.56620455542559e-08\"\n",
            "[1] \"5.62138772902208 476 1.61917944639862e-08\"\n",
            "[1] \"5.61545486433052 475 1.67394948219145e-08\"\n",
            "[1] \"5.60951572479003 474 1.73057562090325e-08\"\n",
            "[1] \"5.60357029044876 473 1.78912089543496e-08\"\n",
            "[1] \"5.59761854124889 472 1.84965048429447e-08\"\n",
            "[1] \"5.59166045702586 471 1.91223178482545e-08\"\n",
            "[1] \"5.58569601750758 470 1.97693448894294e-08\"\n",
            "[1] \"5.57972520231358 469 2.04383066146169e-08\"\n",
            "[1] \"5.57374799095426 468 2.11299482110677e-08\"\n",
            "[1] \"5.56776436283002 467 2.18450402429802e-08\"\n",
            "[1] \"5.56177429723046 466 2.25843795180407e-08\"\n",
            "[1] \"5.55577777333351 465 2.33487899836444e-08\"\n",
            "[1] \"5.54977477020464 464 2.41391236538171e-08\"\n",
            "[1] \"5.54376526679596 463 2.49562615678927e-08\"\n",
            "[1] \"5.53774924194538 462 2.58011147820395e-08\"\n",
            "[1] \"5.53172667437573 461 2.66746253947643e-08\"\n",
            "[1] \"5.52569754269389 460 2.75777676075615e-08\"\n",
            "[1] \"5.51966182538991 459 2.85115488219182e-08\"\n",
            "[1] \"5.51361950083609 458 2.94770107739253e-08\"\n",
            "[1] \"5.5075705472861 457 3.04752307077878e-08\"\n",
            "[1] \"5.50151494287407 456 3.15073225895723e-08\"\n",
            "[1] \"5.49545266561363 455 3.25744383625793e-08\"\n",
            "[1] \"5.48938369339704 454 3.36777692457694e-08\"\n",
            "[1] \"5.48330800399418 453 3.48185470767281e-08\"\n",
            "[1] \"5.47722557505166 452 3.59980457007018e-08\"\n",
            "[1] \"5.47113638409182 451 3.72175824072909e-08\"\n",
            "[1] \"5.46504040851179 450 3.84785194164426e-08\"\n",
            "[1] \"5.45893762558247 449 3.978226541544e-08\"\n",
            "[1] \"5.45282801244761 448 4.11302771486467e-08\"\n",
            "[1] \"5.44671154612273 447 4.25240610618203e-08\"\n",
            "[1] \"5.44058820349418 446 4.39651750028804e-08\"\n",
            "[1] \"5.43445796131807 445 4.54552299810735e-08\"\n",
            "[1] \"5.42832079621927 444 4.69958919865487e-08\"\n",
            "[1] \"5.42217668469038 443 4.85888838724259e-08\"\n",
            "[1] \"5.41602560309064 442 5.02359873015149e-08\"\n",
            "[1] \"5.40986752764489 441 5.19390447599083e-08\"\n",
            "[1] \"5.40370243444252 440 5.36999616397627e-08\"\n",
            "[1] \"5.39753029943634 439 5.55207083936488e-08\"\n",
            "[1] \"5.39135109844153 438 5.7403322762942e-08\"\n",
            "[1] \"5.3851648071345 437 5.93499120828099e-08\"\n",
            "[1] \"5.37897140105182 436 6.13626556664363e-08\"\n",
            "[1] \"5.37277085558901 435 6.3443807271222e-08\"\n",
            "[1] \"5.3665631459995 434 6.55956976497873e-08\"\n",
            "[1] \"5.36034824739339 433 6.78207371887092e-08\"\n",
            "[1] \"5.35412613473634 432 7.01214186380194e-08\"\n",
            "[1] \"5.34789678284837 431 7.25003199345996e-08\"\n",
            "[1] \"5.3416601664027 430 7.49601071227183e-08\"\n",
            "[1] \"5.33541625992449 429 7.75035373750655e-08\"\n",
            "[1] \"5.32916503778969 428 8.01334621177563e-08\"\n",
            "[1] \"5.32290647422377 427 8.28528302629e-08\"\n",
            "[1] \"5.3166405433005 426 8.56646915524509e-08\"\n",
            "[1] \"5.3103672189407 425 8.85722000171888e-08\"\n",
            "[1] \"5.30408647491096 424 9.15786175548101e-08\"\n",
            "[1] \"5.29779828482235 423 9.46873176312525e-08\"\n",
            "[1] \"5.29150262212918 422 9.79017891095098e-08\"\n",
            "[1] \"5.28519946012762 421 1.01225640210353e-07\"\n",
            "[1] \"5.27888877195444 420 1.04662602609523e-07\"\n",
            "[1] \"5.27257053058563 419 1.0821653567611e-07\"\n",
            "[1] \"5.26624470883507 418 1.11891430857019e-07\"\n",
            "[1] \"5.25991127935317 417 1.15691416212572e-07\"\n",
            "[1] \"5.25357021462548 416 1.19620761108478e-07\"\n",
            "[1] \"5.2472214869713 415 1.23683881069595e-07\"\n",
            "[1] \"5.24086506854228 414 1.2788534280108e-07\"\n",
            "[1] \"5.23450093132096 413 1.32229869382735e-07\"\n",
            "[1] \"5.22812904711937 412 1.36722345642544e-07\"\n",
            "[1] \"5.22174938757756 411 1.41367823715615e-07\"\n",
            "[1] \"5.21536192416212 410 1.4617152879495e-07\"\n",
            "[1] \"5.20896662816468 409 1.51138865080707e-07\"\n",
            "[1] \"5.20256347070045 408 1.56275421934819e-07\"\n",
            "[1] \"5.19615242270663 407 1.61586980248109e-07\"\n",
            "[1] \"5.18973345494095 406 1.67079519027262e-07\"\n",
            "[1] \"5.18330653798004 405 1.72759222209292e-07\"\n",
            "[1] \"5.17687164221791 404 1.7863248571139e-07\"\n",
            "[1] \"5.17042873786433 403 1.84705924724334e-07\"\n",
            "[1] \"5.16397779494322 402 1.90986381257909e-07\"\n",
            "[1] \"5.15751878329105 401 1.97480931947086e-07\"\n",
            "[1] \"5.15105167255516 400 2.04196896128036e-07\"\n",
            "[1] \"5.14457643219213 399 2.11141844193325e-07\"\n",
            "[1] \"5.13809303146605 398 2.1832360623601e-07\"\n",
            "[1] \"5.13160143944688 397 2.25750280992671e-07\"\n",
            "[1] \"5.12510162500869 396 2.33430245095775e-07\"\n",
            "[1] \"5.11859355682789 395 2.41372162646117e-07\"\n",
            "[1] \"5.11207720338155 394 2.49584995116466e-07\"\n",
            "[1] \"5.10555253294554 393 2.58078011597964e-07\"\n",
            "[1] \"5.09901951359278 392 2.66860799401166e-07\"\n",
            "[1] \"5.09247811319139 391 2.75943275024078e-07\"\n",
            "[1] \"5.08592829940284 390 2.85335695499972e-07\"\n",
            "[1] \"5.07937003968012 389 2.95048670138189e-07\"\n",
            "[1] \"5.07280330126581 388 3.05093172671613e-07\"\n",
            "[1] \"5.06622805119022 387 3.15480553824989e-07\"\n",
            "[1] \"5.05964425626941 386 3.26222554318725e-07\"\n",
            "[1] \"5.05305188310325 385 3.37331318323373e-07\"\n",
            "[1] \"5.04645089807348 384 3.48819407380491e-07\"\n",
            "[1] \"5.03984126734166 383 3.60699814806113e-07\"\n",
            "[1] \"5.03322295684717 382 3.72985980593704e-07\"\n",
            "[1] \"5.02659593230515 381 3.85691806833969e-07\"\n",
            "[1] \"5.01996015920445 380 3.98831673669578e-07\"\n",
            "[1] \"5.01331560280553 379 4.12420455803444e-07\"\n",
            "[1] \"5.00666222813829 378 4.26473539579901e-07\"\n",
            "[1] \"5 377 4.41006840658741e-07\"\n",
            "[1] \"4.99332888295307 376 4.56036822302836e-07\"\n",
            "[1] \"4.98664884132286 375 4.71580514300769e-07\"\n",
            "[1] \"4.97995983919549 374 4.87655532546633e-07\"\n",
            "[1] \"4.97326184041554 373 5.04280099299984e-07\"\n",
            "[1] \"4.96655480858378 372 5.214730641497e-07\"\n",
            "[1] \"4.9598387070549 371 5.39253925706353e-07\"\n",
            "[1] \"4.95311349893512 370 5.57642854048556e-07\"\n",
            "[1] \"4.94637914707988 369 5.76660713949685e-07\"\n",
            "[1] \"4.93963561409139 368 5.96329088912218e-07\"\n",
            "[1] \"4.93288286231625 367 6.16670306038e-07\"\n",
            "[1] \"4.92612085384298 366 6.37707461763652e-07\"\n",
            "[1] \"4.91934955049954 365 6.59464448491438e-07\"\n",
            "[1] \"4.91256891385081 364 6.81965982146897e-07\"\n",
            "[1] \"4.90577890519606 363 7.05237630695776e-07\"\n",
            "[1] \"4.89897948556636 362 7.29305843653775e-07\"\n",
            "[1] \"4.89217061572196 361 7.54197982623968e-07\"\n",
            "[1] \"4.88535225614967 360 7.79942352897902e-07\"\n",
            "[1] \"4.87852436706019 359 8.06568236157595e-07\"\n",
            "[1] \"4.87168690838536 358 8.34105924317201e-07\"\n",
            "[1] \"4.86483983977547 357 8.62586754544122e-07\"\n",
            "[1] \"4.85798312059645 356 8.92043145501114e-07\"\n",
            "[1] \"4.85111670992704 355 9.22508634852123e-07\"\n",
            "[1] \"4.84424056655599 354 9.5401791807631e-07\"\n",
            "[1] \"4.83735464897913 353 9.86606888636133e-07\"\n",
            "[1] \"4.83045891539648 352 1.02031267954706e-06\"\n",
            "[1] \"4.82355332370926 351 1.05517370639823e-06\"\n",
            "[1] \"4.81663783151692 350 1.0912297118749e-06\"\n",
            "[1] \"4.80971239611407 349 1.12852181183569e-06\"\n",
            "[1] \"4.80277697448743 348 1.16709254299909e-06\"\n",
            "[1] \"4.79583152331272 347 1.20698591229596e-06\"\n",
            "[1] \"4.78887599895146 346 1.24824744794662e-06\"\n",
            "[1] \"4.78191035744781 345 1.29092425232322e-06\"\n",
            "[1] \"4.77493455452533 344 1.33506505666018e-06\"\n",
            "[1] \"4.76794854558366 343 1.38072027767792e-06\"\n",
            "[1] \"4.76095228569523 342 1.42794207618717e-06\"\n",
            "[1] \"4.75394572960189 341 1.47678441774366e-06\"\n",
            "[1] \"4.74692883171144 340 1.52730313542549e-06\"\n",
            "[1] \"4.73990154609425 339 1.57955599480806e-06\"\n",
            "[1] \"4.73286382647969 338 1.63360276121398e-06\"\n",
            "[1] \"4.72581562625261 337 1.68950526931824e-06\"\n",
            "[1] \"4.7187568984497 336 1.74732749519187e-06\"\n",
            "[1] \"4.7116875957559 335 1.80713563087005e-06\"\n",
            "[1] \"4.70460767050063 334 1.86899816153379e-06\"\n",
            "[1] \"4.69751707465408 333 1.93298594539776e-06\"\n",
            "[1] \"4.69041575982343 332 1.99917229639951e-06\"\n",
            "[1] \"4.68330367724893 331 2.06763306978942e-06\"\n",
            "[1] \"4.67618077780005 330 2.13844675072391e-06\"\n",
            "[1] \"4.6690470119715 329 2.21169454596783e-06\"\n",
            "[1] \"4.66190232987922 328 2.28746047881657e-06\"\n",
            "[1] \"4.65474668125631 327 2.36583148735136e-06\"\n",
            "[1] \"4.6475800154489 326 2.44689752614608e-06\"\n",
            "[1] \"4.64040228141196 325 2.53075167154772e-06\"\n",
            "[1] \"4.63321342770508 324 2.61749023065714e-06\"\n",
            "[1] \"4.62601340248815 323 2.70721285414125e-06\"\n",
            "[1] \"4.61880215351701 322 2.8000226530125e-06\"\n",
            "[1] \"4.611579628139 321 2.89602631951635e-06\"\n",
            "[1] \"4.60434577328853 320 2.99533425227257e-06\"\n",
            "[1] \"4.59710053548248 319 3.09806068582125e-06\"\n",
            "[1] \"4.5898438608156 318 3.20432382473003e-06\"\n",
            "[1] \"4.58257569495584 317 3.31424598242433e-06\"\n",
            "[1] \"4.5752959831396 316 3.42795372490885e-06\"\n",
            "[1] \"4.56800467016691 315 3.54557801955372e-06\"\n",
            "[1] \"4.56070170039655 314 3.66725438912573e-06\"\n",
            "[1] \"4.55338701774112 313 3.79312307125115e-06\"\n",
            "[1] \"4.54606056566195 312 3.92332918350321e-06\"\n",
            "[1] \"4.53872228716409 311 4.05802289431491e-06\"\n",
            "[1] \"4.53137212479105 310 4.19735959992437e-06\"\n",
            "[1] \"4.52401002061961 309 4.34150010756754e-06\"\n",
            "[1] \"4.51663591625449 308 4.49061082514122e-06\"\n",
            "[1] \"4.50924975282289 307 4.64486395756688e-06\"\n",
            "[1] \"4.5018514709691 306 4.80443771009457e-06\"\n",
            "[1] \"4.49444101084885 305 4.96951649879424e-06\"\n",
            "[1] \"4.48701831212369 304 5.14029116849132e-06\"\n",
            "[1] \"4.47958331395529 303 5.31695921841239e-06\"\n",
            "[1] \"4.47213595499958 302 5.49972503581646e-06\"\n",
            "[1] \"4.46467617340086 301 5.68880013789706e-06\"\n",
            "[1] \"4.45720390678581 300 5.88440342225138e-06\"\n",
            "[1] \"4.4497190922574 299 6.08676142622249e-06\"\n",
            "[1] \"4.44222166638871 298 6.29610859543251e-06\"\n",
            "[1] \"4.43471156521669 297 6.51268756183567e-06\"\n",
            "[1] \"4.42718872423573 296 6.73674943163265e-06\"\n",
            "[1] \"4.41965307839126 295 6.96855408339898e-06\"\n",
            "[1] \"4.41210456207315 294 7.20837047679432e-06\"\n",
            "[1] \"4.40454310910905 293 7.45647697223199e-06\"\n",
            "[1] \"4.39696865275764 292 7.71316166190206e-06\"\n",
            "[1] \"4.38938112570174 291 7.9787227125554e-06\"\n",
            "[1] \"4.38178046004133 290 8.25346872047184e-06\"\n",
            "[1] \"4.37416658728647 289 8.53771907904966e-06\"\n",
            "[1] \"4.36653943835008 288 8.83180435947054e-06\"\n",
            "[1] \"4.35889894354067 287 9.1360667049102e-06\"\n",
            "[1] \"4.35124503255486 286 9.45086023878237e-06\"\n",
            "[1] \"4.34357763446985 285 9.77655148752149e-06\"\n",
            "[1] \"4.33589667773576 284 1.01135198184274e-05\"\n",
            "[1] \"4.32820209016785 283 1.04621578931158e-05\"\n",
            "[1] \"4.32049379893857 282 1.08228721371363e-05\"\n",
            "[1] \"4.31277173056957 281 1.11960832263424e-05\"\n",
            "[1] \"4.30503581092345 280 1.15822265906169e-05\"\n",
            "[1] \"4.29728596519555 279 1.19817529355808e-05\"\n",
            "[1] \"4.28952211790544 278 1.23951287829349e-05\"\n",
            "[1] \"4.28174419288838 277 1.28228370301084e-05\"\n",
            "[1] \"4.27395211328656 276 1.3265377529911e-05\"\n",
            "[1] \"4.26614580154031 275 1.37232676909165e-05\"\n",
            "[1] \"4.25832517937902 274 1.41970430993233e-05\"\n",
            "[1] \"4.25049016781202 273 1.46872581630758e-05\"\n",
            "[1] \"4.24264068711928 272 1.51944867790484e-05\"\n",
            "[1] \"4.23477665684193 271 1.57193230241333e-05\"\n",
            "[1] \"4.22689799577263 270 1.6262381871096e-05\"\n",
            "[1] \"4.2190046219458 269 1.68242999301013e-05\"\n",
            "[1] \"4.21109645262767 268 1.74057362168389e-05\"\n",
            "[1] \"4.20317340430616 267 1.80073729482203e-05\"\n",
            "[1] \"4.19523539268061 266 1.86299163666456e-05\"\n",
            "[1] \"4.18728233265125 265 1.92740975938832e-05\"\n",
            "[1] \"4.17931413830866 264 1.99406735156401e-05\"\n",
            "[1] \"4.17133072292284 263 2.06304276979416e-05\"\n",
            "[1] \"4.16333199893227 262 2.13441713364793e-05\"\n",
            "[1] \"4.15531787793265 261 2.20827442401333e-05\"\n",
            "[1] \"4.14728827066554 260 2.28470158499132e-05\"\n",
            "[1] \"4.13924308700677 259 2.36378862946146e-05\"\n",
            "[1] \"4.13118223595458 258 2.4456287484532e-05\"\n",
            "[1] \"4.12310562561766 257 2.53031842446216e-05\"\n",
            "[1] \"4.11501316320292 256 2.61795754885576e-05\"\n",
            "[1] \"4.10690475500305 255 2.70864954351803e-05\"\n",
            "[1] \"4.09878030638384 254 2.80250148688897e-05\"\n",
            "[1] \"4.09063972177132 253 2.89962424455988e-05\"\n",
            "[1] \"4.08248290463863 252 3.00013260459148e-05\"\n",
            "[1] \"4.07430975749267 251 3.10414541772895e-05\"\n",
            "[1] \"4.06612018186051 250 3.21178574269323e-05\"\n",
            "[1] \"4.05791407827552 249 3.32318099673583e-05\"\n",
            "[1] \"4.04969134626332 248 3.43846311165078e-05\"\n",
            "[1] \"4.04145188432738 247 3.55776869544455e-05\"\n",
            "[1] \"4.03319558993445 246 3.68123919987306e-05\"\n",
            "[1] \"4.02492235949962 245 3.80902109406156e-05\"\n",
            "[1] \"4.01663208837122 244 3.94126604443268e-05\"\n",
            "[1] \"4.00832467081531 243 4.07813110117531e-05\"\n",
            "[1] \"4 242 4.21977889149626e-05\"\n",
            "[1] \"3.99165796797939 241 4.36637781990601e-05\"\n",
            "[1] \"3.98329846567724 240 4.51810227579868e-05\"\n",
            "[1] \"3.97492138287036 239 4.67513284859685e-05\"\n",
            "[1] \"3.9665266081716 238 4.83765655074202e-05\"\n",
            "[1] \"3.95811402901264 237 5.0058670488216e-05\"\n",
            "[1] \"3.9496835316263 236 5.17996490313523e-05\"\n",
            "[1] \"3.94123500102865 235 5.36015781601394e-05\"\n",
            "[1] \"3.9327683210007 234 5.54666088921826e-05\"\n",
            "[1] \"3.92428337406972 233 5.73969689075329e-05\"\n",
            "[1] \"3.91578004149024 232 5.93949653145208e-05\"\n",
            "[1] \"3.90725820322469 231 6.14629875169148e-05\"\n",
            "[1] \"3.89871773792359 230 6.36035101861961e-05\"\n",
            "[1] \"3.89015852290538 229 6.58190963428724e-05\"\n",
            "[1] \"3.8815804341359 228 6.81124005509161e-05\"\n",
            "[1] \"3.87298334620742 227 7.04861722295619e-05\"\n",
            "[1] \"3.86436713231718 226 7.2943259086865e-05\"\n",
            "[1] \"3.85573166424567 225 7.54866106795867e-05\"\n",
            "[1] \"3.84707681233427 224 7.81192821041567e-05\"\n",
            "[1] \"3.83840244546261 223 8.08444378236371e-05\"\n",
            "[1] \"3.82970843102535 222 8.36653556358068e-05\"\n",
            "[1] \"3.82099463490856 221 8.65854307876861e-05\"\n",
            "[1] \"3.81226092146555 220 8.96081802420194e-05\"\n",
            "[1] \"3.80350715349224 219 9.27372471014562e-05\"\n",
            "[1] \"3.79473319220206 218 9.5976405196388e-05\"\n",
            "[1] \"3.78593889720018 217 9.9329563842632e-05\"\n",
            "[1] \"3.77712412645741 216 0.000102800772775395\"\n",
            "[1] \"3.76828873628335 215 0.000106394227266198\"\n",
            "[1] \"3.75943258129912 214 0.000110114273429705\"\n",
            "[1] \"3.75055551440939 213 0.000113965413727679\"\n",
            "[1] \"3.74165738677394 212 0.000117952312677547\"\n",
            "[1] \"3.73273804777851 211 0.000122079802773381\"\n",
            "[1] \"3.72379734500505 210 0.000126352890627387\"\n",
            "[1] \"3.71483512420134 209 0.000130776763340313\"\n",
            "[1] \"3.70585122924995 208 0.000135356795109534\"\n",
            "[1] \"3.69684550213647 207 0.000140098554083898\"\n",
            "[1] \"3.68781778291716 206 0.000145007809474788\"\n",
            "[1] \"3.67876790968571 205 0.000150090538933231\"\n",
            "[1] \"3.66969571853944 204 0.000155352936203258\"\n",
            "[1] \"3.66060104354463 203 0.000160801419062153\"\n",
            "[1] \"3.65148371670111 202 0.000166442637558619\"\n",
            "[1] \"3.64234356790606 201 0.000172283482560357\"\n",
            "[1] \"3.63318042491699 200 0.000178331094622994\"\n",
            "[1] \"3.62399411331384 199 0.000184592873192776\"\n",
            "[1] \"3.61478445646026 198 0.000191076486155967\"\n",
            "[1] \"3.60555127546399 197 0.000197789879748349\"\n",
            "[1] \"3.59629438913631 196 0.00020474128883884\"\n",
            "[1] \"3.58701361395056 195 0.000211939247601746\"\n",
            "[1] \"3.57770876399966 194 0.000219392600592775\"\n",
            "[1] \"3.5683796509527 193 0.000227110514244556\"\n",
            "[1] \"3.55902608401044 192 0.00023510248879804\"\n",
            "[1] \"3.54964786985977 191 0.00024337837068681\"\n",
            "[1] \"3.54024481262713 190 0.000251948365392046\"\n",
            "[1] \"3.53081671383076 189 0.00026082305078659\"\n",
            "[1] \"3.5213633723318 188 0.00027001339098733\"\n",
            "[1] \"3.51188458428425 187 0.000279530750735887\"\n",
            "[1] \"3.50238014308365 186 0.000289386910328433\"\n",
            "[1] \"3.4928498393146 185 0.000299594081116294\"\n",
            "[1] \"3.48329346069684 184 0.000310164921599913\"\n",
            "[1] \"3.47371079203014 183 0.000321112554139674\"\n",
            "[1] \"3.46410161513775 182 0.000332450582308033\"\n",
            "[1] \"3.45446570880843 181 0.000344193108908456\"\n",
            "[1] \"3.44480284873702 180 0.000356354754687693\"\n",
            "[1] \"3.43511280746353 179 0.000368950677769051\"\n",
            "[1] \"3.4253953543107 178 0.000381996593835441\"\n",
            "[1] \"3.41565025531987 177 0.000395508797092236\"\n",
            "[1] \"3.40587727318528 176 0.000409504182041179\"\n",
            "[1] \"3.39607616718667 175 0.00042400026609795\"\n",
            "[1] \"3.38624669312008 174 0.000439015213087333\"\n",
            "[1] \"3.37638860322683 173 0.000454567857651369\"\n",
            "[1] \"3.36650164612069 172 0.000470677730607418\"\n",
            "[1] \"3.35658556671309 171 0.000487365085294566\"\n",
            "[1] \"3.3466401061363 170 0.000504650924948494\"\n",
            "[1] \"3.33666500166459 169 0.000522557031146632\"\n",
            "[1] \"3.32665998663324 168 0.000541105993367184\"\n",
            "[1] \"3.3166247903554 167 0.000560321239707562\"\n",
            "[1] \"3.3065591380366 166 0.000580227068809623\"\n",
            "[1] \"3.29646275068696 165 0.000600848683041245\"\n",
            "[1] \"3.286335345031 164 0.000622212222985886\"\n",
            "[1] \"3.27617663341483 163 0.000644344803294019\"\n",
            "[1] \"3.2659863237109 162 0.000667274549952707\"\n",
            "[1] \"3.25576411921994 161 0.000691030639031998\"\n",
            "[1] \"3.24550971857016 160 0.000715643336969503\"\n",
            "[1] \"3.23522281561358 159 0.00074114404245707\"\n",
            "[1] \"3.22490309931942 158 0.00076756532999645\"\n",
            "[1] \"3.21455025366432 157 0.000794940995193726\"\n",
            "[1] \"3.20416395751944 156 0.00082330610186538\"\n",
            "[1] \"3.19374388453426 155 0.000852697031032215\"\n",
            "[1] \"3.18328970301689 154 0.00088315153188065\"\n",
            "[1] \"3.17280107581088 153 0.000914708774774592\"\n",
            "[1] \"3.16227766016838 152 0.000947409406404771\"\n",
            "[1] \"3.15171910761942 151 0.000981295607166408\"\n",
            "[1] \"3.14112506383727 150 0.0010164111508602\"\n",
            "[1] \"3.13049516849971 149 0.001052801466816\"\n",
            "[1] \"3.11982905514602 148 0.00109051370454295\"\n",
            "[1] \"3.1091263510296 147 0.00112959680101501\"\n",
            "[1] \"3.09838667696593 146 0.00117010155070521\"\n",
            "[1] \"3.08760964717584 145 0.00121208067848802\"\n",
            "[1] \"3.07679486912382 144 0.00125558891553403\"\n",
            "[1] \"3.06594194335118 143 0.00130068307832757\"\n",
            "[1] \"3.05505046330389 142 0.00134742215094354\"\n",
            "[1] \"3.0441200151549 141 0.00139586737072664\"\n",
            "[1] \"3.03315017762062 140 0.00144608231752257\"\n",
            "[1] \"3.0221405217715 139 0.00149813300661819\"\n",
            "[1] \"3.01109061083632 138 0.00155208798555494\"\n",
            "[1] \"3 137 0.00160801843498794\"\n",
            "[1] \"2.98886823619465 136 0.00166599827377144\"\n",
            "[1] \"2.97769485788364 135 0.00172610426845991\"\n",
            "[1] \"2.96647939483827 134 0.00178841614742366\"\n",
            "[1] \"2.95522136790687 133 0.00185301671978736\"\n",
            "[1] \"2.94392028877595 132 0.00191999199941017\"\n",
            "[1] \"2.93257565972304 131 0.00198943133413727\"\n",
            "[1] \"2.92118697336089 130 0.00206142754056364\"\n",
            "[1] \"2.90975371237269 129 0.00213607704456343\"\n",
            "[1] \"2.89827534923789 128 0.00221348002785092\"\n",
            "[1] \"2.88675134594813 127 0.00229374058085229\"\n",
            "[1] \"2.87518115371304 126 0.00237696686218221\"\n",
            "[1] \"2.86356421265527 125 0.00246327126503387\"\n",
            "[1] \"2.85189995149433 124 0.0025527705908073\"\n",
            "[1] \"2.84018778721877 123 0.00264558623031766\"\n",
            "[1] \"2.82842712474619 122 0.00274184435294293\"\n",
            "[1] \"2.81661735657035 121 0.00284167610408956\"\n",
            "[1] \"2.80475786239502 120 0.00294521781137454\"\n",
            "[1] \"2.79284800875379 119 0.00305261119994363\"\n",
            "[1] \"2.78088714861523 118 0.00316400361736819\"\n",
            "[1] \"2.76887462097269 117 0.00327954826858662\"\n",
            "[1] \"2.75680975041804 116 0.00339940446138223\"\n",
            "[1] \"2.74469184669852 115 0.00352373786291593\"\n",
            "[1] \"2.73252020425589 114 0.00365272076786107\"\n",
            "[1] \"2.72029410174709 113 0.00378653237871795\"\n",
            "[1] \"2.70801280154532 112 0.00392535909891816\"\n",
            "[1] \"2.69567554922076 111 0.00406939483936303\"\n",
            "[1] \"2.68328157299975 110 0.00421884133907748\"\n",
            "[1] \"2.67083008320135 109 0.00437390850069946\"\n",
            "[1] \"2.65832027165025 108 0.00453481474156676\"\n",
            "[1] \"2.64575131106459 107 0.00470178736120761\"\n",
            "[1] \"2.63312235441753 106 0.00487506292608856\"\n",
            "[1] \"2.62043253427114 105 0.00505488767252409\"\n",
            "[1] \"2.60768096208106 104 0.00524151792870621\"\n",
            "[1] \"2.59486672747048 103 0.0054352205568702\"\n",
            "[1] \"2.58198889747161 102 0.00563627341667452\"\n",
            "[1] \"2.56904651573303 101 0.00584496585093908\"\n",
            "[1] \"2.55603860169078 100 0.00606159919495689\"\n",
            "[1] \"2.54296414970142 99 0.00628648731067044\"\n",
            "[1] \"2.5298221281347 98 0.00651995714708524\"\n",
            "[1] \"2.51661147842358 97 0.0067623493283809\"\n",
            "[1] \"2.50333111406914 96 0.0070140187712741\"\n",
            "[1] \"2.48997991959775 95 0.00727533533328865\"\n",
            "[1] \"2.47655674946756 94 0.00754668449369709\"\n",
            "[1] \"2.46306042692149 93 0.00782846806901524\"\n",
            "[1] \"2.44948974278318 92 0.00812110496505726\"\n",
            "[1] \"2.43584345419268 91 0.00842503196769521\"\n",
            "[1] \"2.42212028327799 90 0.00874070457461431\"\n",
            "[1] \"2.40831891575846 89 0.00906859787051357\"\n",
            "[1] \"2.39443799947573 88 0.00940920744837391\"\n",
            "[1] \"2.38047614284762 87 0.00976305037960132\"\n",
            "[1] \"2.36643191323985 86 0.0101306662360549\"\n",
            "[1] \"2.35230383525031 85 0.0105126181671881\"\n",
            "[1] \"2.33809038890002 84 0.0109094940357683\"\n",
            "[1] \"2.32379000772445 83 0.0113219076158996\"\n",
            "[1] \"2.3094010767585 82 0.0117504998573519\"\n",
            "[1] \"2.2949219304078 81 0.0121959402205081\"\n",
            "[1] \"2.28035085019828 80 0.012658928086573\"\n",
            "[1] \"2.26568606239552 79 0.013140194248051\"\n",
            "[1] \"2.25092573548455 78 0.0136405024849001\"\n",
            "[1] \"2.23606797749979 77 0.0141606512322025\"\n",
            "[1] \"2.22111083319436 76 0.0147014753456698\"\n",
            "[1] \"2.20605228103657 75 0.0152638479718258\"\n",
            "[1] \"2.19089023002066 74 0.0158486825302828\"\n",
            "[1] \"2.17562251627743 73 0.0164569348161592\"\n",
            "[1] \"2.16024689946929 72 0.0170896052313853\"\n",
            "[1] \"2.14476105895272 71 0.0177477411544094\"\n",
            "[1] \"2.12916258968951 70 0.0184324394586654\"\n",
            "[1] \"2.11344899788631 69 0.0191448491911037\"\n",
            "[1] \"2.0976176963403 68 0.0198861744231238\"\n",
            "[1] \"2.08166599946613 67 0.020657677287403\"\n",
            "[1] \"2.06559111797729 66 0.0214606812153987\"\n",
            "[1] \"2.04939015319192 65 0.0222965743917272\"\n",
            "[1] \"2.03306009093025 64 0.0231668134432183\"\n",
            "[1] \"2.01659779496722 63 0.0240729273822206\"\n",
            "[1] \"2 62 0.0250165218257287\"\n",
            "[1] \"1.9832633040858 61 0.0259992835141334\"\n",
            "[1] \"1.96638416050035 60 0.0270229851559096\"\n",
            "[1] \"1.94935886896179 59 0.0280894906273813\"\n",
            "[1] \"1.93218356615859 58 0.0292007605598953\"\n",
            "[1] \"1.91485421551268 57 0.0303588583503363\"\n",
            "[1] \"1.89736659610103 56 0.0315659566350119\"\n",
            "[1] \"1.87971629064956 55 0.0328243442715712\"\n",
            "[1] \"1.86189867250253 54 0.0341364338789122\"\n",
            "[1] \"1.84390889145858 53 0.0355047699910676\"\n",
            "[1] \"1.82574185835055 52 0.0369320378879646\"\n",
            "[1] \"1.80739222823013 51 0.0384210731738798\"\n",
            "[1] \"1.78885438199983 50 0.0399748721835318\"\n",
            "[1] \"1.77012240631357 49 0.0415966033062752\"\n",
            "[1] \"1.75119007154183 48 0.0432896193310433\"\n",
            "[1] \"1.73205080756888 47 0.0450574709288279\"\n",
            "[1] \"1.71269767715535 46 0.0469039214059596\"\n",
            "[1] \"1.69312334656004 45 0.0488329628807036\"\n",
            "[1] \"1.67332005306815 44 0.0508488340582713\"\n"
          ]
        }
      ]
    },
    {
      "cell_type": "markdown",
      "source": [
        "# Task 3"
      ],
      "metadata": {
        "id": "K8WiLyl254P6"
      }
    },
    {
      "cell_type": "code",
      "source": [
        "total.length = 29903\n",
        "p.t = 9594 / total.length\n",
        "p.a = 8954 / total.length\n",
        "p.g = 5863 / total.length\n",
        "p.c = 5492 / total.length"
      ],
      "metadata": {
        "id": "cRNUb92I55O_"
      },
      "execution_count": 15,
      "outputs": []
    },
    {
      "cell_type": "code",
      "source": [
        "p.ta = p.t * p.a / 2"
      ],
      "metadata": {
        "id": "khCRi0UZ6RWo"
      },
      "execution_count": 16,
      "outputs": []
    },
    {
      "cell_type": "code",
      "source": [
        "ta_expected = total.length * p.ta\n",
        "ta_expected"
      ],
      "metadata": {
        "colab": {
          "base_uri": "https://localhost:8080/",
          "height": 34
        },
        "id": "f2GmM3lI6fkI",
        "outputId": "b88492d1-766f-451e-ecb6-ad44791e56f2"
      },
      "execution_count": 17,
      "outputs": [
        {
          "output_type": "display_data",
          "data": {
            "text/html": [
              "1436.38892418821"
            ],
            "text/markdown": "1436.38892418821",
            "text/latex": "1436.38892418821",
            "text/plain": [
              "[1] 1436.389"
            ]
          },
          "metadata": {}
        }
      ]
    },
    {
      "cell_type": "code",
      "source": [
        "poisson.test(x=2377, T=1, r=1436) # x in num of expected observations (or real), while r is num of real observations (or expected) (T is just a denominatof for x, namely poisson.test(x=2*1436, T=2*1, r=2377) gives the same result)"
      ],
      "metadata": {
        "colab": {
          "base_uri": "https://localhost:8080/",
          "height": 208
        },
        "id": "DEOd69VJNrsQ",
        "outputId": "9b4037c6-8f4f-4b9f-dd39-84fd8f68a6b1"
      },
      "execution_count": 24,
      "outputs": [
        {
          "output_type": "display_data",
          "data": {
            "text/plain": [
              "\n",
              "\tExact Poisson test\n",
              "\n",
              "data:  2377 time base: 1\n",
              "number of events = 2377, time base = 1, p-value < 2.2e-16\n",
              "alternative hypothesis: true event rate is not equal to 1436\n",
              "95 percent confidence interval:\n",
              " 2282.394 2474.521\n",
              "sample estimates:\n",
              "event rate \n",
              "      2377 \n"
            ]
          },
          "metadata": {}
        }
      ]
    },
    {
      "cell_type": "code",
      "source": [
        "# same results\n",
        "poisson.test(x=1436, T=1, r=2377)"
      ],
      "metadata": {
        "colab": {
          "base_uri": "https://localhost:8080/",
          "height": 208
        },
        "id": "VnZIqv8gYCbZ",
        "outputId": "3402548c-f430-4a74-a651-d21bbf85e497"
      },
      "execution_count": 25,
      "outputs": [
        {
          "output_type": "display_data",
          "data": {
            "text/plain": [
              "\n",
              "\tExact Poisson test\n",
              "\n",
              "data:  1436 time base: 1\n",
              "number of events = 1436, time base = 1, p-value < 2.2e-16\n",
              "alternative hypothesis: true event rate is not equal to 2377\n",
              "95 percent confidence interval:\n",
              " 1362.68 1512.24\n",
              "sample estimates:\n",
              "event rate \n",
              "      1436 \n"
            ]
          },
          "metadata": {}
        }
      ]
    },
    {
      "cell_type": "code",
      "source": [
        "poisson.test(x=2*1436, T=2*1, r=2377) # testing T, same results"
      ],
      "metadata": {
        "colab": {
          "base_uri": "https://localhost:8080/",
          "height": 208
        },
        "id": "fLK6FehnW0EE",
        "outputId": "1c46d0f4-5b7c-4ecf-bf19-a8e5f94ef01c"
      },
      "execution_count": 22,
      "outputs": [
        {
          "output_type": "display_data",
          "data": {
            "text/plain": [
              "\n",
              "\tExact Poisson test\n",
              "\n",
              "data:  2 * 1436 time base: 2 * 1\n",
              "number of events = 2872, time base = 2, p-value < 2.2e-16\n",
              "alternative hypothesis: true event rate is not equal to 2377\n",
              "95 percent confidence interval:\n",
              " 1383.957 1489.499\n",
              "sample estimates:\n",
              "event rate \n",
              "      1436 \n"
            ]
          },
          "metadata": {}
        }
      ]
    },
    {
      "cell_type": "code",
      "source": [
        "# here I show that binomial test gives the same as poisson\n",
        "binom.test(x=2377, n=29903-1, p=1436/(29903-1)) # minus 1 because TA has legth 2"
      ],
      "metadata": {
        "colab": {
          "base_uri": "https://localhost:8080/",
          "height": 208
        },
        "id": "mmzQl9zsQmZP",
        "outputId": "27d48bb7-5faa-4f8b-8696-1640cf7cc865"
      },
      "execution_count": 29,
      "outputs": [
        {
          "output_type": "display_data",
          "data": {
            "text/plain": [
              "\n",
              "\tExact binomial test\n",
              "\n",
              "data:  2377 and 29903 - 1\n",
              "number of successes = 2377, number of trials = 29902, p-value < 2.2e-16\n",
              "alternative hypothesis: true probability of success is not equal to 0.04802354\n",
              "95 percent confidence interval:\n",
              " 0.07645122 0.08261679\n",
              "sample estimates:\n",
              "probability of success \n",
              "            0.07949301 \n"
            ]
          },
          "metadata": {}
        }
      ]
    },
    {
      "cell_type": "code",
      "source": [
        "1436/(29903-1)"
      ],
      "metadata": {
        "colab": {
          "base_uri": "https://localhost:8080/",
          "height": 34
        },
        "id": "0WwLlGcZKRO-",
        "outputId": "b17d1697-3b6b-475c-ebb8-369227699d9d"
      },
      "execution_count": 30,
      "outputs": [
        {
          "output_type": "display_data",
          "data": {
            "text/html": [
              "0.0480235435756806"
            ],
            "text/markdown": "0.0480235435756806",
            "text/latex": "0.0480235435756806",
            "text/plain": [
              "[1] 0.04802354"
            ]
          },
          "metadata": {}
        }
      ]
    },
    {
      "cell_type": "markdown",
      "source": [
        "# Task 4"
      ],
      "metadata": {
        "id": "1crBVKUTcohV"
      }
    },
    {
      "cell_type": "code",
      "source": [
        "data.from_file = c(62.2, 58.7, 59.7, 58.7, 60.0, 62.0, 61.5, 58.2, 61.9, 59.1, 61.3, 60.0, 61.7, 59.6, 61.3, 61.8, 64.3, 62.0, 61.8)"
      ],
      "metadata": {
        "id": "WUfUdBlDZ4qH"
      },
      "execution_count": 94,
      "outputs": []
    },
    {
      "cell_type": "code",
      "source": [
        "mean(data.from_file)"
      ],
      "metadata": {
        "colab": {
          "base_uri": "https://localhost:8080/",
          "height": 34
        },
        "id": "epI2yCkct03n",
        "outputId": "d902657c-5e19-47c5-f6f3-de78f2656096"
      },
      "execution_count": 95,
      "outputs": [
        {
          "output_type": "display_data",
          "data": {
            "text/html": [
              "60.8315789473684"
            ],
            "text/markdown": "60.8315789473684",
            "text/latex": "60.8315789473684",
            "text/plain": [
              "[1] 60.83158"
            ]
          },
          "metadata": {}
        }
      ]
    },
    {
      "cell_type": "code",
      "source": [
        "wilcox.test(data.from_file, mu=61.5, correct=F, exact=F, alternative='t')"
      ],
      "metadata": {
        "colab": {
          "base_uri": "https://localhost:8080/",
          "height": 121
        },
        "id": "XopwmXRJfFLn",
        "outputId": "0353f0ad-962f-4559-bc90-f80e79e14b9c"
      },
      "execution_count": 96,
      "outputs": [
        {
          "output_type": "display_data",
          "data": {
            "text/plain": [
              "\n",
              "\tWilcoxon signed rank test\n",
              "\n",
              "data:  data.from_file\n",
              "V = 57, p-value = 0.2139\n",
              "alternative hypothesis: true location is not equal to 61.5\n"
            ]
          },
          "metadata": {}
        }
      ]
    },
    {
      "cell_type": "code",
      "source": [
        "binom.test(x=sum(data.from_file > 61.5), n=sum(data.from_file != 61.5), p=0.5, alternative='t')"
      ],
      "metadata": {
        "colab": {
          "base_uri": "https://localhost:8080/",
          "height": 208
        },
        "id": "y9p5KJ2cfSYW",
        "outputId": "6cf3b09a-65aa-46fe-ff56-3487bb85bda7"
      },
      "execution_count": 83,
      "outputs": [
        {
          "output_type": "display_data",
          "data": {
            "text/plain": [
              "\n",
              "\tExact binomial test\n",
              "\n",
              "data:  sum(data.from_file > 61.5) and sum(data.from_file != 61.5)\n",
              "number of successes = 8, number of trials = 18, p-value = 0.8145\n",
              "alternative hypothesis: true probability of success is not equal to 0.5\n",
              "95 percent confidence interval:\n",
              " 0.2153015 0.6924283\n",
              "sample estimates:\n",
              "probability of success \n",
              "             0.4444444 \n"
            ]
          },
          "metadata": {}
        }
      ]
    },
    {
      "cell_type": "markdown",
      "source": [
        "# Task 5"
      ],
      "metadata": {
        "id": "MrLUNBcNwCdB"
      }
    },
    {
      "cell_type": "code",
      "source": [
        "manufacture1 = c(2.49, 1.01, 2.81, 2.60, 3.09, 4.60, 2.50, 1.18, 2.20, 3.12, 2.90, 3.58, 2.89, 4.48, 2.17, 1.26, 2.63, 1.17, 1.72, 1.71, 2.45, 3.75, 3.31, 3.23 )\n",
        "manufacture2 = c(3.37, 2.12, 3.08, 3.57, 4.79, 1.60, 3.71, 5.48, 3.06, 5.76, 3.86, 4.43, 3.77, 4.59, 2.80, 4.11, 3.70, 2.36, 4.83, 2.33)"
      ],
      "metadata": {
        "id": "E5uI2PezxnSg"
      },
      "execution_count": 110,
      "outputs": []
    },
    {
      "cell_type": "code",
      "source": [
        "var.test(manufacture1, manufacture2)"
      ],
      "metadata": {
        "colab": {
          "base_uri": "https://localhost:8080/",
          "height": 208
        },
        "id": "_1udM9bapDcF",
        "outputId": "0cc012f8-c10e-410c-b2d5-718c8ff2bdde"
      },
      "execution_count": 111,
      "outputs": [
        {
          "output_type": "display_data",
          "data": {
            "text/plain": [
              "\n",
              "\tF test to compare two variances\n",
              "\n",
              "data:  manufacture1 and manufacture2\n",
              "F = 0.75962, num df = 23, denom df = 19, p-value = 0.5252\n",
              "alternative hypothesis: true ratio of variances is not equal to 1\n",
              "95 percent confidence interval:\n",
              " 0.3081884 1.8036903\n",
              "sample estimates:\n",
              "ratio of variances \n",
              "         0.7596193 \n"
            ]
          },
          "metadata": {}
        }
      ]
    },
    {
      "cell_type": "code",
      "source": [
        "# seems like fisher test gave right result\n",
        "print(sd(manufacture1))\n",
        "print(sd(manufacture2))"
      ],
      "metadata": {
        "colab": {
          "base_uri": "https://localhost:8080/"
        },
        "id": "K1mUhKl92g2Y",
        "outputId": "128b41cf-8d06-428e-b16e-42d853cca8f2"
      },
      "execution_count": 113,
      "outputs": [
        {
          "output_type": "stream",
          "name": "stdout",
          "text": [
            "[1] 0.9731272\n",
            "[1] 1.116533\n"
          ]
        }
      ]
    },
    {
      "cell_type": "code",
      "source": [
        "kruskal.test(list(manufacture1, manufacture2))"
      ],
      "metadata": {
        "colab": {
          "base_uri": "https://localhost:8080/",
          "height": 104
        },
        "id": "6iud73TpySOF",
        "outputId": "f4cedc26-03a4-4be5-af73-39eed45c8b8f"
      },
      "execution_count": 112,
      "outputs": [
        {
          "output_type": "display_data",
          "data": {
            "text/plain": [
              "\n",
              "\tKruskal-Wallis rank sum test\n",
              "\n",
              "data:  list(manufacture1, manufacture2)\n",
              "Kruskal-Wallis chi-squared = 8, df = 1, p-value = 0.004678\n"
            ]
          },
          "metadata": {}
        }
      ]
    },
    {
      "cell_type": "code",
      "source": [
        "t.test(manufacture1, manufacture2, var.equal=T)"
      ],
      "metadata": {
        "colab": {
          "base_uri": "https://localhost:8080/",
          "height": 208
        },
        "id": "aNvivkHh16v0",
        "outputId": "f15afa45-784d-4926-9393-7d5e901f15e3"
      },
      "execution_count": 117,
      "outputs": [
        {
          "output_type": "display_data",
          "data": {
            "text/plain": [
              "\n",
              "\tTwo Sample t-test\n",
              "\n",
              "data:  manufacture1 and manufacture2\n",
              "t = -3.3245, df = 42, p-value = 0.001845\n",
              "alternative hypothesis: true difference in means is not equal to 0\n",
              "95 percent confidence interval:\n",
              " -1.6829713 -0.4115287\n",
              "sample estimates:\n",
              "mean of x mean of y \n",
              "  2.61875   3.66600 \n"
            ]
          },
          "metadata": {}
        }
      ]
    },
    {
      "cell_type": "code",
      "source": [
        "print(mean(manufacture1))\n",
        "print(mean(manufacture2))"
      ],
      "metadata": {
        "colab": {
          "base_uri": "https://localhost:8080/"
        },
        "id": "V4cFHoPB34uc",
        "outputId": "d88bbe63-2ddf-4f6d-82be-e4833dd88ecd"
      },
      "execution_count": 116,
      "outputs": [
        {
          "output_type": "stream",
          "name": "stdout",
          "text": [
            "[1] 2.61875\n",
            "[1] 3.666\n"
          ]
        }
      ]
    },
    {
      "cell_type": "code",
      "source": [],
      "metadata": {
        "id": "Bcv22jnn44zs"
      },
      "execution_count": null,
      "outputs": []
    }
  ]
}