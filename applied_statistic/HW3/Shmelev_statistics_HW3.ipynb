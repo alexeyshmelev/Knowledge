{
  "nbformat": 4,
  "nbformat_minor": 0,
  "metadata": {
    "colab": {
      "provenance": []
    },
    "kernelspec": {
      "name": "ir",
      "display_name": "R"
    },
    "language_info": {
      "name": "R"
    }
  },
  "cells": [
    {
      "cell_type": "code",
      "source": [
        "install.packages('BSDA')"
      ],
      "metadata": {
        "colab": {
          "base_uri": "https://localhost:8080/"
        },
        "id": "txqLQJuvnuLs",
        "outputId": "48360425-e4d6-423e-faf9-a97bc684fa01"
      },
      "execution_count": 222,
      "outputs": [
        {
          "output_type": "stream",
          "name": "stderr",
          "text": [
            "Installing package into ‘/usr/local/lib/R/site-library’\n",
            "(as ‘lib’ is unspecified)\n",
            "\n",
            "also installing the dependencies ‘proxy’, ‘e1071’\n",
            "\n",
            "\n"
          ]
        }
      ]
    },
    {
      "cell_type": "code",
      "source": [
        "library('BSDA')"
      ],
      "metadata": {
        "colab": {
          "base_uri": "https://localhost:8080/"
        },
        "id": "vwIOJj1znxd0",
        "outputId": "abaf3fba-cd71-4d1e-b888-242e5b1e421e"
      },
      "execution_count": 223,
      "outputs": [
        {
          "output_type": "stream",
          "name": "stderr",
          "text": [
            "Loading required package: lattice\n",
            "\n",
            "\n",
            "Attaching package: ‘BSDA’\n",
            "\n",
            "\n",
            "The following object is masked from ‘package:datasets’:\n",
            "\n",
            "    Orange\n",
            "\n",
            "\n"
          ]
        }
      ]
    },
    {
      "cell_type": "code",
      "execution_count": 2,
      "metadata": {
        "colab": {
          "base_uri": "https://localhost:8080/",
          "height": 1000
        },
        "id": "0oqzXhhC4b18",
        "outputId": "f04de3e4-9566-4e44-e0bb-db9fd611b922"
      },
      "outputs": [
        {
          "output_type": "display_data",
          "data": {
            "text/html": [
              "<table class=\"dataframe\">\n",
              "<caption>A data.frame: 1795 × 9</caption>\n",
              "<thead>\n",
              "\t<tr><th scope=col>Company...Maker.if.known.</th><th scope=col>Specific.Bean.Origin.or.Bar.Name</th><th scope=col>REF</th><th scope=col>Review.Date</th><th scope=col>Cocoa.Percent</th><th scope=col>Company.Location</th><th scope=col>Rating</th><th scope=col>Bean.Type</th><th scope=col>Broad.Bean.Origin</th></tr>\n",
              "\t<tr><th scope=col>&lt;chr&gt;</th><th scope=col>&lt;chr&gt;</th><th scope=col>&lt;int&gt;</th><th scope=col>&lt;int&gt;</th><th scope=col>&lt;chr&gt;</th><th scope=col>&lt;chr&gt;</th><th scope=col>&lt;dbl&gt;</th><th scope=col>&lt;chr&gt;</th><th scope=col>&lt;chr&gt;</th></tr>\n",
              "</thead>\n",
              "<tbody>\n",
              "\t<tr><td>A. Morin          </td><td>Agua Grande              </td><td>1876</td><td>2016</td><td>63%</td><td>France </td><td>3.75</td><td>                  </td><td>Sao Tome        </td></tr>\n",
              "\t<tr><td>A. Morin          </td><td>Kpime                    </td><td>1676</td><td>2015</td><td>70%</td><td>France </td><td>2.75</td><td>                  </td><td>Togo            </td></tr>\n",
              "\t<tr><td>A. Morin          </td><td>Atsane                   </td><td>1676</td><td>2015</td><td>70%</td><td>France </td><td>3.00</td><td>                  </td><td>Togo            </td></tr>\n",
              "\t<tr><td>A. Morin          </td><td>Akata                    </td><td>1680</td><td>2015</td><td>70%</td><td>France </td><td>3.50</td><td>                  </td><td>Togo            </td></tr>\n",
              "\t<tr><td>A. Morin          </td><td>Quilla                   </td><td>1704</td><td>2015</td><td>70%</td><td>France </td><td>3.50</td><td>                  </td><td>Peru            </td></tr>\n",
              "\t<tr><td>A. Morin          </td><td>Carenero                 </td><td>1315</td><td>2014</td><td>70%</td><td>France </td><td>2.75</td><td>Criollo           </td><td>Venezuela       </td></tr>\n",
              "\t<tr><td>A. Morin          </td><td>Cuba                     </td><td>1315</td><td>2014</td><td>70%</td><td>France </td><td>3.50</td><td>                  </td><td>Cuba            </td></tr>\n",
              "\t<tr><td>A. Morin          </td><td>Sur del Lago             </td><td>1315</td><td>2014</td><td>70%</td><td>France </td><td>3.50</td><td>Criollo           </td><td>Venezuela       </td></tr>\n",
              "\t<tr><td>A. Morin          </td><td>Puerto Cabello           </td><td>1319</td><td>2014</td><td>70%</td><td>France </td><td>3.75</td><td>Criollo           </td><td>Venezuela       </td></tr>\n",
              "\t<tr><td>A. Morin          </td><td>Pablino                  </td><td>1319</td><td>2014</td><td>70%</td><td>France </td><td>4.00</td><td>                  </td><td>Peru            </td></tr>\n",
              "\t<tr><td>A. Morin          </td><td>Panama                   </td><td>1011</td><td>2013</td><td>70%</td><td>France </td><td>2.75</td><td>                  </td><td>Panama          </td></tr>\n",
              "\t<tr><td>A. Morin          </td><td>Madagascar               </td><td>1011</td><td>2013</td><td>70%</td><td>France </td><td>3.00</td><td>Criollo           </td><td>Madagascar      </td></tr>\n",
              "\t<tr><td>A. Morin          </td><td>Brazil                   </td><td>1011</td><td>2013</td><td>70%</td><td>France </td><td>3.25</td><td>                  </td><td>Brazil          </td></tr>\n",
              "\t<tr><td>A. Morin          </td><td>Equateur                 </td><td>1011</td><td>2013</td><td>70%</td><td>France </td><td>3.75</td><td>                  </td><td>Ecuador         </td></tr>\n",
              "\t<tr><td>A. Morin          </td><td>Colombie                 </td><td>1015</td><td>2013</td><td>70%</td><td>France </td><td>2.75</td><td>                  </td><td>Colombia        </td></tr>\n",
              "\t<tr><td>A. Morin          </td><td>Birmanie                 </td><td>1015</td><td>2013</td><td>70%</td><td>France </td><td>3.00</td><td>                  </td><td>Burma           </td></tr>\n",
              "\t<tr><td>A. Morin          </td><td>Papua New Guinea         </td><td>1015</td><td>2013</td><td>70%</td><td>France </td><td>3.25</td><td>                  </td><td>Papua New Guinea</td></tr>\n",
              "\t<tr><td>A. Morin          </td><td>Chuao                    </td><td>1015</td><td>2013</td><td>70%</td><td>France </td><td>4.00</td><td>Trinitario        </td><td>Venezuela       </td></tr>\n",
              "\t<tr><td>A. Morin          </td><td>Piura                    </td><td>1019</td><td>2013</td><td>70%</td><td>France </td><td>3.25</td><td>                  </td><td>Peru            </td></tr>\n",
              "\t<tr><td>A. Morin          </td><td>Chanchamayo Province     </td><td>1019</td><td>2013</td><td>70%</td><td>France </td><td>3.50</td><td>                  </td><td>Peru            </td></tr>\n",
              "\t<tr><td>A. Morin          </td><td>Chanchamayo Province     </td><td>1019</td><td>2013</td><td>63%</td><td>France </td><td>4.00</td><td>                  </td><td>Peru            </td></tr>\n",
              "\t<tr><td>A. Morin          </td><td>Bolivia                  </td><td> 797</td><td>2012</td><td>70%</td><td>France </td><td>3.50</td><td>                  </td><td>Bolivia         </td></tr>\n",
              "\t<tr><td>A. Morin          </td><td>Peru                     </td><td> 797</td><td>2012</td><td>63%</td><td>France </td><td>3.75</td><td>                  </td><td>Peru            </td></tr>\n",
              "\t<tr><td>Acalli            </td><td>Chulucanas, El Platanal  </td><td>1462</td><td>2015</td><td>70%</td><td>U.S.A. </td><td>3.75</td><td>                  </td><td>Peru            </td></tr>\n",
              "\t<tr><td>Acalli            </td><td>Tumbes, Norandino        </td><td>1470</td><td>2015</td><td>70%</td><td>U.S.A. </td><td>3.75</td><td>Criollo           </td><td>Peru            </td></tr>\n",
              "\t<tr><td>Adi               </td><td>Vanua Levu               </td><td> 705</td><td>2011</td><td>60%</td><td>Fiji   </td><td>2.75</td><td>Trinitario        </td><td>Fiji            </td></tr>\n",
              "\t<tr><td>Adi               </td><td>Vanua Levu, Toto-A       </td><td> 705</td><td>2011</td><td>80%</td><td>Fiji   </td><td>3.25</td><td>Trinitario        </td><td>Fiji            </td></tr>\n",
              "\t<tr><td>Adi               </td><td>Vanua Levu               </td><td> 705</td><td>2011</td><td>88%</td><td>Fiji   </td><td>3.50</td><td>Trinitario        </td><td>Fiji            </td></tr>\n",
              "\t<tr><td>Adi               </td><td>Vanua Levu, Ami-Ami-CA   </td><td> 705</td><td>2011</td><td>72%</td><td>Fiji   </td><td>3.50</td><td>Trinitario        </td><td>Fiji            </td></tr>\n",
              "\t<tr><td>Aequare (Gianduja)</td><td>Los Rios, Quevedo, Arriba</td><td> 370</td><td>2009</td><td>55%</td><td>Ecuador</td><td>2.75</td><td>Forastero (Arriba)</td><td>Ecuador         </td></tr>\n",
              "\t<tr><td>⋮</td><td>⋮</td><td>⋮</td><td>⋮</td><td>⋮</td><td>⋮</td><td>⋮</td><td>⋮</td><td>⋮</td></tr>\n",
              "\t<tr><td>Zak's        </td><td>Belize, Batch 2                   </td><td>1578</td><td>2015</td><td>70%</td><td>U.S.A.   </td><td>3.50</td><td>Trinitario          </td><td>Belize            </td></tr>\n",
              "\t<tr><td>Zak's        </td><td>House Blend, Batch 2              </td><td>1582</td><td>2015</td><td>60%</td><td>U.S.A.   </td><td>3.00</td><td>                    </td><td>                  </td></tr>\n",
              "\t<tr><td>Zart Pralinen</td><td>Millot P., Ambanja                </td><td>1820</td><td>2016</td><td>70%</td><td>Austria  </td><td>3.50</td><td>Criollo, Trinitario </td><td>Madagascar        </td></tr>\n",
              "\t<tr><td>Zart Pralinen</td><td>UNOCACE                           </td><td>1824</td><td>2016</td><td>70%</td><td>Austria  </td><td>2.75</td><td>Nacional (Arriba)   </td><td>Ecuador           </td></tr>\n",
              "\t<tr><td>Zart Pralinen</td><td>San Juan Estate                   </td><td>1824</td><td>2016</td><td>85%</td><td>Austria  </td><td>2.75</td><td>Trinitario          </td><td>Trinidad          </td></tr>\n",
              "\t<tr><td>Zart Pralinen</td><td>Kakao Kamili, Kilombero Valley    </td><td>1824</td><td>2016</td><td>85%</td><td>Austria  </td><td>3.00</td><td>Criollo, Trinitario </td><td>Tanzania          </td></tr>\n",
              "\t<tr><td>Zart Pralinen</td><td>Kakao Kamili, Kilombero Valley    </td><td>1824</td><td>2016</td><td>70%</td><td>Austria  </td><td>3.50</td><td>Criollo, Trinitario </td><td>Tanzania          </td></tr>\n",
              "\t<tr><td>Zart Pralinen</td><td>San Juan Estate, Gran Couva       </td><td>1880</td><td>2016</td><td>78%</td><td>Austria  </td><td>3.50</td><td>Trinitario          </td><td>Trinidad          </td></tr>\n",
              "\t<tr><td>Zokoko       </td><td>Guadalcanal                       </td><td>1716</td><td>2016</td><td>78%</td><td>Australia</td><td>3.75</td><td>                    </td><td>Solomon Islands   </td></tr>\n",
              "\t<tr><td>Zokoko       </td><td>Goddess Blend                     </td><td>1780</td><td>2016</td><td>65%</td><td>Australia</td><td>3.25</td><td>                    </td><td>                  </td></tr>\n",
              "\t<tr><td>Zokoko       </td><td>Alto Beni                         </td><td> 697</td><td>2011</td><td>68%</td><td>Australia</td><td>3.50</td><td>                    </td><td>Bolivia           </td></tr>\n",
              "\t<tr><td>Zokoko       </td><td>Tokiala                           </td><td> 701</td><td>2011</td><td>66%</td><td>Australia</td><td>3.50</td><td>Trinitario          </td><td>Papua New Guinea  </td></tr>\n",
              "\t<tr><td>Zokoko       </td><td>Tranquilidad, Baures              </td><td> 701</td><td>2011</td><td>72%</td><td>Australia</td><td>3.75</td><td>                    </td><td>Bolivia           </td></tr>\n",
              "\t<tr><td>Zotter       </td><td>Raw                               </td><td>1205</td><td>2014</td><td>80%</td><td>Austria  </td><td>2.75</td><td>                    </td><td>                  </td></tr>\n",
              "\t<tr><td>Zotter       </td><td>Bocas del Toro, Cocabo Co-op      </td><td> 801</td><td>2012</td><td>72%</td><td>Austria  </td><td>3.50</td><td>                    </td><td>Panama            </td></tr>\n",
              "\t<tr><td>Zotter       </td><td>Amazonas Frucht                   </td><td> 801</td><td>2012</td><td>65%</td><td>Austria  </td><td>3.50</td><td>                    </td><td>                  </td></tr>\n",
              "\t<tr><td>Zotter       </td><td>Satipo Pangoa region, 16hr conche </td><td> 875</td><td>2012</td><td>70%</td><td>Austria  </td><td>3.00</td><td>Criollo (Amarru)    </td><td>Peru              </td></tr>\n",
              "\t<tr><td>Zotter       </td><td>Satipo Pangoa region, 20hr conche </td><td> 875</td><td>2012</td><td>70%</td><td>Austria  </td><td>3.50</td><td>Criollo (Amarru)    </td><td>Peru              </td></tr>\n",
              "\t<tr><td>Zotter       </td><td>Loma Los Pinos, Yacao region, D.R.</td><td> 875</td><td>2012</td><td>62%</td><td>Austria  </td><td>3.75</td><td>                    </td><td>Dominican Republic</td></tr>\n",
              "\t<tr><td>Zotter       </td><td>El Oro                            </td><td> 879</td><td>2012</td><td>75%</td><td>Austria  </td><td>3.00</td><td>Forastero (Nacional)</td><td>Ecuador           </td></tr>\n",
              "\t<tr><td>Zotter       </td><td>Huiwani Coop                      </td><td> 879</td><td>2012</td><td>75%</td><td>Austria  </td><td>3.00</td><td>Criollo, Trinitario </td><td>Papua New Guinea  </td></tr>\n",
              "\t<tr><td>Zotter       </td><td>El Ceibo Coop                     </td><td> 879</td><td>2012</td><td>90%</td><td>Austria  </td><td>3.25</td><td>                    </td><td>Bolivia           </td></tr>\n",
              "\t<tr><td>Zotter       </td><td>Santo Domingo                     </td><td> 879</td><td>2012</td><td>70%</td><td>Austria  </td><td>3.75</td><td>                    </td><td>Dominican Republic</td></tr>\n",
              "\t<tr><td>Zotter       </td><td>Kongo, Highlands                  </td><td> 883</td><td>2012</td><td>68%</td><td>Austria  </td><td>3.25</td><td>Forastero           </td><td>Congo             </td></tr>\n",
              "\t<tr><td>Zotter       </td><td>Indianer, Raw                     </td><td> 883</td><td>2012</td><td>58%</td><td>Austria  </td><td>3.50</td><td>                    </td><td>                  </td></tr>\n",
              "\t<tr><td>Zotter       </td><td>Peru                              </td><td> 647</td><td>2011</td><td>70%</td><td>Austria  </td><td>3.75</td><td>                    </td><td>Peru              </td></tr>\n",
              "\t<tr><td>Zotter       </td><td>Congo                             </td><td> 749</td><td>2011</td><td>65%</td><td>Austria  </td><td>3.00</td><td>Forastero           </td><td>Congo             </td></tr>\n",
              "\t<tr><td>Zotter       </td><td>Kerala State                      </td><td> 749</td><td>2011</td><td>65%</td><td>Austria  </td><td>3.50</td><td>Forastero           </td><td>India             </td></tr>\n",
              "\t<tr><td>Zotter       </td><td>Kerala State                      </td><td> 781</td><td>2011</td><td>62%</td><td>Austria  </td><td>3.25</td><td>                    </td><td>India             </td></tr>\n",
              "\t<tr><td>Zotter       </td><td>Brazil, Mitzi Blue                </td><td> 486</td><td>2010</td><td>65%</td><td>Austria  </td><td>3.00</td><td>                    </td><td>Brazil            </td></tr>\n",
              "</tbody>\n",
              "</table>\n"
            ],
            "text/markdown": "\nA data.frame: 1795 × 9\n\n| Company...Maker.if.known. &lt;chr&gt; | Specific.Bean.Origin.or.Bar.Name &lt;chr&gt; | REF &lt;int&gt; | Review.Date &lt;int&gt; | Cocoa.Percent &lt;chr&gt; | Company.Location &lt;chr&gt; | Rating &lt;dbl&gt; | Bean.Type &lt;chr&gt; | Broad.Bean.Origin &lt;chr&gt; |\n|---|---|---|---|---|---|---|---|---|\n| A. Morin           | Agua Grande               | 1876 | 2016 | 63% | France  | 3.75 |                    | Sao Tome         |\n| A. Morin           | Kpime                     | 1676 | 2015 | 70% | France  | 2.75 |                    | Togo             |\n| A. Morin           | Atsane                    | 1676 | 2015 | 70% | France  | 3.00 |                    | Togo             |\n| A. Morin           | Akata                     | 1680 | 2015 | 70% | France  | 3.50 |                    | Togo             |\n| A. Morin           | Quilla                    | 1704 | 2015 | 70% | France  | 3.50 |                    | Peru             |\n| A. Morin           | Carenero                  | 1315 | 2014 | 70% | France  | 2.75 | Criollo            | Venezuela        |\n| A. Morin           | Cuba                      | 1315 | 2014 | 70% | France  | 3.50 |                    | Cuba             |\n| A. Morin           | Sur del Lago              | 1315 | 2014 | 70% | France  | 3.50 | Criollo            | Venezuela        |\n| A. Morin           | Puerto Cabello            | 1319 | 2014 | 70% | France  | 3.75 | Criollo            | Venezuela        |\n| A. Morin           | Pablino                   | 1319 | 2014 | 70% | France  | 4.00 |                    | Peru             |\n| A. Morin           | Panama                    | 1011 | 2013 | 70% | France  | 2.75 |                    | Panama           |\n| A. Morin           | Madagascar                | 1011 | 2013 | 70% | France  | 3.00 | Criollo            | Madagascar       |\n| A. Morin           | Brazil                    | 1011 | 2013 | 70% | France  | 3.25 |                    | Brazil           |\n| A. Morin           | Equateur                  | 1011 | 2013 | 70% | France  | 3.75 |                    | Ecuador          |\n| A. Morin           | Colombie                  | 1015 | 2013 | 70% | France  | 2.75 |                    | Colombia         |\n| A. Morin           | Birmanie                  | 1015 | 2013 | 70% | France  | 3.00 |                    | Burma            |\n| A. Morin           | Papua New Guinea          | 1015 | 2013 | 70% | France  | 3.25 |                    | Papua New Guinea |\n| A. Morin           | Chuao                     | 1015 | 2013 | 70% | France  | 4.00 | Trinitario         | Venezuela        |\n| A. Morin           | Piura                     | 1019 | 2013 | 70% | France  | 3.25 |                    | Peru             |\n| A. Morin           | Chanchamayo Province      | 1019 | 2013 | 70% | France  | 3.50 |                    | Peru             |\n| A. Morin           | Chanchamayo Province      | 1019 | 2013 | 63% | France  | 4.00 |                    | Peru             |\n| A. Morin           | Bolivia                   |  797 | 2012 | 70% | France  | 3.50 |                    | Bolivia          |\n| A. Morin           | Peru                      |  797 | 2012 | 63% | France  | 3.75 |                    | Peru             |\n| Acalli             | Chulucanas, El Platanal   | 1462 | 2015 | 70% | U.S.A.  | 3.75 |                    | Peru             |\n| Acalli             | Tumbes, Norandino         | 1470 | 2015 | 70% | U.S.A.  | 3.75 | Criollo            | Peru             |\n| Adi                | Vanua Levu                |  705 | 2011 | 60% | Fiji    | 2.75 | Trinitario         | Fiji             |\n| Adi                | Vanua Levu, Toto-A        |  705 | 2011 | 80% | Fiji    | 3.25 | Trinitario         | Fiji             |\n| Adi                | Vanua Levu                |  705 | 2011 | 88% | Fiji    | 3.50 | Trinitario         | Fiji             |\n| Adi                | Vanua Levu, Ami-Ami-CA    |  705 | 2011 | 72% | Fiji    | 3.50 | Trinitario         | Fiji             |\n| Aequare (Gianduja) | Los Rios, Quevedo, Arriba |  370 | 2009 | 55% | Ecuador | 2.75 | Forastero (Arriba) | Ecuador          |\n| ⋮ | ⋮ | ⋮ | ⋮ | ⋮ | ⋮ | ⋮ | ⋮ | ⋮ |\n| Zak's         | Belize, Batch 2                    | 1578 | 2015 | 70% | U.S.A.    | 3.50 | Trinitario           | Belize             |\n| Zak's         | House Blend, Batch 2               | 1582 | 2015 | 60% | U.S.A.    | 3.00 |                      |                    |\n| Zart Pralinen | Millot P., Ambanja                 | 1820 | 2016 | 70% | Austria   | 3.50 | Criollo, Trinitario  | Madagascar         |\n| Zart Pralinen | UNOCACE                            | 1824 | 2016 | 70% | Austria   | 2.75 | Nacional (Arriba)    | Ecuador            |\n| Zart Pralinen | San Juan Estate                    | 1824 | 2016 | 85% | Austria   | 2.75 | Trinitario           | Trinidad           |\n| Zart Pralinen | Kakao Kamili, Kilombero Valley     | 1824 | 2016 | 85% | Austria   | 3.00 | Criollo, Trinitario  | Tanzania           |\n| Zart Pralinen | Kakao Kamili, Kilombero Valley     | 1824 | 2016 | 70% | Austria   | 3.50 | Criollo, Trinitario  | Tanzania           |\n| Zart Pralinen | San Juan Estate, Gran Couva        | 1880 | 2016 | 78% | Austria   | 3.50 | Trinitario           | Trinidad           |\n| Zokoko        | Guadalcanal                        | 1716 | 2016 | 78% | Australia | 3.75 |                      | Solomon Islands    |\n| Zokoko        | Goddess Blend                      | 1780 | 2016 | 65% | Australia | 3.25 |                      |                    |\n| Zokoko        | Alto Beni                          |  697 | 2011 | 68% | Australia | 3.50 |                      | Bolivia            |\n| Zokoko        | Tokiala                            |  701 | 2011 | 66% | Australia | 3.50 | Trinitario           | Papua New Guinea   |\n| Zokoko        | Tranquilidad, Baures               |  701 | 2011 | 72% | Australia | 3.75 |                      | Bolivia            |\n| Zotter        | Raw                                | 1205 | 2014 | 80% | Austria   | 2.75 |                      |                    |\n| Zotter        | Bocas del Toro, Cocabo Co-op       |  801 | 2012 | 72% | Austria   | 3.50 |                      | Panama             |\n| Zotter        | Amazonas Frucht                    |  801 | 2012 | 65% | Austria   | 3.50 |                      |                    |\n| Zotter        | Satipo Pangoa region, 16hr conche  |  875 | 2012 | 70% | Austria   | 3.00 | Criollo (Amarru)     | Peru               |\n| Zotter        | Satipo Pangoa region, 20hr conche  |  875 | 2012 | 70% | Austria   | 3.50 | Criollo (Amarru)     | Peru               |\n| Zotter        | Loma Los Pinos, Yacao region, D.R. |  875 | 2012 | 62% | Austria   | 3.75 |                      | Dominican Republic |\n| Zotter        | El Oro                             |  879 | 2012 | 75% | Austria   | 3.00 | Forastero (Nacional) | Ecuador            |\n| Zotter        | Huiwani Coop                       |  879 | 2012 | 75% | Austria   | 3.00 | Criollo, Trinitario  | Papua New Guinea   |\n| Zotter        | El Ceibo Coop                      |  879 | 2012 | 90% | Austria   | 3.25 |                      | Bolivia            |\n| Zotter        | Santo Domingo                      |  879 | 2012 | 70% | Austria   | 3.75 |                      | Dominican Republic |\n| Zotter        | Kongo, Highlands                   |  883 | 2012 | 68% | Austria   | 3.25 | Forastero            | Congo              |\n| Zotter        | Indianer, Raw                      |  883 | 2012 | 58% | Austria   | 3.50 |                      |                    |\n| Zotter        | Peru                               |  647 | 2011 | 70% | Austria   | 3.75 |                      | Peru               |\n| Zotter        | Congo                              |  749 | 2011 | 65% | Austria   | 3.00 | Forastero            | Congo              |\n| Zotter        | Kerala State                       |  749 | 2011 | 65% | Austria   | 3.50 | Forastero            | India              |\n| Zotter        | Kerala State                       |  781 | 2011 | 62% | Austria   | 3.25 |                      | India              |\n| Zotter        | Brazil, Mitzi Blue                 |  486 | 2010 | 65% | Austria   | 3.00 |                      | Brazil             |\n\n",
            "text/latex": "A data.frame: 1795 × 9\n\\begin{tabular}{lllllllll}\n Company...Maker.if.known. & Specific.Bean.Origin.or.Bar.Name & REF & Review.Date & Cocoa.Percent & Company.Location & Rating & Bean.Type & Broad.Bean.Origin\\\\\n <chr> & <chr> & <int> & <int> & <chr> & <chr> & <dbl> & <chr> & <chr>\\\\\n\\hline\n\t A. Morin           & Agua Grande               & 1876 & 2016 & 63\\% & France  & 3.75 &                    & Sao Tome        \\\\\n\t A. Morin           & Kpime                     & 1676 & 2015 & 70\\% & France  & 2.75 &                    & Togo            \\\\\n\t A. Morin           & Atsane                    & 1676 & 2015 & 70\\% & France  & 3.00 &                    & Togo            \\\\\n\t A. Morin           & Akata                     & 1680 & 2015 & 70\\% & France  & 3.50 &                    & Togo            \\\\\n\t A. Morin           & Quilla                    & 1704 & 2015 & 70\\% & France  & 3.50 &                    & Peru            \\\\\n\t A. Morin           & Carenero                  & 1315 & 2014 & 70\\% & France  & 2.75 & Criollo            & Venezuela       \\\\\n\t A. Morin           & Cuba                      & 1315 & 2014 & 70\\% & France  & 3.50 &                    & Cuba            \\\\\n\t A. Morin           & Sur del Lago              & 1315 & 2014 & 70\\% & France  & 3.50 & Criollo            & Venezuela       \\\\\n\t A. Morin           & Puerto Cabello            & 1319 & 2014 & 70\\% & France  & 3.75 & Criollo            & Venezuela       \\\\\n\t A. Morin           & Pablino                   & 1319 & 2014 & 70\\% & France  & 4.00 &                    & Peru            \\\\\n\t A. Morin           & Panama                    & 1011 & 2013 & 70\\% & France  & 2.75 &                    & Panama          \\\\\n\t A. Morin           & Madagascar                & 1011 & 2013 & 70\\% & France  & 3.00 & Criollo            & Madagascar      \\\\\n\t A. Morin           & Brazil                    & 1011 & 2013 & 70\\% & France  & 3.25 &                    & Brazil          \\\\\n\t A. Morin           & Equateur                  & 1011 & 2013 & 70\\% & France  & 3.75 &                    & Ecuador         \\\\\n\t A. Morin           & Colombie                  & 1015 & 2013 & 70\\% & France  & 2.75 &                    & Colombia        \\\\\n\t A. Morin           & Birmanie                  & 1015 & 2013 & 70\\% & France  & 3.00 &                    & Burma           \\\\\n\t A. Morin           & Papua New Guinea          & 1015 & 2013 & 70\\% & France  & 3.25 &                    & Papua New Guinea\\\\\n\t A. Morin           & Chuao                     & 1015 & 2013 & 70\\% & France  & 4.00 & Trinitario         & Venezuela       \\\\\n\t A. Morin           & Piura                     & 1019 & 2013 & 70\\% & France  & 3.25 &                    & Peru            \\\\\n\t A. Morin           & Chanchamayo Province      & 1019 & 2013 & 70\\% & France  & 3.50 &                    & Peru            \\\\\n\t A. Morin           & Chanchamayo Province      & 1019 & 2013 & 63\\% & France  & 4.00 &                    & Peru            \\\\\n\t A. Morin           & Bolivia                   &  797 & 2012 & 70\\% & France  & 3.50 &                    & Bolivia         \\\\\n\t A. Morin           & Peru                      &  797 & 2012 & 63\\% & France  & 3.75 &                    & Peru            \\\\\n\t Acalli             & Chulucanas, El Platanal   & 1462 & 2015 & 70\\% & U.S.A.  & 3.75 &                    & Peru            \\\\\n\t Acalli             & Tumbes, Norandino         & 1470 & 2015 & 70\\% & U.S.A.  & 3.75 & Criollo            & Peru            \\\\\n\t Adi                & Vanua Levu                &  705 & 2011 & 60\\% & Fiji    & 2.75 & Trinitario         & Fiji            \\\\\n\t Adi                & Vanua Levu, Toto-A        &  705 & 2011 & 80\\% & Fiji    & 3.25 & Trinitario         & Fiji            \\\\\n\t Adi                & Vanua Levu                &  705 & 2011 & 88\\% & Fiji    & 3.50 & Trinitario         & Fiji            \\\\\n\t Adi                & Vanua Levu, Ami-Ami-CA    &  705 & 2011 & 72\\% & Fiji    & 3.50 & Trinitario         & Fiji            \\\\\n\t Aequare (Gianduja) & Los Rios, Quevedo, Arriba &  370 & 2009 & 55\\% & Ecuador & 2.75 & Forastero (Arriba) & Ecuador         \\\\\n\t ⋮ & ⋮ & ⋮ & ⋮ & ⋮ & ⋮ & ⋮ & ⋮ & ⋮\\\\\n\t Zak's         & Belize, Batch 2                    & 1578 & 2015 & 70\\% & U.S.A.    & 3.50 & Trinitario           & Belize            \\\\\n\t Zak's         & House Blend, Batch 2               & 1582 & 2015 & 60\\% & U.S.A.    & 3.00 &                      &                   \\\\\n\t Zart Pralinen & Millot P., Ambanja                 & 1820 & 2016 & 70\\% & Austria   & 3.50 & Criollo, Trinitario  & Madagascar        \\\\\n\t Zart Pralinen & UNOCACE                            & 1824 & 2016 & 70\\% & Austria   & 2.75 & Nacional (Arriba)    & Ecuador           \\\\\n\t Zart Pralinen & San Juan Estate                    & 1824 & 2016 & 85\\% & Austria   & 2.75 & Trinitario           & Trinidad          \\\\\n\t Zart Pralinen & Kakao Kamili, Kilombero Valley     & 1824 & 2016 & 85\\% & Austria   & 3.00 & Criollo, Trinitario  & Tanzania          \\\\\n\t Zart Pralinen & Kakao Kamili, Kilombero Valley     & 1824 & 2016 & 70\\% & Austria   & 3.50 & Criollo, Trinitario  & Tanzania          \\\\\n\t Zart Pralinen & San Juan Estate, Gran Couva        & 1880 & 2016 & 78\\% & Austria   & 3.50 & Trinitario           & Trinidad          \\\\\n\t Zokoko        & Guadalcanal                        & 1716 & 2016 & 78\\% & Australia & 3.75 &                      & Solomon Islands   \\\\\n\t Zokoko        & Goddess Blend                      & 1780 & 2016 & 65\\% & Australia & 3.25 &                      &                   \\\\\n\t Zokoko        & Alto Beni                          &  697 & 2011 & 68\\% & Australia & 3.50 &                      & Bolivia           \\\\\n\t Zokoko        & Tokiala                            &  701 & 2011 & 66\\% & Australia & 3.50 & Trinitario           & Papua New Guinea  \\\\\n\t Zokoko        & Tranquilidad, Baures               &  701 & 2011 & 72\\% & Australia & 3.75 &                      & Bolivia           \\\\\n\t Zotter        & Raw                                & 1205 & 2014 & 80\\% & Austria   & 2.75 &                      &                   \\\\\n\t Zotter        & Bocas del Toro, Cocabo Co-op       &  801 & 2012 & 72\\% & Austria   & 3.50 &                      & Panama            \\\\\n\t Zotter        & Amazonas Frucht                    &  801 & 2012 & 65\\% & Austria   & 3.50 &                      &                   \\\\\n\t Zotter        & Satipo Pangoa region, 16hr conche  &  875 & 2012 & 70\\% & Austria   & 3.00 & Criollo (Amarru)     & Peru              \\\\\n\t Zotter        & Satipo Pangoa region, 20hr conche  &  875 & 2012 & 70\\% & Austria   & 3.50 & Criollo (Amarru)     & Peru              \\\\\n\t Zotter        & Loma Los Pinos, Yacao region, D.R. &  875 & 2012 & 62\\% & Austria   & 3.75 &                      & Dominican Republic\\\\\n\t Zotter        & El Oro                             &  879 & 2012 & 75\\% & Austria   & 3.00 & Forastero (Nacional) & Ecuador           \\\\\n\t Zotter        & Huiwani Coop                       &  879 & 2012 & 75\\% & Austria   & 3.00 & Criollo, Trinitario  & Papua New Guinea  \\\\\n\t Zotter        & El Ceibo Coop                      &  879 & 2012 & 90\\% & Austria   & 3.25 &                      & Bolivia           \\\\\n\t Zotter        & Santo Domingo                      &  879 & 2012 & 70\\% & Austria   & 3.75 &                      & Dominican Republic\\\\\n\t Zotter        & Kongo, Highlands                   &  883 & 2012 & 68\\% & Austria   & 3.25 & Forastero            & Congo             \\\\\n\t Zotter        & Indianer, Raw                      &  883 & 2012 & 58\\% & Austria   & 3.50 &                      &                   \\\\\n\t Zotter        & Peru                               &  647 & 2011 & 70\\% & Austria   & 3.75 &                      & Peru              \\\\\n\t Zotter        & Congo                              &  749 & 2011 & 65\\% & Austria   & 3.00 & Forastero            & Congo             \\\\\n\t Zotter        & Kerala State                       &  749 & 2011 & 65\\% & Austria   & 3.50 & Forastero            & India             \\\\\n\t Zotter        & Kerala State                       &  781 & 2011 & 62\\% & Austria   & 3.25 &                      & India             \\\\\n\t Zotter        & Brazil, Mitzi Blue                 &  486 & 2010 & 65\\% & Austria   & 3.00 &                      & Brazil            \\\\\n\\end{tabular}\n",
            "text/plain": [
              "     Company...Maker.if.known. Specific.Bean.Origin.or.Bar.Name   REF \n",
              "1    A. Morin                  Agua Grande                        1876\n",
              "2    A. Morin                  Kpime                              1676\n",
              "3    A. Morin                  Atsane                             1676\n",
              "4    A. Morin                  Akata                              1680\n",
              "5    A. Morin                  Quilla                             1704\n",
              "6    A. Morin                  Carenero                           1315\n",
              "7    A. Morin                  Cuba                               1315\n",
              "8    A. Morin                  Sur del Lago                       1315\n",
              "9    A. Morin                  Puerto Cabello                     1319\n",
              "10   A. Morin                  Pablino                            1319\n",
              "11   A. Morin                  Panama                             1011\n",
              "12   A. Morin                  Madagascar                         1011\n",
              "13   A. Morin                  Brazil                             1011\n",
              "14   A. Morin                  Equateur                           1011\n",
              "15   A. Morin                  Colombie                           1015\n",
              "16   A. Morin                  Birmanie                           1015\n",
              "17   A. Morin                  Papua New Guinea                   1015\n",
              "18   A. Morin                  Chuao                              1015\n",
              "19   A. Morin                  Piura                              1019\n",
              "20   A. Morin                  Chanchamayo Province               1019\n",
              "21   A. Morin                  Chanchamayo Province               1019\n",
              "22   A. Morin                  Bolivia                             797\n",
              "23   A. Morin                  Peru                                797\n",
              "24   Acalli                    Chulucanas, El Platanal            1462\n",
              "25   Acalli                    Tumbes, Norandino                  1470\n",
              "26   Adi                       Vanua Levu                          705\n",
              "27   Adi                       Vanua Levu, Toto-A                  705\n",
              "28   Adi                       Vanua Levu                          705\n",
              "29   Adi                       Vanua Levu, Ami-Ami-CA              705\n",
              "30   Aequare (Gianduja)        Los Rios, Quevedo, Arriba           370\n",
              "⋮    ⋮                         ⋮                                  ⋮   \n",
              "1766 Zak's                     Belize, Batch 2                    1578\n",
              "1767 Zak's                     House Blend, Batch 2               1582\n",
              "1768 Zart Pralinen             Millot P., Ambanja                 1820\n",
              "1769 Zart Pralinen             UNOCACE                            1824\n",
              "1770 Zart Pralinen             San Juan Estate                    1824\n",
              "1771 Zart Pralinen             Kakao Kamili, Kilombero Valley     1824\n",
              "1772 Zart Pralinen             Kakao Kamili, Kilombero Valley     1824\n",
              "1773 Zart Pralinen             San Juan Estate, Gran Couva        1880\n",
              "1774 Zokoko                    Guadalcanal                        1716\n",
              "1775 Zokoko                    Goddess Blend                      1780\n",
              "1776 Zokoko                    Alto Beni                           697\n",
              "1777 Zokoko                    Tokiala                             701\n",
              "1778 Zokoko                    Tranquilidad, Baures                701\n",
              "1779 Zotter                    Raw                                1205\n",
              "1780 Zotter                    Bocas del Toro, Cocabo Co-op        801\n",
              "1781 Zotter                    Amazonas Frucht                     801\n",
              "1782 Zotter                    Satipo Pangoa region, 16hr conche   875\n",
              "1783 Zotter                    Satipo Pangoa region, 20hr conche   875\n",
              "1784 Zotter                    Loma Los Pinos, Yacao region, D.R.  875\n",
              "1785 Zotter                    El Oro                              879\n",
              "1786 Zotter                    Huiwani Coop                        879\n",
              "1787 Zotter                    El Ceibo Coop                       879\n",
              "1788 Zotter                    Santo Domingo                       879\n",
              "1789 Zotter                    Kongo, Highlands                    883\n",
              "1790 Zotter                    Indianer, Raw                       883\n",
              "1791 Zotter                    Peru                                647\n",
              "1792 Zotter                    Congo                               749\n",
              "1793 Zotter                    Kerala State                        749\n",
              "1794 Zotter                    Kerala State                        781\n",
              "1795 Zotter                    Brazil, Mitzi Blue                  486\n",
              "     Review.Date Cocoa.Percent Company.Location Rating Bean.Type           \n",
              "1    2016        63%           France           3.75                       \n",
              "2    2015        70%           France           2.75                       \n",
              "3    2015        70%           France           3.00                       \n",
              "4    2015        70%           France           3.50                       \n",
              "5    2015        70%           France           3.50                       \n",
              "6    2014        70%           France           2.75   Criollo             \n",
              "7    2014        70%           France           3.50                       \n",
              "8    2014        70%           France           3.50   Criollo             \n",
              "9    2014        70%           France           3.75   Criollo             \n",
              "10   2014        70%           France           4.00                       \n",
              "11   2013        70%           France           2.75                       \n",
              "12   2013        70%           France           3.00   Criollo             \n",
              "13   2013        70%           France           3.25                       \n",
              "14   2013        70%           France           3.75                       \n",
              "15   2013        70%           France           2.75                       \n",
              "16   2013        70%           France           3.00                       \n",
              "17   2013        70%           France           3.25                       \n",
              "18   2013        70%           France           4.00   Trinitario          \n",
              "19   2013        70%           France           3.25                       \n",
              "20   2013        70%           France           3.50                       \n",
              "21   2013        63%           France           4.00                       \n",
              "22   2012        70%           France           3.50                       \n",
              "23   2012        63%           France           3.75                       \n",
              "24   2015        70%           U.S.A.           3.75                       \n",
              "25   2015        70%           U.S.A.           3.75   Criollo             \n",
              "26   2011        60%           Fiji             2.75   Trinitario          \n",
              "27   2011        80%           Fiji             3.25   Trinitario          \n",
              "28   2011        88%           Fiji             3.50   Trinitario          \n",
              "29   2011        72%           Fiji             3.50   Trinitario          \n",
              "30   2009        55%           Ecuador          2.75   Forastero (Arriba)  \n",
              "⋮    ⋮           ⋮             ⋮                ⋮      ⋮                   \n",
              "1766 2015        70%           U.S.A.           3.50   Trinitario          \n",
              "1767 2015        60%           U.S.A.           3.00                       \n",
              "1768 2016        70%           Austria          3.50   Criollo, Trinitario \n",
              "1769 2016        70%           Austria          2.75   Nacional (Arriba)   \n",
              "1770 2016        85%           Austria          2.75   Trinitario          \n",
              "1771 2016        85%           Austria          3.00   Criollo, Trinitario \n",
              "1772 2016        70%           Austria          3.50   Criollo, Trinitario \n",
              "1773 2016        78%           Austria          3.50   Trinitario          \n",
              "1774 2016        78%           Australia        3.75                       \n",
              "1775 2016        65%           Australia        3.25                       \n",
              "1776 2011        68%           Australia        3.50                       \n",
              "1777 2011        66%           Australia        3.50   Trinitario          \n",
              "1778 2011        72%           Australia        3.75                       \n",
              "1779 2014        80%           Austria          2.75                       \n",
              "1780 2012        72%           Austria          3.50                       \n",
              "1781 2012        65%           Austria          3.50                       \n",
              "1782 2012        70%           Austria          3.00   Criollo (Amarru)    \n",
              "1783 2012        70%           Austria          3.50   Criollo (Amarru)    \n",
              "1784 2012        62%           Austria          3.75                       \n",
              "1785 2012        75%           Austria          3.00   Forastero (Nacional)\n",
              "1786 2012        75%           Austria          3.00   Criollo, Trinitario \n",
              "1787 2012        90%           Austria          3.25                       \n",
              "1788 2012        70%           Austria          3.75                       \n",
              "1789 2012        68%           Austria          3.25   Forastero           \n",
              "1790 2012        58%           Austria          3.50                       \n",
              "1791 2011        70%           Austria          3.75                       \n",
              "1792 2011        65%           Austria          3.00   Forastero           \n",
              "1793 2011        65%           Austria          3.50   Forastero           \n",
              "1794 2011        62%           Austria          3.25                       \n",
              "1795 2010        65%           Austria          3.00                       \n",
              "     Broad.Bean.Origin \n",
              "1    Sao Tome          \n",
              "2    Togo              \n",
              "3    Togo              \n",
              "4    Togo              \n",
              "5    Peru              \n",
              "6    Venezuela         \n",
              "7    Cuba              \n",
              "8    Venezuela         \n",
              "9    Venezuela         \n",
              "10   Peru              \n",
              "11   Panama            \n",
              "12   Madagascar        \n",
              "13   Brazil            \n",
              "14   Ecuador           \n",
              "15   Colombia          \n",
              "16   Burma             \n",
              "17   Papua New Guinea  \n",
              "18   Venezuela         \n",
              "19   Peru              \n",
              "20   Peru              \n",
              "21   Peru              \n",
              "22   Bolivia           \n",
              "23   Peru              \n",
              "24   Peru              \n",
              "25   Peru              \n",
              "26   Fiji              \n",
              "27   Fiji              \n",
              "28   Fiji              \n",
              "29   Fiji              \n",
              "30   Ecuador           \n",
              "⋮    ⋮                 \n",
              "1766 Belize            \n",
              "1767                   \n",
              "1768 Madagascar        \n",
              "1769 Ecuador           \n",
              "1770 Trinidad          \n",
              "1771 Tanzania          \n",
              "1772 Tanzania          \n",
              "1773 Trinidad          \n",
              "1774 Solomon Islands   \n",
              "1775                   \n",
              "1776 Bolivia           \n",
              "1777 Papua New Guinea  \n",
              "1778 Bolivia           \n",
              "1779                   \n",
              "1780 Panama            \n",
              "1781                   \n",
              "1782 Peru              \n",
              "1783 Peru              \n",
              "1784 Dominican Republic\n",
              "1785 Ecuador           \n",
              "1786 Papua New Guinea  \n",
              "1787 Bolivia           \n",
              "1788 Dominican Republic\n",
              "1789 Congo             \n",
              "1790                   \n",
              "1791 Peru              \n",
              "1792 Congo             \n",
              "1793 India             \n",
              "1794 India             \n",
              "1795 Brazil            "
            ]
          },
          "metadata": {}
        }
      ],
      "source": [
        "df = read.csv('flavors_of_cacao.csv')\n",
        "df"
      ]
    },
    {
      "cell_type": "code",
      "source": [
        "unique(df$Company.Location)"
      ],
      "metadata": {
        "colab": {
          "base_uri": "https://localhost:8080/",
          "height": 69
        },
        "id": "5q-m0KjWetCg",
        "outputId": "1fb91cc4-4069-4dbd-9371-22d889d7c0ab"
      },
      "execution_count": 200,
      "outputs": [
        {
          "output_type": "display_data",
          "data": {
            "text/html": [
              "<style>\n",
              ".list-inline {list-style: none; margin:0; padding: 0}\n",
              ".list-inline>li {display: inline-block}\n",
              ".list-inline>li:not(:last-child)::after {content: \"\\00b7\"; padding: 0 .5ex}\n",
              "</style>\n",
              "<ol class=list-inline><li>'France'</li><li>'U.S.A.'</li><li>'Fiji'</li><li>'Ecuador'</li><li>'Mexico'</li><li>'Switzerland'</li><li>'Netherlands'</li><li>'Spain'</li><li>'Peru'</li><li>'Canada'</li><li>'Italy'</li><li>'Brazil'</li><li>'U.K.'</li><li>'Australia'</li><li>'Wales'</li><li>'Belgium'</li><li>'Germany'</li><li>'Russia'</li><li>'Puerto Rico'</li><li>'Venezuela'</li><li>'Colombia'</li><li>'Japan'</li><li>'New Zealand'</li><li>'Costa Rica'</li><li>'South Korea'</li><li>'Amsterdam'</li><li>'Scotland'</li><li>'Martinique'</li><li>'Sao Tome'</li><li>'Argentina'</li><li>'Guatemala'</li><li>'South Africa'</li><li>'Bolivia'</li><li>'St. Lucia'</li><li>'Portugal'</li><li>'Singapore'</li><li>'Denmark'</li><li>'Vietnam'</li><li>'Grenada'</li><li>'Israel'</li><li>'India'</li><li>'Czech Republic'</li><li>'Domincan Republic'</li><li>'Finland'</li><li>'Madagascar'</li><li>'Philippines'</li><li>'Sweden'</li><li>'Poland'</li><li>'Austria'</li><li>'Honduras'</li><li>'Nicaragua'</li><li>'Lithuania'</li><li>'Niacragua'</li><li>'Chile'</li><li>'Ghana'</li><li>'Iceland'</li><li>'Eucador'</li><li>'Hungary'</li><li>'Suriname'</li><li>'Ireland'</li></ol>\n"
            ],
            "text/markdown": "1. 'France'\n2. 'U.S.A.'\n3. 'Fiji'\n4. 'Ecuador'\n5. 'Mexico'\n6. 'Switzerland'\n7. 'Netherlands'\n8. 'Spain'\n9. 'Peru'\n10. 'Canada'\n11. 'Italy'\n12. 'Brazil'\n13. 'U.K.'\n14. 'Australia'\n15. 'Wales'\n16. 'Belgium'\n17. 'Germany'\n18. 'Russia'\n19. 'Puerto Rico'\n20. 'Venezuela'\n21. 'Colombia'\n22. 'Japan'\n23. 'New Zealand'\n24. 'Costa Rica'\n25. 'South Korea'\n26. 'Amsterdam'\n27. 'Scotland'\n28. 'Martinique'\n29. 'Sao Tome'\n30. 'Argentina'\n31. 'Guatemala'\n32. 'South Africa'\n33. 'Bolivia'\n34. 'St. Lucia'\n35. 'Portugal'\n36. 'Singapore'\n37. 'Denmark'\n38. 'Vietnam'\n39. 'Grenada'\n40. 'Israel'\n41. 'India'\n42. 'Czech Republic'\n43. 'Domincan Republic'\n44. 'Finland'\n45. 'Madagascar'\n46. 'Philippines'\n47. 'Sweden'\n48. 'Poland'\n49. 'Austria'\n50. 'Honduras'\n51. 'Nicaragua'\n52. 'Lithuania'\n53. 'Niacragua'\n54. 'Chile'\n55. 'Ghana'\n56. 'Iceland'\n57. 'Eucador'\n58. 'Hungary'\n59. 'Suriname'\n60. 'Ireland'\n\n\n",
            "text/latex": "\\begin{enumerate*}\n\\item 'France'\n\\item 'U.S.A.'\n\\item 'Fiji'\n\\item 'Ecuador'\n\\item 'Mexico'\n\\item 'Switzerland'\n\\item 'Netherlands'\n\\item 'Spain'\n\\item 'Peru'\n\\item 'Canada'\n\\item 'Italy'\n\\item 'Brazil'\n\\item 'U.K.'\n\\item 'Australia'\n\\item 'Wales'\n\\item 'Belgium'\n\\item 'Germany'\n\\item 'Russia'\n\\item 'Puerto Rico'\n\\item 'Venezuela'\n\\item 'Colombia'\n\\item 'Japan'\n\\item 'New Zealand'\n\\item 'Costa Rica'\n\\item 'South Korea'\n\\item 'Amsterdam'\n\\item 'Scotland'\n\\item 'Martinique'\n\\item 'Sao Tome'\n\\item 'Argentina'\n\\item 'Guatemala'\n\\item 'South Africa'\n\\item 'Bolivia'\n\\item 'St. Lucia'\n\\item 'Portugal'\n\\item 'Singapore'\n\\item 'Denmark'\n\\item 'Vietnam'\n\\item 'Grenada'\n\\item 'Israel'\n\\item 'India'\n\\item 'Czech Republic'\n\\item 'Domincan Republic'\n\\item 'Finland'\n\\item 'Madagascar'\n\\item 'Philippines'\n\\item 'Sweden'\n\\item 'Poland'\n\\item 'Austria'\n\\item 'Honduras'\n\\item 'Nicaragua'\n\\item 'Lithuania'\n\\item 'Niacragua'\n\\item 'Chile'\n\\item 'Ghana'\n\\item 'Iceland'\n\\item 'Eucador'\n\\item 'Hungary'\n\\item 'Suriname'\n\\item 'Ireland'\n\\end{enumerate*}\n",
            "text/plain": [
              " [1] \"France\"            \"U.S.A.\"            \"Fiji\"             \n",
              " [4] \"Ecuador\"           \"Mexico\"            \"Switzerland\"      \n",
              " [7] \"Netherlands\"       \"Spain\"             \"Peru\"             \n",
              "[10] \"Canada\"            \"Italy\"             \"Brazil\"           \n",
              "[13] \"U.K.\"              \"Australia\"         \"Wales\"            \n",
              "[16] \"Belgium\"           \"Germany\"           \"Russia\"           \n",
              "[19] \"Puerto Rico\"       \"Venezuela\"         \"Colombia\"         \n",
              "[22] \"Japan\"             \"New Zealand\"       \"Costa Rica\"       \n",
              "[25] \"South Korea\"       \"Amsterdam\"         \"Scotland\"         \n",
              "[28] \"Martinique\"        \"Sao Tome\"          \"Argentina\"        \n",
              "[31] \"Guatemala\"         \"South Africa\"      \"Bolivia\"          \n",
              "[34] \"St. Lucia\"         \"Portugal\"          \"Singapore\"        \n",
              "[37] \"Denmark\"           \"Vietnam\"           \"Grenada\"          \n",
              "[40] \"Israel\"            \"India\"             \"Czech Republic\"   \n",
              "[43] \"Domincan Republic\" \"Finland\"           \"Madagascar\"       \n",
              "[46] \"Philippines\"       \"Sweden\"            \"Poland\"           \n",
              "[49] \"Austria\"           \"Honduras\"          \"Nicaragua\"        \n",
              "[52] \"Lithuania\"         \"Niacragua\"         \"Chile\"            \n",
              "[55] \"Ghana\"             \"Iceland\"           \"Eucador\"          \n",
              "[58] \"Hungary\"           \"Suriname\"          \"Ireland\"          "
            ]
          },
          "metadata": {}
        }
      ]
    },
    {
      "cell_type": "code",
      "source": [
        "summary(df)"
      ],
      "metadata": {
        "colab": {
          "base_uri": "https://localhost:8080/",
          "height": 382
        },
        "id": "-3Nc7QhWT_qA",
        "outputId": "d134a618-d564-4608-ba11-a3f98029b550"
      },
      "execution_count": 171,
      "outputs": [
        {
          "output_type": "display_data",
          "data": {
            "text/plain": [
              " Company...Maker.if.known. Specific.Bean.Origin.or.Bar.Name      REF      \n",
              " Length:1795               Length:1795                      Min.   :   5  \n",
              " Class :character          Class :character                 1st Qu.: 576  \n",
              " Mode  :character          Mode  :character                 Median :1069  \n",
              "                                                            Mean   :1036  \n",
              "                                                            3rd Qu.:1502  \n",
              "                                                            Max.   :1952  \n",
              "  Review.Date   Cocoa.Percent      Company.Location       Rating     \n",
              " Min.   :2006   Length:1795        Length:1795        Min.   :1.000  \n",
              " 1st Qu.:2010   Class :character   Class :character   1st Qu.:2.875  \n",
              " Median :2013   Mode  :character   Mode  :character   Median :3.250  \n",
              " Mean   :2012                                         Mean   :3.186  \n",
              " 3rd Qu.:2015                                         3rd Qu.:3.500  \n",
              " Max.   :2017                                         Max.   :5.000  \n",
              "  Bean.Type         Broad.Bean.Origin \n",
              " Length:1795        Length:1795       \n",
              " Class :character   Class :character  \n",
              " Mode  :character   Mode  :character  \n",
              "                                      \n",
              "                                      \n",
              "                                      "
            ]
          },
          "metadata": {}
        }
      ]
    },
    {
      "cell_type": "code",
      "source": [
        "length(unique(df[,1]))"
      ],
      "metadata": {
        "colab": {
          "base_uri": "https://localhost:8080/",
          "height": 34
        },
        "id": "xvOquJrJt5lg",
        "outputId": "4d64b788-e951-47a8-9ce5-c7666a3040cd"
      },
      "execution_count": 128,
      "outputs": [
        {
          "output_type": "display_data",
          "data": {
            "text/html": [
              "416"
            ],
            "text/markdown": "416",
            "text/latex": "416",
            "text/plain": [
              "[1] 416"
            ]
          },
          "metadata": {}
        }
      ]
    },
    {
      "cell_type": "code",
      "source": [
        "length(sort(table(df[,1]), decreasing=F)[1:125])"
      ],
      "metadata": {
        "colab": {
          "base_uri": "https://localhost:8080/",
          "height": 34
        },
        "id": "lZcr9GFEoAel",
        "outputId": "ad2df618-57d3-49b3-9860-a4612b24d762"
      },
      "execution_count": 152,
      "outputs": [
        {
          "output_type": "display_data",
          "data": {
            "text/html": [
              "125"
            ],
            "text/markdown": "125",
            "text/latex": "125",
            "text/plain": [
              "[1] 125"
            ]
          },
          "metadata": {}
        }
      ]
    },
    {
      "cell_type": "code",
      "source": [
        "names(sort(table(df[,1]), decreasing=T)[1:10])"
      ],
      "metadata": {
        "colab": {
          "base_uri": "https://localhost:8080/",
          "height": 34
        },
        "id": "J_TXSi3Eoy_c",
        "outputId": "0e05a29a-51aa-4ffa-e2b8-18d6994bf2d5"
      },
      "execution_count": 78,
      "outputs": [
        {
          "output_type": "display_data",
          "data": {
            "text/html": [
              "<style>\n",
              ".list-inline {list-style: none; margin:0; padding: 0}\n",
              ".list-inline>li {display: inline-block}\n",
              ".list-inline>li:not(:last-child)::after {content: \"\\00b7\"; padding: 0 .5ex}\n",
              "</style>\n",
              "<ol class=list-inline><li>'Soma'</li><li>'Bonnat'</li><li>'Fresco'</li><li>'Pralus'</li><li>'A. Morin'</li><li>'Arete'</li><li>'Domori'</li><li>'Guittard'</li><li>'Valrhona'</li><li>'Hotel Chocolat (Coppeneur)'</li></ol>\n"
            ],
            "text/markdown": "1. 'Soma'\n2. 'Bonnat'\n3. 'Fresco'\n4. 'Pralus'\n5. 'A. Morin'\n6. 'Arete'\n7. 'Domori'\n8. 'Guittard'\n9. 'Valrhona'\n10. 'Hotel Chocolat (Coppeneur)'\n\n\n",
            "text/latex": "\\begin{enumerate*}\n\\item 'Soma'\n\\item 'Bonnat'\n\\item 'Fresco'\n\\item 'Pralus'\n\\item 'A. Morin'\n\\item 'Arete'\n\\item 'Domori'\n\\item 'Guittard'\n\\item 'Valrhona'\n\\item 'Hotel Chocolat (Coppeneur)'\n\\end{enumerate*}\n",
            "text/plain": [
              " [1] \"Soma\"                       \"Bonnat\"                    \n",
              " [3] \"Fresco\"                     \"Pralus\"                    \n",
              " [5] \"A. Morin\"                   \"Arete\"                     \n",
              " [7] \"Domori\"                     \"Guittard\"                  \n",
              " [9] \"Valrhona\"                   \"Hotel Chocolat (Coppeneur)\""
            ]
          },
          "metadata": {}
        }
      ]
    },
    {
      "cell_type": "code",
      "source": [
        "quantile(sort(table(df[,1]), decreasing=T))"
      ],
      "metadata": {
        "colab": {
          "base_uri": "https://localhost:8080/",
          "height": 52
        },
        "id": "HiHTn8fcteBy",
        "outputId": "6c65b948-8421-4408-b36b-cc56d8266278"
      },
      "execution_count": 117,
      "outputs": [
        {
          "output_type": "display_data",
          "data": {
            "text/plain": [
              "  0%  25%  50%  75% 100% \n",
              "   1    1    3    5   47 "
            ]
          },
          "metadata": {}
        }
      ]
    },
    {
      "cell_type": "code",
      "source": [
        "quantile(sort(table(df[,1])), probs = c(.97))"
      ],
      "metadata": {
        "colab": {
          "base_uri": "https://localhost:8080/",
          "height": 34
        },
        "id": "wkxEBUtcspfF",
        "outputId": "e6b63f3c-d02d-4d83-839f-f3a911470755"
      },
      "execution_count": 121,
      "outputs": [
        {
          "output_type": "display_data",
          "data": {
            "text/html": [
              "<strong>97%:</strong> 17"
            ],
            "text/markdown": "**97%:** 17",
            "text/latex": "\\textbf{97\\textbackslash{}\\%:} 17",
            "text/plain": [
              "97% \n",
              " 17 "
            ]
          },
          "metadata": {}
        }
      ]
    },
    {
      "cell_type": "code",
      "source": [
        "# boxplot(Sepal.Length ~ Species, data = iris)"
      ],
      "metadata": {
        "id": "JF2eTByq-flr"
      },
      "execution_count": null,
      "outputs": []
    },
    {
      "cell_type": "code",
      "source": [
        "png(filename=\"top_10_barplot.png\")\n",
        "par(mar=c(12, 6, 2, 2))\n",
        "barplot(sort(table(df[,1]), decreasing=T)[1:14],\n",
        "        ylab = \"Total number of ratings\",\n",
        "        xlab = \"\", las=2)\n",
        "title(xlab=\"Manufacture\", line=10, cex.lab=1)\n",
        "dev.off()"
      ],
      "metadata": {
        "colab": {
          "base_uri": "https://localhost:8080/",
          "height": 34
        },
        "id": "bp0WXdeP84KR",
        "outputId": "0024c79f-a7fa-41a3-cfc8-1f398a4366df"
      },
      "execution_count": 126,
      "outputs": [
        {
          "output_type": "display_data",
          "data": {
            "text/html": [
              "<strong>png:</strong> 2"
            ],
            "text/markdown": "**png:** 2",
            "text/latex": "\\textbf{png:} 2",
            "text/plain": [
              "png \n",
              "  2 "
            ]
          },
          "metadata": {}
        }
      ]
    },
    {
      "cell_type": "code",
      "source": [
        "quantile(sort(table(df[,6])), probs = c(.85))"
      ],
      "metadata": {
        "colab": {
          "base_uri": "https://localhost:8080/",
          "height": 34
        },
        "id": "OI8D_U7j4dVb",
        "outputId": "69c225c2-f2c1-46a4-d4c1-9af38ca97ec1"
      },
      "execution_count": 139,
      "outputs": [
        {
          "output_type": "display_data",
          "data": {
            "text/html": [
              "<strong>85%:</strong> 35.45"
            ],
            "text/markdown": "**85%:** 35.45",
            "text/latex": "\\textbf{85\\textbackslash{}\\%:} 35.45",
            "text/plain": [
              "  85% \n",
              "35.45 "
            ]
          },
          "metadata": {}
        }
      ]
    },
    {
      "cell_type": "code",
      "source": [
        "length(unique(df[,6]))"
      ],
      "metadata": {
        "colab": {
          "base_uri": "https://localhost:8080/",
          "height": 34
        },
        "id": "Sj4y69Vl6OmA",
        "outputId": "45fba062-7cc7-46ea-e902-5d1ec287a949"
      },
      "execution_count": 147,
      "outputs": [
        {
          "output_type": "display_data",
          "data": {
            "text/html": [
              "60"
            ],
            "text/markdown": "60",
            "text/latex": "60",
            "text/plain": [
              "[1] 60"
            ]
          },
          "metadata": {}
        }
      ]
    },
    {
      "cell_type": "code",
      "source": [
        "sort(table(df[,6]), decreasing=T)[1:10]"
      ],
      "metadata": {
        "colab": {
          "base_uri": "https://localhost:8080/",
          "height": 104
        },
        "id": "pG33GtUa4iGj",
        "outputId": "3015ddcd-b58d-441d-d730-e06e5cb2f966"
      },
      "execution_count": 140,
      "outputs": [
        {
          "output_type": "display_data",
          "data": {
            "text/plain": [
              "\n",
              "     U.S.A.      France      Canada        U.K.       Italy     Ecuador \n",
              "        764         156         125          96          63          54 \n",
              "  Australia     Belgium Switzerland     Germany \n",
              "         49          40          38          35 "
            ]
          },
          "metadata": {}
        }
      ]
    },
    {
      "cell_type": "code",
      "source": [
        "png(filename=\"top_10_countries.png\")\n",
        "par(mar=c(10, 6, 2, 2))\n",
        "barplot(sort(table(df[,6]), decreasing=T)[1:10],\n",
        "        ylab = \"Total number of ratings\",\n",
        "        xlab = \"\", las=2)\n",
        "title(xlab=\"Country\", line=6, cex.lab=1)\n",
        "dev.off()"
      ],
      "metadata": {
        "colab": {
          "base_uri": "https://localhost:8080/",
          "height": 34
        },
        "id": "NERsxLp1sTpy",
        "outputId": "8eb3a9ca-45e2-465b-d1f3-de508368527b"
      },
      "execution_count": 146,
      "outputs": [
        {
          "output_type": "display_data",
          "data": {
            "text/html": [
              "<strong>png:</strong> 2"
            ],
            "text/markdown": "**png:** 2",
            "text/latex": "\\textbf{png:} 2",
            "text/plain": [
              "png \n",
              "  2 "
            ]
          },
          "metadata": {}
        }
      ]
    },
    {
      "cell_type": "code",
      "source": [
        "png(filename=\"reviews_per_year.png\")\n",
        "barplot(table(df$Review.Date),\n",
        "        ylab = \"Total number of ratings\",\n",
        "        xlab = \"Year\", las=2)\n",
        "dev.off()"
      ],
      "metadata": {
        "colab": {
          "base_uri": "https://localhost:8080/",
          "height": 34
        },
        "id": "G6GZlR7Z24YV",
        "outputId": "998e2239-6602-4569-8d00-8f25c71c4a37"
      },
      "execution_count": 130,
      "outputs": [
        {
          "output_type": "display_data",
          "data": {
            "text/html": [
              "<strong>png:</strong> 2"
            ],
            "text/markdown": "**png:** 2",
            "text/latex": "\\textbf{png:} 2",
            "text/plain": [
              "png \n",
              "  2 "
            ]
          },
          "metadata": {}
        }
      ]
    },
    {
      "cell_type": "code",
      "source": [
        "log(length(df$Rating))+1"
      ],
      "metadata": {
        "colab": {
          "base_uri": "https://localhost:8080/",
          "height": 34
        },
        "id": "SqP-TZwQ84Ia",
        "outputId": "647ae1db-d815-4e04-af3a-0113b02da913"
      },
      "execution_count": 159,
      "outputs": [
        {
          "output_type": "display_data",
          "data": {
            "text/html": [
              "8.49276030092238"
            ],
            "text/markdown": "8.49276030092238",
            "text/latex": "8.49276030092238",
            "text/plain": [
              "[1] 8.49276"
            ]
          },
          "metadata": {}
        }
      ]
    },
    {
      "cell_type": "code",
      "source": [
        "27 ^ (1/3)"
      ],
      "metadata": {
        "colab": {
          "base_uri": "https://localhost:8080/",
          "height": 34
        },
        "id": "4PjoSNpi91LI",
        "outputId": "e7f32f74-c0b1-44ed-f4d4-64f943ce1eff"
      },
      "execution_count": 161,
      "outputs": [
        {
          "output_type": "display_data",
          "data": {
            "text/html": [
              "3"
            ],
            "text/markdown": "3",
            "text/latex": "3",
            "text/plain": [
              "[1] 3"
            ]
          },
          "metadata": {}
        }
      ]
    },
    {
      "cell_type": "code",
      "source": [
        "png(filename=\"rating_distribution.png\")\n",
        "hist(df$Rating,\n",
        "        ylab = \"Number of ratings\",\n",
        "        xlab = \"Rating\", las=2, breaks = 2*length(df$Rating)^(1/3), main=\"\")\n",
        "dev.off()"
      ],
      "metadata": {
        "colab": {
          "base_uri": "https://localhost:8080/",
          "height": 34
        },
        "id": "ek8Y26pK7d1O",
        "outputId": "556a5d76-19c4-4eb0-8ef1-451e515f76fd"
      },
      "execution_count": 166,
      "outputs": [
        {
          "output_type": "display_data",
          "data": {
            "text/html": [
              "<strong>png:</strong> 2"
            ],
            "text/markdown": "**png:** 2",
            "text/latex": "\\textbf{png:} 2",
            "text/plain": [
              "png \n",
              "  2 "
            ]
          },
          "metadata": {}
        }
      ]
    },
    {
      "cell_type": "code",
      "source": [
        "barplot(table(df$Company.Location),\n",
        "        ylab = \"Frequency\",\n",
        "        xlab = \"Race\", las=2)"
      ],
      "metadata": {
        "colab": {
          "base_uri": "https://localhost:8080/",
          "height": 437
        },
        "id": "_4PR43qa-pzX",
        "outputId": "f53ce335-0071-468d-d0ef-c48e608486ea"
      },
      "execution_count": 86,
      "outputs": [
        {
          "output_type": "display_data",
          "data": {
            "text/plain": [
              "plot without title"
            ],
            "image/png": "[encoded data removed]"
          },
          "metadata": {
            "image/png": {
              "width": 420,
              "height": 420
            }
          }
        }
      ]
    },
    {
      "cell_type": "code",
      "source": [
        "df[df[,6] == 'U.S.A.',]"
      ],
      "metadata": {
        "colab": {
          "base_uri": "https://localhost:8080/",
          "height": 1000
        },
        "id": "99JaTNMB_Muw",
        "outputId": "a8b7b2c4-6b12-4578-9cd4-7b1c8492f56c"
      },
      "execution_count": 22,
      "outputs": [
        {
          "output_type": "display_data",
          "data": {
            "text/html": [
              "<table class=\"dataframe\">\n",
              "<caption>A data.frame: 764 × 9</caption>\n",
              "<thead>\n",
              "\t<tr><th></th><th scope=col>Company...Maker.if.known.</th><th scope=col>Specific.Bean.Origin.or.Bar.Name</th><th scope=col>REF</th><th scope=col>Review.Date</th><th scope=col>Cocoa.Percent</th><th scope=col>Company.Location</th><th scope=col>Rating</th><th scope=col>Bean.Type</th><th scope=col>Broad.Bean.Origin</th></tr>\n",
              "\t<tr><th></th><th scope=col>&lt;chr&gt;</th><th scope=col>&lt;chr&gt;</th><th scope=col>&lt;int&gt;</th><th scope=col>&lt;int&gt;</th><th scope=col>&lt;chr&gt;</th><th scope=col>&lt;chr&gt;</th><th scope=col>&lt;dbl&gt;</th><th scope=col>&lt;chr&gt;</th><th scope=col>&lt;chr&gt;</th></tr>\n",
              "</thead>\n",
              "<tbody>\n",
              "\t<tr><th scope=row>24</th><td>Acalli               </td><td>Chulucanas, El Platanal</td><td>1462</td><td>2015</td><td>70%</td><td>U.S.A.</td><td>3.75</td><td>          </td><td>Peru              </td></tr>\n",
              "\t<tr><th scope=row>25</th><td>Acalli               </td><td>Tumbes, Norandino      </td><td>1470</td><td>2015</td><td>70%</td><td>U.S.A.</td><td>3.75</td><td>Criollo   </td><td>Peru              </td></tr>\n",
              "\t<tr><th scope=row>45</th><td>Altus aka Cao Artisan</td><td>Momotombo              </td><td>1728</td><td>2016</td><td>60%</td><td>U.S.A.</td><td>2.75</td><td>          </td><td>Nicaragua         </td></tr>\n",
              "\t<tr><th scope=row>46</th><td>Altus aka Cao Artisan</td><td>Acopagro               </td><td>1728</td><td>2016</td><td>60%</td><td>U.S.A.</td><td>3.00</td><td>          </td><td>Peru              </td></tr>\n",
              "\t<tr><th scope=row>47</th><td>Altus aka Cao Artisan</td><td>CIAAB Coop             </td><td>1732</td><td>2016</td><td>60%</td><td>U.S.A.</td><td>2.50</td><td>          </td><td>Bolivia           </td></tr>\n",
              "\t<tr><th scope=row>48</th><td>Altus aka Cao Artisan</td><td>Villa Andina           </td><td>1732</td><td>2016</td><td>60%</td><td>U.S.A.</td><td>2.50</td><td>          </td><td>Peru              </td></tr>\n",
              "\t<tr><th scope=row>49</th><td>Altus aka Cao Artisan</td><td>Gruppo Salinas         </td><td>1732</td><td>2016</td><td>60%</td><td>U.S.A.</td><td>2.75</td><td>          </td><td>Ecuador           </td></tr>\n",
              "\t<tr><th scope=row>50</th><td>Altus aka Cao Artisan</td><td>Sur del Lago           </td><td>1125</td><td>2013</td><td>60%</td><td>U.S.A.</td><td>2.50</td><td>          </td><td>Venezuela         </td></tr>\n",
              "\t<tr><th scope=row>51</th><td>Altus aka Cao Artisan</td><td>Conacado               </td><td>1125</td><td>2013</td><td>60%</td><td>U.S.A.</td><td>3.00</td><td>Trinitario</td><td>Dominican Republic</td></tr>\n",
              "\t<tr><th scope=row>52</th><td>Altus aka Cao Artisan</td><td>Bolivia                </td><td>1129</td><td>2013</td><td>80%</td><td>U.S.A.</td><td>3.25</td><td>          </td><td>Bolivia           </td></tr>\n",
              "\t<tr><th scope=row>53</th><td>Altus aka Cao Artisan</td><td>Bolivia                </td><td>1133</td><td>2013</td><td>60%</td><td>U.S.A.</td><td>3.00</td><td>          </td><td>Bolivia           </td></tr>\n",
              "\t<tr><th scope=row>54</th><td>Altus aka Cao Artisan</td><td>Peru                   </td><td>1133</td><td>2013</td><td>60%</td><td>U.S.A.</td><td>3.25</td><td>          </td><td>Peru              </td></tr>\n",
              "\t<tr><th scope=row>55</th><td>Amano                </td><td>Morobe                 </td><td> 725</td><td>2011</td><td>70%</td><td>U.S.A.</td><td>4.00</td><td>          </td><td>Papua New Guinea  </td></tr>\n",
              "\t<tr><th scope=row>56</th><td>Amano                </td><td>Dos Rios               </td><td> 470</td><td>2010</td><td>70%</td><td>U.S.A.</td><td>3.75</td><td>          </td><td>Dominican Republic</td></tr>\n",
              "\t<tr><th scope=row>57</th><td>Amano                </td><td>Guayas                 </td><td> 470</td><td>2010</td><td>70%</td><td>U.S.A.</td><td>4.00</td><td>          </td><td>Ecuador           </td></tr>\n",
              "\t<tr><th scope=row>58</th><td>Amano                </td><td>Chuao                  </td><td> 544</td><td>2010</td><td>70%</td><td>U.S.A.</td><td>3.00</td><td>Trinitario</td><td>Venezuela         </td></tr>\n",
              "\t<tr><th scope=row>59</th><td>Amano                </td><td>Montanya               </td><td> 363</td><td>2009</td><td>70%</td><td>U.S.A.</td><td>3.00</td><td>          </td><td>Venezuela         </td></tr>\n",
              "\t<tr><th scope=row>60</th><td>Amano                </td><td>Bali, Jembrana         </td><td> 304</td><td>2008</td><td>70%</td><td>U.S.A.</td><td>2.75</td><td>          </td><td>Indonesia         </td></tr>\n",
              "\t<tr><th scope=row>61</th><td>Amano                </td><td>Madagascar             </td><td> 129</td><td>2007</td><td>70%</td><td>U.S.A.</td><td>3.50</td><td>Trinitario</td><td>Madagascar        </td></tr>\n",
              "\t<tr><th scope=row>62</th><td>Amano                </td><td>Cuyagua                </td><td> 147</td><td>2007</td><td>70%</td><td>U.S.A.</td><td>3.00</td><td>          </td><td>Venezuela         </td></tr>\n",
              "\t<tr><th scope=row>63</th><td>Amano                </td><td>Ocumare                </td><td> 175</td><td>2007</td><td>70%</td><td>U.S.A.</td><td>3.75</td><td>Criollo   </td><td>Venezuela         </td></tr>\n",
              "\t<tr><th scope=row>94</th><td>Anahata              </td><td>Elvesia                </td><td>1259</td><td>2014</td><td>75%</td><td>U.S.A.</td><td>3.00</td><td>          </td><td>Dominican Republic</td></tr>\n",
              "\t<tr><th scope=row>95</th><td>Animas               </td><td>Alto Beni              </td><td>1852</td><td>2016</td><td>75%</td><td>U.S.A.</td><td>3.50</td><td>          </td><td>Bolivia           </td></tr>\n",
              "\t<tr><th scope=row>100</th><td>Arete                </td><td>San Juan               </td><td>1724</td><td>2016</td><td>70%</td><td>U.S.A.</td><td>3.50</td><td>Trinitario</td><td>Trinidad          </td></tr>\n",
              "\t<tr><th scope=row>101</th><td>Arete                </td><td>Kokoa Kamili           </td><td>1724</td><td>2016</td><td>70%</td><td>U.S.A.</td><td>3.75</td><td>          </td><td>Tanzania          </td></tr>\n",
              "\t<tr><th scope=row>102</th><td>Arete                </td><td>Tien Giang             </td><td>1900</td><td>2016</td><td>73%</td><td>U.S.A.</td><td>3.50</td><td>Trinitario</td><td>Vietnam           </td></tr>\n",
              "\t<tr><th scope=row>103</th><td>Arete                </td><td>Hacienda Victoria      </td><td>1904</td><td>2016</td><td>70%</td><td>U.S.A.</td><td>3.25</td><td>          </td><td>Ecuador           </td></tr>\n",
              "\t<tr><th scope=row>104</th><td>Arete                </td><td>Costa Esmeraldas       </td><td>1904</td><td>2016</td><td>70%</td><td>U.S.A.</td><td>3.25</td><td>          </td><td>Ecuador           </td></tr>\n",
              "\t<tr><th scope=row>105</th><td>Arete                </td><td>Lachua                 </td><td>1904</td><td>2016</td><td>70%</td><td>U.S.A.</td><td>3.50</td><td>          </td><td>Guatemala         </td></tr>\n",
              "\t<tr><th scope=row>106</th><td>Arete                </td><td>Rugoso                 </td><td>1904</td><td>2016</td><td>70%</td><td>U.S.A.</td><td>3.75</td><td>          </td><td>Nicaragua         </td></tr>\n",
              "\t<tr><th scope=row>⋮</th><td>⋮</td><td>⋮</td><td>⋮</td><td>⋮</td><td>⋮</td><td>⋮</td><td>⋮</td><td>⋮</td><td>⋮</td></tr>\n",
              "\t<tr><th scope=row>1722</th><td>Vintage Plantations (Tulicorp)</td><td>Los Rios, Rancho Grande 2004/2007      </td><td> 153</td><td>2007</td><td>90%</td><td>U.S.A.</td><td>2.00</td><td>Forastero (Arriba)  </td><td>Ecuador           </td></tr>\n",
              "\t<tr><th scope=row>1723</th><td>Vintage Plantations (Tulicorp)</td><td>Los Rios, Rancho Grande 2004/2007      </td><td> 153</td><td>2007</td><td>75%</td><td>U.S.A.</td><td>3.00</td><td>Forastero (Arriba)  </td><td>Ecuador           </td></tr>\n",
              "\t<tr><th scope=row>1724</th><td>Vintage Plantations (Tulicorp)</td><td>Los Rios, Rancho Grande 2007           </td><td> 153</td><td>2007</td><td>65%</td><td>U.S.A.</td><td>3.00</td><td>Forastero (Arriba)  </td><td>Ecuador           </td></tr>\n",
              "\t<tr><th scope=row>1725</th><td>Violet Sky                    </td><td>Sambirano Valley                       </td><td>1458</td><td>2015</td><td>77%</td><td>U.S.A.</td><td>2.75</td><td>Trinitario          </td><td>Madagascar        </td></tr>\n",
              "\t<tr><th scope=row>1726</th><td>Violet Sky                    </td><td>Moho River Valley                      </td><td>1458</td><td>2015</td><td>77%</td><td>U.S.A.</td><td>3.00</td><td>Criollo, Trinitario </td><td>Belize            </td></tr>\n",
              "\t<tr><th scope=row>1727</th><td>Violet Sky                    </td><td>Cuyagua                                </td><td>1458</td><td>2015</td><td>77%</td><td>U.S.A.</td><td>3.00</td><td>Criollo             </td><td>Venezuela         </td></tr>\n",
              "\t<tr><th scope=row>1728</th><td>Violet Sky                    </td><td>Peru                                   </td><td>1458</td><td>2015</td><td>77%</td><td>U.S.A.</td><td>3.25</td><td>Criollo, Trinitario </td><td>Peru              </td></tr>\n",
              "\t<tr><th scope=row>1729</th><td>Violet Sky                    </td><td>Cahabon                                </td><td>1502</td><td>2015</td><td>77%</td><td>U.S.A.</td><td>2.75</td><td>Trinitario          </td><td>Guatemala         </td></tr>\n",
              "\t<tr><th scope=row>1730</th><td>Vivra                         </td><td>Peru                                   </td><td>1720</td><td>2016</td><td>70%</td><td>U.S.A.</td><td>2.50</td><td>                    </td><td>Peru              </td></tr>\n",
              "\t<tr><th scope=row>1731</th><td>Vivra                         </td><td>Ocumare                                </td><td>1720</td><td>2016</td><td>70%</td><td>U.S.A.</td><td>2.50</td><td>                    </td><td>Venezuela         </td></tr>\n",
              "\t<tr><th scope=row>1732</th><td>Vivra                         </td><td>Dominican Republic                     </td><td>1724</td><td>2016</td><td>70%</td><td>U.S.A.</td><td>3.00</td><td>                    </td><td>Domincan Republic </td></tr>\n",
              "\t<tr><th scope=row>1748</th><td>Wm                            </td><td>Guasare, Zulia Prov., 2015, batch 124  </td><td>1912</td><td>2016</td><td>74%</td><td>U.S.A.</td><td>3.00</td><td>Criollo             </td><td>Venezuela         </td></tr>\n",
              "\t<tr><th scope=row>1749</th><td>Wm                            </td><td>Wild Beniano, 2016, batch 128, Heirloom</td><td>1912</td><td>2016</td><td>76%</td><td>U.S.A.</td><td>3.50</td><td>                    </td><td>Bolivia           </td></tr>\n",
              "\t<tr><th scope=row>1750</th><td>Wm                            </td><td>Ghana, 2013, batch 129                 </td><td>1916</td><td>2016</td><td>75%</td><td>U.S.A.</td><td>3.75</td><td>                    </td><td>Ghana             </td></tr>\n",
              "\t<tr><th scope=row>1751</th><td>Woodblock                     </td><td>Maranon, Cajamarca                     </td><td>1243</td><td>2014</td><td>70%</td><td>U.S.A.</td><td>3.00</td><td>Forastero (Nacional)</td><td>Peru              </td></tr>\n",
              "\t<tr><th scope=row>1752</th><td>Woodblock                     </td><td>Camino Verde P., Balao, Guayas         </td><td>1042</td><td>2013</td><td>70%</td><td>U.S.A.</td><td>3.25</td><td>                    </td><td>Ecuador           </td></tr>\n",
              "\t<tr><th scope=row>1753</th><td>Woodblock                     </td><td>Gran Couva                             </td><td>1042</td><td>2013</td><td>70%</td><td>U.S.A.</td><td>3.50</td><td>Trinitario          </td><td>Trinidad          </td></tr>\n",
              "\t<tr><th scope=row>1754</th><td>Woodblock                     </td><td>Ecuador                                </td><td> 825</td><td>2012</td><td>70%</td><td>U.S.A.</td><td>2.50</td><td>                    </td><td>Ecuador           </td></tr>\n",
              "\t<tr><th scope=row>1755</th><td>Woodblock                     </td><td>Costa Rica                             </td><td> 825</td><td>2012</td><td>70%</td><td>U.S.A.</td><td>3.00</td><td>                    </td><td>Costa Rica        </td></tr>\n",
              "\t<tr><th scope=row>1756</th><td>Woodblock                     </td><td>Sambirano                              </td><td> 951</td><td>2012</td><td>70%</td><td>U.S.A.</td><td>3.25</td><td>Trinitario          </td><td>Madagascar        </td></tr>\n",
              "\t<tr><th scope=row>1757</th><td>Woodblock                     </td><td>Ocumare                                </td><td> 741</td><td>2011</td><td>70%</td><td>U.S.A.</td><td>4.00</td><td>                    </td><td>Venezuela         </td></tr>\n",
              "\t<tr><th scope=row>1758</th><td>Woodblock                     </td><td>La Red                                 </td><td> 769</td><td>2011</td><td>70%</td><td>U.S.A.</td><td>3.50</td><td>                    </td><td>Dominican Republic</td></tr>\n",
              "\t<tr><th scope=row>1760</th><td>Xocolla                       </td><td>Sambirano, batch 170102                </td><td>1948</td><td>2017</td><td>70%</td><td>U.S.A.</td><td>2.75</td><td>                    </td><td>Madagascar        </td></tr>\n",
              "\t<tr><th scope=row>1761</th><td>Xocolla                       </td><td>Hispaniola, batch 170104               </td><td>1948</td><td>2017</td><td>70%</td><td>U.S.A.</td><td>2.50</td><td>                    </td><td>Dominican Republic</td></tr>\n",
              "\t<tr><th scope=row>1762</th><td>Zak's                         </td><td>Papua New Guinea, Batch 2              </td><td>1574</td><td>2015</td><td>70%</td><td>U.S.A.</td><td>3.00</td><td>                    </td><td>Papua New Guinea  </td></tr>\n",
              "\t<tr><th scope=row>1763</th><td>Zak's                         </td><td>Dominican Republic, Batch D2           </td><td>1578</td><td>2015</td><td>70%</td><td>U.S.A.</td><td>3.25</td><td>                    </td><td>Domincan Republic </td></tr>\n",
              "\t<tr><th scope=row>1764</th><td>Zak's                         </td><td>Madagascar, Batch 2                    </td><td>1578</td><td>2015</td><td>70%</td><td>U.S.A.</td><td>3.25</td><td>Trinitario          </td><td>Madagascar        </td></tr>\n",
              "\t<tr><th scope=row>1765</th><td>Zak's                         </td><td>Peru, Batch 1                          </td><td>1578</td><td>2015</td><td>70%</td><td>U.S.A.</td><td>3.25</td><td>                    </td><td>Peru              </td></tr>\n",
              "\t<tr><th scope=row>1766</th><td>Zak's                         </td><td>Belize, Batch 2                        </td><td>1578</td><td>2015</td><td>70%</td><td>U.S.A.</td><td>3.50</td><td>Trinitario          </td><td>Belize            </td></tr>\n",
              "\t<tr><th scope=row>1767</th><td>Zak's                         </td><td>House Blend, Batch 2                   </td><td>1582</td><td>2015</td><td>60%</td><td>U.S.A.</td><td>3.00</td><td>                    </td><td>                  </td></tr>\n",
              "</tbody>\n",
              "</table>\n"
            ],
            "text/markdown": "\nA data.frame: 764 × 9\n\n| <!--/--> | Company...Maker.if.known. &lt;chr&gt; | Specific.Bean.Origin.or.Bar.Name &lt;chr&gt; | REF &lt;int&gt; | Review.Date &lt;int&gt; | Cocoa.Percent &lt;chr&gt; | Company.Location &lt;chr&gt; | Rating &lt;dbl&gt; | Bean.Type &lt;chr&gt; | Broad.Bean.Origin &lt;chr&gt; |\n|---|---|---|---|---|---|---|---|---|---|\n| 24 | Acalli                | Chulucanas, El Platanal | 1462 | 2015 | 70% | U.S.A. | 3.75 |            | Peru               |\n| 25 | Acalli                | Tumbes, Norandino       | 1470 | 2015 | 70% | U.S.A. | 3.75 | Criollo    | Peru               |\n| 45 | Altus aka Cao Artisan | Momotombo               | 1728 | 2016 | 60% | U.S.A. | 2.75 |            | Nicaragua          |\n| 46 | Altus aka Cao Artisan | Acopagro                | 1728 | 2016 | 60% | U.S.A. | 3.00 |            | Peru               |\n| 47 | Altus aka Cao Artisan | CIAAB Coop              | 1732 | 2016 | 60% | U.S.A. | 2.50 |            | Bolivia            |\n| 48 | Altus aka Cao Artisan | Villa Andina            | 1732 | 2016 | 60% | U.S.A. | 2.50 |            | Peru               |\n| 49 | Altus aka Cao Artisan | Gruppo Salinas          | 1732 | 2016 | 60% | U.S.A. | 2.75 |            | Ecuador            |\n| 50 | Altus aka Cao Artisan | Sur del Lago            | 1125 | 2013 | 60% | U.S.A. | 2.50 |            | Venezuela          |\n| 51 | Altus aka Cao Artisan | Conacado                | 1125 | 2013 | 60% | U.S.A. | 3.00 | Trinitario | Dominican Republic |\n| 52 | Altus aka Cao Artisan | Bolivia                 | 1129 | 2013 | 80% | U.S.A. | 3.25 |            | Bolivia            |\n| 53 | Altus aka Cao Artisan | Bolivia                 | 1133 | 2013 | 60% | U.S.A. | 3.00 |            | Bolivia            |\n| 54 | Altus aka Cao Artisan | Peru                    | 1133 | 2013 | 60% | U.S.A. | 3.25 |            | Peru               |\n| 55 | Amano                 | Morobe                  |  725 | 2011 | 70% | U.S.A. | 4.00 |            | Papua New Guinea   |\n| 56 | Amano                 | Dos Rios                |  470 | 2010 | 70% | U.S.A. | 3.75 |            | Dominican Republic |\n| 57 | Amano                 | Guayas                  |  470 | 2010 | 70% | U.S.A. | 4.00 |            | Ecuador            |\n| 58 | Amano                 | Chuao                   |  544 | 2010 | 70% | U.S.A. | 3.00 | Trinitario | Venezuela          |\n| 59 | Amano                 | Montanya                |  363 | 2009 | 70% | U.S.A. | 3.00 |            | Venezuela          |\n| 60 | Amano                 | Bali, Jembrana          |  304 | 2008 | 70% | U.S.A. | 2.75 |            | Indonesia          |\n| 61 | Amano                 | Madagascar              |  129 | 2007 | 70% | U.S.A. | 3.50 | Trinitario | Madagascar         |\n| 62 | Amano                 | Cuyagua                 |  147 | 2007 | 70% | U.S.A. | 3.00 |            | Venezuela          |\n| 63 | Amano                 | Ocumare                 |  175 | 2007 | 70% | U.S.A. | 3.75 | Criollo    | Venezuela          |\n| 94 | Anahata               | Elvesia                 | 1259 | 2014 | 75% | U.S.A. | 3.00 |            | Dominican Republic |\n| 95 | Animas                | Alto Beni               | 1852 | 2016 | 75% | U.S.A. | 3.50 |            | Bolivia            |\n| 100 | Arete                 | San Juan                | 1724 | 2016 | 70% | U.S.A. | 3.50 | Trinitario | Trinidad           |\n| 101 | Arete                 | Kokoa Kamili            | 1724 | 2016 | 70% | U.S.A. | 3.75 |            | Tanzania           |\n| 102 | Arete                 | Tien Giang              | 1900 | 2016 | 73% | U.S.A. | 3.50 | Trinitario | Vietnam            |\n| 103 | Arete                 | Hacienda Victoria       | 1904 | 2016 | 70% | U.S.A. | 3.25 |            | Ecuador            |\n| 104 | Arete                 | Costa Esmeraldas        | 1904 | 2016 | 70% | U.S.A. | 3.25 |            | Ecuador            |\n| 105 | Arete                 | Lachua                  | 1904 | 2016 | 70% | U.S.A. | 3.50 |            | Guatemala          |\n| 106 | Arete                 | Rugoso                  | 1904 | 2016 | 70% | U.S.A. | 3.75 |            | Nicaragua          |\n| ⋮ | ⋮ | ⋮ | ⋮ | ⋮ | ⋮ | ⋮ | ⋮ | ⋮ | ⋮ |\n| 1722 | Vintage Plantations (Tulicorp) | Los Rios, Rancho Grande 2004/2007       |  153 | 2007 | 90% | U.S.A. | 2.00 | Forastero (Arriba)   | Ecuador            |\n| 1723 | Vintage Plantations (Tulicorp) | Los Rios, Rancho Grande 2004/2007       |  153 | 2007 | 75% | U.S.A. | 3.00 | Forastero (Arriba)   | Ecuador            |\n| 1724 | Vintage Plantations (Tulicorp) | Los Rios, Rancho Grande 2007            |  153 | 2007 | 65% | U.S.A. | 3.00 | Forastero (Arriba)   | Ecuador            |\n| 1725 | Violet Sky                     | Sambirano Valley                        | 1458 | 2015 | 77% | U.S.A. | 2.75 | Trinitario           | Madagascar         |\n| 1726 | Violet Sky                     | Moho River Valley                       | 1458 | 2015 | 77% | U.S.A. | 3.00 | Criollo, Trinitario  | Belize             |\n| 1727 | Violet Sky                     | Cuyagua                                 | 1458 | 2015 | 77% | U.S.A. | 3.00 | Criollo              | Venezuela          |\n| 1728 | Violet Sky                     | Peru                                    | 1458 | 2015 | 77% | U.S.A. | 3.25 | Criollo, Trinitario  | Peru               |\n| 1729 | Violet Sky                     | Cahabon                                 | 1502 | 2015 | 77% | U.S.A. | 2.75 | Trinitario           | Guatemala          |\n| 1730 | Vivra                          | Peru                                    | 1720 | 2016 | 70% | U.S.A. | 2.50 |                      | Peru               |\n| 1731 | Vivra                          | Ocumare                                 | 1720 | 2016 | 70% | U.S.A. | 2.50 |                      | Venezuela          |\n| 1732 | Vivra                          | Dominican Republic                      | 1724 | 2016 | 70% | U.S.A. | 3.00 |                      | Domincan Republic  |\n| 1748 | Wm                             | Guasare, Zulia Prov., 2015, batch 124   | 1912 | 2016 | 74% | U.S.A. | 3.00 | Criollo              | Venezuela          |\n| 1749 | Wm                             | Wild Beniano, 2016, batch 128, Heirloom | 1912 | 2016 | 76% | U.S.A. | 3.50 |                      | Bolivia            |\n| 1750 | Wm                             | Ghana, 2013, batch 129                  | 1916 | 2016 | 75% | U.S.A. | 3.75 |                      | Ghana              |\n| 1751 | Woodblock                      | Maranon, Cajamarca                      | 1243 | 2014 | 70% | U.S.A. | 3.00 | Forastero (Nacional) | Peru               |\n| 1752 | Woodblock                      | Camino Verde P., Balao, Guayas          | 1042 | 2013 | 70% | U.S.A. | 3.25 |                      | Ecuador            |\n| 1753 | Woodblock                      | Gran Couva                              | 1042 | 2013 | 70% | U.S.A. | 3.50 | Trinitario           | Trinidad           |\n| 1754 | Woodblock                      | Ecuador                                 |  825 | 2012 | 70% | U.S.A. | 2.50 |                      | Ecuador            |\n| 1755 | Woodblock                      | Costa Rica                              |  825 | 2012 | 70% | U.S.A. | 3.00 |                      | Costa Rica         |\n| 1756 | Woodblock                      | Sambirano                               |  951 | 2012 | 70% | U.S.A. | 3.25 | Trinitario           | Madagascar         |\n| 1757 | Woodblock                      | Ocumare                                 |  741 | 2011 | 70% | U.S.A. | 4.00 |                      | Venezuela          |\n| 1758 | Woodblock                      | La Red                                  |  769 | 2011 | 70% | U.S.A. | 3.50 |                      | Dominican Republic |\n| 1760 | Xocolla                        | Sambirano, batch 170102                 | 1948 | 2017 | 70% | U.S.A. | 2.75 |                      | Madagascar         |\n| 1761 | Xocolla                        | Hispaniola, batch 170104                | 1948 | 2017 | 70% | U.S.A. | 2.50 |                      | Dominican Republic |\n| 1762 | Zak's                          | Papua New Guinea, Batch 2               | 1574 | 2015 | 70% | U.S.A. | 3.00 |                      | Papua New Guinea   |\n| 1763 | Zak's                          | Dominican Republic, Batch D2            | 1578 | 2015 | 70% | U.S.A. | 3.25 |                      | Domincan Republic  |\n| 1764 | Zak's                          | Madagascar, Batch 2                     | 1578 | 2015 | 70% | U.S.A. | 3.25 | Trinitario           | Madagascar         |\n| 1765 | Zak's                          | Peru, Batch 1                           | 1578 | 2015 | 70% | U.S.A. | 3.25 |                      | Peru               |\n| 1766 | Zak's                          | Belize, Batch 2                         | 1578 | 2015 | 70% | U.S.A. | 3.50 | Trinitario           | Belize             |\n| 1767 | Zak's                          | House Blend, Batch 2                    | 1582 | 2015 | 60% | U.S.A. | 3.00 |                      |                    |\n\n",
            "text/latex": "A data.frame: 764 × 9\n\\begin{tabular}{r|lllllllll}\n  & Company...Maker.if.known. & Specific.Bean.Origin.or.Bar.Name & REF & Review.Date & Cocoa.Percent & Company.Location & Rating & Bean.Type & Broad.Bean.Origin\\\\\n  & <chr> & <chr> & <int> & <int> & <chr> & <chr> & <dbl> & <chr> & <chr>\\\\\n\\hline\n\t24 & Acalli                & Chulucanas, El Platanal & 1462 & 2015 & 70\\% & U.S.A. & 3.75 &            & Peru              \\\\\n\t25 & Acalli                & Tumbes, Norandino       & 1470 & 2015 & 70\\% & U.S.A. & 3.75 & Criollo    & Peru              \\\\\n\t45 & Altus aka Cao Artisan & Momotombo               & 1728 & 2016 & 60\\% & U.S.A. & 2.75 &            & Nicaragua         \\\\\n\t46 & Altus aka Cao Artisan & Acopagro                & 1728 & 2016 & 60\\% & U.S.A. & 3.00 &            & Peru              \\\\\n\t47 & Altus aka Cao Artisan & CIAAB Coop              & 1732 & 2016 & 60\\% & U.S.A. & 2.50 &            & Bolivia           \\\\\n\t48 & Altus aka Cao Artisan & Villa Andina            & 1732 & 2016 & 60\\% & U.S.A. & 2.50 &            & Peru              \\\\\n\t49 & Altus aka Cao Artisan & Gruppo Salinas          & 1732 & 2016 & 60\\% & U.S.A. & 2.75 &            & Ecuador           \\\\\n\t50 & Altus aka Cao Artisan & Sur del Lago            & 1125 & 2013 & 60\\% & U.S.A. & 2.50 &            & Venezuela         \\\\\n\t51 & Altus aka Cao Artisan & Conacado                & 1125 & 2013 & 60\\% & U.S.A. & 3.00 & Trinitario & Dominican Republic\\\\\n\t52 & Altus aka Cao Artisan & Bolivia                 & 1129 & 2013 & 80\\% & U.S.A. & 3.25 &            & Bolivia           \\\\\n\t53 & Altus aka Cao Artisan & Bolivia                 & 1133 & 2013 & 60\\% & U.S.A. & 3.00 &            & Bolivia           \\\\\n\t54 & Altus aka Cao Artisan & Peru                    & 1133 & 2013 & 60\\% & U.S.A. & 3.25 &            & Peru              \\\\\n\t55 & Amano                 & Morobe                  &  725 & 2011 & 70\\% & U.S.A. & 4.00 &            & Papua New Guinea  \\\\\n\t56 & Amano                 & Dos Rios                &  470 & 2010 & 70\\% & U.S.A. & 3.75 &            & Dominican Republic\\\\\n\t57 & Amano                 & Guayas                  &  470 & 2010 & 70\\% & U.S.A. & 4.00 &            & Ecuador           \\\\\n\t58 & Amano                 & Chuao                   &  544 & 2010 & 70\\% & U.S.A. & 3.00 & Trinitario & Venezuela         \\\\\n\t59 & Amano                 & Montanya                &  363 & 2009 & 70\\% & U.S.A. & 3.00 &            & Venezuela         \\\\\n\t60 & Amano                 & Bali, Jembrana          &  304 & 2008 & 70\\% & U.S.A. & 2.75 &            & Indonesia         \\\\\n\t61 & Amano                 & Madagascar              &  129 & 2007 & 70\\% & U.S.A. & 3.50 & Trinitario & Madagascar        \\\\\n\t62 & Amano                 & Cuyagua                 &  147 & 2007 & 70\\% & U.S.A. & 3.00 &            & Venezuela         \\\\\n\t63 & Amano                 & Ocumare                 &  175 & 2007 & 70\\% & U.S.A. & 3.75 & Criollo    & Venezuela         \\\\\n\t94 & Anahata               & Elvesia                 & 1259 & 2014 & 75\\% & U.S.A. & 3.00 &            & Dominican Republic\\\\\n\t95 & Animas                & Alto Beni               & 1852 & 2016 & 75\\% & U.S.A. & 3.50 &            & Bolivia           \\\\\n\t100 & Arete                 & San Juan                & 1724 & 2016 & 70\\% & U.S.A. & 3.50 & Trinitario & Trinidad          \\\\\n\t101 & Arete                 & Kokoa Kamili            & 1724 & 2016 & 70\\% & U.S.A. & 3.75 &            & Tanzania          \\\\\n\t102 & Arete                 & Tien Giang              & 1900 & 2016 & 73\\% & U.S.A. & 3.50 & Trinitario & Vietnam           \\\\\n\t103 & Arete                 & Hacienda Victoria       & 1904 & 2016 & 70\\% & U.S.A. & 3.25 &            & Ecuador           \\\\\n\t104 & Arete                 & Costa Esmeraldas        & 1904 & 2016 & 70\\% & U.S.A. & 3.25 &            & Ecuador           \\\\\n\t105 & Arete                 & Lachua                  & 1904 & 2016 & 70\\% & U.S.A. & 3.50 &            & Guatemala         \\\\\n\t106 & Arete                 & Rugoso                  & 1904 & 2016 & 70\\% & U.S.A. & 3.75 &            & Nicaragua         \\\\\n\t⋮ & ⋮ & ⋮ & ⋮ & ⋮ & ⋮ & ⋮ & ⋮ & ⋮ & ⋮\\\\\n\t1722 & Vintage Plantations (Tulicorp) & Los Rios, Rancho Grande 2004/2007       &  153 & 2007 & 90\\% & U.S.A. & 2.00 & Forastero (Arriba)   & Ecuador           \\\\\n\t1723 & Vintage Plantations (Tulicorp) & Los Rios, Rancho Grande 2004/2007       &  153 & 2007 & 75\\% & U.S.A. & 3.00 & Forastero (Arriba)   & Ecuador           \\\\\n\t1724 & Vintage Plantations (Tulicorp) & Los Rios, Rancho Grande 2007            &  153 & 2007 & 65\\% & U.S.A. & 3.00 & Forastero (Arriba)   & Ecuador           \\\\\n\t1725 & Violet Sky                     & Sambirano Valley                        & 1458 & 2015 & 77\\% & U.S.A. & 2.75 & Trinitario           & Madagascar        \\\\\n\t1726 & Violet Sky                     & Moho River Valley                       & 1458 & 2015 & 77\\% & U.S.A. & 3.00 & Criollo, Trinitario  & Belize            \\\\\n\t1727 & Violet Sky                     & Cuyagua                                 & 1458 & 2015 & 77\\% & U.S.A. & 3.00 & Criollo              & Venezuela         \\\\\n\t1728 & Violet Sky                     & Peru                                    & 1458 & 2015 & 77\\% & U.S.A. & 3.25 & Criollo, Trinitario  & Peru              \\\\\n\t1729 & Violet Sky                     & Cahabon                                 & 1502 & 2015 & 77\\% & U.S.A. & 2.75 & Trinitario           & Guatemala         \\\\\n\t1730 & Vivra                          & Peru                                    & 1720 & 2016 & 70\\% & U.S.A. & 2.50 &                      & Peru              \\\\\n\t1731 & Vivra                          & Ocumare                                 & 1720 & 2016 & 70\\% & U.S.A. & 2.50 &                      & Venezuela         \\\\\n\t1732 & Vivra                          & Dominican Republic                      & 1724 & 2016 & 70\\% & U.S.A. & 3.00 &                      & Domincan Republic \\\\\n\t1748 & Wm                             & Guasare, Zulia Prov., 2015, batch 124   & 1912 & 2016 & 74\\% & U.S.A. & 3.00 & Criollo              & Venezuela         \\\\\n\t1749 & Wm                             & Wild Beniano, 2016, batch 128, Heirloom & 1912 & 2016 & 76\\% & U.S.A. & 3.50 &                      & Bolivia           \\\\\n\t1750 & Wm                             & Ghana, 2013, batch 129                  & 1916 & 2016 & 75\\% & U.S.A. & 3.75 &                      & Ghana             \\\\\n\t1751 & Woodblock                      & Maranon, Cajamarca                      & 1243 & 2014 & 70\\% & U.S.A. & 3.00 & Forastero (Nacional) & Peru              \\\\\n\t1752 & Woodblock                      & Camino Verde P., Balao, Guayas          & 1042 & 2013 & 70\\% & U.S.A. & 3.25 &                      & Ecuador           \\\\\n\t1753 & Woodblock                      & Gran Couva                              & 1042 & 2013 & 70\\% & U.S.A. & 3.50 & Trinitario           & Trinidad          \\\\\n\t1754 & Woodblock                      & Ecuador                                 &  825 & 2012 & 70\\% & U.S.A. & 2.50 &                      & Ecuador           \\\\\n\t1755 & Woodblock                      & Costa Rica                              &  825 & 2012 & 70\\% & U.S.A. & 3.00 &                      & Costa Rica        \\\\\n\t1756 & Woodblock                      & Sambirano                               &  951 & 2012 & 70\\% & U.S.A. & 3.25 & Trinitario           & Madagascar        \\\\\n\t1757 & Woodblock                      & Ocumare                                 &  741 & 2011 & 70\\% & U.S.A. & 4.00 &                      & Venezuela         \\\\\n\t1758 & Woodblock                      & La Red                                  &  769 & 2011 & 70\\% & U.S.A. & 3.50 &                      & Dominican Republic\\\\\n\t1760 & Xocolla                        & Sambirano, batch 170102                 & 1948 & 2017 & 70\\% & U.S.A. & 2.75 &                      & Madagascar        \\\\\n\t1761 & Xocolla                        & Hispaniola, batch 170104                & 1948 & 2017 & 70\\% & U.S.A. & 2.50 &                      & Dominican Republic\\\\\n\t1762 & Zak's                          & Papua New Guinea, Batch 2               & 1574 & 2015 & 70\\% & U.S.A. & 3.00 &                      & Papua New Guinea  \\\\\n\t1763 & Zak's                          & Dominican Republic, Batch D2            & 1578 & 2015 & 70\\% & U.S.A. & 3.25 &                      & Domincan Republic \\\\\n\t1764 & Zak's                          & Madagascar, Batch 2                     & 1578 & 2015 & 70\\% & U.S.A. & 3.25 & Trinitario           & Madagascar        \\\\\n\t1765 & Zak's                          & Peru, Batch 1                           & 1578 & 2015 & 70\\% & U.S.A. & 3.25 &                      & Peru              \\\\\n\t1766 & Zak's                          & Belize, Batch 2                         & 1578 & 2015 & 70\\% & U.S.A. & 3.50 & Trinitario           & Belize            \\\\\n\t1767 & Zak's                          & House Blend, Batch 2                    & 1582 & 2015 & 60\\% & U.S.A. & 3.00 &                      &                   \\\\\n\\end{tabular}\n",
            "text/plain": [
              "     Company...Maker.if.known.      Specific.Bean.Origin.or.Bar.Name       \n",
              "24   Acalli                         Chulucanas, El Platanal                \n",
              "25   Acalli                         Tumbes, Norandino                      \n",
              "45   Altus aka Cao Artisan          Momotombo                              \n",
              "46   Altus aka Cao Artisan          Acopagro                               \n",
              "47   Altus aka Cao Artisan          CIAAB Coop                             \n",
              "48   Altus aka Cao Artisan          Villa Andina                           \n",
              "49   Altus aka Cao Artisan          Gruppo Salinas                         \n",
              "50   Altus aka Cao Artisan          Sur del Lago                           \n",
              "51   Altus aka Cao Artisan          Conacado                               \n",
              "52   Altus aka Cao Artisan          Bolivia                                \n",
              "53   Altus aka Cao Artisan          Bolivia                                \n",
              "54   Altus aka Cao Artisan          Peru                                   \n",
              "55   Amano                          Morobe                                 \n",
              "56   Amano                          Dos Rios                               \n",
              "57   Amano                          Guayas                                 \n",
              "58   Amano                          Chuao                                  \n",
              "59   Amano                          Montanya                               \n",
              "60   Amano                          Bali, Jembrana                         \n",
              "61   Amano                          Madagascar                             \n",
              "62   Amano                          Cuyagua                                \n",
              "63   Amano                          Ocumare                                \n",
              "94   Anahata                        Elvesia                                \n",
              "95   Animas                         Alto Beni                              \n",
              "100  Arete                          San Juan                               \n",
              "101  Arete                          Kokoa Kamili                           \n",
              "102  Arete                          Tien Giang                             \n",
              "103  Arete                          Hacienda Victoria                      \n",
              "104  Arete                          Costa Esmeraldas                       \n",
              "105  Arete                          Lachua                                 \n",
              "106  Arete                          Rugoso                                 \n",
              "⋮    ⋮                              ⋮                                      \n",
              "1722 Vintage Plantations (Tulicorp) Los Rios, Rancho Grande 2004/2007      \n",
              "1723 Vintage Plantations (Tulicorp) Los Rios, Rancho Grande 2004/2007      \n",
              "1724 Vintage Plantations (Tulicorp) Los Rios, Rancho Grande 2007           \n",
              "1725 Violet Sky                     Sambirano Valley                       \n",
              "1726 Violet Sky                     Moho River Valley                      \n",
              "1727 Violet Sky                     Cuyagua                                \n",
              "1728 Violet Sky                     Peru                                   \n",
              "1729 Violet Sky                     Cahabon                                \n",
              "1730 Vivra                          Peru                                   \n",
              "1731 Vivra                          Ocumare                                \n",
              "1732 Vivra                          Dominican Republic                     \n",
              "1748 Wm                             Guasare, Zulia Prov., 2015, batch 124  \n",
              "1749 Wm                             Wild Beniano, 2016, batch 128, Heirloom\n",
              "1750 Wm                             Ghana, 2013, batch 129                 \n",
              "1751 Woodblock                      Maranon, Cajamarca                     \n",
              "1752 Woodblock                      Camino Verde P., Balao, Guayas         \n",
              "1753 Woodblock                      Gran Couva                             \n",
              "1754 Woodblock                      Ecuador                                \n",
              "1755 Woodblock                      Costa Rica                             \n",
              "1756 Woodblock                      Sambirano                              \n",
              "1757 Woodblock                      Ocumare                                \n",
              "1758 Woodblock                      La Red                                 \n",
              "1760 Xocolla                        Sambirano, batch 170102                \n",
              "1761 Xocolla                        Hispaniola, batch 170104               \n",
              "1762 Zak's                          Papua New Guinea, Batch 2              \n",
              "1763 Zak's                          Dominican Republic, Batch D2           \n",
              "1764 Zak's                          Madagascar, Batch 2                    \n",
              "1765 Zak's                          Peru, Batch 1                          \n",
              "1766 Zak's                          Belize, Batch 2                        \n",
              "1767 Zak's                          House Blend, Batch 2                   \n",
              "     REF  Review.Date Cocoa.Percent Company.Location Rating\n",
              "24   1462 2015        70%           U.S.A.           3.75  \n",
              "25   1470 2015        70%           U.S.A.           3.75  \n",
              "45   1728 2016        60%           U.S.A.           2.75  \n",
              "46   1728 2016        60%           U.S.A.           3.00  \n",
              "47   1732 2016        60%           U.S.A.           2.50  \n",
              "48   1732 2016        60%           U.S.A.           2.50  \n",
              "49   1732 2016        60%           U.S.A.           2.75  \n",
              "50   1125 2013        60%           U.S.A.           2.50  \n",
              "51   1125 2013        60%           U.S.A.           3.00  \n",
              "52   1129 2013        80%           U.S.A.           3.25  \n",
              "53   1133 2013        60%           U.S.A.           3.00  \n",
              "54   1133 2013        60%           U.S.A.           3.25  \n",
              "55    725 2011        70%           U.S.A.           4.00  \n",
              "56    470 2010        70%           U.S.A.           3.75  \n",
              "57    470 2010        70%           U.S.A.           4.00  \n",
              "58    544 2010        70%           U.S.A.           3.00  \n",
              "59    363 2009        70%           U.S.A.           3.00  \n",
              "60    304 2008        70%           U.S.A.           2.75  \n",
              "61    129 2007        70%           U.S.A.           3.50  \n",
              "62    147 2007        70%           U.S.A.           3.00  \n",
              "63    175 2007        70%           U.S.A.           3.75  \n",
              "94   1259 2014        75%           U.S.A.           3.00  \n",
              "95   1852 2016        75%           U.S.A.           3.50  \n",
              "100  1724 2016        70%           U.S.A.           3.50  \n",
              "101  1724 2016        70%           U.S.A.           3.75  \n",
              "102  1900 2016        73%           U.S.A.           3.50  \n",
              "103  1904 2016        70%           U.S.A.           3.25  \n",
              "104  1904 2016        70%           U.S.A.           3.25  \n",
              "105  1904 2016        70%           U.S.A.           3.50  \n",
              "106  1904 2016        70%           U.S.A.           3.75  \n",
              "⋮    ⋮    ⋮           ⋮             ⋮                ⋮     \n",
              "1722  153 2007        90%           U.S.A.           2.00  \n",
              "1723  153 2007        75%           U.S.A.           3.00  \n",
              "1724  153 2007        65%           U.S.A.           3.00  \n",
              "1725 1458 2015        77%           U.S.A.           2.75  \n",
              "1726 1458 2015        77%           U.S.A.           3.00  \n",
              "1727 1458 2015        77%           U.S.A.           3.00  \n",
              "1728 1458 2015        77%           U.S.A.           3.25  \n",
              "1729 1502 2015        77%           U.S.A.           2.75  \n",
              "1730 1720 2016        70%           U.S.A.           2.50  \n",
              "1731 1720 2016        70%           U.S.A.           2.50  \n",
              "1732 1724 2016        70%           U.S.A.           3.00  \n",
              "1748 1912 2016        74%           U.S.A.           3.00  \n",
              "1749 1912 2016        76%           U.S.A.           3.50  \n",
              "1750 1916 2016        75%           U.S.A.           3.75  \n",
              "1751 1243 2014        70%           U.S.A.           3.00  \n",
              "1752 1042 2013        70%           U.S.A.           3.25  \n",
              "1753 1042 2013        70%           U.S.A.           3.50  \n",
              "1754  825 2012        70%           U.S.A.           2.50  \n",
              "1755  825 2012        70%           U.S.A.           3.00  \n",
              "1756  951 2012        70%           U.S.A.           3.25  \n",
              "1757  741 2011        70%           U.S.A.           4.00  \n",
              "1758  769 2011        70%           U.S.A.           3.50  \n",
              "1760 1948 2017        70%           U.S.A.           2.75  \n",
              "1761 1948 2017        70%           U.S.A.           2.50  \n",
              "1762 1574 2015        70%           U.S.A.           3.00  \n",
              "1763 1578 2015        70%           U.S.A.           3.25  \n",
              "1764 1578 2015        70%           U.S.A.           3.25  \n",
              "1765 1578 2015        70%           U.S.A.           3.25  \n",
              "1766 1578 2015        70%           U.S.A.           3.50  \n",
              "1767 1582 2015        60%           U.S.A.           3.00  \n",
              "     Bean.Type            Broad.Bean.Origin \n",
              "24                        Peru              \n",
              "25   Criollo              Peru              \n",
              "45                        Nicaragua         \n",
              "46                        Peru              \n",
              "47                        Bolivia           \n",
              "48                        Peru              \n",
              "49                        Ecuador           \n",
              "50                        Venezuela         \n",
              "51   Trinitario           Dominican Republic\n",
              "52                        Bolivia           \n",
              "53                        Bolivia           \n",
              "54                        Peru              \n",
              "55                        Papua New Guinea  \n",
              "56                        Dominican Republic\n",
              "57                        Ecuador           \n",
              "58   Trinitario           Venezuela         \n",
              "59                        Venezuela         \n",
              "60                        Indonesia         \n",
              "61   Trinitario           Madagascar        \n",
              "62                        Venezuela         \n",
              "63   Criollo              Venezuela         \n",
              "94                        Dominican Republic\n",
              "95                        Bolivia           \n",
              "100  Trinitario           Trinidad          \n",
              "101                       Tanzania          \n",
              "102  Trinitario           Vietnam           \n",
              "103                       Ecuador           \n",
              "104                       Ecuador           \n",
              "105                       Guatemala         \n",
              "106                       Nicaragua         \n",
              "⋮    ⋮                    ⋮                 \n",
              "1722 Forastero (Arriba)   Ecuador           \n",
              "1723 Forastero (Arriba)   Ecuador           \n",
              "1724 Forastero (Arriba)   Ecuador           \n",
              "1725 Trinitario           Madagascar        \n",
              "1726 Criollo, Trinitario  Belize            \n",
              "1727 Criollo              Venezuela         \n",
              "1728 Criollo, Trinitario  Peru              \n",
              "1729 Trinitario           Guatemala         \n",
              "1730                      Peru              \n",
              "1731                      Venezuela         \n",
              "1732                      Domincan Republic \n",
              "1748 Criollo              Venezuela         \n",
              "1749                      Bolivia           \n",
              "1750                      Ghana             \n",
              "1751 Forastero (Nacional) Peru              \n",
              "1752                      Ecuador           \n",
              "1753 Trinitario           Trinidad          \n",
              "1754                      Ecuador           \n",
              "1755                      Costa Rica        \n",
              "1756 Trinitario           Madagascar        \n",
              "1757                      Venezuela         \n",
              "1758                      Dominican Republic\n",
              "1760                      Madagascar        \n",
              "1761                      Dominican Republic\n",
              "1762                      Papua New Guinea  \n",
              "1763                      Domincan Republic \n",
              "1764 Trinitario           Madagascar        \n",
              "1765                      Peru              \n",
              "1766 Trinitario           Belize            \n",
              "1767                                        "
            ]
          },
          "metadata": {}
        }
      ]
    },
    {
      "cell_type": "code",
      "source": [
        "qqnorm(df[df[,6] == 'U.S.A.',]$Rating)"
      ],
      "metadata": {
        "colab": {
          "base_uri": "https://localhost:8080/",
          "height": 437
        },
        "id": "ez0jEq05AXl3",
        "outputId": "3ab1c0b8-58de-462e-cead-1dff4ec11cc0"
      },
      "execution_count": 26,
      "outputs": [
        {
          "output_type": "display_data",
          "data": {
            "text/plain": [
              "Plot with title “Normal Q-Q Plot”"
            ],
            "image/png": "[encoded data removed]"
          },
          "metadata": {
            "image/png": {
              "width": 420,
              "height": 420
            }
          }
        }
      ]
    },
    {
      "cell_type": "code",
      "source": [
        "png(filename=\"qqplot.png\")\n",
        "qqnorm(df$Rating)\n",
        "qqline(df$Rating)\n",
        "dev.off()"
      ],
      "metadata": {
        "colab": {
          "base_uri": "https://localhost:8080/",
          "height": 34
        },
        "id": "VSzTmSHWG_Wj",
        "outputId": "6e1df4ac-a7e8-4767-c42b-96ffdc9a6fef"
      },
      "execution_count": 170,
      "outputs": [
        {
          "output_type": "display_data",
          "data": {
            "text/html": [
              "<strong>png:</strong> 2"
            ],
            "text/markdown": "**png:** 2",
            "text/latex": "\\textbf{png:} 2",
            "text/plain": [
              "png \n",
              "  2 "
            ]
          },
          "metadata": {}
        }
      ]
    },
    {
      "cell_type": "code",
      "source": [
        "hist(df[df[,6] == 'U.S.A.',]$Rating)"
      ],
      "metadata": {
        "colab": {
          "base_uri": "https://localhost:8080/",
          "height": 437
        },
        "id": "tOkJ1Z-gEu3_",
        "outputId": "60440651-1629-45c4-ee8d-c56a23a962ff"
      },
      "execution_count": 27,
      "outputs": [
        {
          "output_type": "display_data",
          "data": {
            "text/plain": [
              "Plot with title “Histogram of df[df[, 6] == \"U.S.A.\", ]$Rating”"
            ],
            "image/png": "[encoded data removed]"
          },
          "metadata": {
            "image/png": {
              "width": 420,
              "height": 420
            }
          }
        }
      ]
    },
    {
      "cell_type": "code",
      "source": [
        "min(df$Rating)"
      ],
      "metadata": {
        "colab": {
          "base_uri": "https://localhost:8080/",
          "height": 34
        },
        "id": "x-q_1_66FujH",
        "outputId": "34640c24-c00c-49e0-9944-8044b6350163"
      },
      "execution_count": 29,
      "outputs": [
        {
          "output_type": "display_data",
          "data": {
            "text/html": [
              "1"
            ],
            "text/markdown": "1",
            "text/latex": "1",
            "text/plain": [
              "[1] 1"
            ]
          },
          "metadata": {}
        }
      ]
    },
    {
      "cell_type": "code",
      "source": [
        "cor.test(df$Rating, as.numeric(sub(\"%\", \"\", df$Cocoa.Percent)), method = 'pearson')"
      ],
      "metadata": {
        "colab": {
          "base_uri": "https://localhost:8080/",
          "height": 208
        },
        "id": "PSlbGjfWF2SO",
        "outputId": "7b8b513c-69e6-42b7-f0f8-c1325b79ec2d"
      },
      "execution_count": 172,
      "outputs": [
        {
          "output_type": "display_data",
          "data": {
            "text/plain": [
              "\n",
              "\tPearson's product-moment correlation\n",
              "\n",
              "data:  df$Rating and as.numeric(sub(\"%\", \"\", df$Cocoa.Percent))\n",
              "t = -7.0759, df = 1793, p-value = 2.122e-12\n",
              "alternative hypothesis: true correlation is not equal to 0\n",
              "95 percent confidence interval:\n",
              " -0.2094894 -0.1194644\n",
              "sample estimates:\n",
              "       cor \n",
              "-0.1648202 \n"
            ]
          },
          "metadata": {}
        }
      ]
    },
    {
      "cell_type": "code",
      "source": [
        "cor.test(df$Rating, as.numeric(sub(\"%\", \"\", df$Cocoa.Percent)), method = 'spearman')"
      ],
      "metadata": {
        "colab": {
          "base_uri": "https://localhost:8080/",
          "height": 208
        },
        "id": "K3uyLZ7vPviG",
        "outputId": "a3bb4580-04c3-44fb-de6b-c3a78fa4016d"
      },
      "execution_count": 41,
      "outputs": [
        {
          "output_type": "stream",
          "name": "stderr",
          "text": [
            "Warning message in cor.test.default(df$Rating, as.numeric(sub(\"%\", \"\", df$Cocoa.Percent)), :\n",
            "“Cannot compute exact p-value with ties”\n"
          ]
        },
        {
          "output_type": "display_data",
          "data": {
            "text/plain": [
              "\n",
              "\tSpearman's rank correlation rho\n",
              "\n",
              "data:  df$Rating and as.numeric(sub(\"%\", \"\", df$Cocoa.Percent))\n",
              "S = 1083492589, p-value = 1.348e-07\n",
              "alternative hypothesis: true rho is not equal to 0\n",
              "sample estimates:\n",
              "       rho \n",
              "-0.1240457 \n"
            ]
          },
          "metadata": {}
        }
      ]
    },
    {
      "cell_type": "code",
      "source": [
        "png(filename=\"cacau_vs_rating.png\")\n",
        "plot(as.numeric(sub(\"%\", \"\", df$Cocoa.Percent)), df$Rating, xlab = 'Cacao %', ylab = 'Rating')\n",
        "dev.off()"
      ],
      "metadata": {
        "colab": {
          "base_uri": "https://localhost:8080/",
          "height": 34
        },
        "id": "9-elCj77P3UY",
        "outputId": "63ff2044-4d70-4a1b-bcf2-b454019c3bdf"
      },
      "execution_count": 167,
      "outputs": [
        {
          "output_type": "display_data",
          "data": {
            "text/html": [
              "<strong>png:</strong> 2"
            ],
            "text/markdown": "**png:** 2",
            "text/latex": "\\textbf{png:} 2",
            "text/plain": [
              "png \n",
              "  2 "
            ]
          },
          "metadata": {}
        }
      ]
    },
    {
      "cell_type": "code",
      "source": [
        "summary(aov(usa.df[,7] ~ usa.df[,1]))"
      ],
      "metadata": {
        "colab": {
          "base_uri": "https://localhost:8080/",
          "height": 104
        },
        "id": "hr3Ii0nKPLfM",
        "outputId": "27d8dd0a-e843-48b0-f7c4-d13f05946d6d"
      },
      "execution_count": 46,
      "outputs": [
        {
          "output_type": "display_data",
          "data": {
            "text/plain": [
              "             Df Sum Sq Mean Sq F value Pr(>F)    \n",
              "usa.df[, 1] 174  65.00  0.3736   2.618 <2e-16 ***\n",
              "Residuals   589  84.04  0.1427                   \n",
              "---\n",
              "Signif. codes:  0 ‘***’ 0.001 ‘**’ 0.01 ‘*’ 0.05 ‘.’ 0.1 ‘ ’ 1"
            ]
          },
          "metadata": {}
        }
      ]
    },
    {
      "cell_type": "code",
      "source": [
        "sum(is.na(df))"
      ],
      "metadata": {
        "colab": {
          "base_uri": "https://localhost:8080/",
          "height": 34
        },
        "id": "DylweBXQV_la",
        "outputId": "70e455e0-84e9-43af-fefe-5be0effb37d6"
      },
      "execution_count": 58,
      "outputs": [
        {
          "output_type": "display_data",
          "data": {
            "text/html": [
              "0"
            ],
            "text/markdown": "0",
            "text/latex": "0",
            "text/plain": [
              "[1] 0"
            ]
          },
          "metadata": {}
        }
      ]
    },
    {
      "cell_type": "code",
      "source": [
        "summary(aov(Rating ~ Company...Maker.if.known., data = df))"
      ],
      "metadata": {
        "colab": {
          "base_uri": "https://localhost:8080/",
          "height": 104
        },
        "id": "17dgkOyKUOU8",
        "outputId": "d5845d80-ae6a-48d3-bbe8-bbe2dfed6019"
      },
      "execution_count": 65,
      "outputs": [
        {
          "output_type": "display_data",
          "data": {
            "text/plain": [
              "                            Df Sum Sq Mean Sq F value Pr(>F)    \n",
              "Company...Maker.if.known.  415  172.1  0.4147   2.404 <2e-16 ***\n",
              "Residuals                 1379  237.9  0.1725                   \n",
              "---\n",
              "Signif. codes:  0 ‘***’ 0.001 ‘**’ 0.01 ‘*’ 0.05 ‘.’ 0.1 ‘ ’ 1"
            ]
          },
          "metadata": {}
        }
      ]
    },
    {
      "cell_type": "code",
      "source": [
        "summary(aov(Rating ~ Review.Date, data = df))"
      ],
      "metadata": {
        "colab": {
          "base_uri": "https://localhost:8080/",
          "height": 104
        },
        "id": "VzvDZNycYNub",
        "outputId": "0221985e-d3ec-4cfe-c566-bf96b60a96d4"
      },
      "execution_count": 66,
      "outputs": [
        {
          "output_type": "display_data",
          "data": {
            "text/plain": [
              "              Df Sum Sq Mean Sq F value   Pr(>F)    \n",
              "Review.Date    1    4.1   4.087   18.05 2.26e-05 ***\n",
              "Residuals   1793  405.9   0.226                     \n",
              "---\n",
              "Signif. codes:  0 ‘***’ 0.001 ‘**’ 0.01 ‘*’ 0.05 ‘.’ 0.1 ‘ ’ 1"
            ]
          },
          "metadata": {}
        }
      ]
    },
    {
      "cell_type": "code",
      "source": [
        "summary(aov(Rating ~ Specific.Bean.Origin.or.Bar.Name, data = df))"
      ],
      "metadata": {
        "colab": {
          "base_uri": "https://localhost:8080/",
          "height": 104
        },
        "id": "Y3FRIlX0aIU7",
        "outputId": "572a631b-bbb5-470d-80ff-be687a512855"
      },
      "execution_count": 67,
      "outputs": [
        {
          "output_type": "display_data",
          "data": {
            "text/plain": [
              "                                   Df Sum Sq Mean Sq F value   Pr(>F)    \n",
              "Specific.Bean.Origin.or.Bar.Name 1038  267.5  0.2577   1.367 2.36e-06 ***\n",
              "Residuals                         756  142.5  0.1885                     \n",
              "---\n",
              "Signif. codes:  0 ‘***’ 0.001 ‘**’ 0.01 ‘*’ 0.05 ‘.’ 0.1 ‘ ’ 1"
            ]
          },
          "metadata": {}
        }
      ]
    },
    {
      "cell_type": "code",
      "source": [
        "summary(aov(Rating ~ Review.Date, data = df[df$Review.Date >= 2016,]))"
      ],
      "metadata": {
        "colab": {
          "base_uri": "https://localhost:8080/",
          "height": 69
        },
        "id": "MLRv5Wf2WYk7",
        "outputId": "a34ccbd8-c2c5-436a-8411-218019f51e0d"
      },
      "execution_count": 198,
      "outputs": [
        {
          "output_type": "display_data",
          "data": {
            "text/plain": [
              "             Df Sum Sq Mean Sq F value Pr(>F)\n",
              "Review.Date   1   0.16  0.1617   0.949  0.331\n",
              "Residuals   241  41.09  0.1705               "
            ]
          },
          "metadata": {}
        }
      ]
    },
    {
      "cell_type": "code",
      "source": [
        "year_means = c()\n",
        "for (i in 0:11){\n",
        "year_means = c(year_means, mean(df[df[,4]==2006+i,7]))\n",
        "}\n",
        "year_means"
      ],
      "metadata": {
        "colab": {
          "base_uri": "https://localhost:8080/",
          "height": 34
        },
        "id": "stMbSAHsWkB7",
        "outputId": "10bb8a7e-44dc-43ad-c5b3-c0badb003db1"
      },
      "execution_count": 189,
      "outputs": [
        {
          "output_type": "display_data",
          "data": {
            "text/html": [
              "<style>\n",
              ".list-inline {list-style: none; margin:0; padding: 0}\n",
              ".list-inline>li {display: inline-block}\n",
              ".list-inline>li:not(:last-child)::after {content: \"\\00b7\"; padding: 0 .5ex}\n",
              "</style>\n",
              "<ol class=list-inline><li>3.125</li><li>3.16233766233766</li><li>2.99462365591398</li><li>3.07317073170732</li><li>3.14864864864865</li><li>3.25606060606061</li><li>3.17820512820513</li><li>3.19701086956522</li><li>3.18927125506073</li><li>3.24649122807018</li><li>3.22602739726027</li><li>3.3125</li></ol>\n"
            ],
            "text/markdown": "1. 3.125\n2. 3.16233766233766\n3. 2.99462365591398\n4. 3.07317073170732\n5. 3.14864864864865\n6. 3.25606060606061\n7. 3.17820512820513\n8. 3.19701086956522\n9. 3.18927125506073\n10. 3.24649122807018\n11. 3.22602739726027\n12. 3.3125\n\n\n",
            "text/latex": "\\begin{enumerate*}\n\\item 3.125\n\\item 3.16233766233766\n\\item 2.99462365591398\n\\item 3.07317073170732\n\\item 3.14864864864865\n\\item 3.25606060606061\n\\item 3.17820512820513\n\\item 3.19701086956522\n\\item 3.18927125506073\n\\item 3.24649122807018\n\\item 3.22602739726027\n\\item 3.3125\n\\end{enumerate*}\n",
            "text/plain": [
              " [1] 3.125000 3.162338 2.994624 3.073171 3.148649 3.256061 3.178205 3.197011\n",
              " [9] 3.189271 3.246491 3.226027 3.312500"
            ]
          },
          "metadata": {}
        }
      ]
    },
    {
      "cell_type": "code",
      "source": [
        "seq(from=2006, 2017)"
      ],
      "metadata": {
        "colab": {
          "base_uri": "https://localhost:8080/",
          "height": 34
        },
        "id": "iF8G7MGaYK9G",
        "outputId": "793adb69-4404-497a-c3c8-8e5c564d8bda"
      },
      "execution_count": 190,
      "outputs": [
        {
          "output_type": "display_data",
          "data": {
            "text/html": [
              "<style>\n",
              ".list-inline {list-style: none; margin:0; padding: 0}\n",
              ".list-inline>li {display: inline-block}\n",
              ".list-inline>li:not(:last-child)::after {content: \"\\00b7\"; padding: 0 .5ex}\n",
              "</style>\n",
              "<ol class=list-inline><li>2006</li><li>2007</li><li>2008</li><li>2009</li><li>2010</li><li>2011</li><li>2012</li><li>2013</li><li>2014</li><li>2015</li><li>2016</li><li>2017</li></ol>\n"
            ],
            "text/markdown": "1. 2006\n2. 2007\n3. 2008\n4. 2009\n5. 2010\n6. 2011\n7. 2012\n8. 2013\n9. 2014\n10. 2015\n11. 2016\n12. 2017\n\n\n",
            "text/latex": "\\begin{enumerate*}\n\\item 2006\n\\item 2007\n\\item 2008\n\\item 2009\n\\item 2010\n\\item 2011\n\\item 2012\n\\item 2013\n\\item 2014\n\\item 2015\n\\item 2016\n\\item 2017\n\\end{enumerate*}\n",
            "text/plain": [
              " [1] 2006 2007 2008 2009 2010 2011 2012 2013 2014 2015 2016 2017"
            ]
          },
          "metadata": {}
        }
      ]
    },
    {
      "cell_type": "code",
      "source": [
        "names(year_means) = seq(2006, 2017)"
      ],
      "metadata": {
        "id": "oE9jGYVpX2Zg"
      },
      "execution_count": 191,
      "outputs": []
    },
    {
      "cell_type": "code",
      "source": [
        "png(filename=\"mean_rating.png\")\n",
        "barplot(year_means,\n",
        "        ylab = \"Mean rating\",\n",
        "        xlab = \"Year\", las=2)\n",
        "dev.off()"
      ],
      "metadata": {
        "colab": {
          "base_uri": "https://localhost:8080/",
          "height": 34
        },
        "id": "pioclvaXXxV8",
        "outputId": "046aad2c-aea9-420c-fe5d-0613cf64f025"
      },
      "execution_count": 194,
      "outputs": [
        {
          "output_type": "display_data",
          "data": {
            "text/html": [
              "<strong>png:</strong> 2"
            ],
            "text/markdown": "**png:** 2",
            "text/latex": "\\textbf{png:} 2",
            "text/plain": [
              "png \n",
              "  2 "
            ]
          },
          "metadata": {}
        }
      ]
    },
    {
      "cell_type": "code",
      "source": [],
      "metadata": {
        "id": "fzgXjgygXs1s"
      },
      "execution_count": null,
      "outputs": []
    },
    {
      "cell_type": "code",
      "source": [
        "mean(df[df[,4]==2007,7])"
      ],
      "metadata": {
        "colab": {
          "base_uri": "https://localhost:8080/",
          "height": 34
        },
        "id": "riAvLkPBW4xG",
        "outputId": "fa06ace1-f77c-438a-f57a-3cbcfa48a6f9"
      },
      "execution_count": 179,
      "outputs": [
        {
          "output_type": "display_data",
          "data": {
            "text/html": [
              "3.16233766233766"
            ],
            "text/markdown": "3.16233766233766",
            "text/latex": "3.16233766233766",
            "text/plain": [
              "[1] 3.162338"
            ]
          },
          "metadata": {}
        }
      ]
    },
    {
      "cell_type": "code",
      "source": [
        "t.test(df[,7])"
      ],
      "metadata": {
        "colab": {
          "base_uri": "https://localhost:8080/",
          "height": 208
        },
        "id": "lCTCbLMifKRy",
        "outputId": "fc294c13-48a2-4346-fb9f-ba245b816c86"
      },
      "execution_count": 173,
      "outputs": [
        {
          "output_type": "display_data",
          "data": {
            "text/plain": [
              "\n",
              "\tOne Sample t-test\n",
              "\n",
              "data:  df[, 7]\n",
              "t = 282.35, df = 1794, p-value < 2.2e-16\n",
              "alternative hypothesis: true mean is not equal to 0\n",
              "95 percent confidence interval:\n",
              " 3.163803 3.208064\n",
              "sample estimates:\n",
              "mean of x \n",
              " 3.185933 \n"
            ]
          },
          "metadata": {}
        }
      ]
    },
    {
      "cell_type": "code",
      "source": [
        "sd(df[,7])"
      ],
      "metadata": {
        "colab": {
          "base_uri": "https://localhost:8080/",
          "height": 34
        },
        "id": "NviqyS7BSQll",
        "outputId": "ecfee068-200f-43a5-ffde-0427c61366a0"
      },
      "execution_count": 174,
      "outputs": [
        {
          "output_type": "display_data",
          "data": {
            "text/html": [
              "0.478062393586331"
            ],
            "text/markdown": "0.478062393586331",
            "text/latex": "0.478062393586331",
            "text/plain": [
              "[1] 0.4780624"
            ]
          },
          "metadata": {}
        }
      ]
    },
    {
      "cell_type": "code",
      "source": [
        "usa.df = df[df[,6] == 'U.S.A.',]"
      ],
      "metadata": {
        "id": "SMVwg9L_PbF2"
      },
      "execution_count": 44,
      "outputs": []
    },
    {
      "cell_type": "code",
      "source": [
        "stack(df[,c(6, 7)])"
      ],
      "metadata": {
        "colab": {
          "base_uri": "https://localhost:8080/",
          "height": 1000
        },
        "id": "9qEiUIroSpPF",
        "outputId": "cd9dae62-0b19-4ac7-831d-69cac42314d5"
      },
      "execution_count": 54,
      "outputs": [
        {
          "output_type": "display_data",
          "data": {
            "text/html": [
              "<table class=\"dataframe\">\n",
              "<caption>A data.frame: 3590 × 2</caption>\n",
              "<thead>\n",
              "\t<tr><th scope=col>values</th><th scope=col>ind</th></tr>\n",
              "\t<tr><th scope=col>&lt;chr&gt;</th><th scope=col>&lt;fct&gt;</th></tr>\n",
              "</thead>\n",
              "<tbody>\n",
              "\t<tr><td>France </td><td>Company.Location</td></tr>\n",
              "\t<tr><td>France </td><td>Company.Location</td></tr>\n",
              "\t<tr><td>France </td><td>Company.Location</td></tr>\n",
              "\t<tr><td>France </td><td>Company.Location</td></tr>\n",
              "\t<tr><td>France </td><td>Company.Location</td></tr>\n",
              "\t<tr><td>France </td><td>Company.Location</td></tr>\n",
              "\t<tr><td>France </td><td>Company.Location</td></tr>\n",
              "\t<tr><td>France </td><td>Company.Location</td></tr>\n",
              "\t<tr><td>France </td><td>Company.Location</td></tr>\n",
              "\t<tr><td>France </td><td>Company.Location</td></tr>\n",
              "\t<tr><td>France </td><td>Company.Location</td></tr>\n",
              "\t<tr><td>France </td><td>Company.Location</td></tr>\n",
              "\t<tr><td>France </td><td>Company.Location</td></tr>\n",
              "\t<tr><td>France </td><td>Company.Location</td></tr>\n",
              "\t<tr><td>France </td><td>Company.Location</td></tr>\n",
              "\t<tr><td>France </td><td>Company.Location</td></tr>\n",
              "\t<tr><td>France </td><td>Company.Location</td></tr>\n",
              "\t<tr><td>France </td><td>Company.Location</td></tr>\n",
              "\t<tr><td>France </td><td>Company.Location</td></tr>\n",
              "\t<tr><td>France </td><td>Company.Location</td></tr>\n",
              "\t<tr><td>France </td><td>Company.Location</td></tr>\n",
              "\t<tr><td>France </td><td>Company.Location</td></tr>\n",
              "\t<tr><td>France </td><td>Company.Location</td></tr>\n",
              "\t<tr><td>U.S.A. </td><td>Company.Location</td></tr>\n",
              "\t<tr><td>U.S.A. </td><td>Company.Location</td></tr>\n",
              "\t<tr><td>Fiji   </td><td>Company.Location</td></tr>\n",
              "\t<tr><td>Fiji   </td><td>Company.Location</td></tr>\n",
              "\t<tr><td>Fiji   </td><td>Company.Location</td></tr>\n",
              "\t<tr><td>Fiji   </td><td>Company.Location</td></tr>\n",
              "\t<tr><td>Ecuador</td><td>Company.Location</td></tr>\n",
              "\t<tr><td>⋮</td><td>⋮</td></tr>\n",
              "\t<tr><td>3.5 </td><td>Rating</td></tr>\n",
              "\t<tr><td>3   </td><td>Rating</td></tr>\n",
              "\t<tr><td>3.5 </td><td>Rating</td></tr>\n",
              "\t<tr><td>2.75</td><td>Rating</td></tr>\n",
              "\t<tr><td>2.75</td><td>Rating</td></tr>\n",
              "\t<tr><td>3   </td><td>Rating</td></tr>\n",
              "\t<tr><td>3.5 </td><td>Rating</td></tr>\n",
              "\t<tr><td>3.5 </td><td>Rating</td></tr>\n",
              "\t<tr><td>3.75</td><td>Rating</td></tr>\n",
              "\t<tr><td>3.25</td><td>Rating</td></tr>\n",
              "\t<tr><td>3.5 </td><td>Rating</td></tr>\n",
              "\t<tr><td>3.5 </td><td>Rating</td></tr>\n",
              "\t<tr><td>3.75</td><td>Rating</td></tr>\n",
              "\t<tr><td>2.75</td><td>Rating</td></tr>\n",
              "\t<tr><td>3.5 </td><td>Rating</td></tr>\n",
              "\t<tr><td>3.5 </td><td>Rating</td></tr>\n",
              "\t<tr><td>3   </td><td>Rating</td></tr>\n",
              "\t<tr><td>3.5 </td><td>Rating</td></tr>\n",
              "\t<tr><td>3.75</td><td>Rating</td></tr>\n",
              "\t<tr><td>3   </td><td>Rating</td></tr>\n",
              "\t<tr><td>3   </td><td>Rating</td></tr>\n",
              "\t<tr><td>3.25</td><td>Rating</td></tr>\n",
              "\t<tr><td>3.75</td><td>Rating</td></tr>\n",
              "\t<tr><td>3.25</td><td>Rating</td></tr>\n",
              "\t<tr><td>3.5 </td><td>Rating</td></tr>\n",
              "\t<tr><td>3.75</td><td>Rating</td></tr>\n",
              "\t<tr><td>3   </td><td>Rating</td></tr>\n",
              "\t<tr><td>3.5 </td><td>Rating</td></tr>\n",
              "\t<tr><td>3.25</td><td>Rating</td></tr>\n",
              "\t<tr><td>3   </td><td>Rating</td></tr>\n",
              "</tbody>\n",
              "</table>\n"
            ],
            "text/markdown": "\nA data.frame: 3590 × 2\n\n| values &lt;chr&gt; | ind &lt;fct&gt; |\n|---|---|\n| France  | Company.Location |\n| France  | Company.Location |\n| France  | Company.Location |\n| France  | Company.Location |\n| France  | Company.Location |\n| France  | Company.Location |\n| France  | Company.Location |\n| France  | Company.Location |\n| France  | Company.Location |\n| France  | Company.Location |\n| France  | Company.Location |\n| France  | Company.Location |\n| France  | Company.Location |\n| France  | Company.Location |\n| France  | Company.Location |\n| France  | Company.Location |\n| France  | Company.Location |\n| France  | Company.Location |\n| France  | Company.Location |\n| France  | Company.Location |\n| France  | Company.Location |\n| France  | Company.Location |\n| France  | Company.Location |\n| U.S.A.  | Company.Location |\n| U.S.A.  | Company.Location |\n| Fiji    | Company.Location |\n| Fiji    | Company.Location |\n| Fiji    | Company.Location |\n| Fiji    | Company.Location |\n| Ecuador | Company.Location |\n| ⋮ | ⋮ |\n| 3.5  | Rating |\n| 3    | Rating |\n| 3.5  | Rating |\n| 2.75 | Rating |\n| 2.75 | Rating |\n| 3    | Rating |\n| 3.5  | Rating |\n| 3.5  | Rating |\n| 3.75 | Rating |\n| 3.25 | Rating |\n| 3.5  | Rating |\n| 3.5  | Rating |\n| 3.75 | Rating |\n| 2.75 | Rating |\n| 3.5  | Rating |\n| 3.5  | Rating |\n| 3    | Rating |\n| 3.5  | Rating |\n| 3.75 | Rating |\n| 3    | Rating |\n| 3    | Rating |\n| 3.25 | Rating |\n| 3.75 | Rating |\n| 3.25 | Rating |\n| 3.5  | Rating |\n| 3.75 | Rating |\n| 3    | Rating |\n| 3.5  | Rating |\n| 3.25 | Rating |\n| 3    | Rating |\n\n",
            "text/latex": "A data.frame: 3590 × 2\n\\begin{tabular}{ll}\n values & ind\\\\\n <chr> & <fct>\\\\\n\\hline\n\t France  & Company.Location\\\\\n\t France  & Company.Location\\\\\n\t France  & Company.Location\\\\\n\t France  & Company.Location\\\\\n\t France  & Company.Location\\\\\n\t France  & Company.Location\\\\\n\t France  & Company.Location\\\\\n\t France  & Company.Location\\\\\n\t France  & Company.Location\\\\\n\t France  & Company.Location\\\\\n\t France  & Company.Location\\\\\n\t France  & Company.Location\\\\\n\t France  & Company.Location\\\\\n\t France  & Company.Location\\\\\n\t France  & Company.Location\\\\\n\t France  & Company.Location\\\\\n\t France  & Company.Location\\\\\n\t France  & Company.Location\\\\\n\t France  & Company.Location\\\\\n\t France  & Company.Location\\\\\n\t France  & Company.Location\\\\\n\t France  & Company.Location\\\\\n\t France  & Company.Location\\\\\n\t U.S.A.  & Company.Location\\\\\n\t U.S.A.  & Company.Location\\\\\n\t Fiji    & Company.Location\\\\\n\t Fiji    & Company.Location\\\\\n\t Fiji    & Company.Location\\\\\n\t Fiji    & Company.Location\\\\\n\t Ecuador & Company.Location\\\\\n\t ⋮ & ⋮\\\\\n\t 3.5  & Rating\\\\\n\t 3    & Rating\\\\\n\t 3.5  & Rating\\\\\n\t 2.75 & Rating\\\\\n\t 2.75 & Rating\\\\\n\t 3    & Rating\\\\\n\t 3.5  & Rating\\\\\n\t 3.5  & Rating\\\\\n\t 3.75 & Rating\\\\\n\t 3.25 & Rating\\\\\n\t 3.5  & Rating\\\\\n\t 3.5  & Rating\\\\\n\t 3.75 & Rating\\\\\n\t 2.75 & Rating\\\\\n\t 3.5  & Rating\\\\\n\t 3.5  & Rating\\\\\n\t 3    & Rating\\\\\n\t 3.5  & Rating\\\\\n\t 3.75 & Rating\\\\\n\t 3    & Rating\\\\\n\t 3    & Rating\\\\\n\t 3.25 & Rating\\\\\n\t 3.75 & Rating\\\\\n\t 3.25 & Rating\\\\\n\t 3.5  & Rating\\\\\n\t 3.75 & Rating\\\\\n\t 3    & Rating\\\\\n\t 3.5  & Rating\\\\\n\t 3.25 & Rating\\\\\n\t 3    & Rating\\\\\n\\end{tabular}\n",
            "text/plain": [
              "     values  ind             \n",
              "1    France  Company.Location\n",
              "2    France  Company.Location\n",
              "3    France  Company.Location\n",
              "4    France  Company.Location\n",
              "5    France  Company.Location\n",
              "6    France  Company.Location\n",
              "7    France  Company.Location\n",
              "8    France  Company.Location\n",
              "9    France  Company.Location\n",
              "10   France  Company.Location\n",
              "11   France  Company.Location\n",
              "12   France  Company.Location\n",
              "13   France  Company.Location\n",
              "14   France  Company.Location\n",
              "15   France  Company.Location\n",
              "16   France  Company.Location\n",
              "17   France  Company.Location\n",
              "18   France  Company.Location\n",
              "19   France  Company.Location\n",
              "20   France  Company.Location\n",
              "21   France  Company.Location\n",
              "22   France  Company.Location\n",
              "23   France  Company.Location\n",
              "24   U.S.A.  Company.Location\n",
              "25   U.S.A.  Company.Location\n",
              "26   Fiji    Company.Location\n",
              "27   Fiji    Company.Location\n",
              "28   Fiji    Company.Location\n",
              "29   Fiji    Company.Location\n",
              "30   Ecuador Company.Location\n",
              "⋮    ⋮       ⋮               \n",
              "3561 3.5     Rating          \n",
              "3562 3       Rating          \n",
              "3563 3.5     Rating          \n",
              "3564 2.75    Rating          \n",
              "3565 2.75    Rating          \n",
              "3566 3       Rating          \n",
              "3567 3.5     Rating          \n",
              "3568 3.5     Rating          \n",
              "3569 3.75    Rating          \n",
              "3570 3.25    Rating          \n",
              "3571 3.5     Rating          \n",
              "3572 3.5     Rating          \n",
              "3573 3.75    Rating          \n",
              "3574 2.75    Rating          \n",
              "3575 3.5     Rating          \n",
              "3576 3.5     Rating          \n",
              "3577 3       Rating          \n",
              "3578 3.5     Rating          \n",
              "3579 3.75    Rating          \n",
              "3580 3       Rating          \n",
              "3581 3       Rating          \n",
              "3582 3.25    Rating          \n",
              "3583 3.75    Rating          \n",
              "3584 3.25    Rating          \n",
              "3585 3.5     Rating          \n",
              "3586 3.75    Rating          \n",
              "3587 3       Rating          \n",
              "3588 3.5     Rating          \n",
              "3589 3.25    Rating          \n",
              "3590 3       Rating          "
            ]
          },
          "metadata": {}
        }
      ]
    },
    {
      "cell_type": "code",
      "source": [
        "df_belgium = df[df$Company.Location == 'Belgium',]"
      ],
      "metadata": {
        "id": "6BkCqaO0VD9c"
      },
      "execution_count": 205,
      "outputs": []
    },
    {
      "cell_type": "code",
      "source": [
        "df_swiss = df[df$Company.Location == 'Switzerland',]"
      ],
      "metadata": {
        "id": "dunUadrxfATQ"
      },
      "execution_count": 206,
      "outputs": []
    },
    {
      "cell_type": "code",
      "source": [
        "var.test(df_belgium$Rating, df_swiss$Rating)"
      ],
      "metadata": {
        "colab": {
          "base_uri": "https://localhost:8080/",
          "height": 208
        },
        "id": "d7JTNLb_fJbg",
        "outputId": "ba21da44-9a4c-4015-bda1-0efb373850de"
      },
      "execution_count": 208,
      "outputs": [
        {
          "output_type": "display_data",
          "data": {
            "text/plain": [
              "\n",
              "\tF test to compare two variances\n",
              "\n",
              "data:  df_belgium$Rating and df_swiss$Rating\n",
              "F = 3.0733, num df = 39, denom df = 37, p-value = 0.0008537\n",
              "alternative hypothesis: true ratio of variances is not equal to 1\n",
              "95 percent confidence interval:\n",
              " 1.606755 5.845976\n",
              "sample estimates:\n",
              "ratio of variances \n",
              "          3.073306 \n"
            ]
          },
          "metadata": {}
        }
      ]
    },
    {
      "cell_type": "code",
      "source": [
        "t.test(df_belgium$Rating, df_swiss$Rating)"
      ],
      "metadata": {
        "colab": {
          "base_uri": "https://localhost:8080/",
          "height": 208
        },
        "id": "al06RiFopRDT",
        "outputId": "6e806b9a-9c6f-4ead-ffae-0648a564ecf0"
      },
      "execution_count": 230,
      "outputs": [
        {
          "output_type": "display_data",
          "data": {
            "text/plain": [
              "\n",
              "\tWelch Two Sample t-test\n",
              "\n",
              "data:  df_belgium$Rating and df_swiss$Rating\n",
              "t = -1.6576, df = 62.556, p-value = 0.1024\n",
              "alternative hypothesis: true difference in means is not equal to 0\n",
              "95 percent confidence interval:\n",
              " -0.54780866  0.05109813\n",
              "sample estimates:\n",
              "mean of x mean of y \n",
              " 3.093750  3.342105 \n"
            ]
          },
          "metadata": {}
        }
      ]
    },
    {
      "cell_type": "code",
      "source": [
        "z.test(x=df_belgium$Rating, y=df_swiss$Rating, sigma.x=sd(df_belgium$Rating), sigma.y=sd(df_swiss$Rating), alternative='t')"
      ],
      "metadata": {
        "colab": {
          "base_uri": "https://localhost:8080/",
          "height": 208
        },
        "id": "84dHAxOopXSY",
        "outputId": "07efa9de-c38e-405a-e4e5-1684d8145627"
      },
      "execution_count": 231,
      "outputs": [
        {
          "output_type": "display_data",
          "data": {
            "text/plain": [
              "\n",
              "\tTwo-sample z-Test\n",
              "\n",
              "data:  df_belgium$Rating and df_swiss$Rating\n",
              "z = -1.6576, p-value = 0.0974\n",
              "alternative hypothesis: true difference in means is not equal to 0\n",
              "95 percent confidence interval:\n",
              " -0.54201706  0.04530653\n",
              "sample estimates:\n",
              "mean of x mean of y \n",
              " 3.093750  3.342105 \n"
            ]
          },
          "metadata": {}
        }
      ]
    },
    {
      "cell_type": "code",
      "source": [
        "length((df$Company.Location == 'Belgium') + (df$Company.Location == 'Germany'))"
      ],
      "metadata": {
        "colab": {
          "base_uri": "https://localhost:8080/",
          "height": 34
        },
        "id": "I3ClMnM_mnVX",
        "outputId": "9c41cb6e-0f23-43ef-a3e0-4328fbdb08b9"
      },
      "execution_count": 215,
      "outputs": [
        {
          "output_type": "display_data",
          "data": {
            "text/html": [
              "1795"
            ],
            "text/markdown": "1795",
            "text/latex": "1795",
            "text/plain": [
              "[1] 1795"
            ]
          },
          "metadata": {}
        }
      ]
    },
    {
      "cell_type": "code",
      "source": [
        "df_europe_best = df[as.logical((df$Company.Location == 'Belgium') + (df$Company.Location == 'Switzerland') + (df$Company.Location == 'Germany')),]"
      ],
      "metadata": {
        "id": "CZ3Q28djkkQw"
      },
      "execution_count": 234,
      "outputs": []
    },
    {
      "cell_type": "code",
      "source": [
        "df_usa = df[df$Company.Location == 'U.S.A.',]"
      ],
      "metadata": {
        "id": "kYKeKzJblyoQ"
      },
      "execution_count": 235,
      "outputs": []
    },
    {
      "cell_type": "code",
      "source": [
        "z.test(x=df_europe_best$Rating, y=df_usa$Rating, sigma.x=sd(df_europe_best$Rating), sigma.y=sd(df_usa$Rating), alternative='t')"
      ],
      "metadata": {
        "colab": {
          "base_uri": "https://localhost:8080/",
          "height": 208
        },
        "id": "by7-so59nN1Y",
        "outputId": "21e33a89-050c-428c-95dd-7d71d3c4e445"
      },
      "execution_count": 236,
      "outputs": [
        {
          "output_type": "display_data",
          "data": {
            "text/plain": [
              "\n",
              "\tTwo-sample z-Test\n",
              "\n",
              "data:  df_europe_best$Rating and df_usa$Rating\n",
              "z = 0.81698, p-value = 0.4139\n",
              "alternative hypothesis: true difference in means is not equal to 0\n",
              "95 percent confidence interval:\n",
              " -0.06913575  0.16796932\n",
              "sample estimates:\n",
              "mean of x mean of y \n",
              " 3.203540  3.154123 \n"
            ]
          },
          "metadata": {}
        }
      ]
    },
    {
      "cell_type": "code",
      "source": [
        "var.test(df_europe_best$Rating, df_usa$Rating)"
      ],
      "metadata": {
        "colab": {
          "base_uri": "https://localhost:8080/",
          "height": 208
        },
        "id": "9_lLACCcobJW",
        "outputId": "82259306-490c-49ee-bc34-7cfe1885cc60"
      },
      "execution_count": 237,
      "outputs": [
        {
          "output_type": "display_data",
          "data": {
            "text/plain": [
              "\n",
              "\tF test to compare two variances\n",
              "\n",
              "data:  df_europe_best$Rating and df_usa$Rating\n",
              "F = 1.9686, num df = 112, denom df = 763, p-value = 2.343e-07\n",
              "alternative hypothesis: true ratio of variances is not equal to 1\n",
              "95 percent confidence interval:\n",
              " 1.507755 2.648183\n",
              "sample estimates:\n",
              "ratio of variances \n",
              "          1.968637 \n"
            ]
          },
          "metadata": {}
        }
      ]
    },
    {
      "cell_type": "code",
      "source": [
        "t.test(df_europe_best$Rating, df_usa$Rating, var.equal = T)"
      ],
      "metadata": {
        "colab": {
          "base_uri": "https://localhost:8080/",
          "height": 208
        },
        "id": "77jAvBpwnYSg",
        "outputId": "03afa253-de89-4168-b7f2-d727898678fd"
      },
      "execution_count": 240,
      "outputs": [
        {
          "output_type": "display_data",
          "data": {
            "text/plain": [
              "\n",
              "\tTwo Sample t-test\n",
              "\n",
              "data:  df_europe_best$Rating and df_usa$Rating\n",
              "t = 1.0464, df = 875, p-value = 0.2957\n",
              "alternative hypothesis: true difference in means is not equal to 0\n",
              "95 percent confidence interval:\n",
              " -0.04327301  0.14210659\n",
              "sample estimates:\n",
              "mean of x mean of y \n",
              " 3.203540  3.154123 \n"
            ]
          },
          "metadata": {}
        }
      ]
    },
    {
      "cell_type": "markdown",
      "source": [
        "# Bonferoni"
      ],
      "metadata": {
        "id": "0TmNHYI9wLS_"
      }
    },
    {
      "cell_type": "code",
      "source": [
        "df_canada"
      ],
      "metadata": {
        "colab": {
          "base_uri": "https://localhost:8080/",
          "height": 1000
        },
        "id": "2-McBbfixIDI",
        "outputId": "6c92c4e8-1cec-45d8-b346-802a77814b2f"
      },
      "execution_count": 248,
      "outputs": [
        {
          "output_type": "display_data",
          "data": {
            "text/html": [
              "<table class=\"dataframe\">\n",
              "<caption>A data.frame: 125 × 9</caption>\n",
              "<thead>\n",
              "\t<tr><th></th><th scope=col>Company...Maker.if.known.</th><th scope=col>Specific.Bean.Origin.or.Bar.Name</th><th scope=col>REF</th><th scope=col>Review.Date</th><th scope=col>Cocoa.Percent</th><th scope=col>Company.Location</th><th scope=col>Rating</th><th scope=col>Bean.Type</th><th scope=col>Broad.Bean.Origin</th></tr>\n",
              "\t<tr><th></th><th scope=col>&lt;chr&gt;</th><th scope=col>&lt;chr&gt;</th><th scope=col>&lt;int&gt;</th><th scope=col>&lt;int&gt;</th><th scope=col>&lt;chr&gt;</th><th scope=col>&lt;chr&gt;</th><th scope=col>&lt;dbl&gt;</th><th scope=col>&lt;chr&gt;</th><th scope=col>&lt;chr&gt;</th></tr>\n",
              "</thead>\n",
              "<tbody>\n",
              "\t<tr><th scope=row>70</th><td>Ambrosia                    </td><td>Belize                               </td><td>1494</td><td>2015</td><td>64%</td><td>Canada</td><td>3.00</td><td>Trinitario          </td><td>Belize            </td></tr>\n",
              "\t<tr><th scope=row>71</th><td>Ambrosia                    </td><td>Madagascar                           </td><td>1494</td><td>2015</td><td>66%</td><td>Canada</td><td>3.25</td><td>Trinitario          </td><td>Madagascar        </td></tr>\n",
              "\t<tr><th scope=row>72</th><td>Ambrosia                    </td><td>Dominican Republic                   </td><td>1498</td><td>2015</td><td>75%</td><td>Canada</td><td>3.25</td><td>                    </td><td>Dominican Republic</td></tr>\n",
              "\t<tr><th scope=row>73</th><td>Ambrosia                    </td><td>Papua New Guinea                     </td><td>1498</td><td>2015</td><td>63%</td><td>Canada</td><td>3.25</td><td>                    </td><td>Papua New Guinea  </td></tr>\n",
              "\t<tr><th scope=row>74</th><td>Ambrosia                    </td><td>Venezuela                            </td><td>1498</td><td>2015</td><td>70%</td><td>Canada</td><td>3.25</td><td>                    </td><td>Venezuela         </td></tr>\n",
              "\t<tr><th scope=row>75</th><td>Ambrosia                    </td><td>Peru                                 </td><td>1498</td><td>2015</td><td>68%</td><td>Canada</td><td>3.50</td><td>                    </td><td>Peru              </td></tr>\n",
              "\t<tr><th scope=row>377</th><td>Chaleur B                   </td><td>Uganda                               </td><td>1426</td><td>2014</td><td>70%</td><td>Canada</td><td>2.75</td><td>Forastero           </td><td>Uganda            </td></tr>\n",
              "\t<tr><th scope=row>412</th><td>Chocolats Privilege         </td><td>Xoconusco                            </td><td>1219</td><td>2014</td><td>70%</td><td>Canada</td><td>2.50</td><td>Criollo             </td><td>Mexico            </td></tr>\n",
              "\t<tr><th scope=row>414</th><td>Chocosol                    </td><td>Chiapas, Lacandon Jungle, Oaxacom Mtn</td><td> 682</td><td>2011</td><td>65%</td><td>Canada</td><td>3.25</td><td>                    </td><td>Mexico            </td></tr>\n",
              "\t<tr><th scope=row>425</th><td>Choklat                     </td><td>Ocumare                              </td><td> 377</td><td>2009</td><td>80%</td><td>Canada</td><td>2.50</td><td>Criollo             </td><td>Venezuela         </td></tr>\n",
              "\t<tr><th scope=row>426</th><td>Choklat                     </td><td>Porcelana, Tabasco                   </td><td> 377</td><td>2009</td><td>70%</td><td>Canada</td><td>2.75</td><td>Criollo             </td><td>Mexico            </td></tr>\n",
              "\t<tr><th scope=row>427</th><td>Choklat                     </td><td>Brazilian                            </td><td> 377</td><td>2009</td><td>70%</td><td>Canada</td><td>3.00</td><td>                    </td><td>Brazil            </td></tr>\n",
              "\t<tr><th scope=row>428</th><td>Choklat                     </td><td>Brazilian                            </td><td> 377</td><td>2009</td><td>80%</td><td>Canada</td><td>3.00</td><td>                    </td><td>Brazil            </td></tr>\n",
              "\t<tr><th scope=row>429</th><td>Choklat                     </td><td>Ocumare                              </td><td> 377</td><td>2009</td><td>70%</td><td>Canada</td><td>3.00</td><td>Criollo             </td><td>Venezuela         </td></tr>\n",
              "\t<tr><th scope=row>431</th><td>Choocsol                    </td><td>Chiapas, Lacandon Jungle, Oaxacom Mtn</td><td>1832</td><td>2016</td><td>75%</td><td>Canada</td><td>3.25</td><td>                    </td><td>Mexico            </td></tr>\n",
              "\t<tr><th scope=row>432</th><td>Christopher Morel (Felchlin)</td><td>Maranon Canyon, Fortunato No. 4      </td><td> 666</td><td>2011</td><td>68%</td><td>Canada</td><td>3.75</td><td>Forastero (Nacional)</td><td>Peru              </td></tr>\n",
              "\t<tr><th scope=row>532</th><td>Desbarres                   </td><td>Kilombero, batch 41                  </td><td>1916</td><td>2016</td><td>72%</td><td>Canada</td><td>2.50</td><td>                    </td><td>Tanzania          </td></tr>\n",
              "\t<tr><th scope=row>602</th><td>East Van Roasters           </td><td>Peru                                 </td><td>1343</td><td>2014</td><td>70%</td><td>Canada</td><td>3.25</td><td>                    </td><td>Peru              </td></tr>\n",
              "\t<tr><th scope=row>603</th><td>East Van Roasters           </td><td>Madagascar                           </td><td>1343</td><td>2014</td><td>70%</td><td>Canada</td><td>3.50</td><td>Trinitario          </td><td>Madagascar        </td></tr>\n",
              "\t<tr><th scope=row>604</th><td>East Van Roasters           </td><td>Dominican Republic                   </td><td>1343</td><td>2014</td><td>70%</td><td>Canada</td><td>3.75</td><td>                    </td><td>Dominican Republic</td></tr>\n",
              "\t<tr><th scope=row>605</th><td>Eau de Rose                 </td><td>Tumaco                               </td><td>1812</td><td>2016</td><td>70%</td><td>Canada</td><td>3.25</td><td>                    </td><td>Colombia          </td></tr>\n",
              "\t<tr><th scope=row>606</th><td>Eau de Rose                 </td><td>Arauca                               </td><td>1812</td><td>2016</td><td>70%</td><td>Canada</td><td>3.25</td><td>                    </td><td>Colombia          </td></tr>\n",
              "\t<tr><th scope=row>772</th><td>Habitual                    </td><td>Papua New Guinea                     </td><td>1197</td><td>2014</td><td>80%</td><td>Canada</td><td>2.75</td><td>                    </td><td>Papua New Guinea  </td></tr>\n",
              "\t<tr><th scope=row>773</th><td>Habitual                    </td><td>Campesino w/ nibs                    </td><td>1197</td><td>2014</td><td>74%</td><td>Canada</td><td>2.75</td><td>                    </td><td>                  </td></tr>\n",
              "\t<tr><th scope=row>774</th><td>Habitual                    </td><td>Dominican Republic                   </td><td>1197</td><td>2014</td><td>75%</td><td>Canada</td><td>3.25</td><td>                    </td><td>Dominican Republic</td></tr>\n",
              "\t<tr><th scope=row>775</th><td>Habitual                    </td><td>Trinitario                           </td><td>1197</td><td>2014</td><td>70%</td><td>Canada</td><td>3.50</td><td>Trinitario          </td><td>                  </td></tr>\n",
              "\t<tr><th scope=row>776</th><td>Habitual                    </td><td>Downtown London                      </td><td>1201</td><td>2014</td><td>65%</td><td>Canada</td><td>2.75</td><td>                    </td><td>                  </td></tr>\n",
              "\t<tr><th scope=row>777</th><td>Habitual                    </td><td>Africa meets Latina                  </td><td>1201</td><td>2014</td><td>70%</td><td>Canada</td><td>3.00</td><td>                    </td><td>                  </td></tr>\n",
              "\t<tr><th scope=row>778</th><td>Habitual                    </td><td>Amazonas                             </td><td>1201</td><td>2014</td><td>80%</td><td>Canada</td><td>3.00</td><td>                    </td><td>                  </td></tr>\n",
              "\t<tr><th scope=row>779</th><td>Habitual                    </td><td>Sharkey                              </td><td>1201</td><td>2014</td><td>66%</td><td>Canada</td><td>3.25</td><td>                    </td><td>Hawaii            </td></tr>\n",
              "\t<tr><th scope=row>⋮</th><td>⋮</td><td>⋮</td><td>⋮</td><td>⋮</td><td>⋮</td><td>⋮</td><td>⋮</td><td>⋮</td><td>⋮</td></tr>\n",
              "\t<tr><th scope=row>1531</th><td>Soma</td><td>Equator                                </td><td>1081</td><td>2013</td><td>67%</td><td>Canada</td><td>4.00</td><td>                    </td><td>Peru, Dom. Rep             </td></tr>\n",
              "\t<tr><th scope=row>1532</th><td>Soma</td><td>Orinoco                                </td><td>1173</td><td>2013</td><td>70%</td><td>Canada</td><td>3.25</td><td>Forastero           </td><td>Venezuela                  </td></tr>\n",
              "\t<tr><th scope=row>1533</th><td>Soma</td><td>Bachelor's Hall E., St. Thomas Parish  </td><td>1177</td><td>2013</td><td>70%</td><td>Canada</td><td>4.00</td><td>Trinitario          </td><td>Jamaica                    </td></tr>\n",
              "\t<tr><th scope=row>1534</th><td>Soma</td><td>Noula Coop                             </td><td> 817</td><td>2012</td><td>70%</td><td>Canada</td><td>3.25</td><td>                    </td><td>Haiti                      </td></tr>\n",
              "\t<tr><th scope=row>1535</th><td>Soma</td><td>O'ahu                                  </td><td> 833</td><td>2012</td><td>70%</td><td>Canada</td><td>3.75</td><td>                    </td><td>Hawaii                     </td></tr>\n",
              "\t<tr><th scope=row>1536</th><td>Soma</td><td>Dual Origins, Sambirano, Elvesia       </td><td> 867</td><td>2012</td><td>70%</td><td>Canada</td><td>4.00</td><td>Blend               </td><td>Dom. Rep., Madagascar      </td></tr>\n",
              "\t<tr><th scope=row>1537</th><td>Soma</td><td>Dancing in Your Head, 5 bean blend     </td><td> 867</td><td>2012</td><td>70%</td><td>Canada</td><td>4.00</td><td>Blend               </td><td>Gre., PNG, Haw., Haiti, Mad</td></tr>\n",
              "\t<tr><th scope=row>1538</th><td>Soma</td><td>Cahabon Region                         </td><td> 951</td><td>2012</td><td>70%</td><td>Canada</td><td>3.50</td><td>Trinitario          </td><td>Guatemala                  </td></tr>\n",
              "\t<tr><th scope=row>1539</th><td>Soma</td><td>Carenero Superior                      </td><td> 951</td><td>2012</td><td>70%</td><td>Canada</td><td>3.75</td><td>Trinitario          </td><td>Venezuela                  </td></tr>\n",
              "\t<tr><th scope=row>1540</th><td>Soma</td><td>Eastern Promises                       </td><td> 967</td><td>2012</td><td>70%</td><td>Canada</td><td>3.50</td><td>Blend               </td><td>Mad., Java, PNG            </td></tr>\n",
              "\t<tr><th scope=row>1541</th><td>Soma</td><td>Papua New Guinea                       </td><td> 983</td><td>2012</td><td>85%</td><td>Canada</td><td>3.50</td><td>Trinitario          </td><td>Papua New Guinea           </td></tr>\n",
              "\t<tr><th scope=row>1542</th><td>Soma</td><td>Grenada, Black Science                 </td><td> 676</td><td>2011</td><td>70%</td><td>Canada</td><td>2.75</td><td>Trinitario          </td><td>Grenada                    </td></tr>\n",
              "\t<tr><th scope=row>1543</th><td>Soma</td><td>Alto Beni, Wild Bolivian               </td><td> 676</td><td>2011</td><td>70%</td><td>Canada</td><td>3.50</td><td>Nacional            </td><td>Bolivia                    </td></tr>\n",
              "\t<tr><th scope=row>1544</th><td>Soma</td><td>Peruvian                               </td><td> 676</td><td>2011</td><td>64%</td><td>Canada</td><td>4.00</td><td>                    </td><td>Peru                       </td></tr>\n",
              "\t<tr><th scope=row>1545</th><td>Soma</td><td>Three Amigos(Chuao, Wild Bolivia, D.R.)</td><td> 676</td><td>2011</td><td>70%</td><td>Canada</td><td>4.00</td><td>                    </td><td>Ven, Bolivia, D.R.         </td></tr>\n",
              "\t<tr><th scope=row>1546</th><td>Soma</td><td>Elvesia P., Black Science              </td><td> 682</td><td>2011</td><td>70%</td><td>Canada</td><td>3.75</td><td>Forastero           </td><td>Dominican Republic         </td></tr>\n",
              "\t<tr><th scope=row>1547</th><td>Soma</td><td>Chuao                                  </td><td> 688</td><td>2011</td><td>70%</td><td>Canada</td><td>3.50</td><td>Criollo             </td><td>Venezuela                  </td></tr>\n",
              "\t<tr><th scope=row>1548</th><td>Soma</td><td>Black Science Blend 1                  </td><td> 607</td><td>2010</td><td>70%</td><td>Canada</td><td>3.75</td><td>Trinitario, Nacional</td><td>DR, Ecuador, Peru          </td></tr>\n",
              "\t<tr><th scope=row>1549</th><td>Soma</td><td>Hispaniola                             </td><td> 377</td><td>2009</td><td>70%</td><td>Canada</td><td>3.00</td><td>Forastero           </td><td>Dominican Republic         </td></tr>\n",
              "\t<tr><th scope=row>1550</th><td>Soma</td><td>Africa                                 </td><td> 377</td><td>2009</td><td>70%</td><td>Canada</td><td>3.50</td><td>Forastero           </td><td>Ghana                      </td></tr>\n",
              "\t<tr><th scope=row>1551</th><td>Soma</td><td>Conacado                               </td><td> 387</td><td>2009</td><td>70%</td><td>Canada</td><td>3.00</td><td>Trinitario          </td><td>Dominican Republic         </td></tr>\n",
              "\t<tr><th scope=row>1552</th><td>Soma</td><td>Papua New Guinea                       </td><td> 387</td><td>2009</td><td>70%</td><td>Canada</td><td>3.50</td><td>Trinitario          </td><td>Papua New Guinea           </td></tr>\n",
              "\t<tr><th scope=row>1553</th><td>Soma</td><td>Madagascar                             </td><td> 387</td><td>2009</td><td>70%</td><td>Canada</td><td>3.75</td><td>Criollo             </td><td>Madagascar                 </td></tr>\n",
              "\t<tr><th scope=row>1554</th><td>Soma</td><td>Ocumare                                </td><td> 387</td><td>2009</td><td>70%</td><td>Canada</td><td>3.75</td><td>Criollo             </td><td>Venezuela                  </td></tr>\n",
              "\t<tr><th scope=row>1557</th><td>Soul</td><td>Dominican Republic                     </td><td>1932</td><td>2017</td><td>70%</td><td>Canada</td><td>3.25</td><td>                    </td><td>Dominican Republic         </td></tr>\n",
              "\t<tr><th scope=row>1558</th><td>Soul</td><td>Madagascar                             </td><td>1936</td><td>2017</td><td>70%</td><td>Canada</td><td>3.50</td><td>                    </td><td>Madagascar                 </td></tr>\n",
              "\t<tr><th scope=row>1559</th><td>Soul</td><td>Venezuela                              </td><td>1936</td><td>2017</td><td>75%</td><td>Canada</td><td>3.50</td><td>                    </td><td>Venezuela                  </td></tr>\n",
              "\t<tr><th scope=row>1560</th><td>Soul</td><td>Ecuador                                </td><td>1936</td><td>2017</td><td>75%</td><td>Canada</td><td>3.25</td><td>                    </td><td>Ecuador                    </td></tr>\n",
              "\t<tr><th scope=row>1561</th><td>Soul</td><td>Papua New Guinea                       </td><td>1936</td><td>2017</td><td>77%</td><td>Canada</td><td>3.25</td><td>                    </td><td>Papua New Guinea           </td></tr>\n",
              "\t<tr><th scope=row>1562</th><td>Soul</td><td>Tanzania                               </td><td>1940</td><td>2017</td><td>80%</td><td>Canada</td><td>3.50</td><td>                    </td><td>Tanzania                   </td></tr>\n",
              "</tbody>\n",
              "</table>\n"
            ],
            "text/markdown": "\nA data.frame: 125 × 9\n\n| <!--/--> | Company...Maker.if.known. &lt;chr&gt; | Specific.Bean.Origin.or.Bar.Name &lt;chr&gt; | REF &lt;int&gt; | Review.Date &lt;int&gt; | Cocoa.Percent &lt;chr&gt; | Company.Location &lt;chr&gt; | Rating &lt;dbl&gt; | Bean.Type &lt;chr&gt; | Broad.Bean.Origin &lt;chr&gt; |\n|---|---|---|---|---|---|---|---|---|---|\n| 70 | Ambrosia                     | Belize                                | 1494 | 2015 | 64% | Canada | 3.00 | Trinitario           | Belize             |\n| 71 | Ambrosia                     | Madagascar                            | 1494 | 2015 | 66% | Canada | 3.25 | Trinitario           | Madagascar         |\n| 72 | Ambrosia                     | Dominican Republic                    | 1498 | 2015 | 75% | Canada | 3.25 |                      | Dominican Republic |\n| 73 | Ambrosia                     | Papua New Guinea                      | 1498 | 2015 | 63% | Canada | 3.25 |                      | Papua New Guinea   |\n| 74 | Ambrosia                     | Venezuela                             | 1498 | 2015 | 70% | Canada | 3.25 |                      | Venezuela          |\n| 75 | Ambrosia                     | Peru                                  | 1498 | 2015 | 68% | Canada | 3.50 |                      | Peru               |\n| 377 | Chaleur B                    | Uganda                                | 1426 | 2014 | 70% | Canada | 2.75 | Forastero            | Uganda             |\n| 412 | Chocolats Privilege          | Xoconusco                             | 1219 | 2014 | 70% | Canada | 2.50 | Criollo              | Mexico             |\n| 414 | Chocosol                     | Chiapas, Lacandon Jungle, Oaxacom Mtn |  682 | 2011 | 65% | Canada | 3.25 |                      | Mexico             |\n| 425 | Choklat                      | Ocumare                               |  377 | 2009 | 80% | Canada | 2.50 | Criollo              | Venezuela          |\n| 426 | Choklat                      | Porcelana, Tabasco                    |  377 | 2009 | 70% | Canada | 2.75 | Criollo              | Mexico             |\n| 427 | Choklat                      | Brazilian                             |  377 | 2009 | 70% | Canada | 3.00 |                      | Brazil             |\n| 428 | Choklat                      | Brazilian                             |  377 | 2009 | 80% | Canada | 3.00 |                      | Brazil             |\n| 429 | Choklat                      | Ocumare                               |  377 | 2009 | 70% | Canada | 3.00 | Criollo              | Venezuela          |\n| 431 | Choocsol                     | Chiapas, Lacandon Jungle, Oaxacom Mtn | 1832 | 2016 | 75% | Canada | 3.25 |                      | Mexico             |\n| 432 | Christopher Morel (Felchlin) | Maranon Canyon, Fortunato No. 4       |  666 | 2011 | 68% | Canada | 3.75 | Forastero (Nacional) | Peru               |\n| 532 | Desbarres                    | Kilombero, batch 41                   | 1916 | 2016 | 72% | Canada | 2.50 |                      | Tanzania           |\n| 602 | East Van Roasters            | Peru                                  | 1343 | 2014 | 70% | Canada | 3.25 |                      | Peru               |\n| 603 | East Van Roasters            | Madagascar                            | 1343 | 2014 | 70% | Canada | 3.50 | Trinitario           | Madagascar         |\n| 604 | East Van Roasters            | Dominican Republic                    | 1343 | 2014 | 70% | Canada | 3.75 |                      | Dominican Republic |\n| 605 | Eau de Rose                  | Tumaco                                | 1812 | 2016 | 70% | Canada | 3.25 |                      | Colombia           |\n| 606 | Eau de Rose                  | Arauca                                | 1812 | 2016 | 70% | Canada | 3.25 |                      | Colombia           |\n| 772 | Habitual                     | Papua New Guinea                      | 1197 | 2014 | 80% | Canada | 2.75 |                      | Papua New Guinea   |\n| 773 | Habitual                     | Campesino w/ nibs                     | 1197 | 2014 | 74% | Canada | 2.75 |                      |                    |\n| 774 | Habitual                     | Dominican Republic                    | 1197 | 2014 | 75% | Canada | 3.25 |                      | Dominican Republic |\n| 775 | Habitual                     | Trinitario                            | 1197 | 2014 | 70% | Canada | 3.50 | Trinitario           |                    |\n| 776 | Habitual                     | Downtown London                       | 1201 | 2014 | 65% | Canada | 2.75 |                      |                    |\n| 777 | Habitual                     | Africa meets Latina                   | 1201 | 2014 | 70% | Canada | 3.00 |                      |                    |\n| 778 | Habitual                     | Amazonas                              | 1201 | 2014 | 80% | Canada | 3.00 |                      |                    |\n| 779 | Habitual                     | Sharkey                               | 1201 | 2014 | 66% | Canada | 3.25 |                      | Hawaii             |\n| ⋮ | ⋮ | ⋮ | ⋮ | ⋮ | ⋮ | ⋮ | ⋮ | ⋮ | ⋮ |\n| 1531 | Soma | Equator                                 | 1081 | 2013 | 67% | Canada | 4.00 |                      | Peru, Dom. Rep              |\n| 1532 | Soma | Orinoco                                 | 1173 | 2013 | 70% | Canada | 3.25 | Forastero            | Venezuela                   |\n| 1533 | Soma | Bachelor's Hall E., St. Thomas Parish   | 1177 | 2013 | 70% | Canada | 4.00 | Trinitario           | Jamaica                     |\n| 1534 | Soma | Noula Coop                              |  817 | 2012 | 70% | Canada | 3.25 |                      | Haiti                       |\n| 1535 | Soma | O'ahu                                   |  833 | 2012 | 70% | Canada | 3.75 |                      | Hawaii                      |\n| 1536 | Soma | Dual Origins, Sambirano, Elvesia        |  867 | 2012 | 70% | Canada | 4.00 | Blend                | Dom. Rep., Madagascar       |\n| 1537 | Soma | Dancing in Your Head, 5 bean blend      |  867 | 2012 | 70% | Canada | 4.00 | Blend                | Gre., PNG, Haw., Haiti, Mad |\n| 1538 | Soma | Cahabon Region                          |  951 | 2012 | 70% | Canada | 3.50 | Trinitario           | Guatemala                   |\n| 1539 | Soma | Carenero Superior                       |  951 | 2012 | 70% | Canada | 3.75 | Trinitario           | Venezuela                   |\n| 1540 | Soma | Eastern Promises                        |  967 | 2012 | 70% | Canada | 3.50 | Blend                | Mad., Java, PNG             |\n| 1541 | Soma | Papua New Guinea                        |  983 | 2012 | 85% | Canada | 3.50 | Trinitario           | Papua New Guinea            |\n| 1542 | Soma | Grenada, Black Science                  |  676 | 2011 | 70% | Canada | 2.75 | Trinitario           | Grenada                     |\n| 1543 | Soma | Alto Beni, Wild Bolivian                |  676 | 2011 | 70% | Canada | 3.50 | Nacional             | Bolivia                     |\n| 1544 | Soma | Peruvian                                |  676 | 2011 | 64% | Canada | 4.00 |                      | Peru                        |\n| 1545 | Soma | Three Amigos(Chuao, Wild Bolivia, D.R.) |  676 | 2011 | 70% | Canada | 4.00 | <!----> | Ven, Bolivia, D.R.          |\n| 1546 | Soma | Elvesia P., Black Science               |  682 | 2011 | 70% | Canada | 3.75 | Forastero            | Dominican Republic          |\n| 1547 | Soma | Chuao                                   |  688 | 2011 | 70% | Canada | 3.50 | Criollo              | Venezuela                   |\n| 1548 | Soma | Black Science Blend 1                   |  607 | 2010 | 70% | Canada | 3.75 | Trinitario, Nacional | DR, Ecuador, Peru           |\n| 1549 | Soma | Hispaniola                              |  377 | 2009 | 70% | Canada | 3.00 | Forastero            | Dominican Republic          |\n| 1550 | Soma | Africa                                  |  377 | 2009 | 70% | Canada | 3.50 | Forastero            | Ghana                       |\n| 1551 | Soma | Conacado                                |  387 | 2009 | 70% | Canada | 3.00 | Trinitario           | Dominican Republic          |\n| 1552 | Soma | Papua New Guinea                        |  387 | 2009 | 70% | Canada | 3.50 | Trinitario           | Papua New Guinea            |\n| 1553 | Soma | Madagascar                              |  387 | 2009 | 70% | Canada | 3.75 | Criollo              | Madagascar                  |\n| 1554 | Soma | Ocumare                                 |  387 | 2009 | 70% | Canada | 3.75 | Criollo              | Venezuela                   |\n| 1557 | Soul | Dominican Republic                      | 1932 | 2017 | 70% | Canada | 3.25 |                      | Dominican Republic          |\n| 1558 | Soul | Madagascar                              | 1936 | 2017 | 70% | Canada | 3.50 |                      | Madagascar                  |\n| 1559 | Soul | Venezuela                               | 1936 | 2017 | 75% | Canada | 3.50 |                      | Venezuela                   |\n| 1560 | Soul | Ecuador                                 | 1936 | 2017 | 75% | Canada | 3.25 |                      | Ecuador                     |\n| 1561 | Soul | Papua New Guinea                        | 1936 | 2017 | 77% | Canada | 3.25 |                      | Papua New Guinea            |\n| 1562 | Soul | Tanzania                                | 1940 | 2017 | 80% | Canada | 3.50 |                      | Tanzania                    |\n\n",
            "text/latex": "A data.frame: 125 × 9\n\\begin{tabular}{r|lllllllll}\n  & Company...Maker.if.known. & Specific.Bean.Origin.or.Bar.Name & REF & Review.Date & Cocoa.Percent & Company.Location & Rating & Bean.Type & Broad.Bean.Origin\\\\\n  & <chr> & <chr> & <int> & <int> & <chr> & <chr> & <dbl> & <chr> & <chr>\\\\\n\\hline\n\t70 & Ambrosia                     & Belize                                & 1494 & 2015 & 64\\% & Canada & 3.00 & Trinitario           & Belize            \\\\\n\t71 & Ambrosia                     & Madagascar                            & 1494 & 2015 & 66\\% & Canada & 3.25 & Trinitario           & Madagascar        \\\\\n\t72 & Ambrosia                     & Dominican Republic                    & 1498 & 2015 & 75\\% & Canada & 3.25 &                      & Dominican Republic\\\\\n\t73 & Ambrosia                     & Papua New Guinea                      & 1498 & 2015 & 63\\% & Canada & 3.25 &                      & Papua New Guinea  \\\\\n\t74 & Ambrosia                     & Venezuela                             & 1498 & 2015 & 70\\% & Canada & 3.25 &                      & Venezuela         \\\\\n\t75 & Ambrosia                     & Peru                                  & 1498 & 2015 & 68\\% & Canada & 3.50 &                      & Peru              \\\\\n\t377 & Chaleur B                    & Uganda                                & 1426 & 2014 & 70\\% & Canada & 2.75 & Forastero            & Uganda            \\\\\n\t412 & Chocolats Privilege          & Xoconusco                             & 1219 & 2014 & 70\\% & Canada & 2.50 & Criollo              & Mexico            \\\\\n\t414 & Chocosol                     & Chiapas, Lacandon Jungle, Oaxacom Mtn &  682 & 2011 & 65\\% & Canada & 3.25 &                      & Mexico            \\\\\n\t425 & Choklat                      & Ocumare                               &  377 & 2009 & 80\\% & Canada & 2.50 & Criollo              & Venezuela         \\\\\n\t426 & Choklat                      & Porcelana, Tabasco                    &  377 & 2009 & 70\\% & Canada & 2.75 & Criollo              & Mexico            \\\\\n\t427 & Choklat                      & Brazilian                             &  377 & 2009 & 70\\% & Canada & 3.00 &                      & Brazil            \\\\\n\t428 & Choklat                      & Brazilian                             &  377 & 2009 & 80\\% & Canada & 3.00 &                      & Brazil            \\\\\n\t429 & Choklat                      & Ocumare                               &  377 & 2009 & 70\\% & Canada & 3.00 & Criollo              & Venezuela         \\\\\n\t431 & Choocsol                     & Chiapas, Lacandon Jungle, Oaxacom Mtn & 1832 & 2016 & 75\\% & Canada & 3.25 &                      & Mexico            \\\\\n\t432 & Christopher Morel (Felchlin) & Maranon Canyon, Fortunato No. 4       &  666 & 2011 & 68\\% & Canada & 3.75 & Forastero (Nacional) & Peru              \\\\\n\t532 & Desbarres                    & Kilombero, batch 41                   & 1916 & 2016 & 72\\% & Canada & 2.50 &                      & Tanzania          \\\\\n\t602 & East Van Roasters            & Peru                                  & 1343 & 2014 & 70\\% & Canada & 3.25 &                      & Peru              \\\\\n\t603 & East Van Roasters            & Madagascar                            & 1343 & 2014 & 70\\% & Canada & 3.50 & Trinitario           & Madagascar        \\\\\n\t604 & East Van Roasters            & Dominican Republic                    & 1343 & 2014 & 70\\% & Canada & 3.75 &                      & Dominican Republic\\\\\n\t605 & Eau de Rose                  & Tumaco                                & 1812 & 2016 & 70\\% & Canada & 3.25 &                      & Colombia          \\\\\n\t606 & Eau de Rose                  & Arauca                                & 1812 & 2016 & 70\\% & Canada & 3.25 &                      & Colombia          \\\\\n\t772 & Habitual                     & Papua New Guinea                      & 1197 & 2014 & 80\\% & Canada & 2.75 &                      & Papua New Guinea  \\\\\n\t773 & Habitual                     & Campesino w/ nibs                     & 1197 & 2014 & 74\\% & Canada & 2.75 &                      &                   \\\\\n\t774 & Habitual                     & Dominican Republic                    & 1197 & 2014 & 75\\% & Canada & 3.25 &                      & Dominican Republic\\\\\n\t775 & Habitual                     & Trinitario                            & 1197 & 2014 & 70\\% & Canada & 3.50 & Trinitario           &                   \\\\\n\t776 & Habitual                     & Downtown London                       & 1201 & 2014 & 65\\% & Canada & 2.75 &                      &                   \\\\\n\t777 & Habitual                     & Africa meets Latina                   & 1201 & 2014 & 70\\% & Canada & 3.00 &                      &                   \\\\\n\t778 & Habitual                     & Amazonas                              & 1201 & 2014 & 80\\% & Canada & 3.00 &                      &                   \\\\\n\t779 & Habitual                     & Sharkey                               & 1201 & 2014 & 66\\% & Canada & 3.25 &                      & Hawaii            \\\\\n\t⋮ & ⋮ & ⋮ & ⋮ & ⋮ & ⋮ & ⋮ & ⋮ & ⋮ & ⋮\\\\\n\t1531 & Soma & Equator                                 & 1081 & 2013 & 67\\% & Canada & 4.00 &                      & Peru, Dom. Rep             \\\\\n\t1532 & Soma & Orinoco                                 & 1173 & 2013 & 70\\% & Canada & 3.25 & Forastero            & Venezuela                  \\\\\n\t1533 & Soma & Bachelor's Hall E., St. Thomas Parish   & 1177 & 2013 & 70\\% & Canada & 4.00 & Trinitario           & Jamaica                    \\\\\n\t1534 & Soma & Noula Coop                              &  817 & 2012 & 70\\% & Canada & 3.25 &                      & Haiti                      \\\\\n\t1535 & Soma & O'ahu                                   &  833 & 2012 & 70\\% & Canada & 3.75 &                      & Hawaii                     \\\\\n\t1536 & Soma & Dual Origins, Sambirano, Elvesia        &  867 & 2012 & 70\\% & Canada & 4.00 & Blend                & Dom. Rep., Madagascar      \\\\\n\t1537 & Soma & Dancing in Your Head, 5 bean blend      &  867 & 2012 & 70\\% & Canada & 4.00 & Blend                & Gre., PNG, Haw., Haiti, Mad\\\\\n\t1538 & Soma & Cahabon Region                          &  951 & 2012 & 70\\% & Canada & 3.50 & Trinitario           & Guatemala                  \\\\\n\t1539 & Soma & Carenero Superior                       &  951 & 2012 & 70\\% & Canada & 3.75 & Trinitario           & Venezuela                  \\\\\n\t1540 & Soma & Eastern Promises                        &  967 & 2012 & 70\\% & Canada & 3.50 & Blend                & Mad., Java, PNG            \\\\\n\t1541 & Soma & Papua New Guinea                        &  983 & 2012 & 85\\% & Canada & 3.50 & Trinitario           & Papua New Guinea           \\\\\n\t1542 & Soma & Grenada, Black Science                  &  676 & 2011 & 70\\% & Canada & 2.75 & Trinitario           & Grenada                    \\\\\n\t1543 & Soma & Alto Beni, Wild Bolivian                &  676 & 2011 & 70\\% & Canada & 3.50 & Nacional             & Bolivia                    \\\\\n\t1544 & Soma & Peruvian                                &  676 & 2011 & 64\\% & Canada & 4.00 &                      & Peru                       \\\\\n\t1545 & Soma & Three Amigos(Chuao, Wild Bolivia, D.R.) &  676 & 2011 & 70\\% & Canada & 4.00 &                      & Ven, Bolivia, D.R.         \\\\\n\t1546 & Soma & Elvesia P., Black Science               &  682 & 2011 & 70\\% & Canada & 3.75 & Forastero            & Dominican Republic         \\\\\n\t1547 & Soma & Chuao                                   &  688 & 2011 & 70\\% & Canada & 3.50 & Criollo              & Venezuela                  \\\\\n\t1548 & Soma & Black Science Blend 1                   &  607 & 2010 & 70\\% & Canada & 3.75 & Trinitario, Nacional & DR, Ecuador, Peru          \\\\\n\t1549 & Soma & Hispaniola                              &  377 & 2009 & 70\\% & Canada & 3.00 & Forastero            & Dominican Republic         \\\\\n\t1550 & Soma & Africa                                  &  377 & 2009 & 70\\% & Canada & 3.50 & Forastero            & Ghana                      \\\\\n\t1551 & Soma & Conacado                                &  387 & 2009 & 70\\% & Canada & 3.00 & Trinitario           & Dominican Republic         \\\\\n\t1552 & Soma & Papua New Guinea                        &  387 & 2009 & 70\\% & Canada & 3.50 & Trinitario           & Papua New Guinea           \\\\\n\t1553 & Soma & Madagascar                              &  387 & 2009 & 70\\% & Canada & 3.75 & Criollo              & Madagascar                 \\\\\n\t1554 & Soma & Ocumare                                 &  387 & 2009 & 70\\% & Canada & 3.75 & Criollo              & Venezuela                  \\\\\n\t1557 & Soul & Dominican Republic                      & 1932 & 2017 & 70\\% & Canada & 3.25 &                      & Dominican Republic         \\\\\n\t1558 & Soul & Madagascar                              & 1936 & 2017 & 70\\% & Canada & 3.50 &                      & Madagascar                 \\\\\n\t1559 & Soul & Venezuela                               & 1936 & 2017 & 75\\% & Canada & 3.50 &                      & Venezuela                  \\\\\n\t1560 & Soul & Ecuador                                 & 1936 & 2017 & 75\\% & Canada & 3.25 &                      & Ecuador                    \\\\\n\t1561 & Soul & Papua New Guinea                        & 1936 & 2017 & 77\\% & Canada & 3.25 &                      & Papua New Guinea           \\\\\n\t1562 & Soul & Tanzania                                & 1940 & 2017 & 80\\% & Canada & 3.50 &                      & Tanzania                   \\\\\n\\end{tabular}\n",
            "text/plain": [
              "     Company...Maker.if.known.    Specific.Bean.Origin.or.Bar.Name        REF \n",
              "70   Ambrosia                     Belize                                  1494\n",
              "71   Ambrosia                     Madagascar                              1494\n",
              "72   Ambrosia                     Dominican Republic                      1498\n",
              "73   Ambrosia                     Papua New Guinea                        1498\n",
              "74   Ambrosia                     Venezuela                               1498\n",
              "75   Ambrosia                     Peru                                    1498\n",
              "377  Chaleur B                    Uganda                                  1426\n",
              "412  Chocolats Privilege          Xoconusco                               1219\n",
              "414  Chocosol                     Chiapas, Lacandon Jungle, Oaxacom Mtn    682\n",
              "425  Choklat                      Ocumare                                  377\n",
              "426  Choklat                      Porcelana, Tabasco                       377\n",
              "427  Choklat                      Brazilian                                377\n",
              "428  Choklat                      Brazilian                                377\n",
              "429  Choklat                      Ocumare                                  377\n",
              "431  Choocsol                     Chiapas, Lacandon Jungle, Oaxacom Mtn   1832\n",
              "432  Christopher Morel (Felchlin) Maranon Canyon, Fortunato No. 4          666\n",
              "532  Desbarres                    Kilombero, batch 41                     1916\n",
              "602  East Van Roasters            Peru                                    1343\n",
              "603  East Van Roasters            Madagascar                              1343\n",
              "604  East Van Roasters            Dominican Republic                      1343\n",
              "605  Eau de Rose                  Tumaco                                  1812\n",
              "606  Eau de Rose                  Arauca                                  1812\n",
              "772  Habitual                     Papua New Guinea                        1197\n",
              "773  Habitual                     Campesino w/ nibs                       1197\n",
              "774  Habitual                     Dominican Republic                      1197\n",
              "775  Habitual                     Trinitario                              1197\n",
              "776  Habitual                     Downtown London                         1201\n",
              "777  Habitual                     Africa meets Latina                     1201\n",
              "778  Habitual                     Amazonas                                1201\n",
              "779  Habitual                     Sharkey                                 1201\n",
              "⋮    ⋮                            ⋮                                       ⋮   \n",
              "1531 Soma                         Equator                                 1081\n",
              "1532 Soma                         Orinoco                                 1173\n",
              "1533 Soma                         Bachelor's Hall E., St. Thomas Parish   1177\n",
              "1534 Soma                         Noula Coop                               817\n",
              "1535 Soma                         O'ahu                                    833\n",
              "1536 Soma                         Dual Origins, Sambirano, Elvesia         867\n",
              "1537 Soma                         Dancing in Your Head, 5 bean blend       867\n",
              "1538 Soma                         Cahabon Region                           951\n",
              "1539 Soma                         Carenero Superior                        951\n",
              "1540 Soma                         Eastern Promises                         967\n",
              "1541 Soma                         Papua New Guinea                         983\n",
              "1542 Soma                         Grenada, Black Science                   676\n",
              "1543 Soma                         Alto Beni, Wild Bolivian                 676\n",
              "1544 Soma                         Peruvian                                 676\n",
              "1545 Soma                         Three Amigos(Chuao, Wild Bolivia, D.R.)  676\n",
              "1546 Soma                         Elvesia P., Black Science                682\n",
              "1547 Soma                         Chuao                                    688\n",
              "1548 Soma                         Black Science Blend 1                    607\n",
              "1549 Soma                         Hispaniola                               377\n",
              "1550 Soma                         Africa                                   377\n",
              "1551 Soma                         Conacado                                 387\n",
              "1552 Soma                         Papua New Guinea                         387\n",
              "1553 Soma                         Madagascar                               387\n",
              "1554 Soma                         Ocumare                                  387\n",
              "1557 Soul                         Dominican Republic                      1932\n",
              "1558 Soul                         Madagascar                              1936\n",
              "1559 Soul                         Venezuela                               1936\n",
              "1560 Soul                         Ecuador                                 1936\n",
              "1561 Soul                         Papua New Guinea                        1936\n",
              "1562 Soul                         Tanzania                                1940\n",
              "     Review.Date Cocoa.Percent Company.Location Rating Bean.Type           \n",
              "70   2015        64%           Canada           3.00   Trinitario          \n",
              "71   2015        66%           Canada           3.25   Trinitario          \n",
              "72   2015        75%           Canada           3.25                       \n",
              "73   2015        63%           Canada           3.25                       \n",
              "74   2015        70%           Canada           3.25                       \n",
              "75   2015        68%           Canada           3.50                       \n",
              "377  2014        70%           Canada           2.75   Forastero           \n",
              "412  2014        70%           Canada           2.50   Criollo             \n",
              "414  2011        65%           Canada           3.25                       \n",
              "425  2009        80%           Canada           2.50   Criollo             \n",
              "426  2009        70%           Canada           2.75   Criollo             \n",
              "427  2009        70%           Canada           3.00                       \n",
              "428  2009        80%           Canada           3.00                       \n",
              "429  2009        70%           Canada           3.00   Criollo             \n",
              "431  2016        75%           Canada           3.25                       \n",
              "432  2011        68%           Canada           3.75   Forastero (Nacional)\n",
              "532  2016        72%           Canada           2.50                       \n",
              "602  2014        70%           Canada           3.25                       \n",
              "603  2014        70%           Canada           3.50   Trinitario          \n",
              "604  2014        70%           Canada           3.75                       \n",
              "605  2016        70%           Canada           3.25                       \n",
              "606  2016        70%           Canada           3.25                       \n",
              "772  2014        80%           Canada           2.75                       \n",
              "773  2014        74%           Canada           2.75                       \n",
              "774  2014        75%           Canada           3.25                       \n",
              "775  2014        70%           Canada           3.50   Trinitario          \n",
              "776  2014        65%           Canada           2.75                       \n",
              "777  2014        70%           Canada           3.00                       \n",
              "778  2014        80%           Canada           3.00                       \n",
              "779  2014        66%           Canada           3.25                       \n",
              "⋮    ⋮           ⋮             ⋮                ⋮      ⋮                   \n",
              "1531 2013        67%           Canada           4.00                       \n",
              "1532 2013        70%           Canada           3.25   Forastero           \n",
              "1533 2013        70%           Canada           4.00   Trinitario          \n",
              "1534 2012        70%           Canada           3.25                       \n",
              "1535 2012        70%           Canada           3.75                       \n",
              "1536 2012        70%           Canada           4.00   Blend               \n",
              "1537 2012        70%           Canada           4.00   Blend               \n",
              "1538 2012        70%           Canada           3.50   Trinitario          \n",
              "1539 2012        70%           Canada           3.75   Trinitario          \n",
              "1540 2012        70%           Canada           3.50   Blend               \n",
              "1541 2012        85%           Canada           3.50   Trinitario          \n",
              "1542 2011        70%           Canada           2.75   Trinitario          \n",
              "1543 2011        70%           Canada           3.50   Nacional            \n",
              "1544 2011        64%           Canada           4.00                       \n",
              "1545 2011        70%           Canada           4.00                       \n",
              "1546 2011        70%           Canada           3.75   Forastero           \n",
              "1547 2011        70%           Canada           3.50   Criollo             \n",
              "1548 2010        70%           Canada           3.75   Trinitario, Nacional\n",
              "1549 2009        70%           Canada           3.00   Forastero           \n",
              "1550 2009        70%           Canada           3.50   Forastero           \n",
              "1551 2009        70%           Canada           3.00   Trinitario          \n",
              "1552 2009        70%           Canada           3.50   Trinitario          \n",
              "1553 2009        70%           Canada           3.75   Criollo             \n",
              "1554 2009        70%           Canada           3.75   Criollo             \n",
              "1557 2017        70%           Canada           3.25                       \n",
              "1558 2017        70%           Canada           3.50                       \n",
              "1559 2017        75%           Canada           3.50                       \n",
              "1560 2017        75%           Canada           3.25                       \n",
              "1561 2017        77%           Canada           3.25                       \n",
              "1562 2017        80%           Canada           3.50                       \n",
              "     Broad.Bean.Origin          \n",
              "70   Belize                     \n",
              "71   Madagascar                 \n",
              "72   Dominican Republic         \n",
              "73   Papua New Guinea           \n",
              "74   Venezuela                  \n",
              "75   Peru                       \n",
              "377  Uganda                     \n",
              "412  Mexico                     \n",
              "414  Mexico                     \n",
              "425  Venezuela                  \n",
              "426  Mexico                     \n",
              "427  Brazil                     \n",
              "428  Brazil                     \n",
              "429  Venezuela                  \n",
              "431  Mexico                     \n",
              "432  Peru                       \n",
              "532  Tanzania                   \n",
              "602  Peru                       \n",
              "603  Madagascar                 \n",
              "604  Dominican Republic         \n",
              "605  Colombia                   \n",
              "606  Colombia                   \n",
              "772  Papua New Guinea           \n",
              "773                             \n",
              "774  Dominican Republic         \n",
              "775                             \n",
              "776                             \n",
              "777                             \n",
              "778                             \n",
              "779  Hawaii                     \n",
              "⋮    ⋮                          \n",
              "1531 Peru, Dom. Rep             \n",
              "1532 Venezuela                  \n",
              "1533 Jamaica                    \n",
              "1534 Haiti                      \n",
              "1535 Hawaii                     \n",
              "1536 Dom. Rep., Madagascar      \n",
              "1537 Gre., PNG, Haw., Haiti, Mad\n",
              "1538 Guatemala                  \n",
              "1539 Venezuela                  \n",
              "1540 Mad., Java, PNG            \n",
              "1541 Papua New Guinea           \n",
              "1542 Grenada                    \n",
              "1543 Bolivia                    \n",
              "1544 Peru                       \n",
              "1545 Ven, Bolivia, D.R.         \n",
              "1546 Dominican Republic         \n",
              "1547 Venezuela                  \n",
              "1548 DR, Ecuador, Peru          \n",
              "1549 Dominican Republic         \n",
              "1550 Ghana                      \n",
              "1551 Dominican Republic         \n",
              "1552 Papua New Guinea           \n",
              "1553 Madagascar                 \n",
              "1554 Venezuela                  \n",
              "1557 Dominican Republic         \n",
              "1558 Madagascar                 \n",
              "1559 Venezuela                  \n",
              "1560 Ecuador                    \n",
              "1561 Papua New Guinea           \n",
              "1562 Tanzania                   "
            ]
          },
          "metadata": {}
        }
      ]
    },
    {
      "cell_type": "code",
      "source": [
        "df_france"
      ],
      "metadata": {
        "colab": {
          "base_uri": "https://localhost:8080/",
          "height": 1000
        },
        "id": "JjAOQljcxJNJ",
        "outputId": "cbe445aa-b931-4365-b1ae-626765cc2336"
      },
      "execution_count": 249,
      "outputs": [
        {
          "output_type": "display_data",
          "data": {
            "text/html": [
              "<table class=\"dataframe\">\n",
              "<caption>A data.frame: 156 × 9</caption>\n",
              "<thead>\n",
              "\t<tr><th></th><th scope=col>Company...Maker.if.known.</th><th scope=col>Specific.Bean.Origin.or.Bar.Name</th><th scope=col>REF</th><th scope=col>Review.Date</th><th scope=col>Cocoa.Percent</th><th scope=col>Company.Location</th><th scope=col>Rating</th><th scope=col>Bean.Type</th><th scope=col>Broad.Bean.Origin</th></tr>\n",
              "\t<tr><th></th><th scope=col>&lt;chr&gt;</th><th scope=col>&lt;chr&gt;</th><th scope=col>&lt;int&gt;</th><th scope=col>&lt;int&gt;</th><th scope=col>&lt;chr&gt;</th><th scope=col>&lt;chr&gt;</th><th scope=col>&lt;dbl&gt;</th><th scope=col>&lt;chr&gt;</th><th scope=col>&lt;chr&gt;</th></tr>\n",
              "</thead>\n",
              "<tbody>\n",
              "\t<tr><th scope=row>1</th><td>A. Morin     </td><td>Agua Grande         </td><td>1876</td><td>2016</td><td>63%</td><td>France</td><td>3.75</td><td>          </td><td>Sao Tome        </td></tr>\n",
              "\t<tr><th scope=row>2</th><td>A. Morin     </td><td>Kpime               </td><td>1676</td><td>2015</td><td>70%</td><td>France</td><td>2.75</td><td>          </td><td>Togo            </td></tr>\n",
              "\t<tr><th scope=row>3</th><td>A. Morin     </td><td>Atsane              </td><td>1676</td><td>2015</td><td>70%</td><td>France</td><td>3.00</td><td>          </td><td>Togo            </td></tr>\n",
              "\t<tr><th scope=row>4</th><td>A. Morin     </td><td>Akata               </td><td>1680</td><td>2015</td><td>70%</td><td>France</td><td>3.50</td><td>          </td><td>Togo            </td></tr>\n",
              "\t<tr><th scope=row>5</th><td>A. Morin     </td><td>Quilla              </td><td>1704</td><td>2015</td><td>70%</td><td>France</td><td>3.50</td><td>          </td><td>Peru            </td></tr>\n",
              "\t<tr><th scope=row>6</th><td>A. Morin     </td><td>Carenero            </td><td>1315</td><td>2014</td><td>70%</td><td>France</td><td>2.75</td><td>Criollo   </td><td>Venezuela       </td></tr>\n",
              "\t<tr><th scope=row>7</th><td>A. Morin     </td><td>Cuba                </td><td>1315</td><td>2014</td><td>70%</td><td>France</td><td>3.50</td><td>          </td><td>Cuba            </td></tr>\n",
              "\t<tr><th scope=row>8</th><td>A. Morin     </td><td>Sur del Lago        </td><td>1315</td><td>2014</td><td>70%</td><td>France</td><td>3.50</td><td>Criollo   </td><td>Venezuela       </td></tr>\n",
              "\t<tr><th scope=row>9</th><td>A. Morin     </td><td>Puerto Cabello      </td><td>1319</td><td>2014</td><td>70%</td><td>France</td><td>3.75</td><td>Criollo   </td><td>Venezuela       </td></tr>\n",
              "\t<tr><th scope=row>10</th><td>A. Morin     </td><td>Pablino             </td><td>1319</td><td>2014</td><td>70%</td><td>France</td><td>4.00</td><td>          </td><td>Peru            </td></tr>\n",
              "\t<tr><th scope=row>11</th><td>A. Morin     </td><td>Panama              </td><td>1011</td><td>2013</td><td>70%</td><td>France</td><td>2.75</td><td>          </td><td>Panama          </td></tr>\n",
              "\t<tr><th scope=row>12</th><td>A. Morin     </td><td>Madagascar          </td><td>1011</td><td>2013</td><td>70%</td><td>France</td><td>3.00</td><td>Criollo   </td><td>Madagascar      </td></tr>\n",
              "\t<tr><th scope=row>13</th><td>A. Morin     </td><td>Brazil              </td><td>1011</td><td>2013</td><td>70%</td><td>France</td><td>3.25</td><td>          </td><td>Brazil          </td></tr>\n",
              "\t<tr><th scope=row>14</th><td>A. Morin     </td><td>Equateur            </td><td>1011</td><td>2013</td><td>70%</td><td>France</td><td>3.75</td><td>          </td><td>Ecuador         </td></tr>\n",
              "\t<tr><th scope=row>15</th><td>A. Morin     </td><td>Colombie            </td><td>1015</td><td>2013</td><td>70%</td><td>France</td><td>2.75</td><td>          </td><td>Colombia        </td></tr>\n",
              "\t<tr><th scope=row>16</th><td>A. Morin     </td><td>Birmanie            </td><td>1015</td><td>2013</td><td>70%</td><td>France</td><td>3.00</td><td>          </td><td>Burma           </td></tr>\n",
              "\t<tr><th scope=row>17</th><td>A. Morin     </td><td>Papua New Guinea    </td><td>1015</td><td>2013</td><td>70%</td><td>France</td><td>3.25</td><td>          </td><td>Papua New Guinea</td></tr>\n",
              "\t<tr><th scope=row>18</th><td>A. Morin     </td><td>Chuao               </td><td>1015</td><td>2013</td><td>70%</td><td>France</td><td>4.00</td><td>Trinitario</td><td>Venezuela       </td></tr>\n",
              "\t<tr><th scope=row>19</th><td>A. Morin     </td><td>Piura               </td><td>1019</td><td>2013</td><td>70%</td><td>France</td><td>3.25</td><td>          </td><td>Peru            </td></tr>\n",
              "\t<tr><th scope=row>20</th><td>A. Morin     </td><td>Chanchamayo Province</td><td>1019</td><td>2013</td><td>70%</td><td>France</td><td>3.50</td><td>          </td><td>Peru            </td></tr>\n",
              "\t<tr><th scope=row>21</th><td>A. Morin     </td><td>Chanchamayo Province</td><td>1019</td><td>2013</td><td>63%</td><td>France</td><td>4.00</td><td>          </td><td>Peru            </td></tr>\n",
              "\t<tr><th scope=row>22</th><td>A. Morin     </td><td>Bolivia             </td><td> 797</td><td>2012</td><td>70%</td><td>France</td><td>3.50</td><td>          </td><td>Bolivia         </td></tr>\n",
              "\t<tr><th scope=row>23</th><td>A. Morin     </td><td>Peru                </td><td> 797</td><td>2012</td><td>63%</td><td>France</td><td>3.75</td><td>          </td><td>Peru            </td></tr>\n",
              "\t<tr><th scope=row>36</th><td>Alain Ducasse</td><td>Trinite             </td><td>1215</td><td>2014</td><td>65%</td><td>France</td><td>2.75</td><td>Trinitario</td><td>Trinidad        </td></tr>\n",
              "\t<tr><th scope=row>37</th><td>Alain Ducasse</td><td>Vietnam             </td><td>1215</td><td>2014</td><td>75%</td><td>France</td><td>2.75</td><td>Trinitario</td><td>Vietnam         </td></tr>\n",
              "\t<tr><th scope=row>38</th><td>Alain Ducasse</td><td>Madagascar          </td><td>1215</td><td>2014</td><td>75%</td><td>France</td><td>3.00</td><td>Trinitario</td><td>Madagascar      </td></tr>\n",
              "\t<tr><th scope=row>39</th><td>Alain Ducasse</td><td>Chuao               </td><td>1061</td><td>2013</td><td>75%</td><td>France</td><td>2.50</td><td>Trinitario</td><td>Venezuela       </td></tr>\n",
              "\t<tr><th scope=row>40</th><td>Alain Ducasse</td><td>Piura, Perou        </td><td>1173</td><td>2013</td><td>75%</td><td>France</td><td>2.50</td><td>          </td><td>Peru            </td></tr>\n",
              "\t<tr><th scope=row>96</th><td>Ara          </td><td>Madagascar          </td><td>1375</td><td>2014</td><td>75%</td><td>France</td><td>3.00</td><td>Trinitario</td><td>Madagascar      </td></tr>\n",
              "\t<tr><th scope=row>97</th><td>Ara          </td><td>Chiapas             </td><td>1379</td><td>2014</td><td>72%</td><td>France</td><td>2.50</td><td>          </td><td>Mexico          </td></tr>\n",
              "\t<tr><th scope=row>⋮</th><td>⋮</td><td>⋮</td><td>⋮</td><td>⋮</td><td>⋮</td><td>⋮</td><td>⋮</td><td>⋮</td><td>⋮</td></tr>\n",
              "\t<tr><th scope=row>1336</th><td>Pralus                </td><td>Fortissima                           </td><td>  93</td><td>2006</td><td>80%</td><td>France</td><td>4.00</td><td>Criollo, Trinitario  </td><td>Ecuador             </td></tr>\n",
              "\t<tr><th scope=row>1337</th><td>Pralus                </td><td>Cuba                                 </td><td>  99</td><td>2006</td><td>75%</td><td>France</td><td>3.00</td><td>Trinitario           </td><td>Cuba                </td></tr>\n",
              "\t<tr><th scope=row>1338</th><td>Pralus                </td><td>Caracas, Venezuela and Ghana         </td><td>  99</td><td>2006</td><td>75%</td><td>France</td><td>3.00</td><td>Trinitario, Forastero</td><td>Venezuela, Ghana    </td></tr>\n",
              "\t<tr><th scope=row>1339</th><td>Pralus                </td><td>Djakarta, Java and Ghana             </td><td>  99</td><td>2006</td><td>75%</td><td>France</td><td>3.50</td><td>Criollo, Forastero   </td><td>Indonesia, Ghana    </td></tr>\n",
              "\t<tr><th scope=row>1366</th><td>Raoul Boulanger       </td><td>Piura                                </td><td>1872</td><td>2016</td><td>75%</td><td>France</td><td>3.25</td><td>Criollo              </td><td>Peru                </td></tr>\n",
              "\t<tr><th scope=row>1427</th><td>Santome               </td><td>Sao Tome                             </td><td> 761</td><td>2011</td><td>70%</td><td>France</td><td>2.75</td><td>Forastero            </td><td>Sao Tome            </td></tr>\n",
              "\t<tr><th scope=row>1664</th><td>Tobago Estate (Pralus)</td><td>Roxborough, Tobago                   </td><td> 895</td><td>2012</td><td>70%</td><td>France</td><td>4.00</td><td>Trinitario           </td><td>Tobago              </td></tr>\n",
              "\t<tr><th scope=row>1677</th><td>Un Dimanche A Paris   </td><td>Dominican Republic                   </td><td> 709</td><td>2011</td><td>63%</td><td>France</td><td>3.75</td><td>                     </td><td>Dominican Republic  </td></tr>\n",
              "\t<tr><th scope=row>1683</th><td>Valrhona              </td><td>Piura, Illanka, Quemazon             </td><td>1510</td><td>2015</td><td>63%</td><td>France</td><td>4.00</td><td>                     </td><td>Peru                </td></tr>\n",
              "\t<tr><th scope=row>1684</th><td>Valrhona              </td><td>Andoa, Grand Cru blend               </td><td>1145</td><td>2013</td><td>70%</td><td>France</td><td>3.50</td><td>                     </td><td>                    </td></tr>\n",
              "\t<tr><th scope=row>1685</th><td>Valrhona              </td><td>Loma Sotavento, 2013                 </td><td>1153</td><td>2013</td><td>64%</td><td>France</td><td>3.50</td><td>                     </td><td>Dominican Republic  </td></tr>\n",
              "\t<tr><th scope=row>1686</th><td>Valrhona              </td><td>Otucan, Grand Cru                    </td><td> 931</td><td>2012</td><td>69%</td><td>France</td><td>4.00</td><td>                     </td><td>Venezuela           </td></tr>\n",
              "\t<tr><th scope=row>1687</th><td>Valrhona              </td><td>Caraque                              </td><td> 709</td><td>2011</td><td>56%</td><td>France</td><td>3.25</td><td>                     </td><td>                    </td></tr>\n",
              "\t<tr><th scope=row>1688</th><td>Valrhona              </td><td>Porcelana, Pedegral                  </td><td> 757</td><td>2011</td><td>64%</td><td>France</td><td>4.00</td><td>Criollo              </td><td>Venezuela           </td></tr>\n",
              "\t<tr><th scope=row>1689</th><td>Valrhona              </td><td>Tainori                              </td><td> 327</td><td>2009</td><td>64%</td><td>France</td><td>3.75</td><td>                     </td><td>Dominican Republic  </td></tr>\n",
              "\t<tr><th scope=row>1690</th><td>Valrhona              </td><td>Alpaco                               </td><td> 370</td><td>2009</td><td>66%</td><td>France</td><td>3.75</td><td>                     </td><td>Ecuador             </td></tr>\n",
              "\t<tr><th scope=row>1691</th><td>Valrhona              </td><td>Nyangbo                              </td><td> 395</td><td>2009</td><td>68%</td><td>France</td><td>3.50</td><td>Forastero            </td><td>Ghana               </td></tr>\n",
              "\t<tr><th scope=row>1692</th><td>Valrhona              </td><td>Araguani                             </td><td> 117</td><td>2007</td><td>72%</td><td>France</td><td>3.00</td><td>Blend                </td><td>Venezuela, Carribean</td></tr>\n",
              "\t<tr><th scope=row>1693</th><td>Valrhona              </td><td>Chuao 2002 P.                        </td><td> 129</td><td>2007</td><td>65%</td><td>France</td><td>3.75</td><td>Trinitario           </td><td>Venezuela           </td></tr>\n",
              "\t<tr><th scope=row>1694</th><td>Valrhona              </td><td>Manjari                              </td><td> 129</td><td>2007</td><td>64%</td><td>France</td><td>4.00</td><td>Criollo, Trinitario  </td><td>Madagascar          </td></tr>\n",
              "\t<tr><th scope=row>1695</th><td>Valrhona              </td><td>Le Noir Extra Amer                   </td><td> 147</td><td>2007</td><td>85%</td><td>France</td><td>1.50</td><td>                     </td><td>                    </td></tr>\n",
              "\t<tr><th scope=row>1696</th><td>Valrhona              </td><td>Abinao                               </td><td> 153</td><td>2007</td><td>85%</td><td>France</td><td>2.50</td><td>Forastero            </td><td>West Africa         </td></tr>\n",
              "\t<tr><th scope=row>1697</th><td>Valrhona              </td><td>Le Noir Amer                         </td><td> 157</td><td>2007</td><td>71%</td><td>France</td><td>2.75</td><td>Forastero            </td><td>West Africa         </td></tr>\n",
              "\t<tr><th scope=row>1698</th><td>Valrhona              </td><td>Porcelana, Maracaibo, Palmira P. 2006</td><td> 162</td><td>2007</td><td>64%</td><td>France</td><td>3.25</td><td>Criollo (Porcelana)  </td><td>Venezuela           </td></tr>\n",
              "\t<tr><th scope=row>1699</th><td>Valrhona              </td><td>Caraibe                              </td><td>  63</td><td>2006</td><td>66%</td><td>France</td><td>3.00</td><td>Trinitario           </td><td>Carribean           </td></tr>\n",
              "\t<tr><th scope=row>1700</th><td>Valrhona              </td><td>Guanaja                              </td><td>  63</td><td>2006</td><td>70%</td><td>France</td><td>4.00</td><td>Criollo, Trinitario  </td><td>South America       </td></tr>\n",
              "\t<tr><th scope=row>1701</th><td>Valrhona              </td><td>Gran Couva 2005 P.                   </td><td>  75</td><td>2006</td><td>64%</td><td>France</td><td>2.50</td><td>Trinitario           </td><td>Trinidad            </td></tr>\n",
              "\t<tr><th scope=row>1702</th><td>Valrhona              </td><td>Porcelana, Maracaibo, Palmira P. 2005</td><td>  75</td><td>2006</td><td>64%</td><td>France</td><td>3.00</td><td>Criollo (Porcelana)  </td><td>Venezuela           </td></tr>\n",
              "\t<tr><th scope=row>1703</th><td>Valrhona              </td><td>Sambirano, Ampamakia 2005, Millot P. </td><td>  75</td><td>2006</td><td>64%</td><td>France</td><td>3.50</td><td>Trinitario           </td><td>Madagascar          </td></tr>\n",
              "\t<tr><th scope=row>1719</th><td>Vietcacao (A. Morin)  </td><td>Ben Tre, Mekong Delta, MoCay         </td><td> 951</td><td>2012</td><td>70%</td><td>France</td><td>3.50</td><td>Trinitario           </td><td>Vietnam             </td></tr>\n",
              "</tbody>\n",
              "</table>\n"
            ],
            "text/markdown": "\nA data.frame: 156 × 9\n\n| <!--/--> | Company...Maker.if.known. &lt;chr&gt; | Specific.Bean.Origin.or.Bar.Name &lt;chr&gt; | REF &lt;int&gt; | Review.Date &lt;int&gt; | Cocoa.Percent &lt;chr&gt; | Company.Location &lt;chr&gt; | Rating &lt;dbl&gt; | Bean.Type &lt;chr&gt; | Broad.Bean.Origin &lt;chr&gt; |\n|---|---|---|---|---|---|---|---|---|---|\n| 1 | A. Morin      | Agua Grande          | 1876 | 2016 | 63% | France | 3.75 |            | Sao Tome         |\n| 2 | A. Morin      | Kpime                | 1676 | 2015 | 70% | France | 2.75 |            | Togo             |\n| 3 | A. Morin      | Atsane               | 1676 | 2015 | 70% | France | 3.00 |            | Togo             |\n| 4 | A. Morin      | Akata                | 1680 | 2015 | 70% | France | 3.50 |            | Togo             |\n| 5 | A. Morin      | Quilla               | 1704 | 2015 | 70% | France | 3.50 |            | Peru             |\n| 6 | A. Morin      | Carenero             | 1315 | 2014 | 70% | France | 2.75 | Criollo    | Venezuela        |\n| 7 | A. Morin      | Cuba                 | 1315 | 2014 | 70% | France | 3.50 |            | Cuba             |\n| 8 | A. Morin      | Sur del Lago         | 1315 | 2014 | 70% | France | 3.50 | Criollo    | Venezuela        |\n| 9 | A. Morin      | Puerto Cabello       | 1319 | 2014 | 70% | France | 3.75 | Criollo    | Venezuela        |\n| 10 | A. Morin      | Pablino              | 1319 | 2014 | 70% | France | 4.00 |            | Peru             |\n| 11 | A. Morin      | Panama               | 1011 | 2013 | 70% | France | 2.75 |            | Panama           |\n| 12 | A. Morin      | Madagascar           | 1011 | 2013 | 70% | France | 3.00 | Criollo    | Madagascar       |\n| 13 | A. Morin      | Brazil               | 1011 | 2013 | 70% | France | 3.25 |            | Brazil           |\n| 14 | A. Morin      | Equateur             | 1011 | 2013 | 70% | France | 3.75 |            | Ecuador          |\n| 15 | A. Morin      | Colombie             | 1015 | 2013 | 70% | France | 2.75 |            | Colombia         |\n| 16 | A. Morin      | Birmanie             | 1015 | 2013 | 70% | France | 3.00 |            | Burma            |\n| 17 | A. Morin      | Papua New Guinea     | 1015 | 2013 | 70% | France | 3.25 |            | Papua New Guinea |\n| 18 | A. Morin      | Chuao                | 1015 | 2013 | 70% | France | 4.00 | Trinitario | Venezuela        |\n| 19 | A. Morin      | Piura                | 1019 | 2013 | 70% | France | 3.25 |            | Peru             |\n| 20 | A. Morin      | Chanchamayo Province | 1019 | 2013 | 70% | France | 3.50 |            | Peru             |\n| 21 | A. Morin      | Chanchamayo Province | 1019 | 2013 | 63% | France | 4.00 |            | Peru             |\n| 22 | A. Morin      | Bolivia              |  797 | 2012 | 70% | France | 3.50 |            | Bolivia          |\n| 23 | A. Morin      | Peru                 |  797 | 2012 | 63% | France | 3.75 |            | Peru             |\n| 36 | Alain Ducasse | Trinite              | 1215 | 2014 | 65% | France | 2.75 | Trinitario | Trinidad         |\n| 37 | Alain Ducasse | Vietnam              | 1215 | 2014 | 75% | France | 2.75 | Trinitario | Vietnam          |\n| 38 | Alain Ducasse | Madagascar           | 1215 | 2014 | 75% | France | 3.00 | Trinitario | Madagascar       |\n| 39 | Alain Ducasse | Chuao                | 1061 | 2013 | 75% | France | 2.50 | Trinitario | Venezuela        |\n| 40 | Alain Ducasse | Piura, Perou         | 1173 | 2013 | 75% | France | 2.50 |            | Peru             |\n| 96 | Ara           | Madagascar           | 1375 | 2014 | 75% | France | 3.00 | Trinitario | Madagascar       |\n| 97 | Ara           | Chiapas              | 1379 | 2014 | 72% | France | 2.50 |            | Mexico           |\n| ⋮ | ⋮ | ⋮ | ⋮ | ⋮ | ⋮ | ⋮ | ⋮ | ⋮ | ⋮ |\n| 1336 | Pralus                 | Fortissima                            |   93 | 2006 | 80% | France | 4.00 | Criollo, Trinitario   | Ecuador              |\n| 1337 | Pralus                 | Cuba                                  |   99 | 2006 | 75% | France | 3.00 | Trinitario            | Cuba                 |\n| 1338 | Pralus                 | Caracas, Venezuela and Ghana          |   99 | 2006 | 75% | France | 3.00 | Trinitario, Forastero | Venezuela, Ghana     |\n| 1339 | Pralus                 | Djakarta, Java and Ghana              |   99 | 2006 | 75% | France | 3.50 | Criollo, Forastero    | Indonesia, Ghana     |\n| 1366 | Raoul Boulanger        | Piura                                 | 1872 | 2016 | 75% | France | 3.25 | Criollo               | Peru                 |\n| 1427 | Santome                | Sao Tome                              |  761 | 2011 | 70% | France | 2.75 | Forastero             | Sao Tome             |\n| 1664 | Tobago Estate (Pralus) | Roxborough, Tobago                    |  895 | 2012 | 70% | France | 4.00 | Trinitario            | Tobago               |\n| 1677 | Un Dimanche A Paris    | Dominican Republic                    |  709 | 2011 | 63% | France | 3.75 |                       | Dominican Republic   |\n| 1683 | Valrhona               | Piura, Illanka, Quemazon              | 1510 | 2015 | 63% | France | 4.00 |                       | Peru                 |\n| 1684 | Valrhona               | Andoa, Grand Cru blend                | 1145 | 2013 | 70% | France | 3.50 |                       |                      |\n| 1685 | Valrhona               | Loma Sotavento, 2013                  | 1153 | 2013 | 64% | France | 3.50 |                       | Dominican Republic   |\n| 1686 | Valrhona               | Otucan, Grand Cru                     |  931 | 2012 | 69% | France | 4.00 |                       | Venezuela            |\n| 1687 | Valrhona               | Caraque                               |  709 | 2011 | 56% | France | 3.25 |                       |                      |\n| 1688 | Valrhona               | Porcelana, Pedegral                   |  757 | 2011 | 64% | France | 4.00 | Criollo               | Venezuela            |\n| 1689 | Valrhona               | Tainori                               |  327 | 2009 | 64% | France | 3.75 |                       | Dominican Republic   |\n| 1690 | Valrhona               | Alpaco                                |  370 | 2009 | 66% | France | 3.75 |                       | Ecuador              |\n| 1691 | Valrhona               | Nyangbo                               |  395 | 2009 | 68% | France | 3.50 | Forastero             | Ghana                |\n| 1692 | Valrhona               | Araguani                              |  117 | 2007 | 72% | France | 3.00 | Blend                 | Venezuela, Carribean |\n| 1693 | Valrhona               | Chuao 2002 P.                         |  129 | 2007 | 65% | France | 3.75 | Trinitario            | Venezuela            |\n| 1694 | Valrhona               | Manjari                               |  129 | 2007 | 64% | France | 4.00 | Criollo, Trinitario   | Madagascar           |\n| 1695 | Valrhona               | Le Noir Extra Amer                    |  147 | 2007 | 85% | France | 1.50 |                       |                      |\n| 1696 | Valrhona               | Abinao                                |  153 | 2007 | 85% | France | 2.50 | Forastero             | West Africa          |\n| 1697 | Valrhona               | Le Noir Amer                          |  157 | 2007 | 71% | France | 2.75 | Forastero             | West Africa          |\n| 1698 | Valrhona               | Porcelana, Maracaibo, Palmira P. 2006 |  162 | 2007 | 64% | France | 3.25 | Criollo (Porcelana)   | Venezuela            |\n| 1699 | Valrhona               | Caraibe                               |   63 | 2006 | 66% | France | 3.00 | Trinitario            | Carribean            |\n| 1700 | Valrhona               | Guanaja                               |   63 | 2006 | 70% | France | 4.00 | Criollo, Trinitario   | South America        |\n| 1701 | Valrhona               | Gran Couva 2005 P.                    |   75 | 2006 | 64% | France | 2.50 | Trinitario            | Trinidad             |\n| 1702 | Valrhona               | Porcelana, Maracaibo, Palmira P. 2005 |   75 | 2006 | 64% | France | 3.00 | Criollo (Porcelana)   | Venezuela            |\n| 1703 | Valrhona               | Sambirano, Ampamakia 2005, Millot P.  |   75 | 2006 | 64% | France | 3.50 | Trinitario            | Madagascar           |\n| 1719 | Vietcacao (A. Morin)   | Ben Tre, Mekong Delta, MoCay          |  951 | 2012 | 70% | France | 3.50 | Trinitario            | Vietnam              |\n\n",
            "text/latex": "A data.frame: 156 × 9\n\\begin{tabular}{r|lllllllll}\n  & Company...Maker.if.known. & Specific.Bean.Origin.or.Bar.Name & REF & Review.Date & Cocoa.Percent & Company.Location & Rating & Bean.Type & Broad.Bean.Origin\\\\\n  & <chr> & <chr> & <int> & <int> & <chr> & <chr> & <dbl> & <chr> & <chr>\\\\\n\\hline\n\t1 & A. Morin      & Agua Grande          & 1876 & 2016 & 63\\% & France & 3.75 &            & Sao Tome        \\\\\n\t2 & A. Morin      & Kpime                & 1676 & 2015 & 70\\% & France & 2.75 &            & Togo            \\\\\n\t3 & A. Morin      & Atsane               & 1676 & 2015 & 70\\% & France & 3.00 &            & Togo            \\\\\n\t4 & A. Morin      & Akata                & 1680 & 2015 & 70\\% & France & 3.50 &            & Togo            \\\\\n\t5 & A. Morin      & Quilla               & 1704 & 2015 & 70\\% & France & 3.50 &            & Peru            \\\\\n\t6 & A. Morin      & Carenero             & 1315 & 2014 & 70\\% & France & 2.75 & Criollo    & Venezuela       \\\\\n\t7 & A. Morin      & Cuba                 & 1315 & 2014 & 70\\% & France & 3.50 &            & Cuba            \\\\\n\t8 & A. Morin      & Sur del Lago         & 1315 & 2014 & 70\\% & France & 3.50 & Criollo    & Venezuela       \\\\\n\t9 & A. Morin      & Puerto Cabello       & 1319 & 2014 & 70\\% & France & 3.75 & Criollo    & Venezuela       \\\\\n\t10 & A. Morin      & Pablino              & 1319 & 2014 & 70\\% & France & 4.00 &            & Peru            \\\\\n\t11 & A. Morin      & Panama               & 1011 & 2013 & 70\\% & France & 2.75 &            & Panama          \\\\\n\t12 & A. Morin      & Madagascar           & 1011 & 2013 & 70\\% & France & 3.00 & Criollo    & Madagascar      \\\\\n\t13 & A. Morin      & Brazil               & 1011 & 2013 & 70\\% & France & 3.25 &            & Brazil          \\\\\n\t14 & A. Morin      & Equateur             & 1011 & 2013 & 70\\% & France & 3.75 &            & Ecuador         \\\\\n\t15 & A. Morin      & Colombie             & 1015 & 2013 & 70\\% & France & 2.75 &            & Colombia        \\\\\n\t16 & A. Morin      & Birmanie             & 1015 & 2013 & 70\\% & France & 3.00 &            & Burma           \\\\\n\t17 & A. Morin      & Papua New Guinea     & 1015 & 2013 & 70\\% & France & 3.25 &            & Papua New Guinea\\\\\n\t18 & A. Morin      & Chuao                & 1015 & 2013 & 70\\% & France & 4.00 & Trinitario & Venezuela       \\\\\n\t19 & A. Morin      & Piura                & 1019 & 2013 & 70\\% & France & 3.25 &            & Peru            \\\\\n\t20 & A. Morin      & Chanchamayo Province & 1019 & 2013 & 70\\% & France & 3.50 &            & Peru            \\\\\n\t21 & A. Morin      & Chanchamayo Province & 1019 & 2013 & 63\\% & France & 4.00 &            & Peru            \\\\\n\t22 & A. Morin      & Bolivia              &  797 & 2012 & 70\\% & France & 3.50 &            & Bolivia         \\\\\n\t23 & A. Morin      & Peru                 &  797 & 2012 & 63\\% & France & 3.75 &            & Peru            \\\\\n\t36 & Alain Ducasse & Trinite              & 1215 & 2014 & 65\\% & France & 2.75 & Trinitario & Trinidad        \\\\\n\t37 & Alain Ducasse & Vietnam              & 1215 & 2014 & 75\\% & France & 2.75 & Trinitario & Vietnam         \\\\\n\t38 & Alain Ducasse & Madagascar           & 1215 & 2014 & 75\\% & France & 3.00 & Trinitario & Madagascar      \\\\\n\t39 & Alain Ducasse & Chuao                & 1061 & 2013 & 75\\% & France & 2.50 & Trinitario & Venezuela       \\\\\n\t40 & Alain Ducasse & Piura, Perou         & 1173 & 2013 & 75\\% & France & 2.50 &            & Peru            \\\\\n\t96 & Ara           & Madagascar           & 1375 & 2014 & 75\\% & France & 3.00 & Trinitario & Madagascar      \\\\\n\t97 & Ara           & Chiapas              & 1379 & 2014 & 72\\% & France & 2.50 &            & Mexico          \\\\\n\t⋮ & ⋮ & ⋮ & ⋮ & ⋮ & ⋮ & ⋮ & ⋮ & ⋮ & ⋮\\\\\n\t1336 & Pralus                 & Fortissima                            &   93 & 2006 & 80\\% & France & 4.00 & Criollo, Trinitario   & Ecuador             \\\\\n\t1337 & Pralus                 & Cuba                                  &   99 & 2006 & 75\\% & France & 3.00 & Trinitario            & Cuba                \\\\\n\t1338 & Pralus                 & Caracas, Venezuela and Ghana          &   99 & 2006 & 75\\% & France & 3.00 & Trinitario, Forastero & Venezuela, Ghana    \\\\\n\t1339 & Pralus                 & Djakarta, Java and Ghana              &   99 & 2006 & 75\\% & France & 3.50 & Criollo, Forastero    & Indonesia, Ghana    \\\\\n\t1366 & Raoul Boulanger        & Piura                                 & 1872 & 2016 & 75\\% & France & 3.25 & Criollo               & Peru                \\\\\n\t1427 & Santome                & Sao Tome                              &  761 & 2011 & 70\\% & France & 2.75 & Forastero             & Sao Tome            \\\\\n\t1664 & Tobago Estate (Pralus) & Roxborough, Tobago                    &  895 & 2012 & 70\\% & France & 4.00 & Trinitario            & Tobago              \\\\\n\t1677 & Un Dimanche A Paris    & Dominican Republic                    &  709 & 2011 & 63\\% & France & 3.75 &                       & Dominican Republic  \\\\\n\t1683 & Valrhona               & Piura, Illanka, Quemazon              & 1510 & 2015 & 63\\% & France & 4.00 &                       & Peru                \\\\\n\t1684 & Valrhona               & Andoa, Grand Cru blend                & 1145 & 2013 & 70\\% & France & 3.50 &                       &                     \\\\\n\t1685 & Valrhona               & Loma Sotavento, 2013                  & 1153 & 2013 & 64\\% & France & 3.50 &                       & Dominican Republic  \\\\\n\t1686 & Valrhona               & Otucan, Grand Cru                     &  931 & 2012 & 69\\% & France & 4.00 &                       & Venezuela           \\\\\n\t1687 & Valrhona               & Caraque                               &  709 & 2011 & 56\\% & France & 3.25 &                       &                     \\\\\n\t1688 & Valrhona               & Porcelana, Pedegral                   &  757 & 2011 & 64\\% & France & 4.00 & Criollo               & Venezuela           \\\\\n\t1689 & Valrhona               & Tainori                               &  327 & 2009 & 64\\% & France & 3.75 &                       & Dominican Republic  \\\\\n\t1690 & Valrhona               & Alpaco                                &  370 & 2009 & 66\\% & France & 3.75 &                       & Ecuador             \\\\\n\t1691 & Valrhona               & Nyangbo                               &  395 & 2009 & 68\\% & France & 3.50 & Forastero             & Ghana               \\\\\n\t1692 & Valrhona               & Araguani                              &  117 & 2007 & 72\\% & France & 3.00 & Blend                 & Venezuela, Carribean\\\\\n\t1693 & Valrhona               & Chuao 2002 P.                         &  129 & 2007 & 65\\% & France & 3.75 & Trinitario            & Venezuela           \\\\\n\t1694 & Valrhona               & Manjari                               &  129 & 2007 & 64\\% & France & 4.00 & Criollo, Trinitario   & Madagascar          \\\\\n\t1695 & Valrhona               & Le Noir Extra Amer                    &  147 & 2007 & 85\\% & France & 1.50 &                       &                     \\\\\n\t1696 & Valrhona               & Abinao                                &  153 & 2007 & 85\\% & France & 2.50 & Forastero             & West Africa         \\\\\n\t1697 & Valrhona               & Le Noir Amer                          &  157 & 2007 & 71\\% & France & 2.75 & Forastero             & West Africa         \\\\\n\t1698 & Valrhona               & Porcelana, Maracaibo, Palmira P. 2006 &  162 & 2007 & 64\\% & France & 3.25 & Criollo (Porcelana)   & Venezuela           \\\\\n\t1699 & Valrhona               & Caraibe                               &   63 & 2006 & 66\\% & France & 3.00 & Trinitario            & Carribean           \\\\\n\t1700 & Valrhona               & Guanaja                               &   63 & 2006 & 70\\% & France & 4.00 & Criollo, Trinitario   & South America       \\\\\n\t1701 & Valrhona               & Gran Couva 2005 P.                    &   75 & 2006 & 64\\% & France & 2.50 & Trinitario            & Trinidad            \\\\\n\t1702 & Valrhona               & Porcelana, Maracaibo, Palmira P. 2005 &   75 & 2006 & 64\\% & France & 3.00 & Criollo (Porcelana)   & Venezuela           \\\\\n\t1703 & Valrhona               & Sambirano, Ampamakia 2005, Millot P.  &   75 & 2006 & 64\\% & France & 3.50 & Trinitario            & Madagascar          \\\\\n\t1719 & Vietcacao (A. Morin)   & Ben Tre, Mekong Delta, MoCay          &  951 & 2012 & 70\\% & France & 3.50 & Trinitario            & Vietnam             \\\\\n\\end{tabular}\n",
            "text/plain": [
              "     Company...Maker.if.known. Specific.Bean.Origin.or.Bar.Name      REF \n",
              "1    A. Morin                  Agua Grande                           1876\n",
              "2    A. Morin                  Kpime                                 1676\n",
              "3    A. Morin                  Atsane                                1676\n",
              "4    A. Morin                  Akata                                 1680\n",
              "5    A. Morin                  Quilla                                1704\n",
              "6    A. Morin                  Carenero                              1315\n",
              "7    A. Morin                  Cuba                                  1315\n",
              "8    A. Morin                  Sur del Lago                          1315\n",
              "9    A. Morin                  Puerto Cabello                        1319\n",
              "10   A. Morin                  Pablino                               1319\n",
              "11   A. Morin                  Panama                                1011\n",
              "12   A. Morin                  Madagascar                            1011\n",
              "13   A. Morin                  Brazil                                1011\n",
              "14   A. Morin                  Equateur                              1011\n",
              "15   A. Morin                  Colombie                              1015\n",
              "16   A. Morin                  Birmanie                              1015\n",
              "17   A. Morin                  Papua New Guinea                      1015\n",
              "18   A. Morin                  Chuao                                 1015\n",
              "19   A. Morin                  Piura                                 1019\n",
              "20   A. Morin                  Chanchamayo Province                  1019\n",
              "21   A. Morin                  Chanchamayo Province                  1019\n",
              "22   A. Morin                  Bolivia                                797\n",
              "23   A. Morin                  Peru                                   797\n",
              "36   Alain Ducasse             Trinite                               1215\n",
              "37   Alain Ducasse             Vietnam                               1215\n",
              "38   Alain Ducasse             Madagascar                            1215\n",
              "39   Alain Ducasse             Chuao                                 1061\n",
              "40   Alain Ducasse             Piura, Perou                          1173\n",
              "96   Ara                       Madagascar                            1375\n",
              "97   Ara                       Chiapas                               1379\n",
              "⋮    ⋮                         ⋮                                     ⋮   \n",
              "1336 Pralus                    Fortissima                              93\n",
              "1337 Pralus                    Cuba                                    99\n",
              "1338 Pralus                    Caracas, Venezuela and Ghana            99\n",
              "1339 Pralus                    Djakarta, Java and Ghana                99\n",
              "1366 Raoul Boulanger           Piura                                 1872\n",
              "1427 Santome                   Sao Tome                               761\n",
              "1664 Tobago Estate (Pralus)    Roxborough, Tobago                     895\n",
              "1677 Un Dimanche A Paris       Dominican Republic                     709\n",
              "1683 Valrhona                  Piura, Illanka, Quemazon              1510\n",
              "1684 Valrhona                  Andoa, Grand Cru blend                1145\n",
              "1685 Valrhona                  Loma Sotavento, 2013                  1153\n",
              "1686 Valrhona                  Otucan, Grand Cru                      931\n",
              "1687 Valrhona                  Caraque                                709\n",
              "1688 Valrhona                  Porcelana, Pedegral                    757\n",
              "1689 Valrhona                  Tainori                                327\n",
              "1690 Valrhona                  Alpaco                                 370\n",
              "1691 Valrhona                  Nyangbo                                395\n",
              "1692 Valrhona                  Araguani                               117\n",
              "1693 Valrhona                  Chuao 2002 P.                          129\n",
              "1694 Valrhona                  Manjari                                129\n",
              "1695 Valrhona                  Le Noir Extra Amer                     147\n",
              "1696 Valrhona                  Abinao                                 153\n",
              "1697 Valrhona                  Le Noir Amer                           157\n",
              "1698 Valrhona                  Porcelana, Maracaibo, Palmira P. 2006  162\n",
              "1699 Valrhona                  Caraibe                                 63\n",
              "1700 Valrhona                  Guanaja                                 63\n",
              "1701 Valrhona                  Gran Couva 2005 P.                      75\n",
              "1702 Valrhona                  Porcelana, Maracaibo, Palmira P. 2005   75\n",
              "1703 Valrhona                  Sambirano, Ampamakia 2005, Millot P.    75\n",
              "1719 Vietcacao (A. Morin)      Ben Tre, Mekong Delta, MoCay           951\n",
              "     Review.Date Cocoa.Percent Company.Location Rating Bean.Type            \n",
              "1    2016        63%           France           3.75                        \n",
              "2    2015        70%           France           2.75                        \n",
              "3    2015        70%           France           3.00                        \n",
              "4    2015        70%           France           3.50                        \n",
              "5    2015        70%           France           3.50                        \n",
              "6    2014        70%           France           2.75   Criollo              \n",
              "7    2014        70%           France           3.50                        \n",
              "8    2014        70%           France           3.50   Criollo              \n",
              "9    2014        70%           France           3.75   Criollo              \n",
              "10   2014        70%           France           4.00                        \n",
              "11   2013        70%           France           2.75                        \n",
              "12   2013        70%           France           3.00   Criollo              \n",
              "13   2013        70%           France           3.25                        \n",
              "14   2013        70%           France           3.75                        \n",
              "15   2013        70%           France           2.75                        \n",
              "16   2013        70%           France           3.00                        \n",
              "17   2013        70%           France           3.25                        \n",
              "18   2013        70%           France           4.00   Trinitario           \n",
              "19   2013        70%           France           3.25                        \n",
              "20   2013        70%           France           3.50                        \n",
              "21   2013        63%           France           4.00                        \n",
              "22   2012        70%           France           3.50                        \n",
              "23   2012        63%           France           3.75                        \n",
              "36   2014        65%           France           2.75   Trinitario           \n",
              "37   2014        75%           France           2.75   Trinitario           \n",
              "38   2014        75%           France           3.00   Trinitario           \n",
              "39   2013        75%           France           2.50   Trinitario           \n",
              "40   2013        75%           France           2.50                        \n",
              "96   2014        75%           France           3.00   Trinitario           \n",
              "97   2014        72%           France           2.50                        \n",
              "⋮    ⋮           ⋮             ⋮                ⋮      ⋮                    \n",
              "1336 2006        80%           France           4.00   Criollo, Trinitario  \n",
              "1337 2006        75%           France           3.00   Trinitario           \n",
              "1338 2006        75%           France           3.00   Trinitario, Forastero\n",
              "1339 2006        75%           France           3.50   Criollo, Forastero   \n",
              "1366 2016        75%           France           3.25   Criollo              \n",
              "1427 2011        70%           France           2.75   Forastero            \n",
              "1664 2012        70%           France           4.00   Trinitario           \n",
              "1677 2011        63%           France           3.75                        \n",
              "1683 2015        63%           France           4.00                        \n",
              "1684 2013        70%           France           3.50                        \n",
              "1685 2013        64%           France           3.50                        \n",
              "1686 2012        69%           France           4.00                        \n",
              "1687 2011        56%           France           3.25                        \n",
              "1688 2011        64%           France           4.00   Criollo              \n",
              "1689 2009        64%           France           3.75                        \n",
              "1690 2009        66%           France           3.75                        \n",
              "1691 2009        68%           France           3.50   Forastero            \n",
              "1692 2007        72%           France           3.00   Blend                \n",
              "1693 2007        65%           France           3.75   Trinitario           \n",
              "1694 2007        64%           France           4.00   Criollo, Trinitario  \n",
              "1695 2007        85%           France           1.50                        \n",
              "1696 2007        85%           France           2.50   Forastero            \n",
              "1697 2007        71%           France           2.75   Forastero            \n",
              "1698 2007        64%           France           3.25   Criollo (Porcelana)  \n",
              "1699 2006        66%           France           3.00   Trinitario           \n",
              "1700 2006        70%           France           4.00   Criollo, Trinitario  \n",
              "1701 2006        64%           France           2.50   Trinitario           \n",
              "1702 2006        64%           France           3.00   Criollo (Porcelana)  \n",
              "1703 2006        64%           France           3.50   Trinitario           \n",
              "1719 2012        70%           France           3.50   Trinitario           \n",
              "     Broad.Bean.Origin   \n",
              "1    Sao Tome            \n",
              "2    Togo                \n",
              "3    Togo                \n",
              "4    Togo                \n",
              "5    Peru                \n",
              "6    Venezuela           \n",
              "7    Cuba                \n",
              "8    Venezuela           \n",
              "9    Venezuela           \n",
              "10   Peru                \n",
              "11   Panama              \n",
              "12   Madagascar          \n",
              "13   Brazil              \n",
              "14   Ecuador             \n",
              "15   Colombia            \n",
              "16   Burma               \n",
              "17   Papua New Guinea    \n",
              "18   Venezuela           \n",
              "19   Peru                \n",
              "20   Peru                \n",
              "21   Peru                \n",
              "22   Bolivia             \n",
              "23   Peru                \n",
              "36   Trinidad            \n",
              "37   Vietnam             \n",
              "38   Madagascar          \n",
              "39   Venezuela           \n",
              "40   Peru                \n",
              "96   Madagascar          \n",
              "97   Mexico              \n",
              "⋮    ⋮                   \n",
              "1336 Ecuador             \n",
              "1337 Cuba                \n",
              "1338 Venezuela, Ghana    \n",
              "1339 Indonesia, Ghana    \n",
              "1366 Peru                \n",
              "1427 Sao Tome            \n",
              "1664 Tobago              \n",
              "1677 Dominican Republic  \n",
              "1683 Peru                \n",
              "1684                     \n",
              "1685 Dominican Republic  \n",
              "1686 Venezuela           \n",
              "1687                     \n",
              "1688 Venezuela           \n",
              "1689 Dominican Republic  \n",
              "1690 Ecuador             \n",
              "1691 Ghana               \n",
              "1692 Venezuela, Carribean\n",
              "1693 Venezuela           \n",
              "1694 Madagascar          \n",
              "1695                     \n",
              "1696 West Africa         \n",
              "1697 West Africa         \n",
              "1698 Venezuela           \n",
              "1699 Carribean           \n",
              "1700 South America       \n",
              "1701 Trinidad            \n",
              "1702 Venezuela           \n",
              "1703 Madagascar          \n",
              "1719 Vietnam             "
            ]
          },
          "metadata": {}
        }
      ]
    },
    {
      "cell_type": "code",
      "source": [
        "df_france = df[df$Company.Location == 'France',]"
      ],
      "metadata": {
        "id": "WzULg0vUroVn"
      },
      "execution_count": 243,
      "outputs": []
    },
    {
      "cell_type": "code",
      "source": [
        "df_canada = df[df$Company.Location == 'Canada',]"
      ],
      "metadata": {
        "id": "tuJybOUBwR0m"
      },
      "execution_count": 244,
      "outputs": []
    },
    {
      "cell_type": "code",
      "source": [
        "fu = z.test(x=df_france$Rating, y=df_usa$Rating, sigma.x=sd(df_france$Rating), sigma.y=sd(df_usa$Rating), alternative='t')\n",
        "fu"
      ],
      "metadata": {
        "colab": {
          "base_uri": "https://localhost:8080/",
          "height": 208
        },
        "id": "HEU1wGVnwzDe",
        "outputId": "daf8084e-fd46-4ce1-ec85-b67994c82a92"
      },
      "execution_count": 250,
      "outputs": [
        {
          "output_type": "display_data",
          "data": {
            "text/plain": [
              "\n",
              "\tTwo-sample z-Test\n",
              "\n",
              "data:  df_france$Rating and df_usa$Rating\n",
              "z = 2.0921, p-value = 0.03643\n",
              "alternative hypothesis: true difference in means is not equal to 0\n",
              "95 percent confidence interval:\n",
              " 0.006157441 0.188801614\n",
              "sample estimates:\n",
              "mean of x mean of y \n",
              " 3.251603  3.154123 \n"
            ]
          },
          "metadata": {}
        }
      ]
    },
    {
      "cell_type": "code",
      "source": [
        "cu = z.test(x=df_canada$Rating, y=df_usa$Rating, sigma.x=sd(df_canada$Rating), sigma.y=sd(df_usa$Rating), alternative='t')\n",
        "cu"
      ],
      "metadata": {
        "colab": {
          "base_uri": "https://localhost:8080/",
          "height": 208
        },
        "id": "DXl1Wlr-w8rO",
        "outputId": "cf366d37-dc06-469c-80e4-672f4db802d1"
      },
      "execution_count": 251,
      "outputs": [
        {
          "output_type": "display_data",
          "data": {
            "text/plain": [
              "\n",
              "\tTwo-sample z-Test\n",
              "\n",
              "data:  df_canada$Rating and df_usa$Rating\n",
              "z = 4.1306, p-value = 3.617e-05\n",
              "alternative hypothesis: true difference in means is not equal to 0\n",
              "95 percent confidence interval:\n",
              " 0.08927144 0.25048248\n",
              "sample estimates:\n",
              "mean of x mean of y \n",
              " 3.324000  3.154123 \n"
            ]
          },
          "metadata": {}
        }
      ]
    },
    {
      "cell_type": "code",
      "source": [
        "cf = z.test(x=df_canada$Rating, y=df_france$Rating, sigma.x=sd(df_canada$Rating), sigma.y=sd(df_france$Rating), alternative='t')\n",
        "cf"
      ],
      "metadata": {
        "colab": {
          "base_uri": "https://localhost:8080/",
          "height": 208
        },
        "id": "tq_-mEURxAce",
        "outputId": "20437248-186e-48f1-9b9c-a36e0f54cb96"
      },
      "execution_count": 252,
      "outputs": [
        {
          "output_type": "display_data",
          "data": {
            "text/plain": [
              "\n",
              "\tTwo-sample z-Test\n",
              "\n",
              "data:  df_canada$Rating and df_france$Rating\n",
              "z = 1.2507, p-value = 0.2111\n",
              "alternative hypothesis: true difference in means is not equal to 0\n",
              "95 percent confidence interval:\n",
              " -0.04106033  0.18585520\n",
              "sample estimates:\n",
              "mean of x mean of y \n",
              " 3.324000  3.251603 \n"
            ]
          },
          "metadata": {}
        }
      ]
    },
    {
      "cell_type": "code",
      "source": [
        "pvalues = c(fu$p.value, cu$p.value, cf$p.value)\n",
        "pvalues"
      ],
      "metadata": {
        "colab": {
          "base_uri": "https://localhost:8080/",
          "height": 34
        },
        "id": "DoyRkCwYxEr-",
        "outputId": "d1f8be13-e9d6-4f0b-bd4c-436d68ae2563"
      },
      "execution_count": 259,
      "outputs": [
        {
          "output_type": "display_data",
          "data": {
            "text/html": [
              "<style>\n",
              ".list-inline {list-style: none; margin:0; padding: 0}\n",
              ".list-inline>li {display: inline-block}\n",
              ".list-inline>li:not(:last-child)::after {content: \"\\00b7\"; padding: 0 .5ex}\n",
              "</style>\n",
              "<ol class=list-inline><li>0.0364281742528555</li><li>3.61748023258206e-05</li><li>0.211060878338522</li></ol>\n"
            ],
            "text/markdown": "1. 0.0364281742528555\n2. 3.61748023258206e-05\n3. 0.211060878338522\n\n\n",
            "text/latex": "\\begin{enumerate*}\n\\item 0.0364281742528555\n\\item 3.61748023258206e-05\n\\item 0.211060878338522\n\\end{enumerate*}\n",
            "text/plain": [
              "[1] 0.0364281743 0.0000361748 0.2110608783"
            ]
          },
          "metadata": {}
        }
      ]
    },
    {
      "cell_type": "code",
      "source": [
        "p.adjust(pvalues, method = 'bonferroni')"
      ],
      "metadata": {
        "colab": {
          "base_uri": "https://localhost:8080/",
          "height": 34
        },
        "id": "8Ia_paVUyChG",
        "outputId": "4d672647-b387-44dc-82bc-ce216360d92d"
      },
      "execution_count": 261,
      "outputs": [
        {
          "output_type": "display_data",
          "data": {
            "text/html": [
              "<style>\n",
              ".list-inline {list-style: none; margin:0; padding: 0}\n",
              ".list-inline>li {display: inline-block}\n",
              ".list-inline>li:not(:last-child)::after {content: \"\\00b7\"; padding: 0 .5ex}\n",
              "</style>\n",
              "<ol class=list-inline><li>0.109284522758567</li><li>0.000108524406977462</li><li>0.633182635015567</li></ol>\n"
            ],
            "text/markdown": "1. 0.109284522758567\n2. 0.000108524406977462\n3. 0.633182635015567\n\n\n",
            "text/latex": "\\begin{enumerate*}\n\\item 0.109284522758567\n\\item 0.000108524406977462\n\\item 0.633182635015567\n\\end{enumerate*}\n",
            "text/plain": [
              "[1] 0.1092845228 0.0001085244 0.6331826350"
            ]
          },
          "metadata": {}
        }
      ]
    },
    {
      "cell_type": "code",
      "source": [
        "df_bonf = df[as.logical((df$Company.Location == 'France') + (df$Company.Location == 'Canada') + (df$Company.Location == 'U.S.A.')),]"
      ],
      "metadata": {
        "id": "4HSH30bR0BVn"
      },
      "execution_count": 262,
      "outputs": []
    },
    {
      "cell_type": "code",
      "source": [
        "df_bonf"
      ],
      "metadata": {
        "colab": {
          "base_uri": "https://localhost:8080/",
          "height": 1000
        },
        "id": "jYbOLg1T0esM",
        "outputId": "847fb839-cdbe-4aed-ffed-79349c6fc84d"
      },
      "execution_count": 267,
      "outputs": [
        {
          "output_type": "display_data",
          "data": {
            "text/html": [
              "<table class=\"dataframe\">\n",
              "<caption>A data.frame: 1045 × 9</caption>\n",
              "<thead>\n",
              "\t<tr><th></th><th scope=col>Company...Maker.if.known.</th><th scope=col>Specific.Bean.Origin.or.Bar.Name</th><th scope=col>REF</th><th scope=col>Review.Date</th><th scope=col>Cocoa.Percent</th><th scope=col>Company.Location</th><th scope=col>Rating</th><th scope=col>Bean.Type</th><th scope=col>Broad.Bean.Origin</th></tr>\n",
              "\t<tr><th></th><th scope=col>&lt;chr&gt;</th><th scope=col>&lt;chr&gt;</th><th scope=col>&lt;int&gt;</th><th scope=col>&lt;int&gt;</th><th scope=col>&lt;chr&gt;</th><th scope=col>&lt;chr&gt;</th><th scope=col>&lt;dbl&gt;</th><th scope=col>&lt;chr&gt;</th><th scope=col>&lt;chr&gt;</th></tr>\n",
              "</thead>\n",
              "<tbody>\n",
              "\t<tr><th scope=row>1</th><td>A. Morin     </td><td>Agua Grande            </td><td>1876</td><td>2016</td><td>63%</td><td>France</td><td>3.75</td><td>          </td><td>Sao Tome        </td></tr>\n",
              "\t<tr><th scope=row>2</th><td>A. Morin     </td><td>Kpime                  </td><td>1676</td><td>2015</td><td>70%</td><td>France</td><td>2.75</td><td>          </td><td>Togo            </td></tr>\n",
              "\t<tr><th scope=row>3</th><td>A. Morin     </td><td>Atsane                 </td><td>1676</td><td>2015</td><td>70%</td><td>France</td><td>3.00</td><td>          </td><td>Togo            </td></tr>\n",
              "\t<tr><th scope=row>4</th><td>A. Morin     </td><td>Akata                  </td><td>1680</td><td>2015</td><td>70%</td><td>France</td><td>3.50</td><td>          </td><td>Togo            </td></tr>\n",
              "\t<tr><th scope=row>5</th><td>A. Morin     </td><td>Quilla                 </td><td>1704</td><td>2015</td><td>70%</td><td>France</td><td>3.50</td><td>          </td><td>Peru            </td></tr>\n",
              "\t<tr><th scope=row>6</th><td>A. Morin     </td><td>Carenero               </td><td>1315</td><td>2014</td><td>70%</td><td>France</td><td>2.75</td><td>Criollo   </td><td>Venezuela       </td></tr>\n",
              "\t<tr><th scope=row>7</th><td>A. Morin     </td><td>Cuba                   </td><td>1315</td><td>2014</td><td>70%</td><td>France</td><td>3.50</td><td>          </td><td>Cuba            </td></tr>\n",
              "\t<tr><th scope=row>8</th><td>A. Morin     </td><td>Sur del Lago           </td><td>1315</td><td>2014</td><td>70%</td><td>France</td><td>3.50</td><td>Criollo   </td><td>Venezuela       </td></tr>\n",
              "\t<tr><th scope=row>9</th><td>A. Morin     </td><td>Puerto Cabello         </td><td>1319</td><td>2014</td><td>70%</td><td>France</td><td>3.75</td><td>Criollo   </td><td>Venezuela       </td></tr>\n",
              "\t<tr><th scope=row>10</th><td>A. Morin     </td><td>Pablino                </td><td>1319</td><td>2014</td><td>70%</td><td>France</td><td>4.00</td><td>          </td><td>Peru            </td></tr>\n",
              "\t<tr><th scope=row>11</th><td>A. Morin     </td><td>Panama                 </td><td>1011</td><td>2013</td><td>70%</td><td>France</td><td>2.75</td><td>          </td><td>Panama          </td></tr>\n",
              "\t<tr><th scope=row>12</th><td>A. Morin     </td><td>Madagascar             </td><td>1011</td><td>2013</td><td>70%</td><td>France</td><td>3.00</td><td>Criollo   </td><td>Madagascar      </td></tr>\n",
              "\t<tr><th scope=row>13</th><td>A. Morin     </td><td>Brazil                 </td><td>1011</td><td>2013</td><td>70%</td><td>France</td><td>3.25</td><td>          </td><td>Brazil          </td></tr>\n",
              "\t<tr><th scope=row>14</th><td>A. Morin     </td><td>Equateur               </td><td>1011</td><td>2013</td><td>70%</td><td>France</td><td>3.75</td><td>          </td><td>Ecuador         </td></tr>\n",
              "\t<tr><th scope=row>15</th><td>A. Morin     </td><td>Colombie               </td><td>1015</td><td>2013</td><td>70%</td><td>France</td><td>2.75</td><td>          </td><td>Colombia        </td></tr>\n",
              "\t<tr><th scope=row>16</th><td>A. Morin     </td><td>Birmanie               </td><td>1015</td><td>2013</td><td>70%</td><td>France</td><td>3.00</td><td>          </td><td>Burma           </td></tr>\n",
              "\t<tr><th scope=row>17</th><td>A. Morin     </td><td>Papua New Guinea       </td><td>1015</td><td>2013</td><td>70%</td><td>France</td><td>3.25</td><td>          </td><td>Papua New Guinea</td></tr>\n",
              "\t<tr><th scope=row>18</th><td>A. Morin     </td><td>Chuao                  </td><td>1015</td><td>2013</td><td>70%</td><td>France</td><td>4.00</td><td>Trinitario</td><td>Venezuela       </td></tr>\n",
              "\t<tr><th scope=row>19</th><td>A. Morin     </td><td>Piura                  </td><td>1019</td><td>2013</td><td>70%</td><td>France</td><td>3.25</td><td>          </td><td>Peru            </td></tr>\n",
              "\t<tr><th scope=row>20</th><td>A. Morin     </td><td>Chanchamayo Province   </td><td>1019</td><td>2013</td><td>70%</td><td>France</td><td>3.50</td><td>          </td><td>Peru            </td></tr>\n",
              "\t<tr><th scope=row>21</th><td>A. Morin     </td><td>Chanchamayo Province   </td><td>1019</td><td>2013</td><td>63%</td><td>France</td><td>4.00</td><td>          </td><td>Peru            </td></tr>\n",
              "\t<tr><th scope=row>22</th><td>A. Morin     </td><td>Bolivia                </td><td> 797</td><td>2012</td><td>70%</td><td>France</td><td>3.50</td><td>          </td><td>Bolivia         </td></tr>\n",
              "\t<tr><th scope=row>23</th><td>A. Morin     </td><td>Peru                   </td><td> 797</td><td>2012</td><td>63%</td><td>France</td><td>3.75</td><td>          </td><td>Peru            </td></tr>\n",
              "\t<tr><th scope=row>24</th><td>Acalli       </td><td>Chulucanas, El Platanal</td><td>1462</td><td>2015</td><td>70%</td><td>U.S.A.</td><td>3.75</td><td>          </td><td>Peru            </td></tr>\n",
              "\t<tr><th scope=row>25</th><td>Acalli       </td><td>Tumbes, Norandino      </td><td>1470</td><td>2015</td><td>70%</td><td>U.S.A.</td><td>3.75</td><td>Criollo   </td><td>Peru            </td></tr>\n",
              "\t<tr><th scope=row>36</th><td>Alain Ducasse</td><td>Trinite                </td><td>1215</td><td>2014</td><td>65%</td><td>France</td><td>2.75</td><td>Trinitario</td><td>Trinidad        </td></tr>\n",
              "\t<tr><th scope=row>37</th><td>Alain Ducasse</td><td>Vietnam                </td><td>1215</td><td>2014</td><td>75%</td><td>France</td><td>2.75</td><td>Trinitario</td><td>Vietnam         </td></tr>\n",
              "\t<tr><th scope=row>38</th><td>Alain Ducasse</td><td>Madagascar             </td><td>1215</td><td>2014</td><td>75%</td><td>France</td><td>3.00</td><td>Trinitario</td><td>Madagascar      </td></tr>\n",
              "\t<tr><th scope=row>39</th><td>Alain Ducasse</td><td>Chuao                  </td><td>1061</td><td>2013</td><td>75%</td><td>France</td><td>2.50</td><td>Trinitario</td><td>Venezuela       </td></tr>\n",
              "\t<tr><th scope=row>40</th><td>Alain Ducasse</td><td>Piura, Perou           </td><td>1173</td><td>2013</td><td>75%</td><td>France</td><td>2.50</td><td>          </td><td>Peru            </td></tr>\n",
              "\t<tr><th scope=row>⋮</th><td>⋮</td><td>⋮</td><td>⋮</td><td>⋮</td><td>⋮</td><td>⋮</td><td>⋮</td><td>⋮</td><td>⋮</td></tr>\n",
              "\t<tr><th scope=row>1722</th><td>Vintage Plantations (Tulicorp)</td><td>Los Rios, Rancho Grande 2004/2007      </td><td> 153</td><td>2007</td><td>90%</td><td>U.S.A.</td><td>2.00</td><td>Forastero (Arriba)  </td><td>Ecuador           </td></tr>\n",
              "\t<tr><th scope=row>1723</th><td>Vintage Plantations (Tulicorp)</td><td>Los Rios, Rancho Grande 2004/2007      </td><td> 153</td><td>2007</td><td>75%</td><td>U.S.A.</td><td>3.00</td><td>Forastero (Arriba)  </td><td>Ecuador           </td></tr>\n",
              "\t<tr><th scope=row>1724</th><td>Vintage Plantations (Tulicorp)</td><td>Los Rios, Rancho Grande 2007           </td><td> 153</td><td>2007</td><td>65%</td><td>U.S.A.</td><td>3.00</td><td>Forastero (Arriba)  </td><td>Ecuador           </td></tr>\n",
              "\t<tr><th scope=row>1725</th><td>Violet Sky                    </td><td>Sambirano Valley                       </td><td>1458</td><td>2015</td><td>77%</td><td>U.S.A.</td><td>2.75</td><td>Trinitario          </td><td>Madagascar        </td></tr>\n",
              "\t<tr><th scope=row>1726</th><td>Violet Sky                    </td><td>Moho River Valley                      </td><td>1458</td><td>2015</td><td>77%</td><td>U.S.A.</td><td>3.00</td><td>Criollo, Trinitario </td><td>Belize            </td></tr>\n",
              "\t<tr><th scope=row>1727</th><td>Violet Sky                    </td><td>Cuyagua                                </td><td>1458</td><td>2015</td><td>77%</td><td>U.S.A.</td><td>3.00</td><td>Criollo             </td><td>Venezuela         </td></tr>\n",
              "\t<tr><th scope=row>1728</th><td>Violet Sky                    </td><td>Peru                                   </td><td>1458</td><td>2015</td><td>77%</td><td>U.S.A.</td><td>3.25</td><td>Criollo, Trinitario </td><td>Peru              </td></tr>\n",
              "\t<tr><th scope=row>1729</th><td>Violet Sky                    </td><td>Cahabon                                </td><td>1502</td><td>2015</td><td>77%</td><td>U.S.A.</td><td>2.75</td><td>Trinitario          </td><td>Guatemala         </td></tr>\n",
              "\t<tr><th scope=row>1730</th><td>Vivra                         </td><td>Peru                                   </td><td>1720</td><td>2016</td><td>70%</td><td>U.S.A.</td><td>2.50</td><td>                    </td><td>Peru              </td></tr>\n",
              "\t<tr><th scope=row>1731</th><td>Vivra                         </td><td>Ocumare                                </td><td>1720</td><td>2016</td><td>70%</td><td>U.S.A.</td><td>2.50</td><td>                    </td><td>Venezuela         </td></tr>\n",
              "\t<tr><th scope=row>1732</th><td>Vivra                         </td><td>Dominican Republic                     </td><td>1724</td><td>2016</td><td>70%</td><td>U.S.A.</td><td>3.00</td><td>                    </td><td>Domincan Republic </td></tr>\n",
              "\t<tr><th scope=row>1748</th><td>Wm                            </td><td>Guasare, Zulia Prov., 2015, batch 124  </td><td>1912</td><td>2016</td><td>74%</td><td>U.S.A.</td><td>3.00</td><td>Criollo             </td><td>Venezuela         </td></tr>\n",
              "\t<tr><th scope=row>1749</th><td>Wm                            </td><td>Wild Beniano, 2016, batch 128, Heirloom</td><td>1912</td><td>2016</td><td>76%</td><td>U.S.A.</td><td>3.50</td><td>                    </td><td>Bolivia           </td></tr>\n",
              "\t<tr><th scope=row>1750</th><td>Wm                            </td><td>Ghana, 2013, batch 129                 </td><td>1916</td><td>2016</td><td>75%</td><td>U.S.A.</td><td>3.75</td><td>                    </td><td>Ghana             </td></tr>\n",
              "\t<tr><th scope=row>1751</th><td>Woodblock                     </td><td>Maranon, Cajamarca                     </td><td>1243</td><td>2014</td><td>70%</td><td>U.S.A.</td><td>3.00</td><td>Forastero (Nacional)</td><td>Peru              </td></tr>\n",
              "\t<tr><th scope=row>1752</th><td>Woodblock                     </td><td>Camino Verde P., Balao, Guayas         </td><td>1042</td><td>2013</td><td>70%</td><td>U.S.A.</td><td>3.25</td><td>                    </td><td>Ecuador           </td></tr>\n",
              "\t<tr><th scope=row>1753</th><td>Woodblock                     </td><td>Gran Couva                             </td><td>1042</td><td>2013</td><td>70%</td><td>U.S.A.</td><td>3.50</td><td>Trinitario          </td><td>Trinidad          </td></tr>\n",
              "\t<tr><th scope=row>1754</th><td>Woodblock                     </td><td>Ecuador                                </td><td> 825</td><td>2012</td><td>70%</td><td>U.S.A.</td><td>2.50</td><td>                    </td><td>Ecuador           </td></tr>\n",
              "\t<tr><th scope=row>1755</th><td>Woodblock                     </td><td>Costa Rica                             </td><td> 825</td><td>2012</td><td>70%</td><td>U.S.A.</td><td>3.00</td><td>                    </td><td>Costa Rica        </td></tr>\n",
              "\t<tr><th scope=row>1756</th><td>Woodblock                     </td><td>Sambirano                              </td><td> 951</td><td>2012</td><td>70%</td><td>U.S.A.</td><td>3.25</td><td>Trinitario          </td><td>Madagascar        </td></tr>\n",
              "\t<tr><th scope=row>1757</th><td>Woodblock                     </td><td>Ocumare                                </td><td> 741</td><td>2011</td><td>70%</td><td>U.S.A.</td><td>4.00</td><td>                    </td><td>Venezuela         </td></tr>\n",
              "\t<tr><th scope=row>1758</th><td>Woodblock                     </td><td>La Red                                 </td><td> 769</td><td>2011</td><td>70%</td><td>U.S.A.</td><td>3.50</td><td>                    </td><td>Dominican Republic</td></tr>\n",
              "\t<tr><th scope=row>1760</th><td>Xocolla                       </td><td>Sambirano, batch 170102                </td><td>1948</td><td>2017</td><td>70%</td><td>U.S.A.</td><td>2.75</td><td>                    </td><td>Madagascar        </td></tr>\n",
              "\t<tr><th scope=row>1761</th><td>Xocolla                       </td><td>Hispaniola, batch 170104               </td><td>1948</td><td>2017</td><td>70%</td><td>U.S.A.</td><td>2.50</td><td>                    </td><td>Dominican Republic</td></tr>\n",
              "\t<tr><th scope=row>1762</th><td>Zak's                         </td><td>Papua New Guinea, Batch 2              </td><td>1574</td><td>2015</td><td>70%</td><td>U.S.A.</td><td>3.00</td><td>                    </td><td>Papua New Guinea  </td></tr>\n",
              "\t<tr><th scope=row>1763</th><td>Zak's                         </td><td>Dominican Republic, Batch D2           </td><td>1578</td><td>2015</td><td>70%</td><td>U.S.A.</td><td>3.25</td><td>                    </td><td>Domincan Republic </td></tr>\n",
              "\t<tr><th scope=row>1764</th><td>Zak's                         </td><td>Madagascar, Batch 2                    </td><td>1578</td><td>2015</td><td>70%</td><td>U.S.A.</td><td>3.25</td><td>Trinitario          </td><td>Madagascar        </td></tr>\n",
              "\t<tr><th scope=row>1765</th><td>Zak's                         </td><td>Peru, Batch 1                          </td><td>1578</td><td>2015</td><td>70%</td><td>U.S.A.</td><td>3.25</td><td>                    </td><td>Peru              </td></tr>\n",
              "\t<tr><th scope=row>1766</th><td>Zak's                         </td><td>Belize, Batch 2                        </td><td>1578</td><td>2015</td><td>70%</td><td>U.S.A.</td><td>3.50</td><td>Trinitario          </td><td>Belize            </td></tr>\n",
              "\t<tr><th scope=row>1767</th><td>Zak's                         </td><td>House Blend, Batch 2                   </td><td>1582</td><td>2015</td><td>60%</td><td>U.S.A.</td><td>3.00</td><td>                    </td><td>                  </td></tr>\n",
              "</tbody>\n",
              "</table>\n"
            ],
            "text/markdown": "\nA data.frame: 1045 × 9\n\n| <!--/--> | Company...Maker.if.known. &lt;chr&gt; | Specific.Bean.Origin.or.Bar.Name &lt;chr&gt; | REF &lt;int&gt; | Review.Date &lt;int&gt; | Cocoa.Percent &lt;chr&gt; | Company.Location &lt;chr&gt; | Rating &lt;dbl&gt; | Bean.Type &lt;chr&gt; | Broad.Bean.Origin &lt;chr&gt; |\n|---|---|---|---|---|---|---|---|---|---|\n| 1 | A. Morin      | Agua Grande             | 1876 | 2016 | 63% | France | 3.75 |            | Sao Tome         |\n| 2 | A. Morin      | Kpime                   | 1676 | 2015 | 70% | France | 2.75 |            | Togo             |\n| 3 | A. Morin      | Atsane                  | 1676 | 2015 | 70% | France | 3.00 |            | Togo             |\n| 4 | A. Morin      | Akata                   | 1680 | 2015 | 70% | France | 3.50 |            | Togo             |\n| 5 | A. Morin      | Quilla                  | 1704 | 2015 | 70% | France | 3.50 |            | Peru             |\n| 6 | A. Morin      | Carenero                | 1315 | 2014 | 70% | France | 2.75 | Criollo    | Venezuela        |\n| 7 | A. Morin      | Cuba                    | 1315 | 2014 | 70% | France | 3.50 |            | Cuba             |\n| 8 | A. Morin      | Sur del Lago            | 1315 | 2014 | 70% | France | 3.50 | Criollo    | Venezuela        |\n| 9 | A. Morin      | Puerto Cabello          | 1319 | 2014 | 70% | France | 3.75 | Criollo    | Venezuela        |\n| 10 | A. Morin      | Pablino                 | 1319 | 2014 | 70% | France | 4.00 |            | Peru             |\n| 11 | A. Morin      | Panama                  | 1011 | 2013 | 70% | France | 2.75 |            | Panama           |\n| 12 | A. Morin      | Madagascar              | 1011 | 2013 | 70% | France | 3.00 | Criollo    | Madagascar       |\n| 13 | A. Morin      | Brazil                  | 1011 | 2013 | 70% | France | 3.25 |            | Brazil           |\n| 14 | A. Morin      | Equateur                | 1011 | 2013 | 70% | France | 3.75 |            | Ecuador          |\n| 15 | A. Morin      | Colombie                | 1015 | 2013 | 70% | France | 2.75 |            | Colombia         |\n| 16 | A. Morin      | Birmanie                | 1015 | 2013 | 70% | France | 3.00 |            | Burma            |\n| 17 | A. Morin      | Papua New Guinea        | 1015 | 2013 | 70% | France | 3.25 |            | Papua New Guinea |\n| 18 | A. Morin      | Chuao                   | 1015 | 2013 | 70% | France | 4.00 | Trinitario | Venezuela        |\n| 19 | A. Morin      | Piura                   | 1019 | 2013 | 70% | France | 3.25 |            | Peru             |\n| 20 | A. Morin      | Chanchamayo Province    | 1019 | 2013 | 70% | France | 3.50 |            | Peru             |\n| 21 | A. Morin      | Chanchamayo Province    | 1019 | 2013 | 63% | France | 4.00 |            | Peru             |\n| 22 | A. Morin      | Bolivia                 |  797 | 2012 | 70% | France | 3.50 |            | Bolivia          |\n| 23 | A. Morin      | Peru                    |  797 | 2012 | 63% | France | 3.75 |            | Peru             |\n| 24 | Acalli        | Chulucanas, El Platanal | 1462 | 2015 | 70% | U.S.A. | 3.75 |            | Peru             |\n| 25 | Acalli        | Tumbes, Norandino       | 1470 | 2015 | 70% | U.S.A. | 3.75 | Criollo    | Peru             |\n| 36 | Alain Ducasse | Trinite                 | 1215 | 2014 | 65% | France | 2.75 | Trinitario | Trinidad         |\n| 37 | Alain Ducasse | Vietnam                 | 1215 | 2014 | 75% | France | 2.75 | Trinitario | Vietnam          |\n| 38 | Alain Ducasse | Madagascar              | 1215 | 2014 | 75% | France | 3.00 | Trinitario | Madagascar       |\n| 39 | Alain Ducasse | Chuao                   | 1061 | 2013 | 75% | France | 2.50 | Trinitario | Venezuela        |\n| 40 | Alain Ducasse | Piura, Perou            | 1173 | 2013 | 75% | France | 2.50 |            | Peru             |\n| ⋮ | ⋮ | ⋮ | ⋮ | ⋮ | ⋮ | ⋮ | ⋮ | ⋮ | ⋮ |\n| 1722 | Vintage Plantations (Tulicorp) | Los Rios, Rancho Grande 2004/2007       |  153 | 2007 | 90% | U.S.A. | 2.00 | Forastero (Arriba)   | Ecuador            |\n| 1723 | Vintage Plantations (Tulicorp) | Los Rios, Rancho Grande 2004/2007       |  153 | 2007 | 75% | U.S.A. | 3.00 | Forastero (Arriba)   | Ecuador            |\n| 1724 | Vintage Plantations (Tulicorp) | Los Rios, Rancho Grande 2007            |  153 | 2007 | 65% | U.S.A. | 3.00 | Forastero (Arriba)   | Ecuador            |\n| 1725 | Violet Sky                     | Sambirano Valley                        | 1458 | 2015 | 77% | U.S.A. | 2.75 | Trinitario           | Madagascar         |\n| 1726 | Violet Sky                     | Moho River Valley                       | 1458 | 2015 | 77% | U.S.A. | 3.00 | Criollo, Trinitario  | Belize             |\n| 1727 | Violet Sky                     | Cuyagua                                 | 1458 | 2015 | 77% | U.S.A. | 3.00 | Criollo              | Venezuela          |\n| 1728 | Violet Sky                     | Peru                                    | 1458 | 2015 | 77% | U.S.A. | 3.25 | Criollo, Trinitario  | Peru               |\n| 1729 | Violet Sky                     | Cahabon                                 | 1502 | 2015 | 77% | U.S.A. | 2.75 | Trinitario           | Guatemala          |\n| 1730 | Vivra                          | Peru                                    | 1720 | 2016 | 70% | U.S.A. | 2.50 |                      | Peru               |\n| 1731 | Vivra                          | Ocumare                                 | 1720 | 2016 | 70% | U.S.A. | 2.50 |                      | Venezuela          |\n| 1732 | Vivra                          | Dominican Republic                      | 1724 | 2016 | 70% | U.S.A. | 3.00 |                      | Domincan Republic  |\n| 1748 | Wm                             | Guasare, Zulia Prov., 2015, batch 124   | 1912 | 2016 | 74% | U.S.A. | 3.00 | Criollo              | Venezuela          |\n| 1749 | Wm                             | Wild Beniano, 2016, batch 128, Heirloom | 1912 | 2016 | 76% | U.S.A. | 3.50 |                      | Bolivia            |\n| 1750 | Wm                             | Ghana, 2013, batch 129                  | 1916 | 2016 | 75% | U.S.A. | 3.75 |                      | Ghana              |\n| 1751 | Woodblock                      | Maranon, Cajamarca                      | 1243 | 2014 | 70% | U.S.A. | 3.00 | Forastero (Nacional) | Peru               |\n| 1752 | Woodblock                      | Camino Verde P., Balao, Guayas          | 1042 | 2013 | 70% | U.S.A. | 3.25 |                      | Ecuador            |\n| 1753 | Woodblock                      | Gran Couva                              | 1042 | 2013 | 70% | U.S.A. | 3.50 | Trinitario           | Trinidad           |\n| 1754 | Woodblock                      | Ecuador                                 |  825 | 2012 | 70% | U.S.A. | 2.50 |                      | Ecuador            |\n| 1755 | Woodblock                      | Costa Rica                              |  825 | 2012 | 70% | U.S.A. | 3.00 |                      | Costa Rica         |\n| 1756 | Woodblock                      | Sambirano                               |  951 | 2012 | 70% | U.S.A. | 3.25 | Trinitario           | Madagascar         |\n| 1757 | Woodblock                      | Ocumare                                 |  741 | 2011 | 70% | U.S.A. | 4.00 |                      | Venezuela          |\n| 1758 | Woodblock                      | La Red                                  |  769 | 2011 | 70% | U.S.A. | 3.50 |                      | Dominican Republic |\n| 1760 | Xocolla                        | Sambirano, batch 170102                 | 1948 | 2017 | 70% | U.S.A. | 2.75 |                      | Madagascar         |\n| 1761 | Xocolla                        | Hispaniola, batch 170104                | 1948 | 2017 | 70% | U.S.A. | 2.50 |                      | Dominican Republic |\n| 1762 | Zak's                          | Papua New Guinea, Batch 2               | 1574 | 2015 | 70% | U.S.A. | 3.00 |                      | Papua New Guinea   |\n| 1763 | Zak's                          | Dominican Republic, Batch D2            | 1578 | 2015 | 70% | U.S.A. | 3.25 |                      | Domincan Republic  |\n| 1764 | Zak's                          | Madagascar, Batch 2                     | 1578 | 2015 | 70% | U.S.A. | 3.25 | Trinitario           | Madagascar         |\n| 1765 | Zak's                          | Peru, Batch 1                           | 1578 | 2015 | 70% | U.S.A. | 3.25 |                      | Peru               |\n| 1766 | Zak's                          | Belize, Batch 2                         | 1578 | 2015 | 70% | U.S.A. | 3.50 | Trinitario           | Belize             |\n| 1767 | Zak's                          | House Blend, Batch 2                    | 1582 | 2015 | 60% | U.S.A. | 3.00 |                      |                    |\n\n",
            "text/latex": "A data.frame: 1045 × 9\n\\begin{tabular}{r|lllllllll}\n  & Company...Maker.if.known. & Specific.Bean.Origin.or.Bar.Name & REF & Review.Date & Cocoa.Percent & Company.Location & Rating & Bean.Type & Broad.Bean.Origin\\\\\n  & <chr> & <chr> & <int> & <int> & <chr> & <chr> & <dbl> & <chr> & <chr>\\\\\n\\hline\n\t1 & A. Morin      & Agua Grande             & 1876 & 2016 & 63\\% & France & 3.75 &            & Sao Tome        \\\\\n\t2 & A. Morin      & Kpime                   & 1676 & 2015 & 70\\% & France & 2.75 &            & Togo            \\\\\n\t3 & A. Morin      & Atsane                  & 1676 & 2015 & 70\\% & France & 3.00 &            & Togo            \\\\\n\t4 & A. Morin      & Akata                   & 1680 & 2015 & 70\\% & France & 3.50 &            & Togo            \\\\\n\t5 & A. Morin      & Quilla                  & 1704 & 2015 & 70\\% & France & 3.50 &            & Peru            \\\\\n\t6 & A. Morin      & Carenero                & 1315 & 2014 & 70\\% & France & 2.75 & Criollo    & Venezuela       \\\\\n\t7 & A. Morin      & Cuba                    & 1315 & 2014 & 70\\% & France & 3.50 &            & Cuba            \\\\\n\t8 & A. Morin      & Sur del Lago            & 1315 & 2014 & 70\\% & France & 3.50 & Criollo    & Venezuela       \\\\\n\t9 & A. Morin      & Puerto Cabello          & 1319 & 2014 & 70\\% & France & 3.75 & Criollo    & Venezuela       \\\\\n\t10 & A. Morin      & Pablino                 & 1319 & 2014 & 70\\% & France & 4.00 &            & Peru            \\\\\n\t11 & A. Morin      & Panama                  & 1011 & 2013 & 70\\% & France & 2.75 &            & Panama          \\\\\n\t12 & A. Morin      & Madagascar              & 1011 & 2013 & 70\\% & France & 3.00 & Criollo    & Madagascar      \\\\\n\t13 & A. Morin      & Brazil                  & 1011 & 2013 & 70\\% & France & 3.25 &            & Brazil          \\\\\n\t14 & A. Morin      & Equateur                & 1011 & 2013 & 70\\% & France & 3.75 &            & Ecuador         \\\\\n\t15 & A. Morin      & Colombie                & 1015 & 2013 & 70\\% & France & 2.75 &            & Colombia        \\\\\n\t16 & A. Morin      & Birmanie                & 1015 & 2013 & 70\\% & France & 3.00 &            & Burma           \\\\\n\t17 & A. Morin      & Papua New Guinea        & 1015 & 2013 & 70\\% & France & 3.25 &            & Papua New Guinea\\\\\n\t18 & A. Morin      & Chuao                   & 1015 & 2013 & 70\\% & France & 4.00 & Trinitario & Venezuela       \\\\\n\t19 & A. Morin      & Piura                   & 1019 & 2013 & 70\\% & France & 3.25 &            & Peru            \\\\\n\t20 & A. Morin      & Chanchamayo Province    & 1019 & 2013 & 70\\% & France & 3.50 &            & Peru            \\\\\n\t21 & A. Morin      & Chanchamayo Province    & 1019 & 2013 & 63\\% & France & 4.00 &            & Peru            \\\\\n\t22 & A. Morin      & Bolivia                 &  797 & 2012 & 70\\% & France & 3.50 &            & Bolivia         \\\\\n\t23 & A. Morin      & Peru                    &  797 & 2012 & 63\\% & France & 3.75 &            & Peru            \\\\\n\t24 & Acalli        & Chulucanas, El Platanal & 1462 & 2015 & 70\\% & U.S.A. & 3.75 &            & Peru            \\\\\n\t25 & Acalli        & Tumbes, Norandino       & 1470 & 2015 & 70\\% & U.S.A. & 3.75 & Criollo    & Peru            \\\\\n\t36 & Alain Ducasse & Trinite                 & 1215 & 2014 & 65\\% & France & 2.75 & Trinitario & Trinidad        \\\\\n\t37 & Alain Ducasse & Vietnam                 & 1215 & 2014 & 75\\% & France & 2.75 & Trinitario & Vietnam         \\\\\n\t38 & Alain Ducasse & Madagascar              & 1215 & 2014 & 75\\% & France & 3.00 & Trinitario & Madagascar      \\\\\n\t39 & Alain Ducasse & Chuao                   & 1061 & 2013 & 75\\% & France & 2.50 & Trinitario & Venezuela       \\\\\n\t40 & Alain Ducasse & Piura, Perou            & 1173 & 2013 & 75\\% & France & 2.50 &            & Peru            \\\\\n\t⋮ & ⋮ & ⋮ & ⋮ & ⋮ & ⋮ & ⋮ & ⋮ & ⋮ & ⋮\\\\\n\t1722 & Vintage Plantations (Tulicorp) & Los Rios, Rancho Grande 2004/2007       &  153 & 2007 & 90\\% & U.S.A. & 2.00 & Forastero (Arriba)   & Ecuador           \\\\\n\t1723 & Vintage Plantations (Tulicorp) & Los Rios, Rancho Grande 2004/2007       &  153 & 2007 & 75\\% & U.S.A. & 3.00 & Forastero (Arriba)   & Ecuador           \\\\\n\t1724 & Vintage Plantations (Tulicorp) & Los Rios, Rancho Grande 2007            &  153 & 2007 & 65\\% & U.S.A. & 3.00 & Forastero (Arriba)   & Ecuador           \\\\\n\t1725 & Violet Sky                     & Sambirano Valley                        & 1458 & 2015 & 77\\% & U.S.A. & 2.75 & Trinitario           & Madagascar        \\\\\n\t1726 & Violet Sky                     & Moho River Valley                       & 1458 & 2015 & 77\\% & U.S.A. & 3.00 & Criollo, Trinitario  & Belize            \\\\\n\t1727 & Violet Sky                     & Cuyagua                                 & 1458 & 2015 & 77\\% & U.S.A. & 3.00 & Criollo              & Venezuela         \\\\\n\t1728 & Violet Sky                     & Peru                                    & 1458 & 2015 & 77\\% & U.S.A. & 3.25 & Criollo, Trinitario  & Peru              \\\\\n\t1729 & Violet Sky                     & Cahabon                                 & 1502 & 2015 & 77\\% & U.S.A. & 2.75 & Trinitario           & Guatemala         \\\\\n\t1730 & Vivra                          & Peru                                    & 1720 & 2016 & 70\\% & U.S.A. & 2.50 &                      & Peru              \\\\\n\t1731 & Vivra                          & Ocumare                                 & 1720 & 2016 & 70\\% & U.S.A. & 2.50 &                      & Venezuela         \\\\\n\t1732 & Vivra                          & Dominican Republic                      & 1724 & 2016 & 70\\% & U.S.A. & 3.00 &                      & Domincan Republic \\\\\n\t1748 & Wm                             & Guasare, Zulia Prov., 2015, batch 124   & 1912 & 2016 & 74\\% & U.S.A. & 3.00 & Criollo              & Venezuela         \\\\\n\t1749 & Wm                             & Wild Beniano, 2016, batch 128, Heirloom & 1912 & 2016 & 76\\% & U.S.A. & 3.50 &                      & Bolivia           \\\\\n\t1750 & Wm                             & Ghana, 2013, batch 129                  & 1916 & 2016 & 75\\% & U.S.A. & 3.75 &                      & Ghana             \\\\\n\t1751 & Woodblock                      & Maranon, Cajamarca                      & 1243 & 2014 & 70\\% & U.S.A. & 3.00 & Forastero (Nacional) & Peru              \\\\\n\t1752 & Woodblock                      & Camino Verde P., Balao, Guayas          & 1042 & 2013 & 70\\% & U.S.A. & 3.25 &                      & Ecuador           \\\\\n\t1753 & Woodblock                      & Gran Couva                              & 1042 & 2013 & 70\\% & U.S.A. & 3.50 & Trinitario           & Trinidad          \\\\\n\t1754 & Woodblock                      & Ecuador                                 &  825 & 2012 & 70\\% & U.S.A. & 2.50 &                      & Ecuador           \\\\\n\t1755 & Woodblock                      & Costa Rica                              &  825 & 2012 & 70\\% & U.S.A. & 3.00 &                      & Costa Rica        \\\\\n\t1756 & Woodblock                      & Sambirano                               &  951 & 2012 & 70\\% & U.S.A. & 3.25 & Trinitario           & Madagascar        \\\\\n\t1757 & Woodblock                      & Ocumare                                 &  741 & 2011 & 70\\% & U.S.A. & 4.00 &                      & Venezuela         \\\\\n\t1758 & Woodblock                      & La Red                                  &  769 & 2011 & 70\\% & U.S.A. & 3.50 &                      & Dominican Republic\\\\\n\t1760 & Xocolla                        & Sambirano, batch 170102                 & 1948 & 2017 & 70\\% & U.S.A. & 2.75 &                      & Madagascar        \\\\\n\t1761 & Xocolla                        & Hispaniola, batch 170104                & 1948 & 2017 & 70\\% & U.S.A. & 2.50 &                      & Dominican Republic\\\\\n\t1762 & Zak's                          & Papua New Guinea, Batch 2               & 1574 & 2015 & 70\\% & U.S.A. & 3.00 &                      & Papua New Guinea  \\\\\n\t1763 & Zak's                          & Dominican Republic, Batch D2            & 1578 & 2015 & 70\\% & U.S.A. & 3.25 &                      & Domincan Republic \\\\\n\t1764 & Zak's                          & Madagascar, Batch 2                     & 1578 & 2015 & 70\\% & U.S.A. & 3.25 & Trinitario           & Madagascar        \\\\\n\t1765 & Zak's                          & Peru, Batch 1                           & 1578 & 2015 & 70\\% & U.S.A. & 3.25 &                      & Peru              \\\\\n\t1766 & Zak's                          & Belize, Batch 2                         & 1578 & 2015 & 70\\% & U.S.A. & 3.50 & Trinitario           & Belize            \\\\\n\t1767 & Zak's                          & House Blend, Batch 2                    & 1582 & 2015 & 60\\% & U.S.A. & 3.00 &                      &                   \\\\\n\\end{tabular}\n",
            "text/plain": [
              "     Company...Maker.if.known.      Specific.Bean.Origin.or.Bar.Name       \n",
              "1    A. Morin                       Agua Grande                            \n",
              "2    A. Morin                       Kpime                                  \n",
              "3    A. Morin                       Atsane                                 \n",
              "4    A. Morin                       Akata                                  \n",
              "5    A. Morin                       Quilla                                 \n",
              "6    A. Morin                       Carenero                               \n",
              "7    A. Morin                       Cuba                                   \n",
              "8    A. Morin                       Sur del Lago                           \n",
              "9    A. Morin                       Puerto Cabello                         \n",
              "10   A. Morin                       Pablino                                \n",
              "11   A. Morin                       Panama                                 \n",
              "12   A. Morin                       Madagascar                             \n",
              "13   A. Morin                       Brazil                                 \n",
              "14   A. Morin                       Equateur                               \n",
              "15   A. Morin                       Colombie                               \n",
              "16   A. Morin                       Birmanie                               \n",
              "17   A. Morin                       Papua New Guinea                       \n",
              "18   A. Morin                       Chuao                                  \n",
              "19   A. Morin                       Piura                                  \n",
              "20   A. Morin                       Chanchamayo Province                   \n",
              "21   A. Morin                       Chanchamayo Province                   \n",
              "22   A. Morin                       Bolivia                                \n",
              "23   A. Morin                       Peru                                   \n",
              "24   Acalli                         Chulucanas, El Platanal                \n",
              "25   Acalli                         Tumbes, Norandino                      \n",
              "36   Alain Ducasse                  Trinite                                \n",
              "37   Alain Ducasse                  Vietnam                                \n",
              "38   Alain Ducasse                  Madagascar                             \n",
              "39   Alain Ducasse                  Chuao                                  \n",
              "40   Alain Ducasse                  Piura, Perou                           \n",
              "⋮    ⋮                              ⋮                                      \n",
              "1722 Vintage Plantations (Tulicorp) Los Rios, Rancho Grande 2004/2007      \n",
              "1723 Vintage Plantations (Tulicorp) Los Rios, Rancho Grande 2004/2007      \n",
              "1724 Vintage Plantations (Tulicorp) Los Rios, Rancho Grande 2007           \n",
              "1725 Violet Sky                     Sambirano Valley                       \n",
              "1726 Violet Sky                     Moho River Valley                      \n",
              "1727 Violet Sky                     Cuyagua                                \n",
              "1728 Violet Sky                     Peru                                   \n",
              "1729 Violet Sky                     Cahabon                                \n",
              "1730 Vivra                          Peru                                   \n",
              "1731 Vivra                          Ocumare                                \n",
              "1732 Vivra                          Dominican Republic                     \n",
              "1748 Wm                             Guasare, Zulia Prov., 2015, batch 124  \n",
              "1749 Wm                             Wild Beniano, 2016, batch 128, Heirloom\n",
              "1750 Wm                             Ghana, 2013, batch 129                 \n",
              "1751 Woodblock                      Maranon, Cajamarca                     \n",
              "1752 Woodblock                      Camino Verde P., Balao, Guayas         \n",
              "1753 Woodblock                      Gran Couva                             \n",
              "1754 Woodblock                      Ecuador                                \n",
              "1755 Woodblock                      Costa Rica                             \n",
              "1756 Woodblock                      Sambirano                              \n",
              "1757 Woodblock                      Ocumare                                \n",
              "1758 Woodblock                      La Red                                 \n",
              "1760 Xocolla                        Sambirano, batch 170102                \n",
              "1761 Xocolla                        Hispaniola, batch 170104               \n",
              "1762 Zak's                          Papua New Guinea, Batch 2              \n",
              "1763 Zak's                          Dominican Republic, Batch D2           \n",
              "1764 Zak's                          Madagascar, Batch 2                    \n",
              "1765 Zak's                          Peru, Batch 1                          \n",
              "1766 Zak's                          Belize, Batch 2                        \n",
              "1767 Zak's                          House Blend, Batch 2                   \n",
              "     REF  Review.Date Cocoa.Percent Company.Location Rating\n",
              "1    1876 2016        63%           France           3.75  \n",
              "2    1676 2015        70%           France           2.75  \n",
              "3    1676 2015        70%           France           3.00  \n",
              "4    1680 2015        70%           France           3.50  \n",
              "5    1704 2015        70%           France           3.50  \n",
              "6    1315 2014        70%           France           2.75  \n",
              "7    1315 2014        70%           France           3.50  \n",
              "8    1315 2014        70%           France           3.50  \n",
              "9    1319 2014        70%           France           3.75  \n",
              "10   1319 2014        70%           France           4.00  \n",
              "11   1011 2013        70%           France           2.75  \n",
              "12   1011 2013        70%           France           3.00  \n",
              "13   1011 2013        70%           France           3.25  \n",
              "14   1011 2013        70%           France           3.75  \n",
              "15   1015 2013        70%           France           2.75  \n",
              "16   1015 2013        70%           France           3.00  \n",
              "17   1015 2013        70%           France           3.25  \n",
              "18   1015 2013        70%           France           4.00  \n",
              "19   1019 2013        70%           France           3.25  \n",
              "20   1019 2013        70%           France           3.50  \n",
              "21   1019 2013        63%           France           4.00  \n",
              "22    797 2012        70%           France           3.50  \n",
              "23    797 2012        63%           France           3.75  \n",
              "24   1462 2015        70%           U.S.A.           3.75  \n",
              "25   1470 2015        70%           U.S.A.           3.75  \n",
              "36   1215 2014        65%           France           2.75  \n",
              "37   1215 2014        75%           France           2.75  \n",
              "38   1215 2014        75%           France           3.00  \n",
              "39   1061 2013        75%           France           2.50  \n",
              "40   1173 2013        75%           France           2.50  \n",
              "⋮    ⋮    ⋮           ⋮             ⋮                ⋮     \n",
              "1722  153 2007        90%           U.S.A.           2.00  \n",
              "1723  153 2007        75%           U.S.A.           3.00  \n",
              "1724  153 2007        65%           U.S.A.           3.00  \n",
              "1725 1458 2015        77%           U.S.A.           2.75  \n",
              "1726 1458 2015        77%           U.S.A.           3.00  \n",
              "1727 1458 2015        77%           U.S.A.           3.00  \n",
              "1728 1458 2015        77%           U.S.A.           3.25  \n",
              "1729 1502 2015        77%           U.S.A.           2.75  \n",
              "1730 1720 2016        70%           U.S.A.           2.50  \n",
              "1731 1720 2016        70%           U.S.A.           2.50  \n",
              "1732 1724 2016        70%           U.S.A.           3.00  \n",
              "1748 1912 2016        74%           U.S.A.           3.00  \n",
              "1749 1912 2016        76%           U.S.A.           3.50  \n",
              "1750 1916 2016        75%           U.S.A.           3.75  \n",
              "1751 1243 2014        70%           U.S.A.           3.00  \n",
              "1752 1042 2013        70%           U.S.A.           3.25  \n",
              "1753 1042 2013        70%           U.S.A.           3.50  \n",
              "1754  825 2012        70%           U.S.A.           2.50  \n",
              "1755  825 2012        70%           U.S.A.           3.00  \n",
              "1756  951 2012        70%           U.S.A.           3.25  \n",
              "1757  741 2011        70%           U.S.A.           4.00  \n",
              "1758  769 2011        70%           U.S.A.           3.50  \n",
              "1760 1948 2017        70%           U.S.A.           2.75  \n",
              "1761 1948 2017        70%           U.S.A.           2.50  \n",
              "1762 1574 2015        70%           U.S.A.           3.00  \n",
              "1763 1578 2015        70%           U.S.A.           3.25  \n",
              "1764 1578 2015        70%           U.S.A.           3.25  \n",
              "1765 1578 2015        70%           U.S.A.           3.25  \n",
              "1766 1578 2015        70%           U.S.A.           3.50  \n",
              "1767 1582 2015        60%           U.S.A.           3.00  \n",
              "     Bean.Type            Broad.Bean.Origin \n",
              "1                         Sao Tome          \n",
              "2                         Togo              \n",
              "3                         Togo              \n",
              "4                         Togo              \n",
              "5                         Peru              \n",
              "6    Criollo              Venezuela         \n",
              "7                         Cuba              \n",
              "8    Criollo              Venezuela         \n",
              "9    Criollo              Venezuela         \n",
              "10                        Peru              \n",
              "11                        Panama            \n",
              "12   Criollo              Madagascar        \n",
              "13                        Brazil            \n",
              "14                        Ecuador           \n",
              "15                        Colombia          \n",
              "16                        Burma             \n",
              "17                        Papua New Guinea  \n",
              "18   Trinitario           Venezuela         \n",
              "19                        Peru              \n",
              "20                        Peru              \n",
              "21                        Peru              \n",
              "22                        Bolivia           \n",
              "23                        Peru              \n",
              "24                        Peru              \n",
              "25   Criollo              Peru              \n",
              "36   Trinitario           Trinidad          \n",
              "37   Trinitario           Vietnam           \n",
              "38   Trinitario           Madagascar        \n",
              "39   Trinitario           Venezuela         \n",
              "40                        Peru              \n",
              "⋮    ⋮                    ⋮                 \n",
              "1722 Forastero (Arriba)   Ecuador           \n",
              "1723 Forastero (Arriba)   Ecuador           \n",
              "1724 Forastero (Arriba)   Ecuador           \n",
              "1725 Trinitario           Madagascar        \n",
              "1726 Criollo, Trinitario  Belize            \n",
              "1727 Criollo              Venezuela         \n",
              "1728 Criollo, Trinitario  Peru              \n",
              "1729 Trinitario           Guatemala         \n",
              "1730                      Peru              \n",
              "1731                      Venezuela         \n",
              "1732                      Domincan Republic \n",
              "1748 Criollo              Venezuela         \n",
              "1749                      Bolivia           \n",
              "1750                      Ghana             \n",
              "1751 Forastero (Nacional) Peru              \n",
              "1752                      Ecuador           \n",
              "1753 Trinitario           Trinidad          \n",
              "1754                      Ecuador           \n",
              "1755                      Costa Rica        \n",
              "1756 Trinitario           Madagascar        \n",
              "1757                      Venezuela         \n",
              "1758                      Dominican Republic\n",
              "1760                      Madagascar        \n",
              "1761                      Dominican Republic\n",
              "1762                      Papua New Guinea  \n",
              "1763                      Domincan Republic \n",
              "1764 Trinitario           Madagascar        \n",
              "1765                      Peru              \n",
              "1766 Trinitario           Belize            \n",
              "1767                                        "
            ]
          },
          "metadata": {}
        }
      ]
    },
    {
      "cell_type": "code",
      "source": [
        "png(filename=\"bonf.png\")\n",
        "boxplot(Rating ~ Company.Location, data=df_bonf)\n",
        "abline(h=3.25, col=\"blue\") # france\n",
        "abline(h=3.15, col=\"red\") # usa\n",
        "abline(h=3.32, col=\"green\") # canada\n",
        "dev.off()"
      ],
      "metadata": {
        "colab": {
          "base_uri": "https://localhost:8080/",
          "height": 34
        },
        "id": "qPlfye6dyFI2",
        "outputId": "dbfd22e8-20a6-4cd5-95bb-52f25710017b"
      },
      "execution_count": 277,
      "outputs": [
        {
          "output_type": "display_data",
          "data": {
            "text/html": [
              "<strong>png:</strong> 2"
            ],
            "text/markdown": "**png:** 2",
            "text/latex": "\\textbf{png:} 2",
            "text/plain": [
              "png \n",
              "  2 "
            ]
          },
          "metadata": {}
        }
      ]
    },
    {
      "cell_type": "code",
      "source": [
        "df[df$Rating == 5,]"
      ],
      "metadata": {
        "colab": {
          "base_uri": "https://localhost:8080/",
          "height": 161
        },
        "id": "Cy_U1y5x0Ubu",
        "outputId": "a5bf6d38-9506-425d-fd62-d9019f072556"
      },
      "execution_count": 280,
      "outputs": [
        {
          "output_type": "display_data",
          "data": {
            "text/html": [
              "<table class=\"dataframe\">\n",
              "<caption>A data.frame: 2 × 9</caption>\n",
              "<thead>\n",
              "\t<tr><th></th><th scope=col>Company...Maker.if.known.</th><th scope=col>Specific.Bean.Origin.or.Bar.Name</th><th scope=col>REF</th><th scope=col>Review.Date</th><th scope=col>Cocoa.Percent</th><th scope=col>Company.Location</th><th scope=col>Rating</th><th scope=col>Bean.Type</th><th scope=col>Broad.Bean.Origin</th></tr>\n",
              "\t<tr><th></th><th scope=col>&lt;chr&gt;</th><th scope=col>&lt;chr&gt;</th><th scope=col>&lt;int&gt;</th><th scope=col>&lt;int&gt;</th><th scope=col>&lt;chr&gt;</th><th scope=col>&lt;chr&gt;</th><th scope=col>&lt;dbl&gt;</th><th scope=col>&lt;chr&gt;</th><th scope=col>&lt;chr&gt;</th></tr>\n",
              "</thead>\n",
              "<tbody>\n",
              "\t<tr><th scope=row>79</th><td>Amedei</td><td>Chuao        </td><td>111</td><td>2007</td><td>70%</td><td>Italy</td><td>5</td><td>Trinitario</td><td>Venezuela</td></tr>\n",
              "\t<tr><th scope=row>87</th><td>Amedei</td><td>Toscano Black</td><td> 40</td><td>2006</td><td>70%</td><td>Italy</td><td>5</td><td>Blend     </td><td>         </td></tr>\n",
              "</tbody>\n",
              "</table>\n"
            ],
            "text/markdown": "\nA data.frame: 2 × 9\n\n| <!--/--> | Company...Maker.if.known. &lt;chr&gt; | Specific.Bean.Origin.or.Bar.Name &lt;chr&gt; | REF &lt;int&gt; | Review.Date &lt;int&gt; | Cocoa.Percent &lt;chr&gt; | Company.Location &lt;chr&gt; | Rating &lt;dbl&gt; | Bean.Type &lt;chr&gt; | Broad.Bean.Origin &lt;chr&gt; |\n|---|---|---|---|---|---|---|---|---|---|\n| 79 | Amedei | Chuao         | 111 | 2007 | 70% | Italy | 5 | Trinitario | Venezuela |\n| 87 | Amedei | Toscano Black |  40 | 2006 | 70% | Italy | 5 | Blend      |           |\n\n",
            "text/latex": "A data.frame: 2 × 9\n\\begin{tabular}{r|lllllllll}\n  & Company...Maker.if.known. & Specific.Bean.Origin.or.Bar.Name & REF & Review.Date & Cocoa.Percent & Company.Location & Rating & Bean.Type & Broad.Bean.Origin\\\\\n  & <chr> & <chr> & <int> & <int> & <chr> & <chr> & <dbl> & <chr> & <chr>\\\\\n\\hline\n\t79 & Amedei & Chuao         & 111 & 2007 & 70\\% & Italy & 5 & Trinitario & Venezuela\\\\\n\t87 & Amedei & Toscano Black &  40 & 2006 & 70\\% & Italy & 5 & Blend      &          \\\\\n\\end{tabular}\n",
            "text/plain": [
              "   Company...Maker.if.known. Specific.Bean.Origin.or.Bar.Name REF Review.Date\n",
              "79 Amedei                    Chuao                            111 2007       \n",
              "87 Amedei                    Toscano Black                     40 2006       \n",
              "   Cocoa.Percent Company.Location Rating Bean.Type  Broad.Bean.Origin\n",
              "79 70%           Italy            5      Trinitario Venezuela        \n",
              "87 70%           Italy            5      Blend                       "
            ]
          },
          "metadata": {}
        }
      ]
    },
    {
      "cell_type": "code",
      "source": [],
      "metadata": {
        "id": "d0YS7ITs-Pel"
      },
      "execution_count": null,
      "outputs": []
    }
  ]
}